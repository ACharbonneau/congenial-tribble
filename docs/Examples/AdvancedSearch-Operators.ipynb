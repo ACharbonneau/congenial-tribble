{
 "cells": [
  {
   "cell_type": "markdown",
   "id": "3c341e94",
   "metadata": {},
   "source": [
    "# Advanced Search with Operators\n",
    "---"
   ]
  },
  {
   "cell_type": "markdown",
   "id": "a8387f59",
   "metadata": {},
   "source": [
    "Before we do any work, we need to import several functions from cdapython:\n",
    "\n",
    "\n",
    "- `Q` and `query` which power the search\n",
    "- `columns` which lets us view entity field names\n",
    "- `unique_terms` which lets view entity field contents\n",
    "    \n",
    "We're also asking cdapython to report it's version so we can be sure we're using the one we mean to."
   ]
  },
  {
   "cell_type": "code",
   "execution_count": 1,
   "id": "28a10e23",
   "metadata": {},
   "outputs": [
    {
     "name": "stdout",
     "output_type": "stream",
     "text": [
      "2022.6.9\n"
     ]
    }
   ],
   "source": [
    "from cdapython import Q, columns, unique_terms, query\n",
    "print(Q.get_version())\n",
    "Q.set_host_url(\"http://35.192.60.10:8080/\")"
   ]
  },
  {
   "cell_type": "markdown",
   "id": "0810c61c",
   "metadata": {},
   "source": [
    "\n",
    "The CDA provides a custom python tool for searching CDA data. [`Q`](usage/#q) (short for Query) offers several ways to search and filter data, and several input modes:\n",
    "\n",
    "---\n",
    "- **[Q.()](../../../Documentation/usage/#q)** builds a query that can be used by `run()` or `count()`\n",
    "- **[Q.run()](../../../Documentation/usage/#qrun)** returns data for the specified search \n",
    "- **[Q.count()](../../../Documentation/usage/#qcounts)** returns summary information (counts) data that fit the specified search\n",
    "\n",
    "---"
   ]
  },
  {
   "cell_type": "markdown",
   "id": "f2749c48",
   "metadata": {},
   "source": [
    "Operators allow us to make more complex queries by adding, subtracting, or filtering data.\n",
    "\n",
    "`Q` uses the following operators:\n",
    "\n",
    "- [`=` : Equals](#Equals:-=)\n",
    "- [`!=` : Not Equal](#Not-Equal:-!=)\n",
    "- [`OR`](#OR) \n",
    "- [`%`: a wildcard](#%-pattern-matching)\n",
    "- [`AND`](#AND)\n",
    "- [`IS` and `IS NOT`](#IS-and-IS-NOT)\n",
    "- [`IN` and `NOT IN`](#IN-and-NOT-IN)\n",
    "- `>` : Greater than\n",
    "- `<` : Less than\n",
    "- `>=` : Greater than or Equal to\n",
    "- `<=` : Less than or Equal to\n",
    "- `NOT()`\n",
    "- `IN()`\n",
    "- `NOT IN()`\n",
    "\n",
    "We use these operators to build more and more complex Q statements before sending our query to `run()` or `count()`.\n"
   ]
  },
  {
   "cell_type": "markdown",
   "id": "ee6e9ef3",
   "metadata": {},
   "source": [
    "## Equals: `=`\n",
    "\n",
    "In the other tutorials, we have always used the same query, which uses the `=` operator. \n",
    "\n",
    "```Q('ResearchSubject.primary_diagnosis_site = \"brain\"')```\n",
    "\n",
    "This operator will only return data where the primary_diagnosis_site is exactly \"brain\". Here let's to a similar search, but for \"uterus\". We'll look at the researchsubject summary:"
   ]
  },
  {
   "cell_type": "code",
   "execution_count": 2,
   "id": "13cb5001",
   "metadata": {
    "scrolled": true
   },
   "outputs": [
    {
     "data": {
      "text/html": [
       "<pre style=\"white-space:pre;overflow-x:auto;line-height:normal;font-family:Menlo,'DejaVu Sans Mono',consolas,'Courier New',monospace\">Getting results from database\n",
       "\n",
       "</pre>\n"
      ],
      "text/plain": [
       "Getting results from database\n",
       "\n"
      ]
     },
     "metadata": {},
     "output_type": "display_data"
    },
    {
     "name": "stdout",
     "output_type": "stream",
     "text": [
      "Total execution time: 3427 ms\n"
     ]
    },
    {
     "data": {
      "text/html": [
       "<pre style=\"white-space:pre;overflow-x:auto;line-height:normal;font-family:Menlo,'DejaVu Sans Mono',consolas,'Courier New',monospace\">    total : <span style=\"color: #008080; text-decoration-color: #008080; font-weight: bold\">867</span>     \n",
       "</pre>\n"
      ],
      "text/plain": [
       "    total : \u001b[1;36m867\u001b[0m     \n"
      ]
     },
     "metadata": {},
     "output_type": "display_data"
    },
    {
     "data": {
      "text/html": [
       "<pre style=\"white-space:pre;overflow-x:auto;line-height:normal;font-family:Menlo,'DejaVu Sans Mono',consolas,'Courier New',monospace\">   files : <span style=\"color: #008080; text-decoration-color: #008080; font-weight: bold\">242362</span>   \n",
       "</pre>\n"
      ],
      "text/plain": [
       "   files : \u001b[1;36m242362\u001b[0m   \n"
      ]
     },
     "metadata": {},
     "output_type": "display_data"
    },
    {
     "data": {
      "text/html": [
       "<style type=\"text/css\">\n",
       "#T_a93c9_ th {\n",
       "  background-color: #000066;\n",
       "  color: white;\n",
       "  text-align: left;\n",
       "}\n",
       "#T_a93c9_ td {\n",
       "  text-align: left;\n",
       "  border-bottom: 1px solid black;\n",
       "}\n",
       "</style>\n",
       "<table id=\"T_a93c9_\" style='display:inline'>\n",
       "  <thead>\n",
       "    <tr>\n",
       "      <th class=\"col_heading level0 col0\" >system</th>\n",
       "      <th class=\"col_heading level0 col1\" >count</th>\n",
       "    </tr>\n",
       "  </thead>\n",
       "  <tbody>\n",
       "    <tr>\n",
       "      <td id=\"T_a93c9_row0_col0\" class=\"data row0 col0\" >IDC</td>\n",
       "      <td id=\"T_a93c9_row0_col1\" class=\"data row0 col1\" >867</td>\n",
       "    </tr>\n",
       "  </tbody>\n",
       "</table>\n",
       "<style type=\"text/css\">\n",
       "#T_fb4f8_ th {\n",
       "  background-color: #000066;\n",
       "  color: white;\n",
       "  text-align: left;\n",
       "}\n",
       "#T_fb4f8_ td {\n",
       "  text-align: left;\n",
       "  border-bottom: 1px solid black;\n",
       "}\n",
       "</style>\n",
       "<table id=\"T_fb4f8_\" style='display:inline'>\n",
       "  <thead>\n",
       "    <tr>\n",
       "      <th class=\"col_heading level0 col0\" >primary_diagnosis_condition</th>\n",
       "      <th class=\"col_heading level0 col1\" >count</th>\n",
       "    </tr>\n",
       "  </thead>\n",
       "  <tbody>\n",
       "    <tr>\n",
       "      <td id=\"T_fb4f8_row0_col0\" class=\"data row0 col0\" >None</td>\n",
       "      <td id=\"T_fb4f8_row0_col1\" class=\"data row0 col1\" >867</td>\n",
       "    </tr>\n",
       "  </tbody>\n",
       "</table>\n",
       "<style type=\"text/css\">\n",
       "#T_cd29e_ th {\n",
       "  background-color: #000066;\n",
       "  color: white;\n",
       "  text-align: left;\n",
       "}\n",
       "#T_cd29e_ td {\n",
       "  text-align: left;\n",
       "  border-bottom: 1px solid black;\n",
       "}\n",
       "</style>\n",
       "<table id=\"T_cd29e_\" style='display:inline'>\n",
       "  <thead>\n",
       "    <tr>\n",
       "      <th class=\"col_heading level0 col0\" >primary_diagnosis_site</th>\n",
       "      <th class=\"col_heading level0 col1\" >count</th>\n",
       "    </tr>\n",
       "  </thead>\n",
       "  <tbody>\n",
       "    <tr>\n",
       "      <td id=\"T_cd29e_row0_col0\" class=\"data row0 col0\" >Uterus</td>\n",
       "      <td id=\"T_cd29e_row0_col1\" class=\"data row0 col1\" >867</td>\n",
       "    </tr>\n",
       "  </tbody>\n",
       "</table>\n"
      ]
     },
     "metadata": {},
     "output_type": "display_data"
    },
    {
     "data": {
      "text/plain": []
     },
     "execution_count": 2,
     "metadata": {},
     "output_type": "execute_result"
    }
   ],
   "source": [
    "Q('ResearchSubject.primary_diagnosis_site = \"uterus\"').researchsubject.count.run()"
   ]
  },
  {
   "cell_type": "markdown",
   "id": "1ca9f3b1",
   "metadata": {},
   "source": [
    "## Not Equal: `!=`\n",
    "\n",
    "The `!=` operator does the opposite of the `=` operator, it returns everything that is not exactly the term you give it:"
   ]
  },
  {
   "cell_type": "code",
   "execution_count": 3,
   "id": "4a922579",
   "metadata": {},
   "outputs": [
    {
     "data": {
      "text/html": [
       "<pre style=\"white-space:pre;overflow-x:auto;line-height:normal;font-family:Menlo,'DejaVu Sans Mono',consolas,'Courier New',monospace\">Getting results from database\n",
       "\n",
       "</pre>\n"
      ],
      "text/plain": [
       "Getting results from database\n",
       "\n"
      ]
     },
     "metadata": {},
     "output_type": "display_data"
    },
    {
     "name": "stdout",
     "output_type": "stream",
     "text": [
      "Total execution time: 3351 ms\n"
     ]
    },
    {
     "data": {
      "text/html": [
       "<pre style=\"white-space:pre;overflow-x:auto;line-height:normal;font-family:Menlo,'DejaVu Sans Mono',consolas,'Courier New',monospace\">   total : <span style=\"color: #008080; text-decoration-color: #008080; font-weight: bold\">148831</span>   \n",
       "</pre>\n"
      ],
      "text/plain": [
       "   total : \u001b[1;36m148831\u001b[0m   \n"
      ]
     },
     "metadata": {},
     "output_type": "display_data"
    },
    {
     "data": {
      "text/html": [
       "<pre style=\"white-space:pre;overflow-x:auto;line-height:normal;font-family:Menlo,'DejaVu Sans Mono',consolas,'Courier New',monospace\">  files : <span style=\"color: #008080; text-decoration-color: #008080; font-weight: bold\">39151844</span>  \n",
       "</pre>\n"
      ],
      "text/plain": [
       "  files : \u001b[1;36m39151844\u001b[0m  \n"
      ]
     },
     "metadata": {},
     "output_type": "display_data"
    },
    {
     "data": {
      "text/html": [
       "<style type=\"text/css\">\n",
       "#T_5cb6e_ th {\n",
       "  background-color: #000066;\n",
       "  color: white;\n",
       "  text-align: left;\n",
       "}\n",
       "#T_5cb6e_ td {\n",
       "  text-align: left;\n",
       "  border-bottom: 1px solid black;\n",
       "}\n",
       "</style>\n",
       "<table id=\"T_5cb6e_\" style='display:inline'>\n",
       "  <thead>\n",
       "    <tr>\n",
       "      <th class=\"col_heading level0 col0\" >system</th>\n",
       "      <th class=\"col_heading level0 col1\" >count</th>\n",
       "    </tr>\n",
       "  </thead>\n",
       "  <tbody>\n",
       "    <tr>\n",
       "      <td id=\"T_5cb6e_row0_col0\" class=\"data row0 col0\" >GDC</td>\n",
       "      <td id=\"T_5cb6e_row0_col1\" class=\"data row0 col1\" >85416</td>\n",
       "    </tr>\n",
       "    <tr>\n",
       "      <td id=\"T_5cb6e_row1_col0\" class=\"data row1 col0\" >IDC</td>\n",
       "      <td id=\"T_5cb6e_row1_col1\" class=\"data row1 col1\" >61081</td>\n",
       "    </tr>\n",
       "    <tr>\n",
       "      <td id=\"T_5cb6e_row2_col0\" class=\"data row2 col0\" >PDC</td>\n",
       "      <td id=\"T_5cb6e_row2_col1\" class=\"data row2 col1\" >2334</td>\n",
       "    </tr>\n",
       "  </tbody>\n",
       "</table>\n",
       "<style type=\"text/css\">\n",
       "#T_f1c09_ th {\n",
       "  background-color: #000066;\n",
       "  color: white;\n",
       "  text-align: left;\n",
       "}\n",
       "#T_f1c09_ td {\n",
       "  text-align: left;\n",
       "  border-bottom: 1px solid black;\n",
       "}\n",
       "</style>\n",
       "<table id=\"T_f1c09_\" style='display:inline'>\n",
       "  <thead>\n",
       "    <tr>\n",
       "      <th class=\"col_heading level0 col0\" >primary_diagnosis_condition</th>\n",
       "      <th class=\"col_heading level0 col1\" >count</th>\n",
       "    </tr>\n",
       "  </thead>\n",
       "  <tbody>\n",
       "    <tr>\n",
       "      <td id=\"T_f1c09_row0_col0\" class=\"data row0 col0\" >Cystic, Mucinous and Serous Neoplasms</td>\n",
       "      <td id=\"T_f1c09_row0_col1\" class=\"data row0 col1\" >3723</td>\n",
       "    </tr>\n",
       "    <tr>\n",
       "      <td id=\"T_f1c09_row1_col0\" class=\"data row1 col0\" >Gliomas</td>\n",
       "      <td id=\"T_f1c09_row1_col1\" class=\"data row1 col1\" >4772</td>\n",
       "    </tr>\n",
       "    <tr>\n",
       "      <td id=\"T_f1c09_row2_col0\" class=\"data row2 col0\" >Ductal and Lobular Neoplasms</td>\n",
       "      <td id=\"T_f1c09_row2_col1\" class=\"data row2 col1\" >7870</td>\n",
       "    </tr>\n",
       "    <tr>\n",
       "      <td id=\"T_f1c09_row3_col0\" class=\"data row3 col0\" >Adenomas and Adenocarcinomas</td>\n",
       "      <td id=\"T_f1c09_row3_col1\" class=\"data row3 col1\" >32730</td>\n",
       "    </tr>\n",
       "    <tr>\n",
       "      <td id=\"T_f1c09_row4_col0\" class=\"data row4 col0\" >Complex Mixed and Stromal Neoplasms</td>\n",
       "      <td id=\"T_f1c09_row4_col1\" class=\"data row4 col1\" >1826</td>\n",
       "    </tr>\n",
       "    <tr>\n",
       "      <td id=\"T_f1c09_row5_col0\" class=\"data row5 col0\" >Breast Invasive Carcinoma</td>\n",
       "      <td id=\"T_f1c09_row5_col1\" class=\"data row5 col1\" >251</td>\n",
       "    </tr>\n",
       "    <tr>\n",
       "      <td id=\"T_f1c09_row6_col0\" class=\"data row6 col0\" >Nevi and Melanomas</td>\n",
       "      <td id=\"T_f1c09_row6_col1\" class=\"data row6 col1\" >3155</td>\n",
       "    </tr>\n",
       "    <tr>\n",
       "      <td id=\"T_f1c09_row7_col0\" class=\"data row7 col0\" >Squamous Cell Neoplasms</td>\n",
       "      <td id=\"T_f1c09_row7_col1\" class=\"data row7 col1\" >5076</td>\n",
       "    </tr>\n",
       "    <tr>\n",
       "      <td id=\"T_f1c09_row8_col0\" class=\"data row8 col0\" >Transitional Cell Papillomas and Carcinomas</td>\n",
       "      <td id=\"T_f1c09_row8_col1\" class=\"data row8 col1\" >1885</td>\n",
       "    </tr>\n",
       "    <tr>\n",
       "      <td id=\"T_f1c09_row9_col0\" class=\"data row9 col0\" >Plasma Cell Tumors</td>\n",
       "      <td id=\"T_f1c09_row9_col1\" class=\"data row9 col1\" >1066</td>\n",
       "    </tr>\n",
       "    <tr>\n",
       "      <td id=\"T_f1c09_row10_col0\" class=\"data row10 col0\" >Neuroepitheliomatous Neoplasms</td>\n",
       "      <td id=\"T_f1c09_row10_col1\" class=\"data row10 col1\" >1332</td>\n",
       "    </tr>\n",
       "    <tr>\n",
       "      <td id=\"T_f1c09_row11_col0\" class=\"data row11 col0\" >None</td>\n",
       "      <td id=\"T_f1c09_row11_col1\" class=\"data row11 col1\" >61083</td>\n",
       "    </tr>\n",
       "    <tr>\n",
       "      <td id=\"T_f1c09_row12_col0\" class=\"data row12 col0\" >Thymic Epithelial Neoplasms</td>\n",
       "      <td id=\"T_f1c09_row12_col1\" class=\"data row12 col1\" >262</td>\n",
       "    </tr>\n",
       "    <tr>\n",
       "      <td id=\"T_f1c09_row13_col0\" class=\"data row13 col0\" >Myeloid Leukemias</td>\n",
       "      <td id=\"T_f1c09_row13_col1\" class=\"data row13 col1\" >3965</td>\n",
       "    </tr>\n",
       "    <tr>\n",
       "      <td id=\"T_f1c09_row14_col0\" class=\"data row14 col0\" >Synovial-like Neoplasms</td>\n",
       "      <td id=\"T_f1c09_row14_col1\" class=\"data row14 col1\" >98</td>\n",
       "    </tr>\n",
       "    <tr>\n",
       "      <td id=\"T_f1c09_row15_col0\" class=\"data row15 col0\" >Epithelial Neoplasms, NOS</td>\n",
       "      <td id=\"T_f1c09_row15_col1\" class=\"data row15 col1\" >5694</td>\n",
       "    </tr>\n",
       "    <tr>\n",
       "      <td id=\"T_f1c09_row16_col0\" class=\"data row16 col0\" >Glioblastoma</td>\n",
       "      <td id=\"T_f1c09_row16_col1\" class=\"data row16 col1\" >100</td>\n",
       "    </tr>\n",
       "    <tr>\n",
       "      <td id=\"T_f1c09_row17_col0\" class=\"data row17 col0\" >Other</td>\n",
       "      <td id=\"T_f1c09_row17_col1\" class=\"data row17 col1\" >206</td>\n",
       "    </tr>\n",
       "    <tr>\n",
       "      <td id=\"T_f1c09_row18_col0\" class=\"data row18 col0\" >Lymphoid Leukemias</td>\n",
       "      <td id=\"T_f1c09_row18_col1\" class=\"data row18 col1\" >2072</td>\n",
       "    </tr>\n",
       "    <tr>\n",
       "      <td id=\"T_f1c09_row19_col0\" class=\"data row19 col0\" >Paragangliomas and Glomus Tumors</td>\n",
       "      <td id=\"T_f1c09_row19_col1\" class=\"data row19 col1\" >241</td>\n",
       "    </tr>\n",
       "    <tr>\n",
       "      <td id=\"T_f1c09_row20_col0\" class=\"data row20 col0\" >Colon Adenocarcinoma</td>\n",
       "      <td id=\"T_f1c09_row20_col1\" class=\"data row20 col1\" >164</td>\n",
       "    </tr>\n",
       "    <tr>\n",
       "      <td id=\"T_f1c09_row21_col0\" class=\"data row21 col0\" >Lung Squamous Cell Carcinoma</td>\n",
       "      <td id=\"T_f1c09_row21_col1\" class=\"data row21 col1\" >118</td>\n",
       "    </tr>\n",
       "    <tr>\n",
       "      <td id=\"T_f1c09_row22_col0\" class=\"data row22 col0\" >Fibromatous Neoplasms</td>\n",
       "      <td id=\"T_f1c09_row22_col1\" class=\"data row22 col1\" >322</td>\n",
       "    </tr>\n",
       "    <tr>\n",
       "      <td id=\"T_f1c09_row23_col0\" class=\"data row23 col0\" >Germ Cell Neoplasms</td>\n",
       "      <td id=\"T_f1c09_row23_col1\" class=\"data row23 col1\" >703</td>\n",
       "    </tr>\n",
       "    <tr>\n",
       "      <td id=\"T_f1c09_row24_col0\" class=\"data row24 col0\" >Osseous and Chondromatous Neoplasms</td>\n",
       "      <td id=\"T_f1c09_row24_col1\" class=\"data row24 col1\" >615</td>\n",
       "    </tr>\n",
       "    <tr>\n",
       "      <td id=\"T_f1c09_row25_col0\" class=\"data row25 col0\" >Mature B-Cell Lymphomas</td>\n",
       "      <td id=\"T_f1c09_row25_col1\" class=\"data row25 col1\" >1019</td>\n",
       "    </tr>\n",
       "    <tr>\n",
       "      <td id=\"T_f1c09_row26_col0\" class=\"data row26 col0\" >Lung Adenocarcinoma</td>\n",
       "      <td id=\"T_f1c09_row26_col1\" class=\"data row26 col1\" >216</td>\n",
       "    </tr>\n",
       "    <tr>\n",
       "      <td id=\"T_f1c09_row27_col0\" class=\"data row27 col0\" >Specialized Gonadal Neoplasms</td>\n",
       "      <td id=\"T_f1c09_row27_col1\" class=\"data row27 col1\" >124</td>\n",
       "    </tr>\n",
       "    <tr>\n",
       "      <td id=\"T_f1c09_row28_col0\" class=\"data row28 col0\" >Mesothelial Neoplasms</td>\n",
       "      <td id=\"T_f1c09_row28_col1\" class=\"data row28 col1\" >647</td>\n",
       "    </tr>\n",
       "    <tr>\n",
       "      <td id=\"T_f1c09_row29_col0\" class=\"data row29 col0\" >Myomatous Neoplasms</td>\n",
       "      <td id=\"T_f1c09_row29_col1\" class=\"data row29 col1\" >632</td>\n",
       "    </tr>\n",
       "    <tr>\n",
       "      <td id=\"T_f1c09_row30_col0\" class=\"data row30 col0\" >Complex Epithelial Neoplasms</td>\n",
       "      <td id=\"T_f1c09_row30_col1\" class=\"data row30 col1\" >254</td>\n",
       "    </tr>\n",
       "    <tr>\n",
       "      <td id=\"T_f1c09_row31_col0\" class=\"data row31 col0\" >Pancreatic Ductal Adenocarcinoma</td>\n",
       "      <td id=\"T_f1c09_row31_col1\" class=\"data row31 col1\" >144</td>\n",
       "    </tr>\n",
       "    <tr>\n",
       "      <td id=\"T_f1c09_row32_col0\" class=\"data row32 col0\" >Nerve Sheath Tumors</td>\n",
       "      <td id=\"T_f1c09_row32_col1\" class=\"data row32 col1\" >115</td>\n",
       "    </tr>\n",
       "    <tr>\n",
       "      <td id=\"T_f1c09_row33_col0\" class=\"data row33 col0\" >Myelodysplastic Syndromes</td>\n",
       "      <td id=\"T_f1c09_row33_col1\" class=\"data row33 col1\" >386</td>\n",
       "    </tr>\n",
       "    <tr>\n",
       "      <td id=\"T_f1c09_row34_col0\" class=\"data row34 col0\" >Ovarian Serous Cystadenocarcinoma</td>\n",
       "      <td id=\"T_f1c09_row34_col1\" class=\"data row34 col1\" >283</td>\n",
       "    </tr>\n",
       "    <tr>\n",
       "      <td id=\"T_f1c09_row35_col0\" class=\"data row35 col0\" >Uterine Corpus Endometrial Carcinoma</td>\n",
       "      <td id=\"T_f1c09_row35_col1\" class=\"data row35 col1\" >104</td>\n",
       "    </tr>\n",
       "    <tr>\n",
       "      <td id=\"T_f1c09_row36_col0\" class=\"data row36 col0\" >Hepatocellular Carcinoma </td>\n",
       "      <td id=\"T_f1c09_row36_col1\" class=\"data row36 col1\" >170</td>\n",
       "    </tr>\n",
       "    <tr>\n",
       "      <td id=\"T_f1c09_row37_col0\" class=\"data row37 col0\" >Clear Cell Renal Cell Carcinoma</td>\n",
       "      <td id=\"T_f1c09_row37_col1\" class=\"data row37 col1\" >116</td>\n",
       "    </tr>\n",
       "    <tr>\n",
       "      <td id=\"T_f1c09_row38_col0\" class=\"data row38 col0\" >Soft Tissue Tumors and Sarcomas, NOS</td>\n",
       "      <td id=\"T_f1c09_row38_col1\" class=\"data row38 col1\" >315</td>\n",
       "    </tr>\n",
       "    <tr>\n",
       "      <td id=\"T_f1c09_row39_col0\" class=\"data row39 col0\" >Rectum Adenocarcinoma</td>\n",
       "      <td id=\"T_f1c09_row39_col1\" class=\"data row39 col1\" >30</td>\n",
       "    </tr>\n",
       "    <tr>\n",
       "      <td id=\"T_f1c09_row40_col0\" class=\"data row40 col0\" >Neoplasms, NOS</td>\n",
       "      <td id=\"T_f1c09_row40_col1\" class=\"data row40 col1\" >1251</td>\n",
       "    </tr>\n",
       "    <tr>\n",
       "      <td id=\"T_f1c09_row41_col0\" class=\"data row41 col0\" >Mature T- and NK-Cell Lymphomas</td>\n",
       "      <td id=\"T_f1c09_row41_col1\" class=\"data row41 col1\" >94</td>\n",
       "    </tr>\n",
       "    <tr>\n",
       "      <td id=\"T_f1c09_row42_col0\" class=\"data row42 col0\" >Acinar Cell Neoplasms</td>\n",
       "      <td id=\"T_f1c09_row42_col1\" class=\"data row42 col1\" >300</td>\n",
       "    </tr>\n",
       "    <tr>\n",
       "      <td id=\"T_f1c09_row43_col0\" class=\"data row43 col0\" >Oral Squamous Cell Carcinoma</td>\n",
       "      <td id=\"T_f1c09_row43_col1\" class=\"data row43 col1\" >38</td>\n",
       "    </tr>\n",
       "    <tr>\n",
       "      <td id=\"T_f1c09_row44_col0\" class=\"data row44 col0\" >Not Applicable</td>\n",
       "      <td id=\"T_f1c09_row44_col1\" class=\"data row44 col1\" >440</td>\n",
       "    </tr>\n",
       "    <tr>\n",
       "      <td id=\"T_f1c09_row45_col0\" class=\"data row45 col0\" >Pediatric/AYA Brain Tumors</td>\n",
       "      <td id=\"T_f1c09_row45_col1\" class=\"data row45 col1\" >199</td>\n",
       "    </tr>\n",
       "    <tr>\n",
       "      <td id=\"T_f1c09_row46_col0\" class=\"data row46 col0\" >Not Reported</td>\n",
       "      <td id=\"T_f1c09_row46_col1\" class=\"data row46 col1\" >271</td>\n",
       "    </tr>\n",
       "    <tr>\n",
       "      <td id=\"T_f1c09_row47_col0\" class=\"data row47 col0\" >Head and Neck Squamous Cell Carcinoma</td>\n",
       "      <td id=\"T_f1c09_row47_col1\" class=\"data row47 col1\" >110</td>\n",
       "    </tr>\n",
       "    <tr>\n",
       "      <td id=\"T_f1c09_row48_col0\" class=\"data row48 col0\" >Early Onset Gastric Cancer</td>\n",
       "      <td id=\"T_f1c09_row48_col1\" class=\"data row48 col1\" >80</td>\n",
       "    </tr>\n",
       "    <tr>\n",
       "      <td id=\"T_f1c09_row49_col0\" class=\"data row49 col0\" >Lipomatous Neoplasms</td>\n",
       "      <td id=\"T_f1c09_row49_col1\" class=\"data row49 col1\" >343</td>\n",
       "    </tr>\n",
       "    <tr>\n",
       "      <td id=\"T_f1c09_row50_col0\" class=\"data row50 col0\" >Leukemias, NOS</td>\n",
       "      <td id=\"T_f1c09_row50_col1\" class=\"data row50 col1\" >118</td>\n",
       "    </tr>\n",
       "    <tr>\n",
       "      <td id=\"T_f1c09_row51_col0\" class=\"data row51 col0\" >Adnexal and Skin Appendage Neoplasms</td>\n",
       "      <td id=\"T_f1c09_row51_col1\" class=\"data row51 col1\" >58</td>\n",
       "    </tr>\n",
       "    <tr>\n",
       "      <td id=\"T_f1c09_row52_col0\" class=\"data row52 col0\" >Miscellaneous Tumors</td>\n",
       "      <td id=\"T_f1c09_row52_col1\" class=\"data row52 col1\" >89</td>\n",
       "    </tr>\n",
       "    <tr>\n",
       "      <td id=\"T_f1c09_row53_col0\" class=\"data row53 col0\" >Blood Vessel Tumors</td>\n",
       "      <td id=\"T_f1c09_row53_col1\" class=\"data row53 col1\" >156</td>\n",
       "    </tr>\n",
       "    <tr>\n",
       "      <td id=\"T_f1c09_row54_col0\" class=\"data row54 col0\" >Mucoepidermoid Neoplasms</td>\n",
       "      <td id=\"T_f1c09_row54_col1\" class=\"data row54 col1\" >60</td>\n",
       "    </tr>\n",
       "    <tr>\n",
       "      <td id=\"T_f1c09_row55_col0\" class=\"data row55 col0\" >Chronic Myeloproliferative Disorders</td>\n",
       "      <td id=\"T_f1c09_row55_col1\" class=\"data row55 col1\" >476</td>\n",
       "    </tr>\n",
       "    <tr>\n",
       "      <td id=\"T_f1c09_row56_col0\" class=\"data row56 col0\" >Meningiomas</td>\n",
       "      <td id=\"T_f1c09_row56_col1\" class=\"data row56 col1\" >289</td>\n",
       "    </tr>\n",
       "    <tr>\n",
       "      <td id=\"T_f1c09_row57_col0\" class=\"data row57 col0\" >Unknown</td>\n",
       "      <td id=\"T_f1c09_row57_col1\" class=\"data row57 col1\" >63</td>\n",
       "    </tr>\n",
       "    <tr>\n",
       "      <td id=\"T_f1c09_row58_col0\" class=\"data row58 col0\" >Miscellaneous Bone Tumors</td>\n",
       "      <td id=\"T_f1c09_row58_col1\" class=\"data row58 col1\" >130</td>\n",
       "    </tr>\n",
       "    <tr>\n",
       "      <td id=\"T_f1c09_row59_col0\" class=\"data row59 col0\" >Mesonephromas</td>\n",
       "      <td id=\"T_f1c09_row59_col1\" class=\"data row59 col1\" >5</td>\n",
       "    </tr>\n",
       "    <tr>\n",
       "      <td id=\"T_f1c09_row60_col0\" class=\"data row60 col0\" >Basal Cell Neoplasms</td>\n",
       "      <td id=\"T_f1c09_row60_col1\" class=\"data row60 col1\" >45</td>\n",
       "    </tr>\n",
       "    <tr>\n",
       "      <td id=\"T_f1c09_row61_col0\" class=\"data row61 col0\" >Myxomatous Neoplasms</td>\n",
       "      <td id=\"T_f1c09_row61_col1\" class=\"data row61 col1\" >18</td>\n",
       "    </tr>\n",
       "    <tr>\n",
       "      <td id=\"T_f1c09_row62_col0\" class=\"data row62 col0\" >Other Hematologic Disorders</td>\n",
       "      <td id=\"T_f1c09_row62_col1\" class=\"data row62 col1\" >20</td>\n",
       "    </tr>\n",
       "    <tr>\n",
       "      <td id=\"T_f1c09_row63_col0\" class=\"data row63 col0\" >Other Leukemias</td>\n",
       "      <td id=\"T_f1c09_row63_col1\" class=\"data row63 col1\" >68</td>\n",
       "    </tr>\n",
       "    <tr>\n",
       "      <td id=\"T_f1c09_row64_col0\" class=\"data row64 col0\" >Immunoproliferative Diseases</td>\n",
       "      <td id=\"T_f1c09_row64_col1\" class=\"data row64 col1\" >4</td>\n",
       "    </tr>\n",
       "    <tr>\n",
       "      <td id=\"T_f1c09_row65_col0\" class=\"data row65 col0\" >Fibroepithelial Neoplasms</td>\n",
       "      <td id=\"T_f1c09_row65_col1\" class=\"data row65 col1\" >25</td>\n",
       "    </tr>\n",
       "    <tr>\n",
       "      <td id=\"T_f1c09_row66_col0\" class=\"data row66 col0\" >Precursor Cell Lymphoblastic Lymphoma</td>\n",
       "      <td id=\"T_f1c09_row66_col1\" class=\"data row66 col1\" >12</td>\n",
       "    </tr>\n",
       "    <tr>\n",
       "      <td id=\"T_f1c09_row67_col0\" class=\"data row67 col0\" >Malignant Lymphomas, NOS or Diffuse</td>\n",
       "      <td id=\"T_f1c09_row67_col1\" class=\"data row67 col1\" >42</td>\n",
       "    </tr>\n",
       "    <tr>\n",
       "      <td id=\"T_f1c09_row68_col0\" class=\"data row68 col0\" >Neoplasms of Histiocytes and Accessory Lymphoid Cells</td>\n",
       "      <td id=\"T_f1c09_row68_col1\" class=\"data row68 col1\" >66</td>\n",
       "    </tr>\n",
       "    <tr>\n",
       "      <td id=\"T_f1c09_row69_col0\" class=\"data row69 col0\" >Trophoblastic neoplasms</td>\n",
       "      <td id=\"T_f1c09_row69_col1\" class=\"data row69 col1\" >21</td>\n",
       "    </tr>\n",
       "    <tr>\n",
       "      <td id=\"T_f1c09_row70_col0\" class=\"data row70 col0\" >Mast Cell Tumors</td>\n",
       "      <td id=\"T_f1c09_row70_col1\" class=\"data row70 col1\" >10</td>\n",
       "    </tr>\n",
       "    <tr>\n",
       "      <td id=\"T_f1c09_row71_col0\" class=\"data row71 col0\" >Giant Cell Tumors</td>\n",
       "      <td id=\"T_f1c09_row71_col1\" class=\"data row71 col1\" >3</td>\n",
       "    </tr>\n",
       "    <tr>\n",
       "      <td id=\"T_f1c09_row72_col0\" class=\"data row72 col0\" >Hodgkin Lymphoma</td>\n",
       "      <td id=\"T_f1c09_row72_col1\" class=\"data row72 col1\" >11</td>\n",
       "    </tr>\n",
       "    <tr>\n",
       "      <td id=\"T_f1c09_row73_col0\" class=\"data row73 col0\" >Papillary Renal Cell Carcinoma</td>\n",
       "      <td id=\"T_f1c09_row73_col1\" class=\"data row73 col1\" >2</td>\n",
       "    </tr>\n",
       "    <tr>\n",
       "      <td id=\"T_f1c09_row74_col0\" class=\"data row74 col0\" >Granular Cell Tumors and Alveolar Soft Part Sarcomas</td>\n",
       "      <td id=\"T_f1c09_row74_col1\" class=\"data row74 col1\" >23</td>\n",
       "    </tr>\n",
       "    <tr>\n",
       "      <td id=\"T_f1c09_row75_col0\" class=\"data row75 col0\" >Odontogenic Tumors</td>\n",
       "      <td id=\"T_f1c09_row75_col1\" class=\"data row75 col1\" >3</td>\n",
       "    </tr>\n",
       "    <tr>\n",
       "      <td id=\"T_f1c09_row76_col0\" class=\"data row76 col0\" >Lymphatic Vessel Tumors</td>\n",
       "      <td id=\"T_f1c09_row76_col1\" class=\"data row76 col1\" >1</td>\n",
       "    </tr>\n",
       "    <tr>\n",
       "      <td id=\"T_f1c09_row77_col0\" class=\"data row77 col0\" >Acute Myeloid Leukemia</td>\n",
       "      <td id=\"T_f1c09_row77_col1\" class=\"data row77 col1\" >2</td>\n",
       "    </tr>\n",
       "    <tr>\n",
       "      <td id=\"T_f1c09_row78_col0\" class=\"data row78 col0\" >Chromophobe Renal Cell Carcinoma</td>\n",
       "      <td id=\"T_f1c09_row78_col1\" class=\"data row78 col1\" >1</td>\n",
       "    </tr>\n",
       "  </tbody>\n",
       "</table>\n",
       "<style type=\"text/css\">\n",
       "#T_a448e_ th {\n",
       "  background-color: #000066;\n",
       "  color: white;\n",
       "  text-align: left;\n",
       "}\n",
       "#T_a448e_ td {\n",
       "  text-align: left;\n",
       "  border-bottom: 1px solid black;\n",
       "}\n",
       "</style>\n",
       "<table id=\"T_a448e_\" style='display:inline'>\n",
       "  <thead>\n",
       "    <tr>\n",
       "      <th class=\"col_heading level0 col0\" >primary_diagnosis_site</th>\n",
       "      <th class=\"col_heading level0 col1\" >count</th>\n",
       "    </tr>\n",
       "  </thead>\n",
       "  <tbody>\n",
       "    <tr>\n",
       "      <td id=\"T_a448e_row0_col0\" class=\"data row0 col0\" >Breast</td>\n",
       "      <td id=\"T_a448e_row0_col1\" class=\"data row0 col1\" >21945</td>\n",
       "    </tr>\n",
       "    <tr>\n",
       "      <td id=\"T_a448e_row1_col0\" class=\"data row1 col0\" >Hematopoietic and reticuloendothelial systems</td>\n",
       "      <td id=\"T_a448e_row1_col1\" class=\"data row1 col1\" >9007</td>\n",
       "    </tr>\n",
       "    <tr>\n",
       "      <td id=\"T_a448e_row2_col0\" class=\"data row2 col0\" >Not Reported</td>\n",
       "      <td id=\"T_a448e_row2_col1\" class=\"data row2 col1\" >506</td>\n",
       "    </tr>\n",
       "    <tr>\n",
       "      <td id=\"T_a448e_row3_col0\" class=\"data row3 col0\" >Prostate gland</td>\n",
       "      <td id=\"T_a448e_row3_col1\" class=\"data row3 col1\" >2354</td>\n",
       "    </tr>\n",
       "    <tr>\n",
       "      <td id=\"T_a448e_row4_col0\" class=\"data row4 col0\" >Kidney</td>\n",
       "      <td id=\"T_a448e_row4_col1\" class=\"data row4 col1\" >4788</td>\n",
       "    </tr>\n",
       "    <tr>\n",
       "      <td id=\"T_a448e_row5_col0\" class=\"data row5 col0\" >Bronchus and lung</td>\n",
       "      <td id=\"T_a448e_row5_col1\" class=\"data row5 col1\" >12256</td>\n",
       "    </tr>\n",
       "    <tr>\n",
       "      <td id=\"T_a448e_row6_col0\" class=\"data row6 col0\" >Adrenal gland</td>\n",
       "      <td id=\"T_a448e_row6_col1\" class=\"data row6 col1\" >851</td>\n",
       "    </tr>\n",
       "    <tr>\n",
       "      <td id=\"T_a448e_row7_col0\" class=\"data row7 col0\" >Thyroid gland</td>\n",
       "      <td id=\"T_a448e_row7_col1\" class=\"data row7 col1\" >1880</td>\n",
       "    </tr>\n",
       "    <tr>\n",
       "      <td id=\"T_a448e_row8_col0\" class=\"data row8 col0\" >Brain</td>\n",
       "      <td id=\"T_a448e_row8_col1\" class=\"data row8 col1\" >2923</td>\n",
       "    </tr>\n",
       "    <tr>\n",
       "      <td id=\"T_a448e_row9_col0\" class=\"data row9 col0\" >Head and Neck</td>\n",
       "      <td id=\"T_a448e_row9_col1\" class=\"data row9 col1\" >148</td>\n",
       "    </tr>\n",
       "    <tr>\n",
       "      <td id=\"T_a448e_row10_col0\" class=\"data row10 col0\" >Retroperitoneum and peritoneum</td>\n",
       "      <td id=\"T_a448e_row10_col1\" class=\"data row10 col1\" >384</td>\n",
       "    </tr>\n",
       "    <tr>\n",
       "      <td id=\"T_a448e_row11_col0\" class=\"data row11 col0\" >Pancreas</td>\n",
       "      <td id=\"T_a448e_row11_col1\" class=\"data row11 col1\" >3352</td>\n",
       "    </tr>\n",
       "    <tr>\n",
       "      <td id=\"T_a448e_row12_col0\" class=\"data row12 col0\" >Connective, subcutaneous and other soft tissues</td>\n",
       "      <td id=\"T_a448e_row12_col1\" class=\"data row12 col1\" >1573</td>\n",
       "    </tr>\n",
       "    <tr>\n",
       "      <td id=\"T_a448e_row13_col0\" class=\"data row13 col0\" >Skin</td>\n",
       "      <td id=\"T_a448e_row13_col1\" class=\"data row13 col1\" >3497</td>\n",
       "    </tr>\n",
       "    <tr>\n",
       "      <td id=\"T_a448e_row14_col0\" class=\"data row14 col0\" >Head-Neck</td>\n",
       "      <td id=\"T_a448e_row14_col1\" class=\"data row14 col1\" >2704</td>\n",
       "    </tr>\n",
       "    <tr>\n",
       "      <td id=\"T_a448e_row15_col0\" class=\"data row15 col0\" >Colon</td>\n",
       "      <td id=\"T_a448e_row15_col1\" class=\"data row15 col1\" >8559</td>\n",
       "    </tr>\n",
       "    <tr>\n",
       "      <td id=\"T_a448e_row16_col0\" class=\"data row16 col0\" >Corpus uteri</td>\n",
       "      <td id=\"T_a448e_row16_col1\" class=\"data row16 col1\" >780</td>\n",
       "    </tr>\n",
       "    <tr>\n",
       "      <td id=\"T_a448e_row17_col0\" class=\"data row17 col0\" >Cervix uteri</td>\n",
       "      <td id=\"T_a448e_row17_col1\" class=\"data row17 col1\" >915</td>\n",
       "    </tr>\n",
       "    <tr>\n",
       "      <td id=\"T_a448e_row18_col0\" class=\"data row18 col0\" >Ovary</td>\n",
       "      <td id=\"T_a448e_row18_col1\" class=\"data row18 col1\" >4346</td>\n",
       "    </tr>\n",
       "    <tr>\n",
       "      <td id=\"T_a448e_row19_col0\" class=\"data row19 col0\" >Liver and intrahepatic bile ducts</td>\n",
       "      <td id=\"T_a448e_row19_col1\" class=\"data row19 col1\" >1609</td>\n",
       "    </tr>\n",
       "    <tr>\n",
       "      <td id=\"T_a448e_row20_col0\" class=\"data row20 col0\" >Lymph nodes</td>\n",
       "      <td id=\"T_a448e_row20_col1\" class=\"data row20 col1\" >538</td>\n",
       "    </tr>\n",
       "    <tr>\n",
       "      <td id=\"T_a448e_row21_col0\" class=\"data row21 col0\" >Bladder</td>\n",
       "      <td id=\"T_a448e_row21_col1\" class=\"data row21 col1\" >2155</td>\n",
       "    </tr>\n",
       "    <tr>\n",
       "      <td id=\"T_a448e_row22_col0\" class=\"data row22 col0\" >Other and unspecified major salivary glands</td>\n",
       "      <td id=\"T_a448e_row22_col1\" class=\"data row22 col1\" >615</td>\n",
       "    </tr>\n",
       "    <tr>\n",
       "      <td id=\"T_a448e_row23_col0\" class=\"data row23 col0\" >Other and ill-defined sites</td>\n",
       "      <td id=\"T_a448e_row23_col1\" class=\"data row23 col1\" >1186</td>\n",
       "    </tr>\n",
       "    <tr>\n",
       "      <td id=\"T_a448e_row24_col0\" class=\"data row24 col0\" >Other and unspecified parts of tongue</td>\n",
       "      <td id=\"T_a448e_row24_col1\" class=\"data row24 col1\" >133</td>\n",
       "    </tr>\n",
       "    <tr>\n",
       "      <td id=\"T_a448e_row25_col0\" class=\"data row25 col0\" >Chest</td>\n",
       "      <td id=\"T_a448e_row25_col1\" class=\"data row25 col1\" >28221</td>\n",
       "    </tr>\n",
       "    <tr>\n",
       "      <td id=\"T_a448e_row26_col0\" class=\"data row26 col0\" >Lung</td>\n",
       "      <td id=\"T_a448e_row26_col1\" class=\"data row26 col1\" >4848</td>\n",
       "    </tr>\n",
       "    <tr>\n",
       "      <td id=\"T_a448e_row27_col0\" class=\"data row27 col0\" >Rectum</td>\n",
       "      <td id=\"T_a448e_row27_col1\" class=\"data row27 col1\" >1308</td>\n",
       "    </tr>\n",
       "    <tr>\n",
       "      <td id=\"T_a448e_row28_col0\" class=\"data row28 col0\" >Uterus, NOS</td>\n",
       "      <td id=\"T_a448e_row28_col1\" class=\"data row28 col1\" >1998</td>\n",
       "    </tr>\n",
       "    <tr>\n",
       "      <td id=\"T_a448e_row29_col0\" class=\"data row29 col0\" >Stomach</td>\n",
       "      <td id=\"T_a448e_row29_col1\" class=\"data row29 col1\" >1870</td>\n",
       "    </tr>\n",
       "    <tr>\n",
       "      <td id=\"T_a448e_row30_col0\" class=\"data row30 col0\" >Unknown</td>\n",
       "      <td id=\"T_a448e_row30_col1\" class=\"data row30 col1\" >3232</td>\n",
       "    </tr>\n",
       "    <tr>\n",
       "      <td id=\"T_a448e_row31_col0\" class=\"data row31 col0\" >Other and ill-defined sites in lip, oral cavity and pharynx</td>\n",
       "      <td id=\"T_a448e_row31_col1\" class=\"data row31 col1\" >361</td>\n",
       "    </tr>\n",
       "    <tr>\n",
       "      <td id=\"T_a448e_row32_col0\" class=\"data row32 col0\" >Larynx</td>\n",
       "      <td id=\"T_a448e_row32_col1\" class=\"data row32 col1\" >169</td>\n",
       "    </tr>\n",
       "    <tr>\n",
       "      <td id=\"T_a448e_row33_col0\" class=\"data row33 col0\" >Other and unspecified urinary organs</td>\n",
       "      <td id=\"T_a448e_row33_col1\" class=\"data row33 col1\" >217</td>\n",
       "    </tr>\n",
       "    <tr>\n",
       "      <td id=\"T_a448e_row34_col0\" class=\"data row34 col0\" >Spinal cord, cranial nerves, and other parts of central nervous system</td>\n",
       "      <td id=\"T_a448e_row34_col1\" class=\"data row34 col1\" >3703</td>\n",
       "    </tr>\n",
       "    <tr>\n",
       "      <td id=\"T_a448e_row35_col0\" class=\"data row35 col0\" >Oropharynx</td>\n",
       "      <td id=\"T_a448e_row35_col1\" class=\"data row35 col1\" >194</td>\n",
       "    </tr>\n",
       "    <tr>\n",
       "      <td id=\"T_a448e_row36_col0\" class=\"data row36 col0\" >Bones, joints and articular cartilage of limbs</td>\n",
       "      <td id=\"T_a448e_row36_col1\" class=\"data row36 col1\" >268</td>\n",
       "    </tr>\n",
       "    <tr>\n",
       "      <td id=\"T_a448e_row37_col0\" class=\"data row37 col0\" >Heart, mediastinum, and pleura</td>\n",
       "      <td id=\"T_a448e_row37_col1\" class=\"data row37 col1\" >706</td>\n",
       "    </tr>\n",
       "    <tr>\n",
       "      <td id=\"T_a448e_row38_col0\" class=\"data row38 col0\" >Esophagus</td>\n",
       "      <td id=\"T_a448e_row38_col1\" class=\"data row38 col1\" >1580</td>\n",
       "    </tr>\n",
       "    <tr>\n",
       "      <td id=\"T_a448e_row39_col0\" class=\"data row39 col0\" >Rectosigmoid junction</td>\n",
       "      <td id=\"T_a448e_row39_col1\" class=\"data row39 col1\" >81</td>\n",
       "    </tr>\n",
       "    <tr>\n",
       "      <td id=\"T_a448e_row40_col0\" class=\"data row40 col0\" >Eye and adnexa</td>\n",
       "      <td id=\"T_a448e_row40_col1\" class=\"data row40 col1\" >222</td>\n",
       "    </tr>\n",
       "    <tr>\n",
       "      <td id=\"T_a448e_row41_col0\" class=\"data row41 col0\" >Abdomen</td>\n",
       "      <td id=\"T_a448e_row41_col1\" class=\"data row41 col1\" >92</td>\n",
       "    </tr>\n",
       "    <tr>\n",
       "      <td id=\"T_a448e_row42_col0\" class=\"data row42 col0\" >Penis</td>\n",
       "      <td id=\"T_a448e_row42_col1\" class=\"data row42 col1\" >33</td>\n",
       "    </tr>\n",
       "    <tr>\n",
       "      <td id=\"T_a448e_row43_col0\" class=\"data row43 col0\" >Other and unspecified parts of mouth</td>\n",
       "      <td id=\"T_a448e_row43_col1\" class=\"data row43 col1\" >43</td>\n",
       "    </tr>\n",
       "    <tr>\n",
       "      <td id=\"T_a448e_row44_col0\" class=\"data row44 col0\" >Thymus</td>\n",
       "      <td id=\"T_a448e_row44_col1\" class=\"data row44 col1\" >431</td>\n",
       "    </tr>\n",
       "    <tr>\n",
       "      <td id=\"T_a448e_row45_col0\" class=\"data row45 col0\" >Other and ill-defined digestive organs</td>\n",
       "      <td id=\"T_a448e_row45_col1\" class=\"data row45 col1\" >719</td>\n",
       "    </tr>\n",
       "    <tr>\n",
       "      <td id=\"T_a448e_row46_col0\" class=\"data row46 col0\" >Bones, joints and articular cartilage of other and unspecified sites</td>\n",
       "      <td id=\"T_a448e_row46_col1\" class=\"data row46 col1\" >455</td>\n",
       "    </tr>\n",
       "    <tr>\n",
       "      <td id=\"T_a448e_row47_col0\" class=\"data row47 col0\" >Other and unspecified female genital organs</td>\n",
       "      <td id=\"T_a448e_row47_col1\" class=\"data row47 col1\" >160</td>\n",
       "    </tr>\n",
       "    <tr>\n",
       "      <td id=\"T_a448e_row48_col0\" class=\"data row48 col0\" >Various</td>\n",
       "      <td id=\"T_a448e_row48_col1\" class=\"data row48 col1\" >449</td>\n",
       "    </tr>\n",
       "    <tr>\n",
       "      <td id=\"T_a448e_row49_col0\" class=\"data row49 col0\" >Testis</td>\n",
       "      <td id=\"T_a448e_row49_col1\" class=\"data row49 col1\" >542</td>\n",
       "    </tr>\n",
       "    <tr>\n",
       "      <td id=\"T_a448e_row50_col0\" class=\"data row50 col0\" >Liver</td>\n",
       "      <td id=\"T_a448e_row50_col1\" class=\"data row50 col1\" >622</td>\n",
       "    </tr>\n",
       "    <tr>\n",
       "      <td id=\"T_a448e_row51_col0\" class=\"data row51 col0\" >Floor of mouth</td>\n",
       "      <td id=\"T_a448e_row51_col1\" class=\"data row51 col1\" >56</td>\n",
       "    </tr>\n",
       "    <tr>\n",
       "      <td id=\"T_a448e_row52_col0\" class=\"data row52 col0\" >Gum</td>\n",
       "      <td id=\"T_a448e_row52_col1\" class=\"data row52 col1\" >11</td>\n",
       "    </tr>\n",
       "    <tr>\n",
       "      <td id=\"T_a448e_row53_col0\" class=\"data row53 col0\" >Abdomen, Mediastinum</td>\n",
       "      <td id=\"T_a448e_row53_col1\" class=\"data row53 col1\" >176</td>\n",
       "    </tr>\n",
       "    <tr>\n",
       "      <td id=\"T_a448e_row54_col0\" class=\"data row54 col0\" >Various (11 locations)</td>\n",
       "      <td id=\"T_a448e_row54_col1\" class=\"data row54 col1\" >89</td>\n",
       "    </tr>\n",
       "    <tr>\n",
       "      <td id=\"T_a448e_row55_col0\" class=\"data row55 col0\" >Prostate</td>\n",
       "      <td id=\"T_a448e_row55_col1\" class=\"data row55 col1\" >2139</td>\n",
       "    </tr>\n",
       "    <tr>\n",
       "      <td id=\"T_a448e_row56_col0\" class=\"data row56 col0\" >Pelvis, Prostate, Anus</td>\n",
       "      <td id=\"T_a448e_row56_col1\" class=\"data row56 col1\" >58</td>\n",
       "    </tr>\n",
       "    <tr>\n",
       "      <td id=\"T_a448e_row57_col0\" class=\"data row57 col0\" >Phantom</td>\n",
       "      <td id=\"T_a448e_row57_col1\" class=\"data row57 col1\" >33</td>\n",
       "    </tr>\n",
       "    <tr>\n",
       "      <td id=\"T_a448e_row58_col0\" class=\"data row58 col0\" >Extremities</td>\n",
       "      <td id=\"T_a448e_row58_col1\" class=\"data row58 col1\" >51</td>\n",
       "    </tr>\n",
       "    <tr>\n",
       "      <td id=\"T_a448e_row59_col0\" class=\"data row59 col0\" >Testicles</td>\n",
       "      <td id=\"T_a448e_row59_col1\" class=\"data row59 col1\" >150</td>\n",
       "    </tr>\n",
       "    <tr>\n",
       "      <td id=\"T_a448e_row60_col0\" class=\"data row60 col0\" >Thyroid</td>\n",
       "      <td id=\"T_a448e_row60_col1\" class=\"data row60 col1\" >507</td>\n",
       "    </tr>\n",
       "    <tr>\n",
       "      <td id=\"T_a448e_row61_col0\" class=\"data row61 col0\" >Chest-Abdomen-Pelvis, Leg, TSpine</td>\n",
       "      <td id=\"T_a448e_row61_col1\" class=\"data row61 col1\" >261</td>\n",
       "    </tr>\n",
       "    <tr>\n",
       "      <td id=\"T_a448e_row62_col0\" class=\"data row62 col0\" >Adrenal Glands</td>\n",
       "      <td id=\"T_a448e_row62_col1\" class=\"data row62 col1\" >271</td>\n",
       "    </tr>\n",
       "    <tr>\n",
       "      <td id=\"T_a448e_row63_col0\" class=\"data row63 col0\" >Mesothelium</td>\n",
       "      <td id=\"T_a448e_row63_col1\" class=\"data row63 col1\" >87</td>\n",
       "    </tr>\n",
       "    <tr>\n",
       "      <td id=\"T_a448e_row64_col0\" class=\"data row64 col0\" >Cervix</td>\n",
       "      <td id=\"T_a448e_row64_col1\" class=\"data row64 col1\" >307</td>\n",
       "    </tr>\n",
       "    <tr>\n",
       "      <td id=\"T_a448e_row65_col0\" class=\"data row65 col0\" >Head</td>\n",
       "      <td id=\"T_a448e_row65_col1\" class=\"data row65 col1\" >105</td>\n",
       "    </tr>\n",
       "    <tr>\n",
       "      <td id=\"T_a448e_row66_col0\" class=\"data row66 col0\" >Ear</td>\n",
       "      <td id=\"T_a448e_row66_col1\" class=\"data row66 col1\" >242</td>\n",
       "    </tr>\n",
       "    <tr>\n",
       "      <td id=\"T_a448e_row67_col0\" class=\"data row67 col0\" >Base of tongue</td>\n",
       "      <td id=\"T_a448e_row67_col1\" class=\"data row67 col1\" >24</td>\n",
       "    </tr>\n",
       "    <tr>\n",
       "      <td id=\"T_a448e_row68_col0\" class=\"data row68 col0\" >Other and unspecified parts of biliary tract</td>\n",
       "      <td id=\"T_a448e_row68_col1\" class=\"data row68 col1\" >224</td>\n",
       "    </tr>\n",
       "    <tr>\n",
       "      <td id=\"T_a448e_row69_col0\" class=\"data row69 col0\" >Hypopharynx</td>\n",
       "      <td id=\"T_a448e_row69_col1\" class=\"data row69 col1\" >25</td>\n",
       "    </tr>\n",
       "    <tr>\n",
       "      <td id=\"T_a448e_row70_col0\" class=\"data row70 col0\" >Small intestine</td>\n",
       "      <td id=\"T_a448e_row70_col1\" class=\"data row70 col1\" >269</td>\n",
       "    </tr>\n",
       "    <tr>\n",
       "      <td id=\"T_a448e_row71_col0\" class=\"data row71 col0\" >Bile Duct</td>\n",
       "      <td id=\"T_a448e_row71_col1\" class=\"data row71 col1\" >51</td>\n",
       "    </tr>\n",
       "    <tr>\n",
       "      <td id=\"T_a448e_row72_col0\" class=\"data row72 col0\" >Tonsil</td>\n",
       "      <td id=\"T_a448e_row72_col1\" class=\"data row72 col1\" >46</td>\n",
       "    </tr>\n",
       "    <tr>\n",
       "      <td id=\"T_a448e_row73_col0\" class=\"data row73 col0\" >None</td>\n",
       "      <td id=\"T_a448e_row73_col1\" class=\"data row73 col1\" >340</td>\n",
       "    </tr>\n",
       "    <tr>\n",
       "      <td id=\"T_a448e_row74_col0\" class=\"data row74 col0\" >Peripheral nerves and autonomic nervous system</td>\n",
       "      <td id=\"T_a448e_row74_col1\" class=\"data row74 col1\" >418</td>\n",
       "    </tr>\n",
       "    <tr>\n",
       "      <td id=\"T_a448e_row75_col0\" class=\"data row75 col0\" >Trachea</td>\n",
       "      <td id=\"T_a448e_row75_col1\" class=\"data row75 col1\" >7</td>\n",
       "    </tr>\n",
       "    <tr>\n",
       "      <td id=\"T_a448e_row76_col0\" class=\"data row76 col0\" >Anus and anal canal</td>\n",
       "      <td id=\"T_a448e_row76_col1\" class=\"data row76 col1\" >233</td>\n",
       "    </tr>\n",
       "    <tr>\n",
       "      <td id=\"T_a448e_row77_col0\" class=\"data row77 col0\" >Marrow, Blood</td>\n",
       "      <td id=\"T_a448e_row77_col1\" class=\"data row77 col1\" >89</td>\n",
       "    </tr>\n",
       "    <tr>\n",
       "      <td id=\"T_a448e_row78_col0\" class=\"data row78 col0\" >Meninges</td>\n",
       "      <td id=\"T_a448e_row78_col1\" class=\"data row78 col1\" >243</td>\n",
       "    </tr>\n",
       "    <tr>\n",
       "      <td id=\"T_a448e_row79_col0\" class=\"data row79 col0\" >Other endocrine glands and related structures</td>\n",
       "      <td id=\"T_a448e_row79_col1\" class=\"data row79 col1\" >181</td>\n",
       "    </tr>\n",
       "    <tr>\n",
       "      <td id=\"T_a448e_row80_col0\" class=\"data row80 col0\" >Gallbladder</td>\n",
       "      <td id=\"T_a448e_row80_col1\" class=\"data row80 col1\" >265</td>\n",
       "    </tr>\n",
       "    <tr>\n",
       "      <td id=\"T_a448e_row81_col0\" class=\"data row81 col0\" >Intraocular</td>\n",
       "      <td id=\"T_a448e_row81_col1\" class=\"data row81 col1\" >80</td>\n",
       "    </tr>\n",
       "    <tr>\n",
       "      <td id=\"T_a448e_row82_col0\" class=\"data row82 col0\" >Nasopharynx</td>\n",
       "      <td id=\"T_a448e_row82_col1\" class=\"data row82 col1\" >101</td>\n",
       "    </tr>\n",
       "    <tr>\n",
       "      <td id=\"T_a448e_row83_col0\" class=\"data row83 col0\" >Vagina</td>\n",
       "      <td id=\"T_a448e_row83_col1\" class=\"data row83 col1\" >72</td>\n",
       "    </tr>\n",
       "    <tr>\n",
       "      <td id=\"T_a448e_row84_col0\" class=\"data row84 col0\" >Nasal cavity and middle ear</td>\n",
       "      <td id=\"T_a448e_row84_col1\" class=\"data row84 col1\" >40</td>\n",
       "    </tr>\n",
       "    <tr>\n",
       "      <td id=\"T_a448e_row85_col0\" class=\"data row85 col0\" >Vulva</td>\n",
       "      <td id=\"T_a448e_row85_col1\" class=\"data row85 col1\" >10</td>\n",
       "    </tr>\n",
       "    <tr>\n",
       "      <td id=\"T_a448e_row86_col0\" class=\"data row86 col0\" >Lung Phantom</td>\n",
       "      <td id=\"T_a448e_row86_col1\" class=\"data row86 col1\" >8</td>\n",
       "    </tr>\n",
       "    <tr>\n",
       "      <td id=\"T_a448e_row87_col0\" class=\"data row87 col0\" >Lip</td>\n",
       "      <td id=\"T_a448e_row87_col1\" class=\"data row87 col1\" >9</td>\n",
       "    </tr>\n",
       "    <tr>\n",
       "      <td id=\"T_a448e_row88_col0\" class=\"data row88 col0\" >Renal pelvis</td>\n",
       "      <td id=\"T_a448e_row88_col1\" class=\"data row88 col1\" >1</td>\n",
       "    </tr>\n",
       "    <tr>\n",
       "      <td id=\"T_a448e_row89_col0\" class=\"data row89 col0\" >Palate</td>\n",
       "      <td id=\"T_a448e_row89_col1\" class=\"data row89 col1\" >5</td>\n",
       "    </tr>\n",
       "    <tr>\n",
       "      <td id=\"T_a448e_row90_col0\" class=\"data row90 col0\" >Ureter</td>\n",
       "      <td id=\"T_a448e_row90_col1\" class=\"data row90 col1\" >15</td>\n",
       "    </tr>\n",
       "    <tr>\n",
       "      <td id=\"T_a448e_row91_col0\" class=\"data row91 col0\" >Pancreas </td>\n",
       "      <td id=\"T_a448e_row91_col1\" class=\"data row91 col1\" >1</td>\n",
       "    </tr>\n",
       "    <tr>\n",
       "      <td id=\"T_a448e_row92_col0\" class=\"data row92 col0\" >Other and ill-defined sites within respiratory system and intrathoracic organs</td>\n",
       "      <td id=\"T_a448e_row92_col1\" class=\"data row92 col1\" >2</td>\n",
       "    </tr>\n",
       "    <tr>\n",
       "      <td id=\"T_a448e_row93_col0\" class=\"data row93 col0\" >Other and unspecified male genital organs</td>\n",
       "      <td id=\"T_a448e_row93_col1\" class=\"data row93 col1\" >1</td>\n",
       "    </tr>\n",
       "  </tbody>\n",
       "</table>\n"
      ]
     },
     "metadata": {},
     "output_type": "display_data"
    },
    {
     "data": {
      "text/plain": []
     },
     "execution_count": 3,
     "metadata": {},
     "output_type": "execute_result"
    }
   ],
   "source": [
    "Q('ResearchSubject.primary_diagnosis_site != \"uterus\"').researchsubject.count.run()"
   ]
  },
  {
   "cell_type": "markdown",
   "id": "77f57fdd",
   "metadata": {},
   "source": [
    "Note that in our `!=` results, there are 1998 \"Uterus, NOS\" samples. These don't appear in our `=` search because \"Uterus, NOS\" is not *exactly* \"Uterus\".\n",
    "\n",
    "There are several ways to change our search to get both \"Uterus\" and \"Uterus, NOS\", and which we choose will depend on both our interests, and on how different the terms are that we care about."
   ]
  },
  {
   "cell_type": "markdown",
   "id": "fa9b67cf",
   "metadata": {},
   "source": [
    "## OR\n",
    "\n",
    "If we have a small enough number of search criteria to reliably type them out, we can use the OR operator to combine results. In an `OR` query, each data point only needs to meet a single piece of criteria to be returned, this makes `OR` good for early, broad searches. It *increases* the amount of data returned.\n",
    "\n",
    "`OR` can be used both inside a Q statement:"
   ]
  },
  {
   "cell_type": "code",
   "execution_count": 4,
   "id": "b40699a9",
   "metadata": {
    "scrolled": true
   },
   "outputs": [
    {
     "data": {
      "text/html": [
       "<pre style=\"white-space:pre;overflow-x:auto;line-height:normal;font-family:Menlo,'DejaVu Sans Mono',consolas,'Courier New',monospace\">Getting results from database\n",
       "\n",
       "</pre>\n"
      ],
      "text/plain": [
       "Getting results from database\n",
       "\n"
      ]
     },
     "metadata": {},
     "output_type": "display_data"
    },
    {
     "name": "stdout",
     "output_type": "stream",
     "text": [
      "Total execution time: 3357 ms\n"
     ]
    },
    {
     "data": {
      "text/html": [
       "<pre style=\"white-space:pre;overflow-x:auto;line-height:normal;font-family:Menlo,'DejaVu Sans Mono',consolas,'Courier New',monospace\">    total : <span style=\"color: #008080; text-decoration-color: #008080; font-weight: bold\">2865</span>    \n",
       "</pre>\n"
      ],
      "text/plain": [
       "    total : \u001b[1;36m2865\u001b[0m    \n"
      ]
     },
     "metadata": {},
     "output_type": "display_data"
    },
    {
     "data": {
      "text/html": [
       "<pre style=\"white-space:pre;overflow-x:auto;line-height:normal;font-family:Menlo,'DejaVu Sans Mono',consolas,'Courier New',monospace\">   files : <span style=\"color: #008080; text-decoration-color: #008080; font-weight: bold\">257140</span>   \n",
       "</pre>\n"
      ],
      "text/plain": [
       "   files : \u001b[1;36m257140\u001b[0m   \n"
      ]
     },
     "metadata": {},
     "output_type": "display_data"
    },
    {
     "data": {
      "text/html": [
       "<style type=\"text/css\">\n",
       "#T_3a60c_ th {\n",
       "  background-color: #000066;\n",
       "  color: white;\n",
       "  text-align: left;\n",
       "}\n",
       "#T_3a60c_ td {\n",
       "  text-align: left;\n",
       "  border-bottom: 1px solid black;\n",
       "}\n",
       "</style>\n",
       "<table id=\"T_3a60c_\" style='display:inline'>\n",
       "  <thead>\n",
       "    <tr>\n",
       "      <th class=\"col_heading level0 col0\" >system</th>\n",
       "      <th class=\"col_heading level0 col1\" >count</th>\n",
       "    </tr>\n",
       "  </thead>\n",
       "  <tbody>\n",
       "    <tr>\n",
       "      <td id=\"T_3a60c_row0_col0\" class=\"data row0 col0\" >PDC</td>\n",
       "      <td id=\"T_3a60c_row0_col1\" class=\"data row0 col1\" >104</td>\n",
       "    </tr>\n",
       "    <tr>\n",
       "      <td id=\"T_3a60c_row1_col0\" class=\"data row1 col0\" >GDC</td>\n",
       "      <td id=\"T_3a60c_row1_col1\" class=\"data row1 col1\" >1894</td>\n",
       "    </tr>\n",
       "    <tr>\n",
       "      <td id=\"T_3a60c_row2_col0\" class=\"data row2 col0\" >IDC</td>\n",
       "      <td id=\"T_3a60c_row2_col1\" class=\"data row2 col1\" >867</td>\n",
       "    </tr>\n",
       "  </tbody>\n",
       "</table>\n",
       "<style type=\"text/css\">\n",
       "#T_32eec_ th {\n",
       "  background-color: #000066;\n",
       "  color: white;\n",
       "  text-align: left;\n",
       "}\n",
       "#T_32eec_ td {\n",
       "  text-align: left;\n",
       "  border-bottom: 1px solid black;\n",
       "}\n",
       "</style>\n",
       "<table id=\"T_32eec_\" style='display:inline'>\n",
       "  <thead>\n",
       "    <tr>\n",
       "      <th class=\"col_heading level0 col0\" >primary_diagnosis_condition</th>\n",
       "      <th class=\"col_heading level0 col1\" >count</th>\n",
       "    </tr>\n",
       "  </thead>\n",
       "  <tbody>\n",
       "    <tr>\n",
       "      <td id=\"T_32eec_row0_col0\" class=\"data row0 col0\" >Complex Mixed and Stromal Neoplasms</td>\n",
       "      <td id=\"T_32eec_row0_col1\" class=\"data row0 col1\" >294</td>\n",
       "    </tr>\n",
       "    <tr>\n",
       "      <td id=\"T_32eec_row1_col0\" class=\"data row1 col0\" >Uterine Corpus Endometrial Carcinoma</td>\n",
       "      <td id=\"T_32eec_row1_col1\" class=\"data row1 col1\" >104</td>\n",
       "    </tr>\n",
       "    <tr>\n",
       "      <td id=\"T_32eec_row2_col0\" class=\"data row2 col0\" >Adenomas and Adenocarcinomas</td>\n",
       "      <td id=\"T_32eec_row2_col1\" class=\"data row2 col1\" >1037</td>\n",
       "    </tr>\n",
       "    <tr>\n",
       "      <td id=\"T_32eec_row3_col0\" class=\"data row3 col0\" >None</td>\n",
       "      <td id=\"T_32eec_row3_col1\" class=\"data row3 col1\" >867</td>\n",
       "    </tr>\n",
       "    <tr>\n",
       "      <td id=\"T_32eec_row4_col0\" class=\"data row4 col0\" >Myomatous Neoplasms</td>\n",
       "      <td id=\"T_32eec_row4_col1\" class=\"data row4 col1\" >183</td>\n",
       "    </tr>\n",
       "    <tr>\n",
       "      <td id=\"T_32eec_row5_col0\" class=\"data row5 col0\" >Cystic, Mucinous and Serous Neoplasms</td>\n",
       "      <td id=\"T_32eec_row5_col1\" class=\"data row5 col1\" >313</td>\n",
       "    </tr>\n",
       "    <tr>\n",
       "      <td id=\"T_32eec_row6_col0\" class=\"data row6 col0\" >Not Reported</td>\n",
       "      <td id=\"T_32eec_row6_col1\" class=\"data row6 col1\" >12</td>\n",
       "    </tr>\n",
       "    <tr>\n",
       "      <td id=\"T_32eec_row7_col0\" class=\"data row7 col0\" >Soft Tissue Tumors and Sarcomas, NOS</td>\n",
       "      <td id=\"T_32eec_row7_col1\" class=\"data row7 col1\" >14</td>\n",
       "    </tr>\n",
       "    <tr>\n",
       "      <td id=\"T_32eec_row8_col0\" class=\"data row8 col0\" >Complex Epithelial Neoplasms</td>\n",
       "      <td id=\"T_32eec_row8_col1\" class=\"data row8 col1\" >2</td>\n",
       "    </tr>\n",
       "    <tr>\n",
       "      <td id=\"T_32eec_row9_col0\" class=\"data row9 col0\" >Epithelial Neoplasms, NOS</td>\n",
       "      <td id=\"T_32eec_row9_col1\" class=\"data row9 col1\" >20</td>\n",
       "    </tr>\n",
       "    <tr>\n",
       "      <td id=\"T_32eec_row10_col0\" class=\"data row10 col0\" >Mesonephromas</td>\n",
       "      <td id=\"T_32eec_row10_col1\" class=\"data row10 col1\" >2</td>\n",
       "    </tr>\n",
       "    <tr>\n",
       "      <td id=\"T_32eec_row11_col0\" class=\"data row11 col0\" >Trophoblastic neoplasms</td>\n",
       "      <td id=\"T_32eec_row11_col1\" class=\"data row11 col1\" >13</td>\n",
       "    </tr>\n",
       "    <tr>\n",
       "      <td id=\"T_32eec_row12_col0\" class=\"data row12 col0\" >Neoplasms, NOS</td>\n",
       "      <td id=\"T_32eec_row12_col1\" class=\"data row12 col1\" >3</td>\n",
       "    </tr>\n",
       "    <tr>\n",
       "      <td id=\"T_32eec_row13_col0\" class=\"data row13 col0\" >Neuroepitheliomatous Neoplasms</td>\n",
       "      <td id=\"T_32eec_row13_col1\" class=\"data row13 col1\" >1</td>\n",
       "    </tr>\n",
       "  </tbody>\n",
       "</table>\n",
       "<style type=\"text/css\">\n",
       "#T_68ddb_ th {\n",
       "  background-color: #000066;\n",
       "  color: white;\n",
       "  text-align: left;\n",
       "}\n",
       "#T_68ddb_ td {\n",
       "  text-align: left;\n",
       "  border-bottom: 1px solid black;\n",
       "}\n",
       "</style>\n",
       "<table id=\"T_68ddb_\" style='display:inline'>\n",
       "  <thead>\n",
       "    <tr>\n",
       "      <th class=\"col_heading level0 col0\" >primary_diagnosis_site</th>\n",
       "      <th class=\"col_heading level0 col1\" >count</th>\n",
       "    </tr>\n",
       "  </thead>\n",
       "  <tbody>\n",
       "    <tr>\n",
       "      <td id=\"T_68ddb_row0_col0\" class=\"data row0 col0\" >Uterus, NOS</td>\n",
       "      <td id=\"T_68ddb_row0_col1\" class=\"data row0 col1\" >1998</td>\n",
       "    </tr>\n",
       "    <tr>\n",
       "      <td id=\"T_68ddb_row1_col0\" class=\"data row1 col0\" >Uterus</td>\n",
       "      <td id=\"T_68ddb_row1_col1\" class=\"data row1 col1\" >867</td>\n",
       "    </tr>\n",
       "  </tbody>\n",
       "</table>\n"
      ]
     },
     "metadata": {},
     "output_type": "display_data"
    },
    {
     "data": {
      "text/plain": []
     },
     "execution_count": 4,
     "metadata": {},
     "output_type": "execute_result"
    }
   ],
   "source": [
    "Q('ResearchSubject.primary_diagnosis_site = \"uterus\" OR ResearchSubject.primary_diagnosis_site = \"uterus, NOS\"').researchsubject.count.run()"
   ]
  },
  {
   "cell_type": "markdown",
   "id": "fb5fa6e1",
   "metadata": {},
   "source": [
    "and to combine 2 or more Q statements:"
   ]
  },
  {
   "cell_type": "code",
   "execution_count": 5,
   "id": "e86205bf",
   "metadata": {
    "scrolled": true
   },
   "outputs": [
    {
     "data": {
      "text/html": [
       "<pre style=\"white-space:pre;overflow-x:auto;line-height:normal;font-family:Menlo,'DejaVu Sans Mono',consolas,'Courier New',monospace\">Getting results from database\n",
       "\n",
       "</pre>\n"
      ],
      "text/plain": [
       "Getting results from database\n",
       "\n"
      ]
     },
     "metadata": {},
     "output_type": "display_data"
    },
    {
     "name": "stdout",
     "output_type": "stream",
     "text": [
      "Total execution time: 3445 ms\n"
     ]
    },
    {
     "data": {
      "text/html": [
       "<pre style=\"white-space:pre;overflow-x:auto;line-height:normal;font-family:Menlo,'DejaVu Sans Mono',consolas,'Courier New',monospace\">    total : <span style=\"color: #008080; text-decoration-color: #008080; font-weight: bold\">1998</span>    \n",
       "</pre>\n"
      ],
      "text/plain": [
       "    total : \u001b[1;36m1998\u001b[0m    \n"
      ]
     },
     "metadata": {},
     "output_type": "display_data"
    },
    {
     "data": {
      "text/html": [
       "<pre style=\"white-space:pre;overflow-x:auto;line-height:normal;font-family:Menlo,'DejaVu Sans Mono',consolas,'Courier New',monospace\">   files : <span style=\"color: #008080; text-decoration-color: #008080; font-weight: bold\">14778</span>    \n",
       "</pre>\n"
      ],
      "text/plain": [
       "   files : \u001b[1;36m14778\u001b[0m    \n"
      ]
     },
     "metadata": {},
     "output_type": "display_data"
    },
    {
     "data": {
      "text/html": [
       "<style type=\"text/css\">\n",
       "#T_4b323_ th {\n",
       "  background-color: #000066;\n",
       "  color: white;\n",
       "  text-align: left;\n",
       "}\n",
       "#T_4b323_ td {\n",
       "  text-align: left;\n",
       "  border-bottom: 1px solid black;\n",
       "}\n",
       "</style>\n",
       "<table id=\"T_4b323_\" style='display:inline'>\n",
       "  <thead>\n",
       "    <tr>\n",
       "      <th class=\"col_heading level0 col0\" >system</th>\n",
       "      <th class=\"col_heading level0 col1\" >count</th>\n",
       "    </tr>\n",
       "  </thead>\n",
       "  <tbody>\n",
       "    <tr>\n",
       "      <td id=\"T_4b323_row0_col0\" class=\"data row0 col0\" >PDC</td>\n",
       "      <td id=\"T_4b323_row0_col1\" class=\"data row0 col1\" >104</td>\n",
       "    </tr>\n",
       "    <tr>\n",
       "      <td id=\"T_4b323_row1_col0\" class=\"data row1 col0\" >GDC</td>\n",
       "      <td id=\"T_4b323_row1_col1\" class=\"data row1 col1\" >1894</td>\n",
       "    </tr>\n",
       "  </tbody>\n",
       "</table>\n",
       "<style type=\"text/css\">\n",
       "#T_0cd14_ th {\n",
       "  background-color: #000066;\n",
       "  color: white;\n",
       "  text-align: left;\n",
       "}\n",
       "#T_0cd14_ td {\n",
       "  text-align: left;\n",
       "  border-bottom: 1px solid black;\n",
       "}\n",
       "</style>\n",
       "<table id=\"T_0cd14_\" style='display:inline'>\n",
       "  <thead>\n",
       "    <tr>\n",
       "      <th class=\"col_heading level0 col0\" >primary_diagnosis_condition</th>\n",
       "      <th class=\"col_heading level0 col1\" >count</th>\n",
       "    </tr>\n",
       "  </thead>\n",
       "  <tbody>\n",
       "    <tr>\n",
       "      <td id=\"T_0cd14_row0_col0\" class=\"data row0 col0\" >Myomatous Neoplasms</td>\n",
       "      <td id=\"T_0cd14_row0_col1\" class=\"data row0 col1\" >183</td>\n",
       "    </tr>\n",
       "    <tr>\n",
       "      <td id=\"T_0cd14_row1_col0\" class=\"data row1 col0\" >Uterine Corpus Endometrial Carcinoma</td>\n",
       "      <td id=\"T_0cd14_row1_col1\" class=\"data row1 col1\" >104</td>\n",
       "    </tr>\n",
       "    <tr>\n",
       "      <td id=\"T_0cd14_row2_col0\" class=\"data row2 col0\" >Cystic, Mucinous and Serous Neoplasms</td>\n",
       "      <td id=\"T_0cd14_row2_col1\" class=\"data row2 col1\" >313</td>\n",
       "    </tr>\n",
       "    <tr>\n",
       "      <td id=\"T_0cd14_row3_col0\" class=\"data row3 col0\" >Adenomas and Adenocarcinomas</td>\n",
       "      <td id=\"T_0cd14_row3_col1\" class=\"data row3 col1\" >1037</td>\n",
       "    </tr>\n",
       "    <tr>\n",
       "      <td id=\"T_0cd14_row4_col0\" class=\"data row4 col0\" >Complex Mixed and Stromal Neoplasms</td>\n",
       "      <td id=\"T_0cd14_row4_col1\" class=\"data row4 col1\" >294</td>\n",
       "    </tr>\n",
       "    <tr>\n",
       "      <td id=\"T_0cd14_row5_col0\" class=\"data row5 col0\" >Not Reported</td>\n",
       "      <td id=\"T_0cd14_row5_col1\" class=\"data row5 col1\" >12</td>\n",
       "    </tr>\n",
       "    <tr>\n",
       "      <td id=\"T_0cd14_row6_col0\" class=\"data row6 col0\" >Epithelial Neoplasms, NOS</td>\n",
       "      <td id=\"T_0cd14_row6_col1\" class=\"data row6 col1\" >20</td>\n",
       "    </tr>\n",
       "    <tr>\n",
       "      <td id=\"T_0cd14_row7_col0\" class=\"data row7 col0\" >Soft Tissue Tumors and Sarcomas, NOS</td>\n",
       "      <td id=\"T_0cd14_row7_col1\" class=\"data row7 col1\" >14</td>\n",
       "    </tr>\n",
       "    <tr>\n",
       "      <td id=\"T_0cd14_row8_col0\" class=\"data row8 col0\" >Trophoblastic neoplasms</td>\n",
       "      <td id=\"T_0cd14_row8_col1\" class=\"data row8 col1\" >13</td>\n",
       "    </tr>\n",
       "    <tr>\n",
       "      <td id=\"T_0cd14_row9_col0\" class=\"data row9 col0\" >Neoplasms, NOS</td>\n",
       "      <td id=\"T_0cd14_row9_col1\" class=\"data row9 col1\" >3</td>\n",
       "    </tr>\n",
       "    <tr>\n",
       "      <td id=\"T_0cd14_row10_col0\" class=\"data row10 col0\" >Complex Epithelial Neoplasms</td>\n",
       "      <td id=\"T_0cd14_row10_col1\" class=\"data row10 col1\" >2</td>\n",
       "    </tr>\n",
       "    <tr>\n",
       "      <td id=\"T_0cd14_row11_col0\" class=\"data row11 col0\" >Mesonephromas</td>\n",
       "      <td id=\"T_0cd14_row11_col1\" class=\"data row11 col1\" >2</td>\n",
       "    </tr>\n",
       "    <tr>\n",
       "      <td id=\"T_0cd14_row12_col0\" class=\"data row12 col0\" >Neuroepitheliomatous Neoplasms</td>\n",
       "      <td id=\"T_0cd14_row12_col1\" class=\"data row12 col1\" >1</td>\n",
       "    </tr>\n",
       "  </tbody>\n",
       "</table>\n",
       "<style type=\"text/css\">\n",
       "#T_024c7_ th {\n",
       "  background-color: #000066;\n",
       "  color: white;\n",
       "  text-align: left;\n",
       "}\n",
       "#T_024c7_ td {\n",
       "  text-align: left;\n",
       "  border-bottom: 1px solid black;\n",
       "}\n",
       "</style>\n",
       "<table id=\"T_024c7_\" style='display:inline'>\n",
       "  <thead>\n",
       "    <tr>\n",
       "      <th class=\"col_heading level0 col0\" >primary_diagnosis_site</th>\n",
       "      <th class=\"col_heading level0 col1\" >count</th>\n",
       "    </tr>\n",
       "  </thead>\n",
       "  <tbody>\n",
       "    <tr>\n",
       "      <td id=\"T_024c7_row0_col0\" class=\"data row0 col0\" >Uterus, NOS</td>\n",
       "      <td id=\"T_024c7_row0_col1\" class=\"data row0 col1\" >1998</td>\n",
       "    </tr>\n",
       "  </tbody>\n",
       "</table>\n"
      ]
     },
     "metadata": {},
     "output_type": "display_data"
    },
    {
     "data": {
      "text/plain": []
     },
     "execution_count": 5,
     "metadata": {},
     "output_type": "execute_result"
    }
   ],
   "source": [
    "Query1 = Q('ResearchSubject.primary_diagnosis_site = \"uterus, NOS\"') \n",
    "Query2 = Q('ResearchSubject.primary_diagnosis_condition = \"Uterine Corpus Endometrial Carcinoma\"')\n",
    "\n",
    "Query1.OR(Query2).researchsubject.count.run()"
   ]
  },
  {
   "cell_type": "markdown",
   "id": "83348dd9",
   "metadata": {},
   "source": [
    "For each `OR` you must specify both the search term (\"uterus\") and where to find the term (\"ResearchSubject.primary_diagnosis_site\"). This means that the `OR` operator is flexible enough to run searches across columns, or even across endpoints."
   ]
  },
  {
   "cell_type": "markdown",
   "id": "5931cb9b",
   "metadata": {},
   "source": [
    "## AND \n",
    "\n",
    "Like `OR`, `AND` can be used both inside a Q statement, and to join multiple Q statements. `AND` requires that both statements be true simultanously for each returned bit of data. This makes `AND` good for filtering down results. It *decreases* the amount of data returned.\n",
    "\n",
    "If we reuse the `OR` examples above, the first one will have no results, because primary_diagnosis_site can have only one value, so it can never be both \"uterus\" and \"uterus, NOS\":"
   ]
  },
  {
   "cell_type": "code",
   "execution_count": 6,
   "id": "9781a244",
   "metadata": {
    "scrolled": true
   },
   "outputs": [
    {
     "data": {
      "text/html": [
       "<pre style=\"white-space:pre;overflow-x:auto;line-height:normal;font-family:Menlo,'DejaVu Sans Mono',consolas,'Courier New',monospace\">Getting results from database\n",
       "\n",
       "</pre>\n"
      ],
      "text/plain": [
       "Getting results from database\n",
       "\n"
      ]
     },
     "metadata": {},
     "output_type": "display_data"
    },
    {
     "name": "stdout",
     "output_type": "stream",
     "text": [
      "Total execution time: 3477 ms\n"
     ]
    },
    {
     "data": {
      "text/html": [
       "<pre style=\"white-space:pre;overflow-x:auto;line-height:normal;font-family:Menlo,'DejaVu Sans Mono',consolas,'Courier New',monospace\">     total : <span style=\"color: #008080; text-decoration-color: #008080; font-weight: bold\">0</span>      \n",
       "</pre>\n"
      ],
      "text/plain": [
       "     total : \u001b[1;36m0\u001b[0m      \n"
      ]
     },
     "metadata": {},
     "output_type": "display_data"
    },
    {
     "data": {
      "text/html": [
       "<pre style=\"white-space:pre;overflow-x:auto;line-height:normal;font-family:Menlo,'DejaVu Sans Mono',consolas,'Courier New',monospace\">     files : <span style=\"color: #008080; text-decoration-color: #008080; font-weight: bold\">0</span>      \n",
       "</pre>\n"
      ],
      "text/plain": [
       "     files : \u001b[1;36m0\u001b[0m      \n"
      ]
     },
     "metadata": {},
     "output_type": "display_data"
    },
    {
     "data": {
      "text/html": [
       "<style type=\"text/css\">\n",
       "#T_994f4_ th {\n",
       "  background-color: #000066;\n",
       "  color: white;\n",
       "  text-align: left;\n",
       "}\n",
       "#T_994f4_ td {\n",
       "  text-align: left;\n",
       "  border-bottom: 1px solid black;\n",
       "}\n",
       "</style>\n",
       "<table id=\"T_994f4_\" style='display:inline'>\n",
       "  <thead>\n",
       "  </thead>\n",
       "  <tbody>\n",
       "  </tbody>\n",
       "</table>\n",
       "<style type=\"text/css\">\n",
       "#T_0e6d7_ th {\n",
       "  background-color: #000066;\n",
       "  color: white;\n",
       "  text-align: left;\n",
       "}\n",
       "#T_0e6d7_ td {\n",
       "  text-align: left;\n",
       "  border-bottom: 1px solid black;\n",
       "}\n",
       "</style>\n",
       "<table id=\"T_0e6d7_\" style='display:inline'>\n",
       "  <thead>\n",
       "  </thead>\n",
       "  <tbody>\n",
       "  </tbody>\n",
       "</table>\n",
       "<style type=\"text/css\">\n",
       "#T_9e83c_ th {\n",
       "  background-color: #000066;\n",
       "  color: white;\n",
       "  text-align: left;\n",
       "}\n",
       "#T_9e83c_ td {\n",
       "  text-align: left;\n",
       "  border-bottom: 1px solid black;\n",
       "}\n",
       "</style>\n",
       "<table id=\"T_9e83c_\" style='display:inline'>\n",
       "  <thead>\n",
       "  </thead>\n",
       "  <tbody>\n",
       "  </tbody>\n",
       "</table>\n"
      ]
     },
     "metadata": {},
     "output_type": "display_data"
    },
    {
     "data": {
      "text/plain": []
     },
     "execution_count": 6,
     "metadata": {},
     "output_type": "execute_result"
    }
   ],
   "source": [
    "Q('ResearchSubject.primary_diagnosis_site = \"uterus\" AND ResearchSubject.primary_diagnosis_site = \"uterus, NOS\"').researchsubject.count.run()"
   ]
  },
  {
   "cell_type": "markdown",
   "id": "191db1ce",
   "metadata": {},
   "source": [
    "However, for searches where you are interested in subsetting multiple columns, `AND` can help you to quickly filter to only the set you want. Note that `AND` can be used both inside a `Q` statement, and to add multiple `Q` statements together:"
   ]
  },
  {
   "cell_type": "code",
   "execution_count": 7,
   "id": "36361132",
   "metadata": {
    "scrolled": true
   },
   "outputs": [
    {
     "data": {
      "text/html": [
       "<pre style=\"white-space:pre;overflow-x:auto;line-height:normal;font-family:Menlo,'DejaVu Sans Mono',consolas,'Courier New',monospace\">Getting results from database\n",
       "\n",
       "</pre>\n"
      ],
      "text/plain": [
       "Getting results from database\n",
       "\n"
      ]
     },
     "metadata": {},
     "output_type": "display_data"
    },
    {
     "name": "stdout",
     "output_type": "stream",
     "text": [
      "Total execution time: 3353 ms\n"
     ]
    },
    {
     "data": {
      "text/html": [
       "<pre style=\"white-space:pre;overflow-x:auto;line-height:normal;font-family:Menlo,'DejaVu Sans Mono',consolas,'Courier New',monospace\">    total : <span style=\"color: #008080; text-decoration-color: #008080; font-weight: bold\">104</span>     \n",
       "</pre>\n"
      ],
      "text/plain": [
       "    total : \u001b[1;36m104\u001b[0m     \n"
      ]
     },
     "metadata": {},
     "output_type": "display_data"
    },
    {
     "data": {
      "text/html": [
       "<pre style=\"white-space:pre;overflow-x:auto;line-height:normal;font-family:Menlo,'DejaVu Sans Mono',consolas,'Courier New',monospace\">    files : <span style=\"color: #008080; text-decoration-color: #008080; font-weight: bold\">2560</span>    \n",
       "</pre>\n"
      ],
      "text/plain": [
       "    files : \u001b[1;36m2560\u001b[0m    \n"
      ]
     },
     "metadata": {},
     "output_type": "display_data"
    },
    {
     "data": {
      "text/html": [
       "<style type=\"text/css\">\n",
       "#T_dcefd_ th {\n",
       "  background-color: #000066;\n",
       "  color: white;\n",
       "  text-align: left;\n",
       "}\n",
       "#T_dcefd_ td {\n",
       "  text-align: left;\n",
       "  border-bottom: 1px solid black;\n",
       "}\n",
       "</style>\n",
       "<table id=\"T_dcefd_\" style='display:inline'>\n",
       "  <thead>\n",
       "    <tr>\n",
       "      <th class=\"col_heading level0 col0\" >system</th>\n",
       "      <th class=\"col_heading level0 col1\" >count</th>\n",
       "    </tr>\n",
       "  </thead>\n",
       "  <tbody>\n",
       "    <tr>\n",
       "      <td id=\"T_dcefd_row0_col0\" class=\"data row0 col0\" >PDC</td>\n",
       "      <td id=\"T_dcefd_row0_col1\" class=\"data row0 col1\" >104</td>\n",
       "    </tr>\n",
       "  </tbody>\n",
       "</table>\n",
       "<style type=\"text/css\">\n",
       "#T_e42cb_ th {\n",
       "  background-color: #000066;\n",
       "  color: white;\n",
       "  text-align: left;\n",
       "}\n",
       "#T_e42cb_ td {\n",
       "  text-align: left;\n",
       "  border-bottom: 1px solid black;\n",
       "}\n",
       "</style>\n",
       "<table id=\"T_e42cb_\" style='display:inline'>\n",
       "  <thead>\n",
       "    <tr>\n",
       "      <th class=\"col_heading level0 col0\" >primary_diagnosis_condition</th>\n",
       "      <th class=\"col_heading level0 col1\" >count</th>\n",
       "    </tr>\n",
       "  </thead>\n",
       "  <tbody>\n",
       "    <tr>\n",
       "      <td id=\"T_e42cb_row0_col0\" class=\"data row0 col0\" >Uterine Corpus Endometrial Carcinoma</td>\n",
       "      <td id=\"T_e42cb_row0_col1\" class=\"data row0 col1\" >104</td>\n",
       "    </tr>\n",
       "  </tbody>\n",
       "</table>\n",
       "<style type=\"text/css\">\n",
       "#T_9e0ff_ th {\n",
       "  background-color: #000066;\n",
       "  color: white;\n",
       "  text-align: left;\n",
       "}\n",
       "#T_9e0ff_ td {\n",
       "  text-align: left;\n",
       "  border-bottom: 1px solid black;\n",
       "}\n",
       "</style>\n",
       "<table id=\"T_9e0ff_\" style='display:inline'>\n",
       "  <thead>\n",
       "    <tr>\n",
       "      <th class=\"col_heading level0 col0\" >primary_diagnosis_site</th>\n",
       "      <th class=\"col_heading level0 col1\" >count</th>\n",
       "    </tr>\n",
       "  </thead>\n",
       "  <tbody>\n",
       "    <tr>\n",
       "      <td id=\"T_9e0ff_row0_col0\" class=\"data row0 col0\" >Uterus, NOS</td>\n",
       "      <td id=\"T_9e0ff_row0_col1\" class=\"data row0 col1\" >104</td>\n",
       "    </tr>\n",
       "  </tbody>\n",
       "</table>\n"
      ]
     },
     "metadata": {},
     "output_type": "display_data"
    },
    {
     "data": {
      "text/plain": []
     },
     "execution_count": 7,
     "metadata": {},
     "output_type": "execute_result"
    }
   ],
   "source": [
    "Q('ResearchSubject.primary_diagnosis_site = \"uterus, NOS\" AND ResearchSubject.primary_diagnosis_condition = \"Uterine Corpus Endometrial Carcinoma\"').researchsubject.count.run()"
   ]
  },
  {
   "cell_type": "code",
   "execution_count": 8,
   "id": "07affe40",
   "metadata": {
    "scrolled": false
   },
   "outputs": [
    {
     "data": {
      "text/html": [
       "<pre style=\"white-space:pre;overflow-x:auto;line-height:normal;font-family:Menlo,'DejaVu Sans Mono',consolas,'Courier New',monospace\">Getting results from database\n",
       "\n",
       "</pre>\n"
      ],
      "text/plain": [
       "Getting results from database\n",
       "\n"
      ]
     },
     "metadata": {},
     "output_type": "display_data"
    },
    {
     "name": "stdout",
     "output_type": "stream",
     "text": [
      "Total execution time: 3371 ms\n"
     ]
    },
    {
     "data": {
      "text/html": [
       "<pre style=\"white-space:pre;overflow-x:auto;line-height:normal;font-family:Menlo,'DejaVu Sans Mono',consolas,'Courier New',monospace\">    total : <span style=\"color: #008080; text-decoration-color: #008080; font-weight: bold\">104</span>     \n",
       "</pre>\n"
      ],
      "text/plain": [
       "    total : \u001b[1;36m104\u001b[0m     \n"
      ]
     },
     "metadata": {},
     "output_type": "display_data"
    },
    {
     "data": {
      "text/html": [
       "<pre style=\"white-space:pre;overflow-x:auto;line-height:normal;font-family:Menlo,'DejaVu Sans Mono',consolas,'Courier New',monospace\">    files : <span style=\"color: #008080; text-decoration-color: #008080; font-weight: bold\">2560</span>    \n",
       "</pre>\n"
      ],
      "text/plain": [
       "    files : \u001b[1;36m2560\u001b[0m    \n"
      ]
     },
     "metadata": {},
     "output_type": "display_data"
    },
    {
     "data": {
      "text/html": [
       "<style type=\"text/css\">\n",
       "#T_c34ae_ th {\n",
       "  background-color: #000066;\n",
       "  color: white;\n",
       "  text-align: left;\n",
       "}\n",
       "#T_c34ae_ td {\n",
       "  text-align: left;\n",
       "  border-bottom: 1px solid black;\n",
       "}\n",
       "</style>\n",
       "<table id=\"T_c34ae_\" style='display:inline'>\n",
       "  <thead>\n",
       "    <tr>\n",
       "      <th class=\"col_heading level0 col0\" >system</th>\n",
       "      <th class=\"col_heading level0 col1\" >count</th>\n",
       "    </tr>\n",
       "  </thead>\n",
       "  <tbody>\n",
       "    <tr>\n",
       "      <td id=\"T_c34ae_row0_col0\" class=\"data row0 col0\" >PDC</td>\n",
       "      <td id=\"T_c34ae_row0_col1\" class=\"data row0 col1\" >104</td>\n",
       "    </tr>\n",
       "  </tbody>\n",
       "</table>\n",
       "<style type=\"text/css\">\n",
       "#T_12e2c_ th {\n",
       "  background-color: #000066;\n",
       "  color: white;\n",
       "  text-align: left;\n",
       "}\n",
       "#T_12e2c_ td {\n",
       "  text-align: left;\n",
       "  border-bottom: 1px solid black;\n",
       "}\n",
       "</style>\n",
       "<table id=\"T_12e2c_\" style='display:inline'>\n",
       "  <thead>\n",
       "    <tr>\n",
       "      <th class=\"col_heading level0 col0\" >primary_diagnosis_condition</th>\n",
       "      <th class=\"col_heading level0 col1\" >count</th>\n",
       "    </tr>\n",
       "  </thead>\n",
       "  <tbody>\n",
       "    <tr>\n",
       "      <td id=\"T_12e2c_row0_col0\" class=\"data row0 col0\" >Uterine Corpus Endometrial Carcinoma</td>\n",
       "      <td id=\"T_12e2c_row0_col1\" class=\"data row0 col1\" >104</td>\n",
       "    </tr>\n",
       "  </tbody>\n",
       "</table>\n",
       "<style type=\"text/css\">\n",
       "#T_ff1ed_ th {\n",
       "  background-color: #000066;\n",
       "  color: white;\n",
       "  text-align: left;\n",
       "}\n",
       "#T_ff1ed_ td {\n",
       "  text-align: left;\n",
       "  border-bottom: 1px solid black;\n",
       "}\n",
       "</style>\n",
       "<table id=\"T_ff1ed_\" style='display:inline'>\n",
       "  <thead>\n",
       "    <tr>\n",
       "      <th class=\"col_heading level0 col0\" >primary_diagnosis_site</th>\n",
       "      <th class=\"col_heading level0 col1\" >count</th>\n",
       "    </tr>\n",
       "  </thead>\n",
       "  <tbody>\n",
       "    <tr>\n",
       "      <td id=\"T_ff1ed_row0_col0\" class=\"data row0 col0\" >Uterus, NOS</td>\n",
       "      <td id=\"T_ff1ed_row0_col1\" class=\"data row0 col1\" >104</td>\n",
       "    </tr>\n",
       "  </tbody>\n",
       "</table>\n"
      ]
     },
     "metadata": {},
     "output_type": "display_data"
    },
    {
     "data": {
      "text/plain": []
     },
     "execution_count": 8,
     "metadata": {},
     "output_type": "execute_result"
    }
   ],
   "source": [
    "Query1 = Q('ResearchSubject.primary_diagnosis_site = \"uterus, NOS\"') \n",
    "Query2 = Q('ResearchSubject.primary_diagnosis_condition = \"Uterine Corpus Endometrial Carcinoma\"')\n",
    "\n",
    "Query1.AND(Query2).researchsubject.count.run()"
   ]
  },
  {
   "cell_type": "markdown",
   "id": "17822d39",
   "metadata": {},
   "source": [
    "## IN and NOT IN\n",
    "\n",
    "For instances where you have many search terms, it may be easier (and more readable) to use `IN`. With `IN` you make a list of all the terms you are interested in, and ask whether they are `IN` a given field:"
   ]
  },
  {
   "cell_type": "code",
   "execution_count": 9,
   "id": "de119022",
   "metadata": {},
   "outputs": [
    {
     "data": {
      "text/html": [
       "<pre style=\"white-space:pre;overflow-x:auto;line-height:normal;font-family:Menlo,'DejaVu Sans Mono',consolas,'Courier New',monospace\">Getting results from database\n",
       "\n",
       "</pre>\n"
      ],
      "text/plain": [
       "Getting results from database\n",
       "\n"
      ]
     },
     "metadata": {},
     "output_type": "display_data"
    },
    {
     "name": "stdout",
     "output_type": "stream",
     "text": [
      "Total execution time: 3280 ms\n"
     ]
    },
    {
     "data": {
      "text/html": [
       "<pre style=\"white-space:pre;overflow-x:auto;line-height:normal;font-family:Menlo,'DejaVu Sans Mono',consolas,'Courier New',monospace\">    total : <span style=\"color: #008080; text-decoration-color: #008080; font-weight: bold\">4087</span>    \n",
       "</pre>\n"
      ],
      "text/plain": [
       "    total : \u001b[1;36m4087\u001b[0m    \n"
      ]
     },
     "metadata": {},
     "output_type": "display_data"
    },
    {
     "data": {
      "text/html": [
       "<pre style=\"white-space:pre;overflow-x:auto;line-height:normal;font-family:Menlo,'DejaVu Sans Mono',consolas,'Courier New',monospace\">   files : <span style=\"color: #008080; text-decoration-color: #008080; font-weight: bold\">299493</span>   \n",
       "</pre>\n"
      ],
      "text/plain": [
       "   files : \u001b[1;36m299493\u001b[0m   \n"
      ]
     },
     "metadata": {},
     "output_type": "display_data"
    },
    {
     "data": {
      "text/html": [
       "<style type=\"text/css\">\n",
       "#T_3b7ca_ th {\n",
       "  background-color: #000066;\n",
       "  color: white;\n",
       "  text-align: left;\n",
       "}\n",
       "#T_3b7ca_ td {\n",
       "  text-align: left;\n",
       "  border-bottom: 1px solid black;\n",
       "}\n",
       "</style>\n",
       "<table id=\"T_3b7ca_\" style='display:inline'>\n",
       "  <thead>\n",
       "    <tr>\n",
       "      <th class=\"col_heading level0 col0\" >system</th>\n",
       "      <th class=\"col_heading level0 col1\" >count</th>\n",
       "    </tr>\n",
       "  </thead>\n",
       "  <tbody>\n",
       "    <tr>\n",
       "      <td id=\"T_3b7ca_row0_col0\" class=\"data row0 col0\" >PDC</td>\n",
       "      <td id=\"T_3b7ca_row0_col1\" class=\"data row0 col1\" >104</td>\n",
       "    </tr>\n",
       "    <tr>\n",
       "      <td id=\"T_3b7ca_row1_col0\" class=\"data row1 col0\" >GDC</td>\n",
       "      <td id=\"T_3b7ca_row1_col1\" class=\"data row1 col1\" >2809</td>\n",
       "    </tr>\n",
       "    <tr>\n",
       "      <td id=\"T_3b7ca_row2_col0\" class=\"data row2 col0\" >IDC</td>\n",
       "      <td id=\"T_3b7ca_row2_col1\" class=\"data row2 col1\" >1174</td>\n",
       "    </tr>\n",
       "  </tbody>\n",
       "</table>\n",
       "<style type=\"text/css\">\n",
       "#T_0d48d_ th {\n",
       "  background-color: #000066;\n",
       "  color: white;\n",
       "  text-align: left;\n",
       "}\n",
       "#T_0d48d_ td {\n",
       "  text-align: left;\n",
       "  border-bottom: 1px solid black;\n",
       "}\n",
       "</style>\n",
       "<table id=\"T_0d48d_\" style='display:inline'>\n",
       "  <thead>\n",
       "    <tr>\n",
       "      <th class=\"col_heading level0 col0\" >primary_diagnosis_condition</th>\n",
       "      <th class=\"col_heading level0 col1\" >count</th>\n",
       "    </tr>\n",
       "  </thead>\n",
       "  <tbody>\n",
       "    <tr>\n",
       "      <td id=\"T_0d48d_row0_col0\" class=\"data row0 col0\" >Uterine Corpus Endometrial Carcinoma</td>\n",
       "      <td id=\"T_0d48d_row0_col1\" class=\"data row0 col1\" >104</td>\n",
       "    </tr>\n",
       "    <tr>\n",
       "      <td id=\"T_0d48d_row1_col0\" class=\"data row1 col0\" >Myomatous Neoplasms</td>\n",
       "      <td id=\"T_0d48d_row1_col1\" class=\"data row1 col1\" >183</td>\n",
       "    </tr>\n",
       "    <tr>\n",
       "      <td id=\"T_0d48d_row2_col0\" class=\"data row2 col0\" >Adenomas and Adenocarcinomas</td>\n",
       "      <td id=\"T_0d48d_row2_col1\" class=\"data row2 col1\" >1264</td>\n",
       "    </tr>\n",
       "    <tr>\n",
       "      <td id=\"T_0d48d_row3_col0\" class=\"data row3 col0\" >Squamous Cell Neoplasms</td>\n",
       "      <td id=\"T_0d48d_row3_col1\" class=\"data row3 col1\" >609</td>\n",
       "    </tr>\n",
       "    <tr>\n",
       "      <td id=\"T_0d48d_row4_col0\" class=\"data row4 col0\" >Cystic, Mucinous and Serous Neoplasms</td>\n",
       "      <td id=\"T_0d48d_row4_col1\" class=\"data row4 col1\" >348</td>\n",
       "    </tr>\n",
       "    <tr>\n",
       "      <td id=\"T_0d48d_row5_col0\" class=\"data row5 col0\" >Complex Mixed and Stromal Neoplasms</td>\n",
       "      <td id=\"T_0d48d_row5_col1\" class=\"data row5 col1\" >294</td>\n",
       "    </tr>\n",
       "    <tr>\n",
       "      <td id=\"T_0d48d_row6_col0\" class=\"data row6 col0\" >Complex Epithelial Neoplasms</td>\n",
       "      <td id=\"T_0d48d_row6_col1\" class=\"data row6 col1\" >27</td>\n",
       "    </tr>\n",
       "    <tr>\n",
       "      <td id=\"T_0d48d_row7_col0\" class=\"data row7 col0\" >None</td>\n",
       "      <td id=\"T_0d48d_row7_col1\" class=\"data row7 col1\" >1175</td>\n",
       "    </tr>\n",
       "    <tr>\n",
       "      <td id=\"T_0d48d_row8_col0\" class=\"data row8 col0\" >Not Reported</td>\n",
       "      <td id=\"T_0d48d_row8_col1\" class=\"data row8 col1\" >12</td>\n",
       "    </tr>\n",
       "    <tr>\n",
       "      <td id=\"T_0d48d_row9_col0\" class=\"data row9 col0\" >Epithelial Neoplasms, NOS</td>\n",
       "      <td id=\"T_0d48d_row9_col1\" class=\"data row9 col1\" >26</td>\n",
       "    </tr>\n",
       "    <tr>\n",
       "      <td id=\"T_0d48d_row10_col0\" class=\"data row10 col0\" >Soft Tissue Tumors and Sarcomas, NOS</td>\n",
       "      <td id=\"T_0d48d_row10_col1\" class=\"data row10 col1\" >14</td>\n",
       "    </tr>\n",
       "    <tr>\n",
       "      <td id=\"T_0d48d_row11_col0\" class=\"data row11 col0\" >Neoplasms, NOS</td>\n",
       "      <td id=\"T_0d48d_row11_col1\" class=\"data row11 col1\" >12</td>\n",
       "    </tr>\n",
       "    <tr>\n",
       "      <td id=\"T_0d48d_row12_col0\" class=\"data row12 col0\" >Trophoblastic neoplasms</td>\n",
       "      <td id=\"T_0d48d_row12_col1\" class=\"data row12 col1\" >13</td>\n",
       "    </tr>\n",
       "    <tr>\n",
       "      <td id=\"T_0d48d_row13_col0\" class=\"data row13 col0\" >Mesonephromas</td>\n",
       "      <td id=\"T_0d48d_row13_col1\" class=\"data row13 col1\" >5</td>\n",
       "    </tr>\n",
       "    <tr>\n",
       "      <td id=\"T_0d48d_row14_col0\" class=\"data row14 col0\" >Neuroepitheliomatous Neoplasms</td>\n",
       "      <td id=\"T_0d48d_row14_col1\" class=\"data row14 col1\" >1</td>\n",
       "    </tr>\n",
       "  </tbody>\n",
       "</table>\n",
       "<style type=\"text/css\">\n",
       "#T_918af_ th {\n",
       "  background-color: #000066;\n",
       "  color: white;\n",
       "  text-align: left;\n",
       "}\n",
       "#T_918af_ td {\n",
       "  text-align: left;\n",
       "  border-bottom: 1px solid black;\n",
       "}\n",
       "</style>\n",
       "<table id=\"T_918af_\" style='display:inline'>\n",
       "  <thead>\n",
       "    <tr>\n",
       "      <th class=\"col_heading level0 col0\" >primary_diagnosis_site</th>\n",
       "      <th class=\"col_heading level0 col1\" >count</th>\n",
       "    </tr>\n",
       "  </thead>\n",
       "  <tbody>\n",
       "    <tr>\n",
       "      <td id=\"T_918af_row0_col0\" class=\"data row0 col0\" >Cervix uteri</td>\n",
       "      <td id=\"T_918af_row0_col1\" class=\"data row0 col1\" >915</td>\n",
       "    </tr>\n",
       "    <tr>\n",
       "      <td id=\"T_918af_row1_col0\" class=\"data row1 col0\" >Uterus, NOS</td>\n",
       "      <td id=\"T_918af_row1_col1\" class=\"data row1 col1\" >1998</td>\n",
       "    </tr>\n",
       "    <tr>\n",
       "      <td id=\"T_918af_row2_col0\" class=\"data row2 col0\" >Uterus</td>\n",
       "      <td id=\"T_918af_row2_col1\" class=\"data row2 col1\" >867</td>\n",
       "    </tr>\n",
       "    <tr>\n",
       "      <td id=\"T_918af_row3_col0\" class=\"data row3 col0\" >Cervix</td>\n",
       "      <td id=\"T_918af_row3_col1\" class=\"data row3 col1\" >307</td>\n",
       "    </tr>\n",
       "  </tbody>\n",
       "</table>\n"
      ]
     },
     "metadata": {},
     "output_type": "display_data"
    },
    {
     "data": {
      "text/plain": []
     },
     "execution_count": 9,
     "metadata": {},
     "output_type": "execute_result"
    }
   ],
   "source": [
    "Q('ResearchSubject.primary_diagnosis_site IN (\"uterus, NOS\", \"uterus\", \"Cervix\", \"Cervix uteri\")').researchsubject.count.run()"
   ]
  },
  {
   "cell_type": "code",
   "execution_count": 31,
   "id": "fa62f9a5",
   "metadata": {},
   "outputs": [
    {
     "data": {
      "text/html": [
       "<pre style=\"white-space:pre;overflow-x:auto;line-height:normal;font-family:Menlo,'DejaVu Sans Mono',consolas,'Courier New',monospace\">Getting results from database\n",
       "\n",
       "</pre>\n"
      ],
      "text/plain": [
       "Getting results from database\n",
       "\n"
      ]
     },
     "metadata": {},
     "output_type": "display_data"
    },
    {
     "name": "stdout",
     "output_type": "stream",
     "text": [
      "Total execution time: 3571 ms\n"
     ]
    },
    {
     "data": {
      "text/html": [
       "<pre style=\"white-space:pre;overflow-x:auto;line-height:normal;font-family:Menlo,'DejaVu Sans Mono',consolas,'Courier New',monospace\">    total : <span style=\"color: #008080; text-decoration-color: #008080; font-weight: bold\">4087</span>    \n",
       "</pre>\n"
      ],
      "text/plain": [
       "    total : \u001b[1;36m4087\u001b[0m    \n"
      ]
     },
     "metadata": {},
     "output_type": "display_data"
    },
    {
     "data": {
      "text/html": [
       "<pre style=\"white-space:pre;overflow-x:auto;line-height:normal;font-family:Menlo,'DejaVu Sans Mono',consolas,'Courier New',monospace\">   files : <span style=\"color: #008080; text-decoration-color: #008080; font-weight: bold\">299493</span>   \n",
       "</pre>\n"
      ],
      "text/plain": [
       "   files : \u001b[1;36m299493\u001b[0m   \n"
      ]
     },
     "metadata": {},
     "output_type": "display_data"
    },
    {
     "data": {
      "text/html": [
       "<style type=\"text/css\">\n",
       "#T_ac4d5_ th {\n",
       "  background-color: #000066;\n",
       "  color: white;\n",
       "  text-align: left;\n",
       "}\n",
       "#T_ac4d5_ td {\n",
       "  text-align: left;\n",
       "  border-bottom: 1px solid black;\n",
       "}\n",
       "</style>\n",
       "<table id=\"T_ac4d5_\" style='display:inline'>\n",
       "  <thead>\n",
       "    <tr>\n",
       "      <th class=\"col_heading level0 col0\" >system</th>\n",
       "      <th class=\"col_heading level0 col1\" >count</th>\n",
       "    </tr>\n",
       "  </thead>\n",
       "  <tbody>\n",
       "    <tr>\n",
       "      <td id=\"T_ac4d5_row0_col0\" class=\"data row0 col0\" >GDC</td>\n",
       "      <td id=\"T_ac4d5_row0_col1\" class=\"data row0 col1\" >2809</td>\n",
       "    </tr>\n",
       "    <tr>\n",
       "      <td id=\"T_ac4d5_row1_col0\" class=\"data row1 col0\" >PDC</td>\n",
       "      <td id=\"T_ac4d5_row1_col1\" class=\"data row1 col1\" >104</td>\n",
       "    </tr>\n",
       "    <tr>\n",
       "      <td id=\"T_ac4d5_row2_col0\" class=\"data row2 col0\" >IDC</td>\n",
       "      <td id=\"T_ac4d5_row2_col1\" class=\"data row2 col1\" >1174</td>\n",
       "    </tr>\n",
       "  </tbody>\n",
       "</table>\n",
       "<style type=\"text/css\">\n",
       "#T_b3fb7_ th {\n",
       "  background-color: #000066;\n",
       "  color: white;\n",
       "  text-align: left;\n",
       "}\n",
       "#T_b3fb7_ td {\n",
       "  text-align: left;\n",
       "  border-bottom: 1px solid black;\n",
       "}\n",
       "</style>\n",
       "<table id=\"T_b3fb7_\" style='display:inline'>\n",
       "  <thead>\n",
       "    <tr>\n",
       "      <th class=\"col_heading level0 col0\" >primary_diagnosis_condition</th>\n",
       "      <th class=\"col_heading level0 col1\" >count</th>\n",
       "    </tr>\n",
       "  </thead>\n",
       "  <tbody>\n",
       "    <tr>\n",
       "      <td id=\"T_b3fb7_row0_col0\" class=\"data row0 col0\" >Myomatous Neoplasms</td>\n",
       "      <td id=\"T_b3fb7_row0_col1\" class=\"data row0 col1\" >183</td>\n",
       "    </tr>\n",
       "    <tr>\n",
       "      <td id=\"T_b3fb7_row1_col0\" class=\"data row1 col0\" >Adenomas and Adenocarcinomas</td>\n",
       "      <td id=\"T_b3fb7_row1_col1\" class=\"data row1 col1\" >1264</td>\n",
       "    </tr>\n",
       "    <tr>\n",
       "      <td id=\"T_b3fb7_row2_col0\" class=\"data row2 col0\" >Squamous Cell Neoplasms</td>\n",
       "      <td id=\"T_b3fb7_row2_col1\" class=\"data row2 col1\" >609</td>\n",
       "    </tr>\n",
       "    <tr>\n",
       "      <td id=\"T_b3fb7_row3_col0\" class=\"data row3 col0\" >Not Reported</td>\n",
       "      <td id=\"T_b3fb7_row3_col1\" class=\"data row3 col1\" >12</td>\n",
       "    </tr>\n",
       "    <tr>\n",
       "      <td id=\"T_b3fb7_row4_col0\" class=\"data row4 col0\" >Complex Mixed and Stromal Neoplasms</td>\n",
       "      <td id=\"T_b3fb7_row4_col1\" class=\"data row4 col1\" >294</td>\n",
       "    </tr>\n",
       "    <tr>\n",
       "      <td id=\"T_b3fb7_row5_col0\" class=\"data row5 col0\" >Uterine Corpus Endometrial Carcinoma</td>\n",
       "      <td id=\"T_b3fb7_row5_col1\" class=\"data row5 col1\" >104</td>\n",
       "    </tr>\n",
       "    <tr>\n",
       "      <td id=\"T_b3fb7_row6_col0\" class=\"data row6 col0\" >Cystic, Mucinous and Serous Neoplasms</td>\n",
       "      <td id=\"T_b3fb7_row6_col1\" class=\"data row6 col1\" >348</td>\n",
       "    </tr>\n",
       "    <tr>\n",
       "      <td id=\"T_b3fb7_row7_col0\" class=\"data row7 col0\" >None</td>\n",
       "      <td id=\"T_b3fb7_row7_col1\" class=\"data row7 col1\" >1175</td>\n",
       "    </tr>\n",
       "    <tr>\n",
       "      <td id=\"T_b3fb7_row8_col0\" class=\"data row8 col0\" >Neoplasms, NOS</td>\n",
       "      <td id=\"T_b3fb7_row8_col1\" class=\"data row8 col1\" >12</td>\n",
       "    </tr>\n",
       "    <tr>\n",
       "      <td id=\"T_b3fb7_row9_col0\" class=\"data row9 col0\" >Trophoblastic neoplasms</td>\n",
       "      <td id=\"T_b3fb7_row9_col1\" class=\"data row9 col1\" >13</td>\n",
       "    </tr>\n",
       "    <tr>\n",
       "      <td id=\"T_b3fb7_row10_col0\" class=\"data row10 col0\" >Epithelial Neoplasms, NOS</td>\n",
       "      <td id=\"T_b3fb7_row10_col1\" class=\"data row10 col1\" >26</td>\n",
       "    </tr>\n",
       "    <tr>\n",
       "      <td id=\"T_b3fb7_row11_col0\" class=\"data row11 col0\" >Mesonephromas</td>\n",
       "      <td id=\"T_b3fb7_row11_col1\" class=\"data row11 col1\" >5</td>\n",
       "    </tr>\n",
       "    <tr>\n",
       "      <td id=\"T_b3fb7_row12_col0\" class=\"data row12 col0\" >Complex Epithelial Neoplasms</td>\n",
       "      <td id=\"T_b3fb7_row12_col1\" class=\"data row12 col1\" >27</td>\n",
       "    </tr>\n",
       "    <tr>\n",
       "      <td id=\"T_b3fb7_row13_col0\" class=\"data row13 col0\" >Soft Tissue Tumors and Sarcomas, NOS</td>\n",
       "      <td id=\"T_b3fb7_row13_col1\" class=\"data row13 col1\" >14</td>\n",
       "    </tr>\n",
       "    <tr>\n",
       "      <td id=\"T_b3fb7_row14_col0\" class=\"data row14 col0\" >Neuroepitheliomatous Neoplasms</td>\n",
       "      <td id=\"T_b3fb7_row14_col1\" class=\"data row14 col1\" >1</td>\n",
       "    </tr>\n",
       "  </tbody>\n",
       "</table>\n",
       "<style type=\"text/css\">\n",
       "#T_dddf3_ th {\n",
       "  background-color: #000066;\n",
       "  color: white;\n",
       "  text-align: left;\n",
       "}\n",
       "#T_dddf3_ td {\n",
       "  text-align: left;\n",
       "  border-bottom: 1px solid black;\n",
       "}\n",
       "</style>\n",
       "<table id=\"T_dddf3_\" style='display:inline'>\n",
       "  <thead>\n",
       "    <tr>\n",
       "      <th class=\"col_heading level0 col0\" >primary_diagnosis_site</th>\n",
       "      <th class=\"col_heading level0 col1\" >count</th>\n",
       "    </tr>\n",
       "  </thead>\n",
       "  <tbody>\n",
       "    <tr>\n",
       "      <td id=\"T_dddf3_row0_col0\" class=\"data row0 col0\" >Cervix uteri</td>\n",
       "      <td id=\"T_dddf3_row0_col1\" class=\"data row0 col1\" >915</td>\n",
       "    </tr>\n",
       "    <tr>\n",
       "      <td id=\"T_dddf3_row1_col0\" class=\"data row1 col0\" >Uterus, NOS</td>\n",
       "      <td id=\"T_dddf3_row1_col1\" class=\"data row1 col1\" >1998</td>\n",
       "    </tr>\n",
       "    <tr>\n",
       "      <td id=\"T_dddf3_row2_col0\" class=\"data row2 col0\" >Uterus</td>\n",
       "      <td id=\"T_dddf3_row2_col1\" class=\"data row2 col1\" >867</td>\n",
       "    </tr>\n",
       "    <tr>\n",
       "      <td id=\"T_dddf3_row3_col0\" class=\"data row3 col0\" >Cervix</td>\n",
       "      <td id=\"T_dddf3_row3_col1\" class=\"data row3 col1\" >307</td>\n",
       "    </tr>\n",
       "  </tbody>\n",
       "</table>\n"
      ]
     },
     "metadata": {},
     "output_type": "display_data"
    },
    {
     "data": {
      "text/plain": []
     },
     "execution_count": 31,
     "metadata": {},
     "output_type": "execute_result"
    }
   ],
   "source": [
    "Q(\"\"\"ResearchSubject.primary_diagnosis_site = \"uterus, NOS\" OR \n",
    "      ResearchSubject.primary_diagnosis_site = \"uterus\" OR \n",
    "      ResearchSubject.primary_diagnosis_site = \"Cervix\" OR \n",
    "      ResearchSubject.primary_diagnosis_site = \"Cervix uteri\" \"\"\").researchsubject.count.run()"
   ]
  },
  {
   "cell_type": "code",
   "execution_count": 33,
   "id": "14710d0b",
   "metadata": {},
   "outputs": [
    {
     "data": {
      "text/html": [
       "<pre style=\"white-space:pre;overflow-x:auto;line-height:normal;font-family:Menlo,'DejaVu Sans Mono',consolas,'Courier New',monospace\">Getting results from database\n",
       "\n",
       "</pre>\n"
      ],
      "text/plain": [
       "Getting results from database\n",
       "\n"
      ]
     },
     "metadata": {},
     "output_type": "display_data"
    },
    {
     "name": "stdout",
     "output_type": "stream",
     "text": [
      "Total execution time: 3540 ms\n"
     ]
    },
    {
     "data": {
      "text/html": [
       "<pre style=\"white-space:pre;overflow-x:auto;line-height:normal;font-family:Menlo,'DejaVu Sans Mono',consolas,'Courier New',monospace\">    total : <span style=\"color: #008080; text-decoration-color: #008080; font-weight: bold\">4087</span>    \n",
       "</pre>\n"
      ],
      "text/plain": [
       "    total : \u001b[1;36m4087\u001b[0m    \n"
      ]
     },
     "metadata": {},
     "output_type": "display_data"
    },
    {
     "data": {
      "text/html": [
       "<pre style=\"white-space:pre;overflow-x:auto;line-height:normal;font-family:Menlo,'DejaVu Sans Mono',consolas,'Courier New',monospace\">   files : <span style=\"color: #008080; text-decoration-color: #008080; font-weight: bold\">299493</span>   \n",
       "</pre>\n"
      ],
      "text/plain": [
       "   files : \u001b[1;36m299493\u001b[0m   \n"
      ]
     },
     "metadata": {},
     "output_type": "display_data"
    },
    {
     "data": {
      "text/html": [
       "<style type=\"text/css\">\n",
       "#T_7748e_ th {\n",
       "  background-color: #000066;\n",
       "  color: white;\n",
       "  text-align: left;\n",
       "}\n",
       "#T_7748e_ td {\n",
       "  text-align: left;\n",
       "  border-bottom: 1px solid black;\n",
       "}\n",
       "</style>\n",
       "<table id=\"T_7748e_\" style='display:inline'>\n",
       "  <thead>\n",
       "    <tr>\n",
       "      <th class=\"col_heading level0 col0\" >system</th>\n",
       "      <th class=\"col_heading level0 col1\" >count</th>\n",
       "    </tr>\n",
       "  </thead>\n",
       "  <tbody>\n",
       "    <tr>\n",
       "      <td id=\"T_7748e_row0_col0\" class=\"data row0 col0\" >GDC</td>\n",
       "      <td id=\"T_7748e_row0_col1\" class=\"data row0 col1\" >2809</td>\n",
       "    </tr>\n",
       "    <tr>\n",
       "      <td id=\"T_7748e_row1_col0\" class=\"data row1 col0\" >PDC</td>\n",
       "      <td id=\"T_7748e_row1_col1\" class=\"data row1 col1\" >104</td>\n",
       "    </tr>\n",
       "    <tr>\n",
       "      <td id=\"T_7748e_row2_col0\" class=\"data row2 col0\" >IDC</td>\n",
       "      <td id=\"T_7748e_row2_col1\" class=\"data row2 col1\" >1174</td>\n",
       "    </tr>\n",
       "  </tbody>\n",
       "</table>\n",
       "<style type=\"text/css\">\n",
       "#T_5403c_ th {\n",
       "  background-color: #000066;\n",
       "  color: white;\n",
       "  text-align: left;\n",
       "}\n",
       "#T_5403c_ td {\n",
       "  text-align: left;\n",
       "  border-bottom: 1px solid black;\n",
       "}\n",
       "</style>\n",
       "<table id=\"T_5403c_\" style='display:inline'>\n",
       "  <thead>\n",
       "    <tr>\n",
       "      <th class=\"col_heading level0 col0\" >primary_diagnosis_condition</th>\n",
       "      <th class=\"col_heading level0 col1\" >count</th>\n",
       "    </tr>\n",
       "  </thead>\n",
       "  <tbody>\n",
       "    <tr>\n",
       "      <td id=\"T_5403c_row0_col0\" class=\"data row0 col0\" >Myomatous Neoplasms</td>\n",
       "      <td id=\"T_5403c_row0_col1\" class=\"data row0 col1\" >183</td>\n",
       "    </tr>\n",
       "    <tr>\n",
       "      <td id=\"T_5403c_row1_col0\" class=\"data row1 col0\" >Adenomas and Adenocarcinomas</td>\n",
       "      <td id=\"T_5403c_row1_col1\" class=\"data row1 col1\" >1264</td>\n",
       "    </tr>\n",
       "    <tr>\n",
       "      <td id=\"T_5403c_row2_col0\" class=\"data row2 col0\" >Squamous Cell Neoplasms</td>\n",
       "      <td id=\"T_5403c_row2_col1\" class=\"data row2 col1\" >609</td>\n",
       "    </tr>\n",
       "    <tr>\n",
       "      <td id=\"T_5403c_row3_col0\" class=\"data row3 col0\" >Not Reported</td>\n",
       "      <td id=\"T_5403c_row3_col1\" class=\"data row3 col1\" >12</td>\n",
       "    </tr>\n",
       "    <tr>\n",
       "      <td id=\"T_5403c_row4_col0\" class=\"data row4 col0\" >Complex Mixed and Stromal Neoplasms</td>\n",
       "      <td id=\"T_5403c_row4_col1\" class=\"data row4 col1\" >294</td>\n",
       "    </tr>\n",
       "    <tr>\n",
       "      <td id=\"T_5403c_row5_col0\" class=\"data row5 col0\" >Uterine Corpus Endometrial Carcinoma</td>\n",
       "      <td id=\"T_5403c_row5_col1\" class=\"data row5 col1\" >104</td>\n",
       "    </tr>\n",
       "    <tr>\n",
       "      <td id=\"T_5403c_row6_col0\" class=\"data row6 col0\" >Cystic, Mucinous and Serous Neoplasms</td>\n",
       "      <td id=\"T_5403c_row6_col1\" class=\"data row6 col1\" >348</td>\n",
       "    </tr>\n",
       "    <tr>\n",
       "      <td id=\"T_5403c_row7_col0\" class=\"data row7 col0\" >None</td>\n",
       "      <td id=\"T_5403c_row7_col1\" class=\"data row7 col1\" >1175</td>\n",
       "    </tr>\n",
       "    <tr>\n",
       "      <td id=\"T_5403c_row8_col0\" class=\"data row8 col0\" >Neoplasms, NOS</td>\n",
       "      <td id=\"T_5403c_row8_col1\" class=\"data row8 col1\" >12</td>\n",
       "    </tr>\n",
       "    <tr>\n",
       "      <td id=\"T_5403c_row9_col0\" class=\"data row9 col0\" >Trophoblastic neoplasms</td>\n",
       "      <td id=\"T_5403c_row9_col1\" class=\"data row9 col1\" >13</td>\n",
       "    </tr>\n",
       "    <tr>\n",
       "      <td id=\"T_5403c_row10_col0\" class=\"data row10 col0\" >Epithelial Neoplasms, NOS</td>\n",
       "      <td id=\"T_5403c_row10_col1\" class=\"data row10 col1\" >26</td>\n",
       "    </tr>\n",
       "    <tr>\n",
       "      <td id=\"T_5403c_row11_col0\" class=\"data row11 col0\" >Mesonephromas</td>\n",
       "      <td id=\"T_5403c_row11_col1\" class=\"data row11 col1\" >5</td>\n",
       "    </tr>\n",
       "    <tr>\n",
       "      <td id=\"T_5403c_row12_col0\" class=\"data row12 col0\" >Complex Epithelial Neoplasms</td>\n",
       "      <td id=\"T_5403c_row12_col1\" class=\"data row12 col1\" >27</td>\n",
       "    </tr>\n",
       "    <tr>\n",
       "      <td id=\"T_5403c_row13_col0\" class=\"data row13 col0\" >Soft Tissue Tumors and Sarcomas, NOS</td>\n",
       "      <td id=\"T_5403c_row13_col1\" class=\"data row13 col1\" >14</td>\n",
       "    </tr>\n",
       "    <tr>\n",
       "      <td id=\"T_5403c_row14_col0\" class=\"data row14 col0\" >Neuroepitheliomatous Neoplasms</td>\n",
       "      <td id=\"T_5403c_row14_col1\" class=\"data row14 col1\" >1</td>\n",
       "    </tr>\n",
       "  </tbody>\n",
       "</table>\n",
       "<style type=\"text/css\">\n",
       "#T_a7c5c_ th {\n",
       "  background-color: #000066;\n",
       "  color: white;\n",
       "  text-align: left;\n",
       "}\n",
       "#T_a7c5c_ td {\n",
       "  text-align: left;\n",
       "  border-bottom: 1px solid black;\n",
       "}\n",
       "</style>\n",
       "<table id=\"T_a7c5c_\" style='display:inline'>\n",
       "  <thead>\n",
       "    <tr>\n",
       "      <th class=\"col_heading level0 col0\" >primary_diagnosis_site</th>\n",
       "      <th class=\"col_heading level0 col1\" >count</th>\n",
       "    </tr>\n",
       "  </thead>\n",
       "  <tbody>\n",
       "    <tr>\n",
       "      <td id=\"T_a7c5c_row0_col0\" class=\"data row0 col0\" >Cervix uteri</td>\n",
       "      <td id=\"T_a7c5c_row0_col1\" class=\"data row0 col1\" >915</td>\n",
       "    </tr>\n",
       "    <tr>\n",
       "      <td id=\"T_a7c5c_row1_col0\" class=\"data row1 col0\" >Uterus, NOS</td>\n",
       "      <td id=\"T_a7c5c_row1_col1\" class=\"data row1 col1\" >1998</td>\n",
       "    </tr>\n",
       "    <tr>\n",
       "      <td id=\"T_a7c5c_row2_col0\" class=\"data row2 col0\" >Uterus</td>\n",
       "      <td id=\"T_a7c5c_row2_col1\" class=\"data row2 col1\" >867</td>\n",
       "    </tr>\n",
       "    <tr>\n",
       "      <td id=\"T_a7c5c_row3_col0\" class=\"data row3 col0\" >Cervix</td>\n",
       "      <td id=\"T_a7c5c_row3_col1\" class=\"data row3 col1\" >307</td>\n",
       "    </tr>\n",
       "  </tbody>\n",
       "</table>\n"
      ]
     },
     "metadata": {},
     "output_type": "display_data"
    },
    {
     "data": {
      "text/plain": []
     },
     "execution_count": 33,
     "metadata": {},
     "output_type": "execute_result"
    }
   ],
   "source": [
    "Q('ResearchSubject.primary_diagnosis_site = \"uterus, NOS\" OR ResearchSubject.primary_diagnosis_site = \"uterus\" OR ResearchSubject.primary_diagnosis_site = \"Cervix\" OR ResearchSubject.primary_diagnosis_site = \"Cervix uteri\"').researchsubject.count.run()"
   ]
  },
  {
   "cell_type": "code",
   "execution_count": 11,
   "id": "073b5d55",
   "metadata": {},
   "outputs": [
    {
     "data": {
      "text/html": [
       "<pre style=\"white-space:pre;overflow-x:auto;line-height:normal;font-family:Menlo,'DejaVu Sans Mono',consolas,'Courier New',monospace\">Getting results from database\n",
       "\n",
       "</pre>\n"
      ],
      "text/plain": [
       "Getting results from database\n",
       "\n"
      ]
     },
     "metadata": {},
     "output_type": "display_data"
    },
    {
     "name": "stdout",
     "output_type": "stream",
     "text": [
      "Total execution time: 3386 ms\n"
     ]
    },
    {
     "data": {
      "text/html": [
       "<pre style=\"white-space:pre;overflow-x:auto;line-height:normal;font-family:Menlo,'DejaVu Sans Mono',consolas,'Courier New',monospace\">    total : <span style=\"color: #008080; text-decoration-color: #008080; font-weight: bold\">4087</span>    \n",
       "</pre>\n"
      ],
      "text/plain": [
       "    total : \u001b[1;36m4087\u001b[0m    \n"
      ]
     },
     "metadata": {},
     "output_type": "display_data"
    },
    {
     "data": {
      "text/html": [
       "<pre style=\"white-space:pre;overflow-x:auto;line-height:normal;font-family:Menlo,'DejaVu Sans Mono',consolas,'Courier New',monospace\">   files : <span style=\"color: #008080; text-decoration-color: #008080; font-weight: bold\">299493</span>   \n",
       "</pre>\n"
      ],
      "text/plain": [
       "   files : \u001b[1;36m299493\u001b[0m   \n"
      ]
     },
     "metadata": {},
     "output_type": "display_data"
    },
    {
     "data": {
      "text/html": [
       "<style type=\"text/css\">\n",
       "#T_840b0_ th {\n",
       "  background-color: #000066;\n",
       "  color: white;\n",
       "  text-align: left;\n",
       "}\n",
       "#T_840b0_ td {\n",
       "  text-align: left;\n",
       "  border-bottom: 1px solid black;\n",
       "}\n",
       "</style>\n",
       "<table id=\"T_840b0_\" style='display:inline'>\n",
       "  <thead>\n",
       "    <tr>\n",
       "      <th class=\"col_heading level0 col0\" >system</th>\n",
       "      <th class=\"col_heading level0 col1\" >count</th>\n",
       "    </tr>\n",
       "  </thead>\n",
       "  <tbody>\n",
       "    <tr>\n",
       "      <td id=\"T_840b0_row0_col0\" class=\"data row0 col0\" >GDC</td>\n",
       "      <td id=\"T_840b0_row0_col1\" class=\"data row0 col1\" >2809</td>\n",
       "    </tr>\n",
       "    <tr>\n",
       "      <td id=\"T_840b0_row1_col0\" class=\"data row1 col0\" >PDC</td>\n",
       "      <td id=\"T_840b0_row1_col1\" class=\"data row1 col1\" >104</td>\n",
       "    </tr>\n",
       "    <tr>\n",
       "      <td id=\"T_840b0_row2_col0\" class=\"data row2 col0\" >IDC</td>\n",
       "      <td id=\"T_840b0_row2_col1\" class=\"data row2 col1\" >1174</td>\n",
       "    </tr>\n",
       "  </tbody>\n",
       "</table>\n",
       "<style type=\"text/css\">\n",
       "#T_34478_ th {\n",
       "  background-color: #000066;\n",
       "  color: white;\n",
       "  text-align: left;\n",
       "}\n",
       "#T_34478_ td {\n",
       "  text-align: left;\n",
       "  border-bottom: 1px solid black;\n",
       "}\n",
       "</style>\n",
       "<table id=\"T_34478_\" style='display:inline'>\n",
       "  <thead>\n",
       "    <tr>\n",
       "      <th class=\"col_heading level0 col0\" >primary_diagnosis_condition</th>\n",
       "      <th class=\"col_heading level0 col1\" >count</th>\n",
       "    </tr>\n",
       "  </thead>\n",
       "  <tbody>\n",
       "    <tr>\n",
       "      <td id=\"T_34478_row0_col0\" class=\"data row0 col0\" >Myomatous Neoplasms</td>\n",
       "      <td id=\"T_34478_row0_col1\" class=\"data row0 col1\" >183</td>\n",
       "    </tr>\n",
       "    <tr>\n",
       "      <td id=\"T_34478_row1_col0\" class=\"data row1 col0\" >Adenomas and Adenocarcinomas</td>\n",
       "      <td id=\"T_34478_row1_col1\" class=\"data row1 col1\" >1264</td>\n",
       "    </tr>\n",
       "    <tr>\n",
       "      <td id=\"T_34478_row2_col0\" class=\"data row2 col0\" >Squamous Cell Neoplasms</td>\n",
       "      <td id=\"T_34478_row2_col1\" class=\"data row2 col1\" >609</td>\n",
       "    </tr>\n",
       "    <tr>\n",
       "      <td id=\"T_34478_row3_col0\" class=\"data row3 col0\" >Not Reported</td>\n",
       "      <td id=\"T_34478_row3_col1\" class=\"data row3 col1\" >12</td>\n",
       "    </tr>\n",
       "    <tr>\n",
       "      <td id=\"T_34478_row4_col0\" class=\"data row4 col0\" >Complex Mixed and Stromal Neoplasms</td>\n",
       "      <td id=\"T_34478_row4_col1\" class=\"data row4 col1\" >294</td>\n",
       "    </tr>\n",
       "    <tr>\n",
       "      <td id=\"T_34478_row5_col0\" class=\"data row5 col0\" >Uterine Corpus Endometrial Carcinoma</td>\n",
       "      <td id=\"T_34478_row5_col1\" class=\"data row5 col1\" >104</td>\n",
       "    </tr>\n",
       "    <tr>\n",
       "      <td id=\"T_34478_row6_col0\" class=\"data row6 col0\" >Cystic, Mucinous and Serous Neoplasms</td>\n",
       "      <td id=\"T_34478_row6_col1\" class=\"data row6 col1\" >348</td>\n",
       "    </tr>\n",
       "    <tr>\n",
       "      <td id=\"T_34478_row7_col0\" class=\"data row7 col0\" >None</td>\n",
       "      <td id=\"T_34478_row7_col1\" class=\"data row7 col1\" >1175</td>\n",
       "    </tr>\n",
       "    <tr>\n",
       "      <td id=\"T_34478_row8_col0\" class=\"data row8 col0\" >Neoplasms, NOS</td>\n",
       "      <td id=\"T_34478_row8_col1\" class=\"data row8 col1\" >12</td>\n",
       "    </tr>\n",
       "    <tr>\n",
       "      <td id=\"T_34478_row9_col0\" class=\"data row9 col0\" >Trophoblastic neoplasms</td>\n",
       "      <td id=\"T_34478_row9_col1\" class=\"data row9 col1\" >13</td>\n",
       "    </tr>\n",
       "    <tr>\n",
       "      <td id=\"T_34478_row10_col0\" class=\"data row10 col0\" >Epithelial Neoplasms, NOS</td>\n",
       "      <td id=\"T_34478_row10_col1\" class=\"data row10 col1\" >26</td>\n",
       "    </tr>\n",
       "    <tr>\n",
       "      <td id=\"T_34478_row11_col0\" class=\"data row11 col0\" >Mesonephromas</td>\n",
       "      <td id=\"T_34478_row11_col1\" class=\"data row11 col1\" >5</td>\n",
       "    </tr>\n",
       "    <tr>\n",
       "      <td id=\"T_34478_row12_col0\" class=\"data row12 col0\" >Complex Epithelial Neoplasms</td>\n",
       "      <td id=\"T_34478_row12_col1\" class=\"data row12 col1\" >27</td>\n",
       "    </tr>\n",
       "    <tr>\n",
       "      <td id=\"T_34478_row13_col0\" class=\"data row13 col0\" >Soft Tissue Tumors and Sarcomas, NOS</td>\n",
       "      <td id=\"T_34478_row13_col1\" class=\"data row13 col1\" >14</td>\n",
       "    </tr>\n",
       "    <tr>\n",
       "      <td id=\"T_34478_row14_col0\" class=\"data row14 col0\" >Neuroepitheliomatous Neoplasms</td>\n",
       "      <td id=\"T_34478_row14_col1\" class=\"data row14 col1\" >1</td>\n",
       "    </tr>\n",
       "  </tbody>\n",
       "</table>\n",
       "<style type=\"text/css\">\n",
       "#T_d82d4_ th {\n",
       "  background-color: #000066;\n",
       "  color: white;\n",
       "  text-align: left;\n",
       "}\n",
       "#T_d82d4_ td {\n",
       "  text-align: left;\n",
       "  border-bottom: 1px solid black;\n",
       "}\n",
       "</style>\n",
       "<table id=\"T_d82d4_\" style='display:inline'>\n",
       "  <thead>\n",
       "    <tr>\n",
       "      <th class=\"col_heading level0 col0\" >primary_diagnosis_site</th>\n",
       "      <th class=\"col_heading level0 col1\" >count</th>\n",
       "    </tr>\n",
       "  </thead>\n",
       "  <tbody>\n",
       "    <tr>\n",
       "      <td id=\"T_d82d4_row0_col0\" class=\"data row0 col0\" >Cervix uteri</td>\n",
       "      <td id=\"T_d82d4_row0_col1\" class=\"data row0 col1\" >915</td>\n",
       "    </tr>\n",
       "    <tr>\n",
       "      <td id=\"T_d82d4_row1_col0\" class=\"data row1 col0\" >Uterus, NOS</td>\n",
       "      <td id=\"T_d82d4_row1_col1\" class=\"data row1 col1\" >1998</td>\n",
       "    </tr>\n",
       "    <tr>\n",
       "      <td id=\"T_d82d4_row2_col0\" class=\"data row2 col0\" >Uterus</td>\n",
       "      <td id=\"T_d82d4_row2_col1\" class=\"data row2 col1\" >867</td>\n",
       "    </tr>\n",
       "    <tr>\n",
       "      <td id=\"T_d82d4_row3_col0\" class=\"data row3 col0\" >Cervix</td>\n",
       "      <td id=\"T_d82d4_row3_col1\" class=\"data row3 col1\" >307</td>\n",
       "    </tr>\n",
       "  </tbody>\n",
       "</table>\n"
      ]
     },
     "metadata": {},
     "output_type": "display_data"
    },
    {
     "data": {
      "text/plain": []
     },
     "execution_count": 11,
     "metadata": {},
     "output_type": "execute_result"
    }
   ],
   "source": [
    "Q('ResearchSubject.primary_diagnosis_site = \"uterus, NOS\" OR ResearchSubject.primary_diagnosis_site = \"uterus\" OR ResearchSubject.primary_diagnosis_site = \"Cervix\" OR ResearchSubject.primary_diagnosis_site = \"Cervix uteri\"').researchsubject.count.run()"
   ]
  },
  {
   "cell_type": "markdown",
   "id": "04045729",
   "metadata": {},
   "source": [
    "## `%` pattern matching\n",
    "\n",
    "While `OR` is useful for situations with only a few options, in some cases there are many terms that all have similar names, and it would be error prone to type out every variant. For instance, if we filter the unique terms in \"ResearchSubject.primary_diagnosis_site\" to everything with \"uter\" we get:"
   ]
  },
  {
   "cell_type": "code",
   "execution_count": 12,
   "id": "217f21dc",
   "metadata": {},
   "outputs": [
    {
     "data": {
      "text/plain": [
       "['Cervix uteri', 'Corpus uteri', 'Uterus', 'Uterus, NOS']"
      ]
     },
     "execution_count": 12,
     "metadata": {},
     "output_type": "execute_result"
    }
   ],
   "source": [
    "unique_terms(\"ResearchSubject.primary_diagnosis_site\").to_list(filters=\"uter\")"
   ]
  },
  {
   "cell_type": "markdown",
   "id": "9919d651",
   "metadata": {},
   "source": [
    "The `%` operator acts as a wildcard, and lets you run a query similar to the filter function in unique_terms:"
   ]
  },
  {
   "cell_type": "code",
   "execution_count": 13,
   "id": "fc7787f2",
   "metadata": {
    "scrolled": true
   },
   "outputs": [
    {
     "data": {
      "text/html": [
       "<pre style=\"white-space:pre;overflow-x:auto;line-height:normal;font-family:Menlo,'DejaVu Sans Mono',consolas,'Courier New',monospace\">Getting results from database\n",
       "\n",
       "</pre>\n"
      ],
      "text/plain": [
       "Getting results from database\n",
       "\n"
      ]
     },
     "metadata": {},
     "output_type": "display_data"
    },
    {
     "name": "stdout",
     "output_type": "stream",
     "text": [
      "Total execution time: 3705 ms\n"
     ]
    },
    {
     "data": {
      "text/html": [
       "<pre style=\"white-space:pre;overflow-x:auto;line-height:normal;font-family:Menlo,'DejaVu Sans Mono',consolas,'Courier New',monospace\">    total : <span style=\"color: #008080; text-decoration-color: #008080; font-weight: bold\">2865</span>    \n",
       "</pre>\n"
      ],
      "text/plain": [
       "    total : \u001b[1;36m2865\u001b[0m    \n"
      ]
     },
     "metadata": {},
     "output_type": "display_data"
    },
    {
     "data": {
      "text/html": [
       "<pre style=\"white-space:pre;overflow-x:auto;line-height:normal;font-family:Menlo,'DejaVu Sans Mono',consolas,'Courier New',monospace\">   files : <span style=\"color: #008080; text-decoration-color: #008080; font-weight: bold\">257140</span>   \n",
       "</pre>\n"
      ],
      "text/plain": [
       "   files : \u001b[1;36m257140\u001b[0m   \n"
      ]
     },
     "metadata": {},
     "output_type": "display_data"
    },
    {
     "data": {
      "text/html": [
       "<style type=\"text/css\">\n",
       "#T_986f9_ th {\n",
       "  background-color: #000066;\n",
       "  color: white;\n",
       "  text-align: left;\n",
       "}\n",
       "#T_986f9_ td {\n",
       "  text-align: left;\n",
       "  border-bottom: 1px solid black;\n",
       "}\n",
       "</style>\n",
       "<table id=\"T_986f9_\" style='display:inline'>\n",
       "  <thead>\n",
       "    <tr>\n",
       "      <th class=\"col_heading level0 col0\" >system</th>\n",
       "      <th class=\"col_heading level0 col1\" >count</th>\n",
       "    </tr>\n",
       "  </thead>\n",
       "  <tbody>\n",
       "    <tr>\n",
       "      <td id=\"T_986f9_row0_col0\" class=\"data row0 col0\" >GDC</td>\n",
       "      <td id=\"T_986f9_row0_col1\" class=\"data row0 col1\" >1894</td>\n",
       "    </tr>\n",
       "    <tr>\n",
       "      <td id=\"T_986f9_row1_col0\" class=\"data row1 col0\" >PDC</td>\n",
       "      <td id=\"T_986f9_row1_col1\" class=\"data row1 col1\" >104</td>\n",
       "    </tr>\n",
       "    <tr>\n",
       "      <td id=\"T_986f9_row2_col0\" class=\"data row2 col0\" >IDC</td>\n",
       "      <td id=\"T_986f9_row2_col1\" class=\"data row2 col1\" >867</td>\n",
       "    </tr>\n",
       "  </tbody>\n",
       "</table>\n",
       "<style type=\"text/css\">\n",
       "#T_5dae5_ th {\n",
       "  background-color: #000066;\n",
       "  color: white;\n",
       "  text-align: left;\n",
       "}\n",
       "#T_5dae5_ td {\n",
       "  text-align: left;\n",
       "  border-bottom: 1px solid black;\n",
       "}\n",
       "</style>\n",
       "<table id=\"T_5dae5_\" style='display:inline'>\n",
       "  <thead>\n",
       "    <tr>\n",
       "      <th class=\"col_heading level0 col0\" >primary_diagnosis_condition</th>\n",
       "      <th class=\"col_heading level0 col1\" >count</th>\n",
       "    </tr>\n",
       "  </thead>\n",
       "  <tbody>\n",
       "    <tr>\n",
       "      <td id=\"T_5dae5_row0_col0\" class=\"data row0 col0\" >Adenomas and Adenocarcinomas</td>\n",
       "      <td id=\"T_5dae5_row0_col1\" class=\"data row0 col1\" >1037</td>\n",
       "    </tr>\n",
       "    <tr>\n",
       "      <td id=\"T_5dae5_row1_col0\" class=\"data row1 col0\" >Uterine Corpus Endometrial Carcinoma</td>\n",
       "      <td id=\"T_5dae5_row1_col1\" class=\"data row1 col1\" >104</td>\n",
       "    </tr>\n",
       "    <tr>\n",
       "      <td id=\"T_5dae5_row2_col0\" class=\"data row2 col0\" >Not Reported</td>\n",
       "      <td id=\"T_5dae5_row2_col1\" class=\"data row2 col1\" >12</td>\n",
       "    </tr>\n",
       "    <tr>\n",
       "      <td id=\"T_5dae5_row3_col0\" class=\"data row3 col0\" >Complex Mixed and Stromal Neoplasms</td>\n",
       "      <td id=\"T_5dae5_row3_col1\" class=\"data row3 col1\" >294</td>\n",
       "    </tr>\n",
       "    <tr>\n",
       "      <td id=\"T_5dae5_row4_col0\" class=\"data row4 col0\" >Myomatous Neoplasms</td>\n",
       "      <td id=\"T_5dae5_row4_col1\" class=\"data row4 col1\" >183</td>\n",
       "    </tr>\n",
       "    <tr>\n",
       "      <td id=\"T_5dae5_row5_col0\" class=\"data row5 col0\" >None</td>\n",
       "      <td id=\"T_5dae5_row5_col1\" class=\"data row5 col1\" >867</td>\n",
       "    </tr>\n",
       "    <tr>\n",
       "      <td id=\"T_5dae5_row6_col0\" class=\"data row6 col0\" >Cystic, Mucinous and Serous Neoplasms</td>\n",
       "      <td id=\"T_5dae5_row6_col1\" class=\"data row6 col1\" >313</td>\n",
       "    </tr>\n",
       "    <tr>\n",
       "      <td id=\"T_5dae5_row7_col0\" class=\"data row7 col0\" >Trophoblastic neoplasms</td>\n",
       "      <td id=\"T_5dae5_row7_col1\" class=\"data row7 col1\" >13</td>\n",
       "    </tr>\n",
       "    <tr>\n",
       "      <td id=\"T_5dae5_row8_col0\" class=\"data row8 col0\" >Epithelial Neoplasms, NOS</td>\n",
       "      <td id=\"T_5dae5_row8_col1\" class=\"data row8 col1\" >20</td>\n",
       "    </tr>\n",
       "    <tr>\n",
       "      <td id=\"T_5dae5_row9_col0\" class=\"data row9 col0\" >Mesonephromas</td>\n",
       "      <td id=\"T_5dae5_row9_col1\" class=\"data row9 col1\" >2</td>\n",
       "    </tr>\n",
       "    <tr>\n",
       "      <td id=\"T_5dae5_row10_col0\" class=\"data row10 col0\" >Soft Tissue Tumors and Sarcomas, NOS</td>\n",
       "      <td id=\"T_5dae5_row10_col1\" class=\"data row10 col1\" >14</td>\n",
       "    </tr>\n",
       "    <tr>\n",
       "      <td id=\"T_5dae5_row11_col0\" class=\"data row11 col0\" >Complex Epithelial Neoplasms</td>\n",
       "      <td id=\"T_5dae5_row11_col1\" class=\"data row11 col1\" >2</td>\n",
       "    </tr>\n",
       "    <tr>\n",
       "      <td id=\"T_5dae5_row12_col0\" class=\"data row12 col0\" >Neoplasms, NOS</td>\n",
       "      <td id=\"T_5dae5_row12_col1\" class=\"data row12 col1\" >3</td>\n",
       "    </tr>\n",
       "    <tr>\n",
       "      <td id=\"T_5dae5_row13_col0\" class=\"data row13 col0\" >Neuroepitheliomatous Neoplasms</td>\n",
       "      <td id=\"T_5dae5_row13_col1\" class=\"data row13 col1\" >1</td>\n",
       "    </tr>\n",
       "  </tbody>\n",
       "</table>\n",
       "<style type=\"text/css\">\n",
       "#T_66ae1_ th {\n",
       "  background-color: #000066;\n",
       "  color: white;\n",
       "  text-align: left;\n",
       "}\n",
       "#T_66ae1_ td {\n",
       "  text-align: left;\n",
       "  border-bottom: 1px solid black;\n",
       "}\n",
       "</style>\n",
       "<table id=\"T_66ae1_\" style='display:inline'>\n",
       "  <thead>\n",
       "    <tr>\n",
       "      <th class=\"col_heading level0 col0\" >primary_diagnosis_site</th>\n",
       "      <th class=\"col_heading level0 col1\" >count</th>\n",
       "    </tr>\n",
       "  </thead>\n",
       "  <tbody>\n",
       "    <tr>\n",
       "      <td id=\"T_66ae1_row0_col0\" class=\"data row0 col0\" >Uterus, NOS</td>\n",
       "      <td id=\"T_66ae1_row0_col1\" class=\"data row0 col1\" >1998</td>\n",
       "    </tr>\n",
       "    <tr>\n",
       "      <td id=\"T_66ae1_row1_col0\" class=\"data row1 col0\" >Uterus</td>\n",
       "      <td id=\"T_66ae1_row1_col1\" class=\"data row1 col1\" >867</td>\n",
       "    </tr>\n",
       "  </tbody>\n",
       "</table>\n"
      ]
     },
     "metadata": {},
     "output_type": "display_data"
    },
    {
     "data": {
      "text/plain": []
     },
     "execution_count": 13,
     "metadata": {},
     "output_type": "execute_result"
    }
   ],
   "source": [
    "Q('ResearchSubject.primary_diagnosis_site = \"uter%\"').researchsubject.count.run()"
   ]
  },
  {
   "cell_type": "markdown",
   "id": "a9ba2a18",
   "metadata": {},
   "source": [
    "Because the `%` is at the end of \"uter\" this query returns anything that starts with \"uter\", depending on your question, you may want to move the `%`, or add more of them:"
   ]
  },
  {
   "cell_type": "code",
   "execution_count": 14,
   "id": "bb9fefaa",
   "metadata": {
    "scrolled": true
   },
   "outputs": [
    {
     "data": {
      "text/html": [
       "<pre style=\"white-space:pre;overflow-x:auto;line-height:normal;font-family:Menlo,'DejaVu Sans Mono',consolas,'Courier New',monospace\">Getting results from database\n",
       "\n",
       "</pre>\n"
      ],
      "text/plain": [
       "Getting results from database\n",
       "\n"
      ]
     },
     "metadata": {},
     "output_type": "display_data"
    },
    {
     "name": "stdout",
     "output_type": "stream",
     "text": [
      "Total execution time: 3359 ms\n"
     ]
    },
    {
     "data": {
      "text/html": [
       "<pre style=\"white-space:pre;overflow-x:auto;line-height:normal;font-family:Menlo,'DejaVu Sans Mono',consolas,'Courier New',monospace\">     total : <span style=\"color: #008080; text-decoration-color: #008080; font-weight: bold\">0</span>      \n",
       "</pre>\n"
      ],
      "text/plain": [
       "     total : \u001b[1;36m0\u001b[0m      \n"
      ]
     },
     "metadata": {},
     "output_type": "display_data"
    },
    {
     "data": {
      "text/html": [
       "<pre style=\"white-space:pre;overflow-x:auto;line-height:normal;font-family:Menlo,'DejaVu Sans Mono',consolas,'Courier New',monospace\">     files : <span style=\"color: #008080; text-decoration-color: #008080; font-weight: bold\">0</span>      \n",
       "</pre>\n"
      ],
      "text/plain": [
       "     files : \u001b[1;36m0\u001b[0m      \n"
      ]
     },
     "metadata": {},
     "output_type": "display_data"
    },
    {
     "data": {
      "text/html": [
       "<style type=\"text/css\">\n",
       "#T_602ac_ th {\n",
       "  background-color: #000066;\n",
       "  color: white;\n",
       "  text-align: left;\n",
       "}\n",
       "#T_602ac_ td {\n",
       "  text-align: left;\n",
       "  border-bottom: 1px solid black;\n",
       "}\n",
       "</style>\n",
       "<table id=\"T_602ac_\" style='display:inline'>\n",
       "  <thead>\n",
       "  </thead>\n",
       "  <tbody>\n",
       "  </tbody>\n",
       "</table>\n",
       "<style type=\"text/css\">\n",
       "#T_63dfb_ th {\n",
       "  background-color: #000066;\n",
       "  color: white;\n",
       "  text-align: left;\n",
       "}\n",
       "#T_63dfb_ td {\n",
       "  text-align: left;\n",
       "  border-bottom: 1px solid black;\n",
       "}\n",
       "</style>\n",
       "<table id=\"T_63dfb_\" style='display:inline'>\n",
       "  <thead>\n",
       "  </thead>\n",
       "  <tbody>\n",
       "  </tbody>\n",
       "</table>\n",
       "<style type=\"text/css\">\n",
       "#T_7c509_ th {\n",
       "  background-color: #000066;\n",
       "  color: white;\n",
       "  text-align: left;\n",
       "}\n",
       "#T_7c509_ td {\n",
       "  text-align: left;\n",
       "  border-bottom: 1px solid black;\n",
       "}\n",
       "</style>\n",
       "<table id=\"T_7c509_\" style='display:inline'>\n",
       "  <thead>\n",
       "  </thead>\n",
       "  <tbody>\n",
       "  </tbody>\n",
       "</table>\n"
      ]
     },
     "metadata": {},
     "output_type": "display_data"
    },
    {
     "data": {
      "text/plain": []
     },
     "execution_count": 14,
     "metadata": {},
     "output_type": "execute_result"
    }
   ],
   "source": [
    "Q('ResearchSubject.primary_diagnosis_site = \"%uter\"').researchsubject.count.run()"
   ]
  },
  {
   "cell_type": "code",
   "execution_count": 15,
   "id": "1d4d3c70",
   "metadata": {
    "scrolled": true
   },
   "outputs": [
    {
     "data": {
      "text/html": [
       "<pre style=\"white-space:pre;overflow-x:auto;line-height:normal;font-family:Menlo,'DejaVu Sans Mono',consolas,'Courier New',monospace\">Getting results from database\n",
       "\n",
       "</pre>\n"
      ],
      "text/plain": [
       "Getting results from database\n",
       "\n"
      ]
     },
     "metadata": {},
     "output_type": "display_data"
    },
    {
     "name": "stdout",
     "output_type": "stream",
     "text": [
      "Total execution time: 3619 ms\n"
     ]
    },
    {
     "data": {
      "text/html": [
       "<pre style=\"white-space:pre;overflow-x:auto;line-height:normal;font-family:Menlo,'DejaVu Sans Mono',consolas,'Courier New',monospace\">    total : <span style=\"color: #008080; text-decoration-color: #008080; font-weight: bold\">4560</span>    \n",
       "</pre>\n"
      ],
      "text/plain": [
       "    total : \u001b[1;36m4560\u001b[0m    \n"
      ]
     },
     "metadata": {},
     "output_type": "display_data"
    },
    {
     "data": {
      "text/html": [
       "<pre style=\"white-space:pre;overflow-x:auto;line-height:normal;font-family:Menlo,'DejaVu Sans Mono',consolas,'Courier New',monospace\">   files : <span style=\"color: #008080; text-decoration-color: #008080; font-weight: bold\">302149</span>   \n",
       "</pre>\n"
      ],
      "text/plain": [
       "   files : \u001b[1;36m302149\u001b[0m   \n"
      ]
     },
     "metadata": {},
     "output_type": "display_data"
    },
    {
     "data": {
      "text/html": [
       "<style type=\"text/css\">\n",
       "#T_be6fd_ th {\n",
       "  background-color: #000066;\n",
       "  color: white;\n",
       "  text-align: left;\n",
       "}\n",
       "#T_be6fd_ td {\n",
       "  text-align: left;\n",
       "  border-bottom: 1px solid black;\n",
       "}\n",
       "</style>\n",
       "<table id=\"T_be6fd_\" style='display:inline'>\n",
       "  <thead>\n",
       "    <tr>\n",
       "      <th class=\"col_heading level0 col0\" >system</th>\n",
       "      <th class=\"col_heading level0 col1\" >count</th>\n",
       "    </tr>\n",
       "  </thead>\n",
       "  <tbody>\n",
       "    <tr>\n",
       "      <td id=\"T_be6fd_row0_col0\" class=\"data row0 col0\" >GDC</td>\n",
       "      <td id=\"T_be6fd_row0_col1\" class=\"data row0 col1\" >3589</td>\n",
       "    </tr>\n",
       "    <tr>\n",
       "      <td id=\"T_be6fd_row1_col0\" class=\"data row1 col0\" >PDC</td>\n",
       "      <td id=\"T_be6fd_row1_col1\" class=\"data row1 col1\" >104</td>\n",
       "    </tr>\n",
       "    <tr>\n",
       "      <td id=\"T_be6fd_row2_col0\" class=\"data row2 col0\" >IDC</td>\n",
       "      <td id=\"T_be6fd_row2_col1\" class=\"data row2 col1\" >867</td>\n",
       "    </tr>\n",
       "  </tbody>\n",
       "</table>\n",
       "<style type=\"text/css\">\n",
       "#T_fd1c2_ th {\n",
       "  background-color: #000066;\n",
       "  color: white;\n",
       "  text-align: left;\n",
       "}\n",
       "#T_fd1c2_ td {\n",
       "  text-align: left;\n",
       "  border-bottom: 1px solid black;\n",
       "}\n",
       "</style>\n",
       "<table id=\"T_fd1c2_\" style='display:inline'>\n",
       "  <thead>\n",
       "    <tr>\n",
       "      <th class=\"col_heading level0 col0\" >primary_diagnosis_condition</th>\n",
       "      <th class=\"col_heading level0 col1\" >count</th>\n",
       "    </tr>\n",
       "  </thead>\n",
       "  <tbody>\n",
       "    <tr>\n",
       "      <td id=\"T_fd1c2_row0_col0\" class=\"data row0 col0\" >Adenomas and Adenocarcinomas</td>\n",
       "      <td id=\"T_fd1c2_row0_col1\" class=\"data row0 col1\" >1671</td>\n",
       "    </tr>\n",
       "    <tr>\n",
       "      <td id=\"T_fd1c2_row1_col0\" class=\"data row1 col0\" >Cystic, Mucinous and Serous Neoplasms</td>\n",
       "      <td id=\"T_fd1c2_row1_col1\" class=\"data row1 col1\" >487</td>\n",
       "    </tr>\n",
       "    <tr>\n",
       "      <td id=\"T_fd1c2_row2_col0\" class=\"data row2 col0\" >Squamous Cell Neoplasms</td>\n",
       "      <td id=\"T_fd1c2_row2_col1\" class=\"data row2 col1\" >609</td>\n",
       "    </tr>\n",
       "    <tr>\n",
       "      <td id=\"T_fd1c2_row3_col0\" class=\"data row3 col0\" >Uterine Corpus Endometrial Carcinoma</td>\n",
       "      <td id=\"T_fd1c2_row3_col1\" class=\"data row3 col1\" >104</td>\n",
       "    </tr>\n",
       "    <tr>\n",
       "      <td id=\"T_fd1c2_row4_col0\" class=\"data row4 col0\" >Myomatous Neoplasms</td>\n",
       "      <td id=\"T_fd1c2_row4_col1\" class=\"data row4 col1\" >187</td>\n",
       "    </tr>\n",
       "    <tr>\n",
       "      <td id=\"T_fd1c2_row5_col0\" class=\"data row5 col0\" >Complex Mixed and Stromal Neoplasms</td>\n",
       "      <td id=\"T_fd1c2_row5_col1\" class=\"data row5 col1\" >320</td>\n",
       "    </tr>\n",
       "    <tr>\n",
       "      <td id=\"T_fd1c2_row6_col0\" class=\"data row6 col0\" >None</td>\n",
       "      <td id=\"T_fd1c2_row6_col1\" class=\"data row6 col1\" >868</td>\n",
       "    </tr>\n",
       "    <tr>\n",
       "      <td id=\"T_fd1c2_row7_col0\" class=\"data row7 col0\" >Complex Epithelial Neoplasms</td>\n",
       "      <td id=\"T_fd1c2_row7_col1\" class=\"data row7 col1\" >27</td>\n",
       "    </tr>\n",
       "    <tr>\n",
       "      <td id=\"T_fd1c2_row8_col0\" class=\"data row8 col0\" >Epithelial Neoplasms, NOS</td>\n",
       "      <td id=\"T_fd1c2_row8_col1\" class=\"data row8 col1\" >230</td>\n",
       "    </tr>\n",
       "    <tr>\n",
       "      <td id=\"T_fd1c2_row9_col0\" class=\"data row9 col0\" >Not Reported</td>\n",
       "      <td id=\"T_fd1c2_row9_col1\" class=\"data row9 col1\" >12</td>\n",
       "    </tr>\n",
       "    <tr>\n",
       "      <td id=\"T_fd1c2_row10_col0\" class=\"data row10 col0\" >Trophoblastic neoplasms</td>\n",
       "      <td id=\"T_fd1c2_row10_col1\" class=\"data row10 col1\" >13</td>\n",
       "    </tr>\n",
       "    <tr>\n",
       "      <td id=\"T_fd1c2_row11_col0\" class=\"data row11 col0\" >Neoplasms, NOS</td>\n",
       "      <td id=\"T_fd1c2_row11_col1\" class=\"data row11 col1\" >12</td>\n",
       "    </tr>\n",
       "    <tr>\n",
       "      <td id=\"T_fd1c2_row12_col0\" class=\"data row12 col0\" >Soft Tissue Tumors and Sarcomas, NOS</td>\n",
       "      <td id=\"T_fd1c2_row12_col1\" class=\"data row12 col1\" >14</td>\n",
       "    </tr>\n",
       "    <tr>\n",
       "      <td id=\"T_fd1c2_row13_col0\" class=\"data row13 col0\" >Mesonephromas</td>\n",
       "      <td id=\"T_fd1c2_row13_col1\" class=\"data row13 col1\" >5</td>\n",
       "    </tr>\n",
       "    <tr>\n",
       "      <td id=\"T_fd1c2_row14_col0\" class=\"data row14 col0\" >Neuroepitheliomatous Neoplasms</td>\n",
       "      <td id=\"T_fd1c2_row14_col1\" class=\"data row14 col1\" >1</td>\n",
       "    </tr>\n",
       "  </tbody>\n",
       "</table>\n",
       "<style type=\"text/css\">\n",
       "#T_2d260_ th {\n",
       "  background-color: #000066;\n",
       "  color: white;\n",
       "  text-align: left;\n",
       "}\n",
       "#T_2d260_ td {\n",
       "  text-align: left;\n",
       "  border-bottom: 1px solid black;\n",
       "}\n",
       "</style>\n",
       "<table id=\"T_2d260_\" style='display:inline'>\n",
       "  <thead>\n",
       "    <tr>\n",
       "      <th class=\"col_heading level0 col0\" >primary_diagnosis_site</th>\n",
       "      <th class=\"col_heading level0 col1\" >count</th>\n",
       "    </tr>\n",
       "  </thead>\n",
       "  <tbody>\n",
       "    <tr>\n",
       "      <td id=\"T_2d260_row0_col0\" class=\"data row0 col0\" >Corpus uteri</td>\n",
       "      <td id=\"T_2d260_row0_col1\" class=\"data row0 col1\" >780</td>\n",
       "    </tr>\n",
       "    <tr>\n",
       "      <td id=\"T_2d260_row1_col0\" class=\"data row1 col0\" >Cervix uteri</td>\n",
       "      <td id=\"T_2d260_row1_col1\" class=\"data row1 col1\" >915</td>\n",
       "    </tr>\n",
       "    <tr>\n",
       "      <td id=\"T_2d260_row2_col0\" class=\"data row2 col0\" >Uterus, NOS</td>\n",
       "      <td id=\"T_2d260_row2_col1\" class=\"data row2 col1\" >1998</td>\n",
       "    </tr>\n",
       "    <tr>\n",
       "      <td id=\"T_2d260_row3_col0\" class=\"data row3 col0\" >Uterus</td>\n",
       "      <td id=\"T_2d260_row3_col1\" class=\"data row3 col1\" >867</td>\n",
       "    </tr>\n",
       "  </tbody>\n",
       "</table>\n"
      ]
     },
     "metadata": {},
     "output_type": "display_data"
    },
    {
     "data": {
      "text/plain": []
     },
     "execution_count": 15,
     "metadata": {},
     "output_type": "execute_result"
    }
   ],
   "source": [
    "Q('ResearchSubject.primary_diagnosis_site = \"%uter%\"').researchsubject.count.run()"
   ]
  },
  {
   "cell_type": "markdown",
   "id": "54751ef6",
   "metadata": {},
   "source": [
    "There may be cases in which you want to filter out all of the data with some partial word in it, in which case, you can combine `%` with `!=`: "
   ]
  },
  {
   "cell_type": "code",
   "execution_count": 16,
   "id": "233e4095",
   "metadata": {},
   "outputs": [
    {
     "data": {
      "text/html": [
       "<pre style=\"white-space:pre;overflow-x:auto;line-height:normal;font-family:Menlo,'DejaVu Sans Mono',consolas,'Courier New',monospace\">Getting results from database\n",
       "\n",
       "</pre>\n"
      ],
      "text/plain": [
       "Getting results from database\n",
       "\n"
      ]
     },
     "metadata": {},
     "output_type": "display_data"
    },
    {
     "name": "stdout",
     "output_type": "stream",
     "text": [
      "Total execution time: 3417 ms\n"
     ]
    },
    {
     "data": {
      "text/html": [
       "<pre style=\"white-space:pre;overflow-x:auto;line-height:normal;font-family:Menlo,'DejaVu Sans Mono',consolas,'Courier New',monospace\">   total : <span style=\"color: #008080; text-decoration-color: #008080; font-weight: bold\">91361</span>    \n",
       "</pre>\n"
      ],
      "text/plain": [
       "   total : \u001b[1;36m91361\u001b[0m    \n"
      ]
     },
     "metadata": {},
     "output_type": "display_data"
    },
    {
     "data": {
      "text/html": [
       "<pre style=\"white-space:pre;overflow-x:auto;line-height:normal;font-family:Menlo,'DejaVu Sans Mono',consolas,'Courier New',monospace\">  files : <span style=\"color: #008080; text-decoration-color: #008080; font-weight: bold\">37815169</span>  \n",
       "</pre>\n"
      ],
      "text/plain": [
       "  files : \u001b[1;36m37815169\u001b[0m  \n"
      ]
     },
     "metadata": {},
     "output_type": "display_data"
    },
    {
     "data": {
      "text/html": [
       "<style type=\"text/css\">\n",
       "#T_c20ac_ th {\n",
       "  background-color: #000066;\n",
       "  color: white;\n",
       "  text-align: left;\n",
       "}\n",
       "#T_c20ac_ td {\n",
       "  text-align: left;\n",
       "  border-bottom: 1px solid black;\n",
       "}\n",
       "</style>\n",
       "<table id=\"T_c20ac_\" style='display:inline'>\n",
       "  <thead>\n",
       "    <tr>\n",
       "      <th class=\"col_heading level0 col0\" >system</th>\n",
       "      <th class=\"col_heading level0 col1\" >count</th>\n",
       "    </tr>\n",
       "  </thead>\n",
       "  <tbody>\n",
       "    <tr>\n",
       "      <td id=\"T_c20ac_row0_col0\" class=\"data row0 col0\" >IDC</td>\n",
       "      <td id=\"T_c20ac_row0_col1\" class=\"data row0 col1\" >56038</td>\n",
       "    </tr>\n",
       "    <tr>\n",
       "      <td id=\"T_c20ac_row1_col0\" class=\"data row1 col0\" >GDC</td>\n",
       "      <td id=\"T_c20ac_row1_col1\" class=\"data row1 col1\" >40024</td>\n",
       "    </tr>\n",
       "    <tr>\n",
       "      <td id=\"T_c20ac_row2_col0\" class=\"data row2 col0\" >PDC</td>\n",
       "      <td id=\"T_c20ac_row2_col1\" class=\"data row2 col1\" >1089</td>\n",
       "    </tr>\n",
       "  </tbody>\n",
       "</table>\n",
       "<style type=\"text/css\">\n",
       "#T_d6283_ th {\n",
       "  background-color: #000066;\n",
       "  color: white;\n",
       "  text-align: left;\n",
       "}\n",
       "#T_d6283_ td {\n",
       "  text-align: left;\n",
       "  border-bottom: 1px solid black;\n",
       "}\n",
       "</style>\n",
       "<table id=\"T_d6283_\" style='display:inline'>\n",
       "  <thead>\n",
       "    <tr>\n",
       "      <th class=\"col_heading level0 col0\" >sex</th>\n",
       "      <th class=\"col_heading level0 col1\" >count</th>\n",
       "    </tr>\n",
       "  </thead>\n",
       "  <tbody>\n",
       "    <tr>\n",
       "      <td id=\"T_d6283_row0_col0\" class=\"data row0 col0\" >not reported</td>\n",
       "      <td id=\"T_d6283_row0_col1\" class=\"data row0 col1\" >266</td>\n",
       "    </tr>\n",
       "    <tr>\n",
       "      <td id=\"T_d6283_row1_col0\" class=\"data row1 col0\" >None</td>\n",
       "      <td id=\"T_d6283_row1_col1\" class=\"data row1 col1\" >51216</td>\n",
       "    </tr>\n",
       "    <tr>\n",
       "      <td id=\"T_d6283_row2_col0\" class=\"data row2 col0\" >male</td>\n",
       "      <td id=\"T_d6283_row2_col1\" class=\"data row2 col1\" >39793</td>\n",
       "    </tr>\n",
       "    <tr>\n",
       "      <td id=\"T_d6283_row3_col0\" class=\"data row3 col0\" >unknown</td>\n",
       "      <td id=\"T_d6283_row3_col1\" class=\"data row3 col1\" >81</td>\n",
       "    </tr>\n",
       "    <tr>\n",
       "      <td id=\"T_d6283_row4_col0\" class=\"data row4 col0\" >unspecified</td>\n",
       "      <td id=\"T_d6283_row4_col1\" class=\"data row4 col1\" >5</td>\n",
       "    </tr>\n",
       "  </tbody>\n",
       "</table>\n",
       "<style type=\"text/css\">\n",
       "#T_b3d7f_ th {\n",
       "  background-color: #000066;\n",
       "  color: white;\n",
       "  text-align: left;\n",
       "}\n",
       "#T_b3d7f_ td {\n",
       "  text-align: left;\n",
       "  border-bottom: 1px solid black;\n",
       "}\n",
       "</style>\n",
       "<table id=\"T_b3d7f_\" style='display:inline'>\n",
       "  <thead>\n",
       "    <tr>\n",
       "      <th class=\"col_heading level0 col0\" >race</th>\n",
       "      <th class=\"col_heading level0 col1\" >count</th>\n",
       "    </tr>\n",
       "  </thead>\n",
       "  <tbody>\n",
       "    <tr>\n",
       "      <td id=\"T_b3d7f_row0_col0\" class=\"data row0 col0\" >None</td>\n",
       "      <td id=\"T_b3d7f_row0_col1\" class=\"data row0 col1\" >51216</td>\n",
       "    </tr>\n",
       "    <tr>\n",
       "      <td id=\"T_b3d7f_row1_col0\" class=\"data row1 col0\" >white</td>\n",
       "      <td id=\"T_b3d7f_row1_col1\" class=\"data row1 col1\" >23406</td>\n",
       "    </tr>\n",
       "    <tr>\n",
       "      <td id=\"T_b3d7f_row2_col0\" class=\"data row2 col0\" >chinese</td>\n",
       "      <td id=\"T_b3d7f_row2_col1\" class=\"data row2 col1\" >65</td>\n",
       "    </tr>\n",
       "    <tr>\n",
       "      <td id=\"T_b3d7f_row3_col0\" class=\"data row3 col0\" >asian</td>\n",
       "      <td id=\"T_b3d7f_row3_col1\" class=\"data row3 col1\" >1348</td>\n",
       "    </tr>\n",
       "    <tr>\n",
       "      <td id=\"T_b3d7f_row4_col0\" class=\"data row4 col0\" >black or african american</td>\n",
       "      <td id=\"T_b3d7f_row4_col1\" class=\"data row4 col1\" >1815</td>\n",
       "    </tr>\n",
       "    <tr>\n",
       "      <td id=\"T_b3d7f_row5_col0\" class=\"data row5 col0\" >not reported</td>\n",
       "      <td id=\"T_b3d7f_row5_col1\" class=\"data row5 col1\" >9881</td>\n",
       "    </tr>\n",
       "    <tr>\n",
       "      <td id=\"T_b3d7f_row6_col0\" class=\"data row6 col0\" >not allowed to collect</td>\n",
       "      <td id=\"T_b3d7f_row6_col1\" class=\"data row6 col1\" >1106</td>\n",
       "    </tr>\n",
       "    <tr>\n",
       "      <td id=\"T_b3d7f_row7_col0\" class=\"data row7 col0\" >other</td>\n",
       "      <td id=\"T_b3d7f_row7_col1\" class=\"data row7 col1\" >415</td>\n",
       "    </tr>\n",
       "    <tr>\n",
       "      <td id=\"T_b3d7f_row8_col0\" class=\"data row8 col0\" >Unknown</td>\n",
       "      <td id=\"T_b3d7f_row8_col1\" class=\"data row8 col1\" >2027</td>\n",
       "    </tr>\n",
       "    <tr>\n",
       "      <td id=\"T_b3d7f_row9_col0\" class=\"data row9 col0\" >american indian or alaska native</td>\n",
       "      <td id=\"T_b3d7f_row9_col1\" class=\"data row9 col1\" >56</td>\n",
       "    </tr>\n",
       "    <tr>\n",
       "      <td id=\"T_b3d7f_row10_col0\" class=\"data row10 col0\" >native hawaiian or other pacific islander</td>\n",
       "      <td id=\"T_b3d7f_row10_col1\" class=\"data row10 col1\" >26</td>\n",
       "    </tr>\n",
       "  </tbody>\n",
       "</table>\n",
       "<style type=\"text/css\">\n",
       "#T_86e64_ th {\n",
       "  background-color: #000066;\n",
       "  color: white;\n",
       "  text-align: left;\n",
       "}\n",
       "#T_86e64_ td {\n",
       "  text-align: left;\n",
       "  border-bottom: 1px solid black;\n",
       "}\n",
       "</style>\n",
       "<table id=\"T_86e64_\" style='display:inline'>\n",
       "  <thead>\n",
       "    <tr>\n",
       "      <th class=\"col_heading level0 col0\" >ethnicity</th>\n",
       "      <th class=\"col_heading level0 col1\" >count</th>\n",
       "    </tr>\n",
       "  </thead>\n",
       "  <tbody>\n",
       "    <tr>\n",
       "      <td id=\"T_86e64_row0_col0\" class=\"data row0 col0\" >not reported</td>\n",
       "      <td id=\"T_86e64_row0_col1\" class=\"data row0 col1\" >11796</td>\n",
       "    </tr>\n",
       "    <tr>\n",
       "      <td id=\"T_86e64_row1_col0\" class=\"data row1 col0\" >None</td>\n",
       "      <td id=\"T_86e64_row1_col1\" class=\"data row1 col1\" >51216</td>\n",
       "    </tr>\n",
       "    <tr>\n",
       "      <td id=\"T_86e64_row2_col0\" class=\"data row2 col0\" >not hispanic or latino</td>\n",
       "      <td id=\"T_86e64_row2_col1\" class=\"data row2 col1\" >23020</td>\n",
       "    </tr>\n",
       "    <tr>\n",
       "      <td id=\"T_86e64_row3_col0\" class=\"data row3 col0\" >Unknown</td>\n",
       "      <td id=\"T_86e64_row3_col1\" class=\"data row3 col1\" >2293</td>\n",
       "    </tr>\n",
       "    <tr>\n",
       "      <td id=\"T_86e64_row4_col0\" class=\"data row4 col0\" >hispanic or latino</td>\n",
       "      <td id=\"T_86e64_row4_col1\" class=\"data row4 col1\" >1450</td>\n",
       "    </tr>\n",
       "    <tr>\n",
       "      <td id=\"T_86e64_row5_col0\" class=\"data row5 col0\" >not allowed to collect</td>\n",
       "      <td id=\"T_86e64_row5_col1\" class=\"data row5 col1\" >1586</td>\n",
       "    </tr>\n",
       "  </tbody>\n",
       "</table>\n",
       "<style type=\"text/css\">\n",
       "#T_00ea8_ th {\n",
       "  background-color: #000066;\n",
       "  color: white;\n",
       "  text-align: left;\n",
       "}\n",
       "#T_00ea8_ td {\n",
       "  text-align: left;\n",
       "  border-bottom: 1px solid black;\n",
       "}\n",
       "</style>\n",
       "<table id=\"T_00ea8_\" style='display:inline'>\n",
       "  <thead>\n",
       "    <tr>\n",
       "      <th class=\"col_heading level0 col0\" >cause_of_death</th>\n",
       "      <th class=\"col_heading level0 col1\" >count</th>\n",
       "    </tr>\n",
       "  </thead>\n",
       "  <tbody>\n",
       "    <tr>\n",
       "      <td id=\"T_00ea8_row0_col0\" class=\"data row0 col0\" >None</td>\n",
       "      <td id=\"T_00ea8_row0_col1\" class=\"data row0 col1\" >90714</td>\n",
       "    </tr>\n",
       "    <tr>\n",
       "      <td id=\"T_00ea8_row1_col0\" class=\"data row1 col0\" >Not Reported</td>\n",
       "      <td id=\"T_00ea8_row1_col1\" class=\"data row1 col1\" >335</td>\n",
       "    </tr>\n",
       "    <tr>\n",
       "      <td id=\"T_00ea8_row2_col0\" class=\"data row2 col0\" >Metastasis</td>\n",
       "      <td id=\"T_00ea8_row2_col1\" class=\"data row2 col1\" >1</td>\n",
       "    </tr>\n",
       "    <tr>\n",
       "      <td id=\"T_00ea8_row3_col0\" class=\"data row3 col0\" >Infection</td>\n",
       "      <td id=\"T_00ea8_row3_col1\" class=\"data row3 col1\" >3</td>\n",
       "    </tr>\n",
       "    <tr>\n",
       "      <td id=\"T_00ea8_row4_col0\" class=\"data row4 col0\" >Cancer Related</td>\n",
       "      <td id=\"T_00ea8_row4_col1\" class=\"data row4 col1\" >198</td>\n",
       "    </tr>\n",
       "    <tr>\n",
       "      <td id=\"T_00ea8_row5_col0\" class=\"data row5 col0\" >Unknown</td>\n",
       "      <td id=\"T_00ea8_row5_col1\" class=\"data row5 col1\" >22</td>\n",
       "    </tr>\n",
       "    <tr>\n",
       "      <td id=\"T_00ea8_row6_col0\" class=\"data row6 col0\" >Not Cancer Related</td>\n",
       "      <td id=\"T_00ea8_row6_col1\" class=\"data row6 col1\" >76</td>\n",
       "    </tr>\n",
       "    <tr>\n",
       "      <td id=\"T_00ea8_row7_col0\" class=\"data row7 col0\" >HCC recurrence</td>\n",
       "      <td id=\"T_00ea8_row7_col1\" class=\"data row7 col1\" >5</td>\n",
       "    </tr>\n",
       "    <tr>\n",
       "      <td id=\"T_00ea8_row8_col0\" class=\"data row8 col0\" >Surgical Complications</td>\n",
       "      <td id=\"T_00ea8_row8_col1\" class=\"data row8 col1\" >3</td>\n",
       "    </tr>\n",
       "    <tr>\n",
       "      <td id=\"T_00ea8_row9_col0\" class=\"data row9 col0\" >Cardiovascular Disorder, NOS</td>\n",
       "      <td id=\"T_00ea8_row9_col1\" class=\"data row9 col1\" >3</td>\n",
       "    </tr>\n",
       "    <tr>\n",
       "      <td id=\"T_00ea8_row10_col0\" class=\"data row10 col0\" >Cerebral Hemorrhage</td>\n",
       "      <td id=\"T_00ea8_row10_col1\" class=\"data row10 col1\" >1</td>\n",
       "    </tr>\n",
       "  </tbody>\n",
       "</table>\n"
      ]
     },
     "metadata": {},
     "output_type": "display_data"
    },
    {
     "data": {
      "text/plain": []
     },
     "execution_count": 16,
     "metadata": {},
     "output_type": "execute_result"
    }
   ],
   "source": [
    "Q('sex != \"f%\"').subject.count.run()"
   ]
  },
  {
   "cell_type": "markdown",
   "id": "6612c675",
   "metadata": {},
   "source": [
    "## IS and IS NOT\n",
    "\n",
    "In computing, lack of data is often treated as a special case. In the CDA, values listed as \"None\" are actually `null`, that is, the field is empty. In order to search for emptiness, you need to use the special function `IS`:"
   ]
  },
  {
   "cell_type": "code",
   "execution_count": 17,
   "id": "6a2f3a10",
   "metadata": {},
   "outputs": [
    {
     "data": {
      "text/html": [
       "<pre style=\"white-space:pre;overflow-x:auto;line-height:normal;font-family:Menlo,'DejaVu Sans Mono',consolas,'Courier New',monospace\">Getting results from database\n",
       "\n",
       "</pre>\n"
      ],
      "text/plain": [
       "Getting results from database\n",
       "\n"
      ]
     },
     "metadata": {},
     "output_type": "display_data"
    },
    {
     "name": "stdout",
     "output_type": "stream",
     "text": [
      "Total execution time: 3255 ms\n"
     ]
    },
    {
     "data": {
      "text/html": [
       "<pre style=\"white-space:pre;overflow-x:auto;line-height:normal;font-family:Menlo,'DejaVu Sans Mono',consolas,'Courier New',monospace\">   total : <span style=\"color: #008080; text-decoration-color: #008080; font-weight: bold\">61950</span>    \n",
       "</pre>\n"
      ],
      "text/plain": [
       "   total : \u001b[1;36m61950\u001b[0m    \n"
      ]
     },
     "metadata": {},
     "output_type": "display_data"
    },
    {
     "data": {
      "text/html": [
       "<pre style=\"white-space:pre;overflow-x:auto;line-height:normal;font-family:Menlo,'DejaVu Sans Mono',consolas,'Courier New',monospace\">  files : <span style=\"color: #008080; text-decoration-color: #008080; font-weight: bold\">38475829</span>  \n",
       "</pre>\n"
      ],
      "text/plain": [
       "  files : \u001b[1;36m38475829\u001b[0m  \n"
      ]
     },
     "metadata": {},
     "output_type": "display_data"
    },
    {
     "data": {
      "text/html": [
       "<style type=\"text/css\">\n",
       "#T_cab1d_ th {\n",
       "  background-color: #000066;\n",
       "  color: white;\n",
       "  text-align: left;\n",
       "}\n",
       "#T_cab1d_ td {\n",
       "  text-align: left;\n",
       "  border-bottom: 1px solid black;\n",
       "}\n",
       "</style>\n",
       "<table id=\"T_cab1d_\" style='display:inline'>\n",
       "  <thead>\n",
       "    <tr>\n",
       "      <th class=\"col_heading level0 col0\" >system</th>\n",
       "      <th class=\"col_heading level0 col1\" >count</th>\n",
       "    </tr>\n",
       "  </thead>\n",
       "  <tbody>\n",
       "    <tr>\n",
       "      <td id=\"T_cab1d_row0_col0\" class=\"data row0 col0\" >IDC</td>\n",
       "      <td id=\"T_cab1d_row0_col1\" class=\"data row0 col1\" >61948</td>\n",
       "    </tr>\n",
       "    <tr>\n",
       "      <td id=\"T_cab1d_row1_col0\" class=\"data row1 col0\" >GDC</td>\n",
       "      <td id=\"T_cab1d_row1_col1\" class=\"data row1 col1\" >2</td>\n",
       "    </tr>\n",
       "  </tbody>\n",
       "</table>\n",
       "<style type=\"text/css\">\n",
       "#T_09dec_ th {\n",
       "  background-color: #000066;\n",
       "  color: white;\n",
       "  text-align: left;\n",
       "}\n",
       "#T_09dec_ td {\n",
       "  text-align: left;\n",
       "  border-bottom: 1px solid black;\n",
       "}\n",
       "</style>\n",
       "<table id=\"T_09dec_\" style='display:inline'>\n",
       "  <thead>\n",
       "    <tr>\n",
       "      <th class=\"col_heading level0 col0\" >primary_diagnosis_condition</th>\n",
       "      <th class=\"col_heading level0 col1\" >count</th>\n",
       "    </tr>\n",
       "  </thead>\n",
       "  <tbody>\n",
       "    <tr>\n",
       "      <td id=\"T_09dec_row0_col0\" class=\"data row0 col0\" >None</td>\n",
       "      <td id=\"T_09dec_row0_col1\" class=\"data row0 col1\" >61950</td>\n",
       "    </tr>\n",
       "  </tbody>\n",
       "</table>\n",
       "<style type=\"text/css\">\n",
       "#T_2ba29_ th {\n",
       "  background-color: #000066;\n",
       "  color: white;\n",
       "  text-align: left;\n",
       "}\n",
       "#T_2ba29_ td {\n",
       "  text-align: left;\n",
       "  border-bottom: 1px solid black;\n",
       "}\n",
       "</style>\n",
       "<table id=\"T_2ba29_\" style='display:inline'>\n",
       "  <thead>\n",
       "    <tr>\n",
       "      <th class=\"col_heading level0 col0\" >primary_diagnosis_site</th>\n",
       "      <th class=\"col_heading level0 col1\" >count</th>\n",
       "    </tr>\n",
       "  </thead>\n",
       "  <tbody>\n",
       "    <tr>\n",
       "      <td id=\"T_2ba29_row0_col0\" class=\"data row0 col0\" >Breast</td>\n",
       "      <td id=\"T_2ba29_row0_col1\" class=\"data row0 col1\" >12587</td>\n",
       "    </tr>\n",
       "    <tr>\n",
       "      <td id=\"T_2ba29_row1_col0\" class=\"data row1 col0\" >Head-Neck</td>\n",
       "      <td id=\"T_2ba29_row1_col1\" class=\"data row1 col1\" >2704</td>\n",
       "    </tr>\n",
       "    <tr>\n",
       "      <td id=\"T_2ba29_row2_col0\" class=\"data row2 col0\" >Colon</td>\n",
       "      <td id=\"T_2ba29_row2_col1\" class=\"data row2 col1\" >1491</td>\n",
       "    </tr>\n",
       "    <tr>\n",
       "      <td id=\"T_2ba29_row3_col0\" class=\"data row3 col0\" >Chest</td>\n",
       "      <td id=\"T_2ba29_row3_col1\" class=\"data row3 col1\" >28221</td>\n",
       "    </tr>\n",
       "    <tr>\n",
       "      <td id=\"T_2ba29_row4_col0\" class=\"data row4 col0\" >Lung</td>\n",
       "      <td id=\"T_2ba29_row4_col1\" class=\"data row4 col1\" >4728</td>\n",
       "    </tr>\n",
       "    <tr>\n",
       "      <td id=\"T_2ba29_row5_col0\" class=\"data row5 col0\" >Abdomen</td>\n",
       "      <td id=\"T_2ba29_row5_col1\" class=\"data row5 col1\" >92</td>\n",
       "    </tr>\n",
       "    <tr>\n",
       "      <td id=\"T_2ba29_row6_col0\" class=\"data row6 col0\" >Various</td>\n",
       "      <td id=\"T_2ba29_row6_col1\" class=\"data row6 col1\" >449</td>\n",
       "    </tr>\n",
       "    <tr>\n",
       "      <td id=\"T_2ba29_row7_col0\" class=\"data row7 col0\" >Brain</td>\n",
       "      <td id=\"T_2ba29_row7_col1\" class=\"data row7 col1\" >1165</td>\n",
       "    </tr>\n",
       "    <tr>\n",
       "      <td id=\"T_2ba29_row8_col0\" class=\"data row8 col0\" >Abdomen, Mediastinum</td>\n",
       "      <td id=\"T_2ba29_row8_col1\" class=\"data row8 col1\" >176</td>\n",
       "    </tr>\n",
       "    <tr>\n",
       "      <td id=\"T_2ba29_row9_col0\" class=\"data row9 col0\" >Thymus</td>\n",
       "      <td id=\"T_2ba29_row9_col1\" class=\"data row9 col1\" >125</td>\n",
       "    </tr>\n",
       "    <tr>\n",
       "      <td id=\"T_2ba29_row10_col0\" class=\"data row10 col0\" >Bladder</td>\n",
       "      <td id=\"T_2ba29_row10_col1\" class=\"data row10 col1\" >431</td>\n",
       "    </tr>\n",
       "    <tr>\n",
       "      <td id=\"T_2ba29_row11_col0\" class=\"data row11 col0\" >Kidney</td>\n",
       "      <td id=\"T_2ba29_row11_col1\" class=\"data row11 col1\" >1373</td>\n",
       "    </tr>\n",
       "    <tr>\n",
       "      <td id=\"T_2ba29_row12_col0\" class=\"data row12 col0\" >Uterus</td>\n",
       "      <td id=\"T_2ba29_row12_col1\" class=\"data row12 col1\" >867</td>\n",
       "    </tr>\n",
       "    <tr>\n",
       "      <td id=\"T_2ba29_row13_col0\" class=\"data row13 col0\" >Various (11 locations)</td>\n",
       "      <td id=\"T_2ba29_row13_col1\" class=\"data row13 col1\" >89</td>\n",
       "    </tr>\n",
       "    <tr>\n",
       "      <td id=\"T_2ba29_row14_col0\" class=\"data row14 col0\" >Pancreas</td>\n",
       "      <td id=\"T_2ba29_row14_col1\" class=\"data row14 col1\" >481</td>\n",
       "    </tr>\n",
       "    <tr>\n",
       "      <td id=\"T_2ba29_row15_col0\" class=\"data row15 col0\" >Skin</td>\n",
       "      <td id=\"T_2ba29_row15_col1\" class=\"data row15 col1\" >612</td>\n",
       "    </tr>\n",
       "    <tr>\n",
       "      <td id=\"T_2ba29_row16_col0\" class=\"data row16 col0\" >Head</td>\n",
       "      <td id=\"T_2ba29_row16_col1\" class=\"data row16 col1\" >105</td>\n",
       "    </tr>\n",
       "    <tr>\n",
       "      <td id=\"T_2ba29_row17_col0\" class=\"data row17 col0\" >Liver</td>\n",
       "      <td id=\"T_2ba29_row17_col1\" class=\"data row17 col1\" >452</td>\n",
       "    </tr>\n",
       "    <tr>\n",
       "      <td id=\"T_2ba29_row18_col0\" class=\"data row18 col0\" >Prostate</td>\n",
       "      <td id=\"T_2ba29_row18_col1\" class=\"data row18 col1\" >2139</td>\n",
       "    </tr>\n",
       "    <tr>\n",
       "      <td id=\"T_2ba29_row19_col0\" class=\"data row19 col0\" >Pelvis, Prostate, Anus</td>\n",
       "      <td id=\"T_2ba29_row19_col1\" class=\"data row19 col1\" >58</td>\n",
       "    </tr>\n",
       "    <tr>\n",
       "      <td id=\"T_2ba29_row20_col0\" class=\"data row20 col0\" >Phantom</td>\n",
       "      <td id=\"T_2ba29_row20_col1\" class=\"data row20 col1\" >33</td>\n",
       "    </tr>\n",
       "    <tr>\n",
       "      <td id=\"T_2ba29_row21_col0\" class=\"data row21 col0\" >Extremities</td>\n",
       "      <td id=\"T_2ba29_row21_col1\" class=\"data row21 col1\" >51</td>\n",
       "    </tr>\n",
       "    <tr>\n",
       "      <td id=\"T_2ba29_row22_col0\" class=\"data row22 col0\" >Ovary</td>\n",
       "      <td id=\"T_2ba29_row22_col1\" class=\"data row22 col1\" >664</td>\n",
       "    </tr>\n",
       "    <tr>\n",
       "      <td id=\"T_2ba29_row23_col0\" class=\"data row23 col0\" >Testicles</td>\n",
       "      <td id=\"T_2ba29_row23_col1\" class=\"data row23 col1\" >150</td>\n",
       "    </tr>\n",
       "    <tr>\n",
       "      <td id=\"T_2ba29_row24_col0\" class=\"data row24 col0\" >Bile Duct</td>\n",
       "      <td id=\"T_2ba29_row24_col1\" class=\"data row24 col1\" >51</td>\n",
       "    </tr>\n",
       "    <tr>\n",
       "      <td id=\"T_2ba29_row25_col0\" class=\"data row25 col0\" >Rectum</td>\n",
       "      <td id=\"T_2ba29_row25_col1\" class=\"data row25 col1\" >171</td>\n",
       "    </tr>\n",
       "    <tr>\n",
       "      <td id=\"T_2ba29_row26_col0\" class=\"data row26 col0\" >Thyroid</td>\n",
       "      <td id=\"T_2ba29_row26_col1\" class=\"data row26 col1\" >507</td>\n",
       "    </tr>\n",
       "    <tr>\n",
       "      <td id=\"T_2ba29_row27_col0\" class=\"data row27 col0\" >Stomach</td>\n",
       "      <td id=\"T_2ba29_row27_col1\" class=\"data row27 col1\" >443</td>\n",
       "    </tr>\n",
       "    <tr>\n",
       "      <td id=\"T_2ba29_row28_col0\" class=\"data row28 col0\" >Chest-Abdomen-Pelvis, Leg, TSpine</td>\n",
       "      <td id=\"T_2ba29_row28_col1\" class=\"data row28 col1\" >261</td>\n",
       "    </tr>\n",
       "    <tr>\n",
       "      <td id=\"T_2ba29_row29_col0\" class=\"data row29 col0\" >Mesothelium</td>\n",
       "      <td id=\"T_2ba29_row29_col1\" class=\"data row29 col1\" >87</td>\n",
       "    </tr>\n",
       "    <tr>\n",
       "      <td id=\"T_2ba29_row30_col0\" class=\"data row30 col0\" >Adrenal Glands</td>\n",
       "      <td id=\"T_2ba29_row30_col1\" class=\"data row30 col1\" >271</td>\n",
       "    </tr>\n",
       "    <tr>\n",
       "      <td id=\"T_2ba29_row31_col0\" class=\"data row31 col0\" >Esophagus</td>\n",
       "      <td id=\"T_2ba29_row31_col1\" class=\"data row31 col1\" >187</td>\n",
       "    </tr>\n",
       "    <tr>\n",
       "      <td id=\"T_2ba29_row32_col0\" class=\"data row32 col0\" >Cervix</td>\n",
       "      <td id=\"T_2ba29_row32_col1\" class=\"data row32 col1\" >307</td>\n",
       "    </tr>\n",
       "    <tr>\n",
       "      <td id=\"T_2ba29_row33_col0\" class=\"data row33 col0\" >Ear</td>\n",
       "      <td id=\"T_2ba29_row33_col1\" class=\"data row33 col1\" >242</td>\n",
       "    </tr>\n",
       "    <tr>\n",
       "      <td id=\"T_2ba29_row34_col0\" class=\"data row34 col0\" >Marrow, Blood</td>\n",
       "      <td id=\"T_2ba29_row34_col1\" class=\"data row34 col1\" >89</td>\n",
       "    </tr>\n",
       "    <tr>\n",
       "      <td id=\"T_2ba29_row35_col0\" class=\"data row35 col0\" >Intraocular</td>\n",
       "      <td id=\"T_2ba29_row35_col1\" class=\"data row35 col1\" >80</td>\n",
       "    </tr>\n",
       "    <tr>\n",
       "      <td id=\"T_2ba29_row36_col0\" class=\"data row36 col0\" >Cervix uteri</td>\n",
       "      <td id=\"T_2ba29_row36_col1\" class=\"data row36 col1\" >1</td>\n",
       "    </tr>\n",
       "    <tr>\n",
       "      <td id=\"T_2ba29_row37_col0\" class=\"data row37 col0\" >Lung Phantom</td>\n",
       "      <td id=\"T_2ba29_row37_col1\" class=\"data row37 col1\" >8</td>\n",
       "    </tr>\n",
       "    <tr>\n",
       "      <td id=\"T_2ba29_row38_col0\" class=\"data row38 col0\" >Pancreas </td>\n",
       "      <td id=\"T_2ba29_row38_col1\" class=\"data row38 col1\" >1</td>\n",
       "    </tr>\n",
       "    <tr>\n",
       "      <td id=\"T_2ba29_row39_col0\" class=\"data row39 col0\" >None</td>\n",
       "      <td id=\"T_2ba29_row39_col1\" class=\"data row39 col1\" >1</td>\n",
       "    </tr>\n",
       "  </tbody>\n",
       "</table>\n"
      ]
     },
     "metadata": {},
     "output_type": "display_data"
    },
    {
     "data": {
      "text/plain": []
     },
     "execution_count": 17,
     "metadata": {},
     "output_type": "execute_result"
    }
   ],
   "source": [
    "Q('ResearchSubject.primary_diagnosis_condition IS null').researchsubject.count.run()"
   ]
  },
  {
   "cell_type": "markdown",
   "id": "9fb50daf",
   "metadata": {},
   "source": [
    "Probably more common, is to want to filter *out* the empty fields, in which case you use its companion function `IS_NOT`:"
   ]
  },
  {
   "cell_type": "code",
   "execution_count": 18,
   "id": "a4c7a856",
   "metadata": {
    "scrolled": true
   },
   "outputs": [
    {
     "data": {
      "text/html": [
       "<pre style=\"white-space:pre;overflow-x:auto;line-height:normal;font-family:Menlo,'DejaVu Sans Mono',consolas,'Courier New',monospace\">Getting results from database\n",
       "\n",
       "</pre>\n"
      ],
      "text/plain": [
       "Getting results from database\n",
       "\n"
      ]
     },
     "metadata": {},
     "output_type": "display_data"
    },
    {
     "name": "stdout",
     "output_type": "stream",
     "text": [
      "Total execution time: 3340 ms\n"
     ]
    },
    {
     "data": {
      "text/html": [
       "<pre style=\"white-space:pre;overflow-x:auto;line-height:normal;font-family:Menlo,'DejaVu Sans Mono',consolas,'Courier New',monospace\">   total : <span style=\"color: #008080; text-decoration-color: #008080; font-weight: bold\">85654</span>    \n",
       "</pre>\n"
      ],
      "text/plain": [
       "   total : \u001b[1;36m85654\u001b[0m    \n"
      ]
     },
     "metadata": {},
     "output_type": "display_data"
    },
    {
     "data": {
      "text/html": [
       "<pre style=\"white-space:pre;overflow-x:auto;line-height:normal;font-family:Menlo,'DejaVu Sans Mono',consolas,'Courier New',monospace\">  files : <span style=\"color: #008080; text-decoration-color: #008080; font-weight: bold\">3487816</span>   \n",
       "</pre>\n"
      ],
      "text/plain": [
       "  files : \u001b[1;36m3487816\u001b[0m   \n"
      ]
     },
     "metadata": {},
     "output_type": "display_data"
    },
    {
     "data": {
      "text/html": [
       "<style type=\"text/css\">\n",
       "#T_b8275_ th {\n",
       "  background-color: #000066;\n",
       "  color: white;\n",
       "  text-align: left;\n",
       "}\n",
       "#T_b8275_ td {\n",
       "  text-align: left;\n",
       "  border-bottom: 1px solid black;\n",
       "}\n",
       "</style>\n",
       "<table id=\"T_b8275_\" style='display:inline'>\n",
       "  <thead>\n",
       "    <tr>\n",
       "      <th class=\"col_heading level0 col0\" >system</th>\n",
       "      <th class=\"col_heading level0 col1\" >count</th>\n",
       "    </tr>\n",
       "  </thead>\n",
       "  <tbody>\n",
       "    <tr>\n",
       "      <td id=\"T_b8275_row0_col0\" class=\"data row0 col0\" >GDC</td>\n",
       "      <td id=\"T_b8275_row0_col1\" class=\"data row0 col1\" >84979</td>\n",
       "    </tr>\n",
       "    <tr>\n",
       "      <td id=\"T_b8275_row1_col0\" class=\"data row1 col0\" >IDC</td>\n",
       "      <td id=\"T_b8275_row1_col1\" class=\"data row1 col1\" >11004</td>\n",
       "    </tr>\n",
       "    <tr>\n",
       "      <td id=\"T_b8275_row2_col0\" class=\"data row2 col0\" >PDC</td>\n",
       "      <td id=\"T_b8275_row2_col1\" class=\"data row2 col1\" >2231</td>\n",
       "    </tr>\n",
       "  </tbody>\n",
       "</table>\n",
       "<style type=\"text/css\">\n",
       "#T_9b958_ th {\n",
       "  background-color: #000066;\n",
       "  color: white;\n",
       "  text-align: left;\n",
       "}\n",
       "#T_9b958_ td {\n",
       "  text-align: left;\n",
       "  border-bottom: 1px solid black;\n",
       "}\n",
       "</style>\n",
       "<table id=\"T_9b958_\" style='display:inline'>\n",
       "  <thead>\n",
       "    <tr>\n",
       "      <th class=\"col_heading level0 col0\" >sex</th>\n",
       "      <th class=\"col_heading level0 col1\" >count</th>\n",
       "    </tr>\n",
       "  </thead>\n",
       "  <tbody>\n",
       "    <tr>\n",
       "      <td id=\"T_9b958_row0_col0\" class=\"data row0 col0\" >female</td>\n",
       "      <td id=\"T_9b958_row0_col1\" class=\"data row0 col1\" >45509</td>\n",
       "    </tr>\n",
       "    <tr>\n",
       "      <td id=\"T_9b958_row1_col0\" class=\"data row1 col0\" >not reported</td>\n",
       "      <td id=\"T_9b958_row1_col1\" class=\"data row1 col1\" >266</td>\n",
       "    </tr>\n",
       "    <tr>\n",
       "      <td id=\"T_9b958_row2_col0\" class=\"data row2 col0\" >male</td>\n",
       "      <td id=\"T_9b958_row2_col1\" class=\"data row2 col1\" >39793</td>\n",
       "    </tr>\n",
       "    <tr>\n",
       "      <td id=\"T_9b958_row3_col0\" class=\"data row3 col0\" >unknown</td>\n",
       "      <td id=\"T_9b958_row3_col1\" class=\"data row3 col1\" >81</td>\n",
       "    </tr>\n",
       "    <tr>\n",
       "      <td id=\"T_9b958_row4_col0\" class=\"data row4 col0\" >unspecified</td>\n",
       "      <td id=\"T_9b958_row4_col1\" class=\"data row4 col1\" >5</td>\n",
       "    </tr>\n",
       "  </tbody>\n",
       "</table>\n",
       "<style type=\"text/css\">\n",
       "#T_6e7bf_ th {\n",
       "  background-color: #000066;\n",
       "  color: white;\n",
       "  text-align: left;\n",
       "}\n",
       "#T_6e7bf_ td {\n",
       "  text-align: left;\n",
       "  border-bottom: 1px solid black;\n",
       "}\n",
       "</style>\n",
       "<table id=\"T_6e7bf_\" style='display:inline'>\n",
       "  <thead>\n",
       "    <tr>\n",
       "      <th class=\"col_heading level0 col0\" >race</th>\n",
       "      <th class=\"col_heading level0 col1\" >count</th>\n",
       "    </tr>\n",
       "  </thead>\n",
       "  <tbody>\n",
       "    <tr>\n",
       "      <td id=\"T_6e7bf_row0_col0\" class=\"data row0 col0\" >black or african american</td>\n",
       "      <td id=\"T_6e7bf_row0_col1\" class=\"data row0 col1\" >4567</td>\n",
       "    </tr>\n",
       "    <tr>\n",
       "      <td id=\"T_6e7bf_row1_col0\" class=\"data row1 col0\" >white</td>\n",
       "      <td id=\"T_6e7bf_row1_col1\" class=\"data row1 col1\" >49069</td>\n",
       "    </tr>\n",
       "    <tr>\n",
       "      <td id=\"T_6e7bf_row2_col0\" class=\"data row2 col0\" >not reported</td>\n",
       "      <td id=\"T_6e7bf_row2_col1\" class=\"data row2 col1\" >21816</td>\n",
       "    </tr>\n",
       "    <tr>\n",
       "      <td id=\"T_6e7bf_row3_col0\" class=\"data row3 col0\" >chinese</td>\n",
       "      <td id=\"T_6e7bf_row3_col1\" class=\"data row3 col1\" >90</td>\n",
       "    </tr>\n",
       "    <tr>\n",
       "      <td id=\"T_6e7bf_row4_col0\" class=\"data row4 col0\" >asian</td>\n",
       "      <td id=\"T_6e7bf_row4_col1\" class=\"data row4 col1\" >2951</td>\n",
       "    </tr>\n",
       "    <tr>\n",
       "      <td id=\"T_6e7bf_row5_col0\" class=\"data row5 col0\" >Unknown</td>\n",
       "      <td id=\"T_6e7bf_row5_col1\" class=\"data row5 col1\" >3985</td>\n",
       "    </tr>\n",
       "    <tr>\n",
       "      <td id=\"T_6e7bf_row6_col0\" class=\"data row6 col0\" >native hawaiian or other pacific islander</td>\n",
       "      <td id=\"T_6e7bf_row6_col1\" class=\"data row6 col1\" >55</td>\n",
       "    </tr>\n",
       "    <tr>\n",
       "      <td id=\"T_6e7bf_row7_col0\" class=\"data row7 col0\" >other</td>\n",
       "      <td id=\"T_6e7bf_row7_col1\" class=\"data row7 col1\" >947</td>\n",
       "    </tr>\n",
       "    <tr>\n",
       "      <td id=\"T_6e7bf_row8_col0\" class=\"data row8 col0\" >american indian or alaska native</td>\n",
       "      <td id=\"T_6e7bf_row8_col1\" class=\"data row8 col1\" >116</td>\n",
       "    </tr>\n",
       "    <tr>\n",
       "      <td id=\"T_6e7bf_row9_col0\" class=\"data row9 col0\" >not allowed to collect</td>\n",
       "      <td id=\"T_6e7bf_row9_col1\" class=\"data row9 col1\" >2058</td>\n",
       "    </tr>\n",
       "  </tbody>\n",
       "</table>\n",
       "<style type=\"text/css\">\n",
       "#T_1bb9b_ th {\n",
       "  background-color: #000066;\n",
       "  color: white;\n",
       "  text-align: left;\n",
       "}\n",
       "#T_1bb9b_ td {\n",
       "  text-align: left;\n",
       "  border-bottom: 1px solid black;\n",
       "}\n",
       "</style>\n",
       "<table id=\"T_1bb9b_\" style='display:inline'>\n",
       "  <thead>\n",
       "    <tr>\n",
       "      <th class=\"col_heading level0 col0\" >ethnicity</th>\n",
       "      <th class=\"col_heading level0 col1\" >count</th>\n",
       "    </tr>\n",
       "  </thead>\n",
       "  <tbody>\n",
       "    <tr>\n",
       "      <td id=\"T_1bb9b_row0_col0\" class=\"data row0 col0\" >not hispanic or latino</td>\n",
       "      <td id=\"T_1bb9b_row0_col1\" class=\"data row0 col1\" >48382</td>\n",
       "    </tr>\n",
       "    <tr>\n",
       "      <td id=\"T_1bb9b_row1_col0\" class=\"data row1 col0\" >not reported</td>\n",
       "      <td id=\"T_1bb9b_row1_col1\" class=\"data row1 col1\" >26034</td>\n",
       "    </tr>\n",
       "    <tr>\n",
       "      <td id=\"T_1bb9b_row2_col0\" class=\"data row2 col0\" >Unknown</td>\n",
       "      <td id=\"T_1bb9b_row2_col1\" class=\"data row2 col1\" >4455</td>\n",
       "    </tr>\n",
       "    <tr>\n",
       "      <td id=\"T_1bb9b_row3_col0\" class=\"data row3 col0\" >hispanic or latino</td>\n",
       "      <td id=\"T_1bb9b_row3_col1\" class=\"data row3 col1\" >3131</td>\n",
       "    </tr>\n",
       "    <tr>\n",
       "      <td id=\"T_1bb9b_row4_col0\" class=\"data row4 col0\" >not allowed to collect</td>\n",
       "      <td id=\"T_1bb9b_row4_col1\" class=\"data row4 col1\" >3652</td>\n",
       "    </tr>\n",
       "  </tbody>\n",
       "</table>\n",
       "<style type=\"text/css\">\n",
       "#T_d0ca6_ th {\n",
       "  background-color: #000066;\n",
       "  color: white;\n",
       "  text-align: left;\n",
       "}\n",
       "#T_d0ca6_ td {\n",
       "  text-align: left;\n",
       "  border-bottom: 1px solid black;\n",
       "}\n",
       "</style>\n",
       "<table id=\"T_d0ca6_\" style='display:inline'>\n",
       "  <thead>\n",
       "    <tr>\n",
       "      <th class=\"col_heading level0 col0\" >cause_of_death</th>\n",
       "      <th class=\"col_heading level0 col1\" >count</th>\n",
       "    </tr>\n",
       "  </thead>\n",
       "  <tbody>\n",
       "    <tr>\n",
       "      <td id=\"T_d0ca6_row0_col0\" class=\"data row0 col0\" >Not Reported</td>\n",
       "      <td id=\"T_d0ca6_row0_col1\" class=\"data row0 col1\" >797</td>\n",
       "    </tr>\n",
       "    <tr>\n",
       "      <td id=\"T_d0ca6_row1_col0\" class=\"data row1 col0\" >None</td>\n",
       "      <td id=\"T_d0ca6_row1_col1\" class=\"data row1 col1\" >84257</td>\n",
       "    </tr>\n",
       "    <tr>\n",
       "      <td id=\"T_d0ca6_row2_col0\" class=\"data row2 col0\" >HCC recurrence</td>\n",
       "      <td id=\"T_d0ca6_row2_col1\" class=\"data row2 col1\" >7</td>\n",
       "    </tr>\n",
       "    <tr>\n",
       "      <td id=\"T_d0ca6_row3_col0\" class=\"data row3 col0\" >Cancer Related</td>\n",
       "      <td id=\"T_d0ca6_row3_col1\" class=\"data row3 col1\" >336</td>\n",
       "    </tr>\n",
       "    <tr>\n",
       "      <td id=\"T_d0ca6_row4_col0\" class=\"data row4 col0\" >Unknown</td>\n",
       "      <td id=\"T_d0ca6_row4_col1\" class=\"data row4 col1\" >131</td>\n",
       "    </tr>\n",
       "    <tr>\n",
       "      <td id=\"T_d0ca6_row5_col0\" class=\"data row5 col0\" >Infection</td>\n",
       "      <td id=\"T_d0ca6_row5_col1\" class=\"data row5 col1\" >7</td>\n",
       "    </tr>\n",
       "    <tr>\n",
       "      <td id=\"T_d0ca6_row6_col0\" class=\"data row6 col0\" >Not Cancer Related</td>\n",
       "      <td id=\"T_d0ca6_row6_col1\" class=\"data row6 col1\" >107</td>\n",
       "    </tr>\n",
       "    <tr>\n",
       "      <td id=\"T_d0ca6_row7_col0\" class=\"data row7 col0\" >Surgical Complications</td>\n",
       "      <td id=\"T_d0ca6_row7_col1\" class=\"data row7 col1\" >4</td>\n",
       "    </tr>\n",
       "    <tr>\n",
       "      <td id=\"T_d0ca6_row8_col0\" class=\"data row8 col0\" >Cardiovascular Disorder, NOS</td>\n",
       "      <td id=\"T_d0ca6_row8_col1\" class=\"data row8 col1\" >4</td>\n",
       "    </tr>\n",
       "    <tr>\n",
       "      <td id=\"T_d0ca6_row9_col0\" class=\"data row9 col0\" >Cancer cell proliferation</td>\n",
       "      <td id=\"T_d0ca6_row9_col1\" class=\"data row9 col1\" >1</td>\n",
       "    </tr>\n",
       "    <tr>\n",
       "      <td id=\"T_d0ca6_row10_col0\" class=\"data row10 col0\" >Metastasis</td>\n",
       "      <td id=\"T_d0ca6_row10_col1\" class=\"data row10 col1\" >2</td>\n",
       "    </tr>\n",
       "    <tr>\n",
       "      <td id=\"T_d0ca6_row11_col0\" class=\"data row11 col0\" >Cerebral Hemorrhage</td>\n",
       "      <td id=\"T_d0ca6_row11_col1\" class=\"data row11 col1\" >1</td>\n",
       "    </tr>\n",
       "  </tbody>\n",
       "</table>\n"
      ]
     },
     "metadata": {},
     "output_type": "display_data"
    },
    {
     "data": {
      "text/plain": []
     },
     "execution_count": 18,
     "metadata": {},
     "output_type": "execute_result"
    }
   ],
   "source": [
    "Q('sex IS NOT null').subject.count.run()"
   ]
  },
  {
   "cell_type": "markdown",
   "id": "7d6110ca",
   "metadata": {},
   "source": [
    "### Query 1\n",
    "\n",
    "**Find data for subjects who were diagnosed after the age of 50 and who were investigated as part of the TCGA-OV project.**"
   ]
  },
  {
   "cell_type": "code",
   "execution_count": 19,
   "id": "a89bc0d1",
   "metadata": {
    "scrolled": true
   },
   "outputs": [
    {
     "data": {
      "text/html": [
       "<pre style=\"white-space:pre;overflow-x:auto;line-height:normal;font-family:Menlo,'DejaVu Sans Mono',consolas,'Courier New',monospace\">Getting results from database\n",
       "\n",
       "</pre>\n"
      ],
      "text/plain": [
       "Getting results from database\n",
       "\n"
      ]
     },
     "metadata": {},
     "output_type": "display_data"
    },
    {
     "name": "stdout",
     "output_type": "stream",
     "text": [
      "Total execution time: 3310 ms\n"
     ]
    },
    {
     "data": {
      "text/html": [
       "<pre style=\"white-space:pre;overflow-x:auto;line-height:normal;font-family:Menlo,'DejaVu Sans Mono',consolas,'Courier New',monospace\">    total : <span style=\"color: #008080; text-decoration-color: #008080; font-weight: bold\">701</span>     \n",
       "</pre>\n"
      ],
      "text/plain": [
       "    total : \u001b[1;36m701\u001b[0m     \n"
      ]
     },
     "metadata": {},
     "output_type": "display_data"
    },
    {
     "data": {
      "text/html": [
       "<pre style=\"white-space:pre;overflow-x:auto;line-height:normal;font-family:Menlo,'DejaVu Sans Mono',consolas,'Courier New',monospace\">   files : <span style=\"color: #008080; text-decoration-color: #008080; font-weight: bold\">103570</span>   \n",
       "</pre>\n"
      ],
      "text/plain": [
       "   files : \u001b[1;36m103570\u001b[0m   \n"
      ]
     },
     "metadata": {},
     "output_type": "display_data"
    },
    {
     "data": {
      "text/html": [
       "<style type=\"text/css\">\n",
       "#T_0bb2f_ th {\n",
       "  background-color: #000066;\n",
       "  color: white;\n",
       "  text-align: left;\n",
       "}\n",
       "#T_0bb2f_ td {\n",
       "  text-align: left;\n",
       "  border-bottom: 1px solid black;\n",
       "}\n",
       "</style>\n",
       "<table id=\"T_0bb2f_\" style='display:inline'>\n",
       "  <thead>\n",
       "    <tr>\n",
       "      <th class=\"col_heading level0 col0\" >system</th>\n",
       "      <th class=\"col_heading level0 col1\" >count</th>\n",
       "    </tr>\n",
       "  </thead>\n",
       "  <tbody>\n",
       "    <tr>\n",
       "      <td id=\"T_0bb2f_row0_col0\" class=\"data row0 col0\" >GDC</td>\n",
       "      <td id=\"T_0bb2f_row0_col1\" class=\"data row0 col1\" >513</td>\n",
       "    </tr>\n",
       "    <tr>\n",
       "      <td id=\"T_0bb2f_row1_col0\" class=\"data row1 col0\" >PDC</td>\n",
       "      <td id=\"T_0bb2f_row1_col1\" class=\"data row1 col1\" >201</td>\n",
       "    </tr>\n",
       "  </tbody>\n",
       "</table>\n",
       "<style type=\"text/css\">\n",
       "#T_f7c4c_ th {\n",
       "  background-color: #000066;\n",
       "  color: white;\n",
       "  text-align: left;\n",
       "}\n",
       "#T_f7c4c_ td {\n",
       "  text-align: left;\n",
       "  border-bottom: 1px solid black;\n",
       "}\n",
       "</style>\n",
       "<table id=\"T_f7c4c_\" style='display:inline'>\n",
       "  <thead>\n",
       "    <tr>\n",
       "      <th class=\"col_heading level0 col0\" >sex</th>\n",
       "      <th class=\"col_heading level0 col1\" >count</th>\n",
       "    </tr>\n",
       "  </thead>\n",
       "  <tbody>\n",
       "    <tr>\n",
       "      <td id=\"T_f7c4c_row0_col0\" class=\"data row0 col0\" >not reported</td>\n",
       "      <td id=\"T_f7c4c_row0_col1\" class=\"data row0 col1\" >266</td>\n",
       "    </tr>\n",
       "    <tr>\n",
       "      <td id=\"T_f7c4c_row1_col0\" class=\"data row1 col0\" >unspecified</td>\n",
       "      <td id=\"T_f7c4c_row1_col1\" class=\"data row1 col1\" >5</td>\n",
       "    </tr>\n",
       "    <tr>\n",
       "      <td id=\"T_f7c4c_row2_col0\" class=\"data row2 col0\" >None</td>\n",
       "      <td id=\"T_f7c4c_row2_col1\" class=\"data row2 col1\" >349</td>\n",
       "    </tr>\n",
       "    <tr>\n",
       "      <td id=\"T_f7c4c_row3_col0\" class=\"data row3 col0\" >unknown</td>\n",
       "      <td id=\"T_f7c4c_row3_col1\" class=\"data row3 col1\" >81</td>\n",
       "    </tr>\n",
       "  </tbody>\n",
       "</table>\n",
       "<style type=\"text/css\">\n",
       "#T_ad1e9_ th {\n",
       "  background-color: #000066;\n",
       "  color: white;\n",
       "  text-align: left;\n",
       "}\n",
       "#T_ad1e9_ td {\n",
       "  text-align: left;\n",
       "  border-bottom: 1px solid black;\n",
       "}\n",
       "</style>\n",
       "<table id=\"T_ad1e9_\" style='display:inline'>\n",
       "  <thead>\n",
       "    <tr>\n",
       "      <th class=\"col_heading level0 col0\" >race</th>\n",
       "      <th class=\"col_heading level0 col1\" >count</th>\n",
       "    </tr>\n",
       "  </thead>\n",
       "  <tbody>\n",
       "    <tr>\n",
       "      <td id=\"T_ad1e9_row0_col0\" class=\"data row0 col0\" >white</td>\n",
       "      <td id=\"T_ad1e9_row0_col1\" class=\"data row0 col1\" >7</td>\n",
       "    </tr>\n",
       "    <tr>\n",
       "      <td id=\"T_ad1e9_row1_col0\" class=\"data row1 col0\" >not reported</td>\n",
       "      <td id=\"T_ad1e9_row1_col1\" class=\"data row1 col1\" >267</td>\n",
       "    </tr>\n",
       "    <tr>\n",
       "      <td id=\"T_ad1e9_row2_col0\" class=\"data row2 col0\" >None</td>\n",
       "      <td id=\"T_ad1e9_row2_col1\" class=\"data row2 col1\" >349</td>\n",
       "    </tr>\n",
       "    <tr>\n",
       "      <td id=\"T_ad1e9_row3_col0\" class=\"data row3 col0\" >Unknown</td>\n",
       "      <td id=\"T_ad1e9_row3_col1\" class=\"data row3 col1\" >71</td>\n",
       "    </tr>\n",
       "    <tr>\n",
       "      <td id=\"T_ad1e9_row4_col0\" class=\"data row4 col0\" >not allowed to collect</td>\n",
       "      <td id=\"T_ad1e9_row4_col1\" class=\"data row4 col1\" >3</td>\n",
       "    </tr>\n",
       "    <tr>\n",
       "      <td id=\"T_ad1e9_row5_col0\" class=\"data row5 col0\" >black or african american</td>\n",
       "      <td id=\"T_ad1e9_row5_col1\" class=\"data row5 col1\" >4</td>\n",
       "    </tr>\n",
       "  </tbody>\n",
       "</table>\n",
       "<style type=\"text/css\">\n",
       "#T_33f5a_ th {\n",
       "  background-color: #000066;\n",
       "  color: white;\n",
       "  text-align: left;\n",
       "}\n",
       "#T_33f5a_ td {\n",
       "  text-align: left;\n",
       "  border-bottom: 1px solid black;\n",
       "}\n",
       "</style>\n",
       "<table id=\"T_33f5a_\" style='display:inline'>\n",
       "  <thead>\n",
       "    <tr>\n",
       "      <th class=\"col_heading level0 col0\" >ethnicity</th>\n",
       "      <th class=\"col_heading level0 col1\" >count</th>\n",
       "    </tr>\n",
       "  </thead>\n",
       "  <tbody>\n",
       "    <tr>\n",
       "      <td id=\"T_33f5a_row0_col0\" class=\"data row0 col0\" >not reported</td>\n",
       "      <td id=\"T_33f5a_row0_col1\" class=\"data row0 col1\" >290</td>\n",
       "    </tr>\n",
       "    <tr>\n",
       "      <td id=\"T_33f5a_row1_col0\" class=\"data row1 col0\" >None</td>\n",
       "      <td id=\"T_33f5a_row1_col1\" class=\"data row1 col1\" >349</td>\n",
       "    </tr>\n",
       "    <tr>\n",
       "      <td id=\"T_33f5a_row2_col0\" class=\"data row2 col0\" >Unknown</td>\n",
       "      <td id=\"T_33f5a_row2_col1\" class=\"data row2 col1\" >58</td>\n",
       "    </tr>\n",
       "    <tr>\n",
       "      <td id=\"T_33f5a_row3_col0\" class=\"data row3 col0\" >not hispanic or latino</td>\n",
       "      <td id=\"T_33f5a_row3_col1\" class=\"data row3 col1\" >1</td>\n",
       "    </tr>\n",
       "    <tr>\n",
       "      <td id=\"T_33f5a_row4_col0\" class=\"data row4 col0\" >not allowed to collect</td>\n",
       "      <td id=\"T_33f5a_row4_col1\" class=\"data row4 col1\" >3</td>\n",
       "    </tr>\n",
       "  </tbody>\n",
       "</table>\n",
       "<style type=\"text/css\">\n",
       "#T_f7685_ th {\n",
       "  background-color: #000066;\n",
       "  color: white;\n",
       "  text-align: left;\n",
       "}\n",
       "#T_f7685_ td {\n",
       "  text-align: left;\n",
       "  border-bottom: 1px solid black;\n",
       "}\n",
       "</style>\n",
       "<table id=\"T_f7685_\" style='display:inline'>\n",
       "  <thead>\n",
       "    <tr>\n",
       "      <th class=\"col_heading level0 col0\" >cause_of_death</th>\n",
       "      <th class=\"col_heading level0 col1\" >count</th>\n",
       "    </tr>\n",
       "  </thead>\n",
       "  <tbody>\n",
       "    <tr>\n",
       "      <td id=\"T_f7685_row0_col0\" class=\"data row0 col0\" >Not Reported</td>\n",
       "      <td id=\"T_f7685_row0_col1\" class=\"data row0 col1\" >111</td>\n",
       "    </tr>\n",
       "    <tr>\n",
       "      <td id=\"T_f7685_row1_col0\" class=\"data row1 col0\" >None</td>\n",
       "      <td id=\"T_f7685_row1_col1\" class=\"data row1 col1\" >590</td>\n",
       "    </tr>\n",
       "  </tbody>\n",
       "</table>\n"
      ]
     },
     "metadata": {},
     "output_type": "display_data"
    },
    {
     "data": {
      "text/plain": []
     },
     "execution_count": 19,
     "metadata": {},
     "output_type": "execute_result"
    }
   ],
   "source": [
    "Q('NOT (sex = \"male\" OR sex = \"female\" OR identifier.system = \"IDC\")').subject.count.run()"
   ]
  },
  {
   "cell_type": "code",
   "execution_count": 20,
   "id": "71bcebbe",
   "metadata": {},
   "outputs": [
    {
     "data": {
      "text/html": [
       "<pre style=\"white-space:pre;overflow-x:auto;line-height:normal;font-family:Menlo,'DejaVu Sans Mono',consolas,'Courier New',monospace\">Getting results from database\n",
       "\n",
       "</pre>\n"
      ],
      "text/plain": [
       "Getting results from database\n",
       "\n"
      ]
     },
     "metadata": {},
     "output_type": "display_data"
    },
    {
     "name": "stdout",
     "output_type": "stream",
     "text": [
      "Total execution time: 3292 ms\n"
     ]
    },
    {
     "data": {
      "text/html": [
       "<pre style=\"white-space:pre;overflow-x:auto;line-height:normal;font-family:Menlo,'DejaVu Sans Mono',consolas,'Courier New',monospace\">    total : <span style=\"color: #008080; text-decoration-color: #008080; font-weight: bold\">701</span>     \n",
       "</pre>\n"
      ],
      "text/plain": [
       "    total : \u001b[1;36m701\u001b[0m     \n"
      ]
     },
     "metadata": {},
     "output_type": "display_data"
    },
    {
     "data": {
      "text/html": [
       "<pre style=\"white-space:pre;overflow-x:auto;line-height:normal;font-family:Menlo,'DejaVu Sans Mono',consolas,'Courier New',monospace\">   files : <span style=\"color: #008080; text-decoration-color: #008080; font-weight: bold\">103570</span>   \n",
       "</pre>\n"
      ],
      "text/plain": [
       "   files : \u001b[1;36m103570\u001b[0m   \n"
      ]
     },
     "metadata": {},
     "output_type": "display_data"
    },
    {
     "data": {
      "text/html": [
       "<style type=\"text/css\">\n",
       "#T_d4cca_ th {\n",
       "  background-color: #000066;\n",
       "  color: white;\n",
       "  text-align: left;\n",
       "}\n",
       "#T_d4cca_ td {\n",
       "  text-align: left;\n",
       "  border-bottom: 1px solid black;\n",
       "}\n",
       "</style>\n",
       "<table id=\"T_d4cca_\" style='display:inline'>\n",
       "  <thead>\n",
       "    <tr>\n",
       "      <th class=\"col_heading level0 col0\" >system</th>\n",
       "      <th class=\"col_heading level0 col1\" >count</th>\n",
       "    </tr>\n",
       "  </thead>\n",
       "  <tbody>\n",
       "    <tr>\n",
       "      <td id=\"T_d4cca_row0_col0\" class=\"data row0 col0\" >PDC</td>\n",
       "      <td id=\"T_d4cca_row0_col1\" class=\"data row0 col1\" >201</td>\n",
       "    </tr>\n",
       "    <tr>\n",
       "      <td id=\"T_d4cca_row1_col0\" class=\"data row1 col0\" >GDC</td>\n",
       "      <td id=\"T_d4cca_row1_col1\" class=\"data row1 col1\" >513</td>\n",
       "    </tr>\n",
       "  </tbody>\n",
       "</table>\n",
       "<style type=\"text/css\">\n",
       "#T_6a049_ th {\n",
       "  background-color: #000066;\n",
       "  color: white;\n",
       "  text-align: left;\n",
       "}\n",
       "#T_6a049_ td {\n",
       "  text-align: left;\n",
       "  border-bottom: 1px solid black;\n",
       "}\n",
       "</style>\n",
       "<table id=\"T_6a049_\" style='display:inline'>\n",
       "  <thead>\n",
       "    <tr>\n",
       "      <th class=\"col_heading level0 col0\" >sex</th>\n",
       "      <th class=\"col_heading level0 col1\" >count</th>\n",
       "    </tr>\n",
       "  </thead>\n",
       "  <tbody>\n",
       "    <tr>\n",
       "      <td id=\"T_6a049_row0_col0\" class=\"data row0 col0\" >not reported</td>\n",
       "      <td id=\"T_6a049_row0_col1\" class=\"data row0 col1\" >266</td>\n",
       "    </tr>\n",
       "    <tr>\n",
       "      <td id=\"T_6a049_row1_col0\" class=\"data row1 col0\" >unknown</td>\n",
       "      <td id=\"T_6a049_row1_col1\" class=\"data row1 col1\" >81</td>\n",
       "    </tr>\n",
       "    <tr>\n",
       "      <td id=\"T_6a049_row2_col0\" class=\"data row2 col0\" >None</td>\n",
       "      <td id=\"T_6a049_row2_col1\" class=\"data row2 col1\" >349</td>\n",
       "    </tr>\n",
       "    <tr>\n",
       "      <td id=\"T_6a049_row3_col0\" class=\"data row3 col0\" >unspecified</td>\n",
       "      <td id=\"T_6a049_row3_col1\" class=\"data row3 col1\" >5</td>\n",
       "    </tr>\n",
       "  </tbody>\n",
       "</table>\n",
       "<style type=\"text/css\">\n",
       "#T_b5806_ th {\n",
       "  background-color: #000066;\n",
       "  color: white;\n",
       "  text-align: left;\n",
       "}\n",
       "#T_b5806_ td {\n",
       "  text-align: left;\n",
       "  border-bottom: 1px solid black;\n",
       "}\n",
       "</style>\n",
       "<table id=\"T_b5806_\" style='display:inline'>\n",
       "  <thead>\n",
       "    <tr>\n",
       "      <th class=\"col_heading level0 col0\" >race</th>\n",
       "      <th class=\"col_heading level0 col1\" >count</th>\n",
       "    </tr>\n",
       "  </thead>\n",
       "  <tbody>\n",
       "    <tr>\n",
       "      <td id=\"T_b5806_row0_col0\" class=\"data row0 col0\" >black or african american</td>\n",
       "      <td id=\"T_b5806_row0_col1\" class=\"data row0 col1\" >4</td>\n",
       "    </tr>\n",
       "    <tr>\n",
       "      <td id=\"T_b5806_row1_col0\" class=\"data row1 col0\" >not reported</td>\n",
       "      <td id=\"T_b5806_row1_col1\" class=\"data row1 col1\" >267</td>\n",
       "    </tr>\n",
       "    <tr>\n",
       "      <td id=\"T_b5806_row2_col0\" class=\"data row2 col0\" >None</td>\n",
       "      <td id=\"T_b5806_row2_col1\" class=\"data row2 col1\" >349</td>\n",
       "    </tr>\n",
       "    <tr>\n",
       "      <td id=\"T_b5806_row3_col0\" class=\"data row3 col0\" >Unknown</td>\n",
       "      <td id=\"T_b5806_row3_col1\" class=\"data row3 col1\" >71</td>\n",
       "    </tr>\n",
       "    <tr>\n",
       "      <td id=\"T_b5806_row4_col0\" class=\"data row4 col0\" >white</td>\n",
       "      <td id=\"T_b5806_row4_col1\" class=\"data row4 col1\" >7</td>\n",
       "    </tr>\n",
       "    <tr>\n",
       "      <td id=\"T_b5806_row5_col0\" class=\"data row5 col0\" >not allowed to collect</td>\n",
       "      <td id=\"T_b5806_row5_col1\" class=\"data row5 col1\" >3</td>\n",
       "    </tr>\n",
       "  </tbody>\n",
       "</table>\n",
       "<style type=\"text/css\">\n",
       "#T_befea_ th {\n",
       "  background-color: #000066;\n",
       "  color: white;\n",
       "  text-align: left;\n",
       "}\n",
       "#T_befea_ td {\n",
       "  text-align: left;\n",
       "  border-bottom: 1px solid black;\n",
       "}\n",
       "</style>\n",
       "<table id=\"T_befea_\" style='display:inline'>\n",
       "  <thead>\n",
       "    <tr>\n",
       "      <th class=\"col_heading level0 col0\" >ethnicity</th>\n",
       "      <th class=\"col_heading level0 col1\" >count</th>\n",
       "    </tr>\n",
       "  </thead>\n",
       "  <tbody>\n",
       "    <tr>\n",
       "      <td id=\"T_befea_row0_col0\" class=\"data row0 col0\" >not reported</td>\n",
       "      <td id=\"T_befea_row0_col1\" class=\"data row0 col1\" >290</td>\n",
       "    </tr>\n",
       "    <tr>\n",
       "      <td id=\"T_befea_row1_col0\" class=\"data row1 col0\" >None</td>\n",
       "      <td id=\"T_befea_row1_col1\" class=\"data row1 col1\" >349</td>\n",
       "    </tr>\n",
       "    <tr>\n",
       "      <td id=\"T_befea_row2_col0\" class=\"data row2 col0\" >Unknown</td>\n",
       "      <td id=\"T_befea_row2_col1\" class=\"data row2 col1\" >58</td>\n",
       "    </tr>\n",
       "    <tr>\n",
       "      <td id=\"T_befea_row3_col0\" class=\"data row3 col0\" >not allowed to collect</td>\n",
       "      <td id=\"T_befea_row3_col1\" class=\"data row3 col1\" >3</td>\n",
       "    </tr>\n",
       "    <tr>\n",
       "      <td id=\"T_befea_row4_col0\" class=\"data row4 col0\" >not hispanic or latino</td>\n",
       "      <td id=\"T_befea_row4_col1\" class=\"data row4 col1\" >1</td>\n",
       "    </tr>\n",
       "  </tbody>\n",
       "</table>\n",
       "<style type=\"text/css\">\n",
       "#T_8039e_ th {\n",
       "  background-color: #000066;\n",
       "  color: white;\n",
       "  text-align: left;\n",
       "}\n",
       "#T_8039e_ td {\n",
       "  text-align: left;\n",
       "  border-bottom: 1px solid black;\n",
       "}\n",
       "</style>\n",
       "<table id=\"T_8039e_\" style='display:inline'>\n",
       "  <thead>\n",
       "    <tr>\n",
       "      <th class=\"col_heading level0 col0\" >cause_of_death</th>\n",
       "      <th class=\"col_heading level0 col1\" >count</th>\n",
       "    </tr>\n",
       "  </thead>\n",
       "  <tbody>\n",
       "    <tr>\n",
       "      <td id=\"T_8039e_row0_col0\" class=\"data row0 col0\" >None</td>\n",
       "      <td id=\"T_8039e_row0_col1\" class=\"data row0 col1\" >590</td>\n",
       "    </tr>\n",
       "    <tr>\n",
       "      <td id=\"T_8039e_row1_col0\" class=\"data row1 col0\" >Not Reported</td>\n",
       "      <td id=\"T_8039e_row1_col1\" class=\"data row1 col1\" >111</td>\n",
       "    </tr>\n",
       "  </tbody>\n",
       "</table>\n"
      ]
     },
     "metadata": {},
     "output_type": "display_data"
    },
    {
     "data": {
      "text/plain": []
     },
     "execution_count": 20,
     "metadata": {},
     "output_type": "execute_result"
    }
   ],
   "source": [
    "Q('sex != \"male\" AND sex != \"female\" AND identifier.system != \"IDC\"').subject.count.run()"
   ]
  },
  {
   "cell_type": "code",
   "execution_count": 21,
   "id": "7f6ed866",
   "metadata": {},
   "outputs": [
    {
     "ename": "AttributeError",
     "evalue": "'Q' object has no attribute 'And'",
     "output_type": "error",
     "traceback": [
      "\u001b[0;31m---------------------------------------------------------------------------\u001b[0m",
      "\u001b[0;31mAttributeError\u001b[0m                            Traceback (most recent call last)",
      "\u001b[0;32m/var/folders/rg/vnn75sf557bcqfnmm_gcxs2r0000gq/T/ipykernel_35629/3782619200.py\u001b[0m in \u001b[0;36m<module>\u001b[0;34m\u001b[0m\n\u001b[1;32m      3\u001b[0m \u001b[0mq3\u001b[0m \u001b[0;34m=\u001b[0m \u001b[0mQ\u001b[0m\u001b[0;34m(\u001b[0m\u001b[0;34m'identifier.system = \"PDC\"'\u001b[0m\u001b[0;34m)\u001b[0m\u001b[0;34m\u001b[0m\u001b[0;34m\u001b[0m\u001b[0m\n\u001b[1;32m      4\u001b[0m \u001b[0;34m\u001b[0m\u001b[0m\n\u001b[0;32m----> 5\u001b[0;31m \u001b[0mr2\u001b[0m \u001b[0;34m=\u001b[0m \u001b[0mq1\u001b[0m\u001b[0;34m.\u001b[0m\u001b[0mAnd\u001b[0m\u001b[0;34m(\u001b[0m\u001b[0mq2\u001b[0m\u001b[0;34m)\u001b[0m\u001b[0;34m\u001b[0m\u001b[0;34m\u001b[0m\u001b[0m\n\u001b[0m\u001b[1;32m      6\u001b[0m \u001b[0mr3\u001b[0m \u001b[0;34m=\u001b[0m \u001b[0mq1\u001b[0m\u001b[0;34m.\u001b[0m\u001b[0mAnd\u001b[0m\u001b[0;34m(\u001b[0m\u001b[0mq3\u001b[0m\u001b[0;34m)\u001b[0m\u001b[0;34m\u001b[0m\u001b[0;34m\u001b[0m\u001b[0m\n\u001b[1;32m      7\u001b[0m \u001b[0;34m\u001b[0m\u001b[0m\n",
      "\u001b[0;31mAttributeError\u001b[0m: 'Q' object has no attribute 'And'"
     ]
    }
   ],
   "source": [
    "q1 = Q('sex = \"male\"')\n",
    "q2 = Q('identifier.system = \"GDC\"')\n",
    "q3 = Q('identifier.system = \"PDC\"')\n",
    "\n",
    "r2 = q1.And(q2)\n",
    "r3 = q1.And(q3)\n",
    "\n",
    "#taco = r2.run()\n",
    "#taco\n",
    "\n",
    "burrito = r3.run()\n"
   ]
  },
  {
   "cell_type": "code",
   "execution_count": null,
   "id": "09383046",
   "metadata": {},
   "outputs": [],
   "source": [
    "burrito"
   ]
  },
  {
   "cell_type": "raw",
   "id": "36f72ef8",
   "metadata": {},
   "source": []
  },
  {
   "cell_type": "code",
   "execution_count": null,
   "id": "f5739a0b",
   "metadata": {},
   "outputs": [],
   "source": [
    "q1 = Q('sex = \"male\"')\n",
    "\n",
    "taco = q1.run()\n",
    "taco"
   ]
  },
  {
   "cell_type": "code",
   "execution_count": null,
   "id": "387c3bdf",
   "metadata": {},
   "outputs": [],
   "source": [
    "from pandas import DataFrame,concat\n",
    "q = query('ResearchSubject.primary_diagnosis_condition LIKE \"Lung%\" AND sex = \"male\"').run()\n",
    "print(q)\n",
    "df = DataFrame()\n",
    "for i in q.paginator(to_df=True):\n",
    "    print(len(i))\n",
    "    df = concat([df,i])"
   ]
  },
  {
   "cell_type": "code",
   "execution_count": null,
   "id": "a04c69bf",
   "metadata": {
    "scrolled": true
   },
   "outputs": [],
   "source": [
    "df"
   ]
  },
  {
   "cell_type": "code",
   "execution_count": null,
   "id": "8b5d03bd",
   "metadata": {},
   "outputs": [],
   "source": [
    "r.to_dataframe()"
   ]
  },
  {
   "cell_type": "markdown",
   "id": "b699730b",
   "metadata": {},
   "source": [
    "### Query 2\n",
    "\n",
    "**Find data for donors with melanoma (Nevi and Melanomas) diagnosis and who were diagnosed before the age of 30.**"
   ]
  },
  {
   "cell_type": "code",
   "execution_count": null,
   "id": "fe6c9789",
   "metadata": {},
   "outputs": [],
   "source": [
    "q1 = Q('ResearchSubject.Specimen.primary_disease_type = \"Nevi and Melanomas\"')\n",
    "q2 = Q('ResearchSubject.Diagnosis.age_at_diagnosis < 30*365')\n",
    "\n",
    "q = q1.AND(q2)\n",
    "r = q.run()\n",
    "\n",
    "r.to_dataframe()\n"
   ]
  },
  {
   "cell_type": "markdown",
   "id": "86f047da",
   "metadata": {},
   "source": [
    "In addition, we can check how many records come from particular systems by adding one more condition to the query:"
   ]
  },
  {
   "cell_type": "code",
   "execution_count": null,
   "id": "b6d21e26",
   "metadata": {},
   "outputs": [],
   "source": [
    "q1 = Q('ResearchSubject.Specimen.primary_disease_type = \"Nevi and Melanomas\"')\n",
    "q2 = Q('ResearchSubject.Diagnosis.age_at_diagnosis < 30*365')\n",
    "q3 = Q('ResearchSubject.Specimen.identifier.system = \"GDC\"')\n",
    "\n",
    "q = q1.And(q2.And(q3))\n",
    "r = q.run()\n",
    "\n",
    "print(r)"
   ]
  },
  {
   "cell_type": "markdown",
   "id": "2b9688be",
   "metadata": {},
   "source": [
    "By comparing the ```Count``` value of the two results we can see that all the patients returned in the initial query are coming from the GDC.\n",
    "\n",
    "To explore the results further, we can fetch the patient JSON objects by iterating through the results:"
   ]
  },
  {
   "cell_type": "code",
   "execution_count": null,
   "id": "d56029b6",
   "metadata": {},
   "outputs": [],
   "source": [
    "projects = set()\n",
    "\n",
    "for patient in r:\n",
    "    research_subjects = patient['ResearchSubject']\n",
    "    for rs in research_subjects:\n",
    "        projects.add(rs['member_of_research_project'])\n",
    "\n",
    "print(projects)"
   ]
  },
  {
   "cell_type": "markdown",
   "id": "fa400f13",
   "metadata": {},
   "source": [
    "The output shows the projects where _Nevi and Melanomas_ cases appear."
   ]
  },
  {
   "cell_type": "markdown",
   "id": "9a2a4196",
   "metadata": {},
   "source": [
    "### Query 3\n",
    "\n",
    "**Identify all samples that meet the following conditions:**\n",
    "\n",
    "* **Sample is from primary tumor**\n",
    "* **Disease is ovarian or breast cancer**\n",
    "* **Subjects are females under the age of 60 years**"
   ]
  },
  {
   "cell_type": "code",
   "execution_count": null,
   "id": "c1b9c223",
   "metadata": {},
   "outputs": [],
   "source": [
    "tumor_type = Q('ResearchSubject.Specimen.source_material_type = \"Primary Tumor\"')\n",
    "disease1 = Q('ResearchSubject.primary_diagnosis_site = \"Ovary\"')\n",
    "disease2 = Q('ResearchSubject.primary_diagnosis_site = \"Breast\"')\n",
    "demographics1 = Q('sex = \"female\"')\n",
    "demographics2 = Q('days_to_birth > -60*365') # note that days_to_birth is a negative value\n",
    "\n",
    "q1 = tumor_type.And(demographics1.And(demographics2))\n",
    "q2 = disease1.Or(disease2)\n",
    "q = q1.And(q2)\n",
    "\n",
    "r = q.run()\n",
    "print(r)"
   ]
  },
  {
   "cell_type": "markdown",
   "id": "b3c461c9",
   "metadata": {},
   "source": [
    "In this case, we have a result that contains more than 1000 records which is the default page size. To load the next 1000 records, we can use the ```next_page()``` method:"
   ]
  },
  {
   "cell_type": "code",
   "execution_count": null,
   "id": "5311b00e",
   "metadata": {},
   "outputs": [],
   "source": [
    "r2 = r.next_page()"
   ]
  },
  {
   "cell_type": "code",
   "execution_count": null,
   "id": "db00c81e",
   "metadata": {},
   "outputs": [],
   "source": [
    "print(r2)"
   ]
  },
  {
   "cell_type": "markdown",
   "id": "4e5d887b",
   "metadata": {},
   "source": [
    "Alternatively, we can use the ```offset``` argument to specify the record to start from:\n",
    "\n",
    "```\n",
    "...\n",
    "r = q.run(offset=1000)\n",
    "print(r)\n",
    "```"
   ]
  },
  {
   "cell_type": "markdown",
   "id": "ee95df21",
   "metadata": {},
   "source": [
    "### Query 4\n",
    "\n",
    "**Find data for donors with \"Ovarian Serous Cystadenocarcinoma\" with proteomic and genomic data.**"
   ]
  },
  {
   "cell_type": "markdown",
   "id": "bb34dd14",
   "metadata": {},
   "source": [
    "**Note that disease type value denoting the same disease groups can be completely different within different systems. This is where CDA features come into play.** We first start by exploring the values available for this particular field in both systems."
   ]
  },
  {
   "cell_type": "code",
   "execution_count": null,
   "id": "44178304",
   "metadata": {},
   "outputs": [],
   "source": [
    "unique_terms('ResearchSubject.primary_diagnosis_condition', system=\"GDC\")"
   ]
  },
  {
   "cell_type": "markdown",
   "id": "6b4fb5ba",
   "metadata": {},
   "source": [
    "Since “Ovarian Serous Cystadenocarcinoma” doesn’t appear in GDC values we decide to look into the PDC:"
   ]
  },
  {
   "cell_type": "code",
   "execution_count": null,
   "id": "ae1afcbc",
   "metadata": {},
   "outputs": [],
   "source": [
    "unique_terms('ResearchSubject.primary_diagnosis_condition', system=\"PDC\")"
   ]
  },
  {
   "cell_type": "markdown",
   "id": "b5a060ff",
   "metadata": {},
   "source": [
    "After examining the output, we see that it does come from the PDC. Hence, if we could first identify the data that has research subjects found within the PDC that have this particular disease type, and then further narrow down the results to include only the portion of the data that is present in GDC, we could get the records that we are looking for."
   ]
  },
  {
   "cell_type": "code",
   "execution_count": null,
   "id": "c14fb138",
   "metadata": {},
   "outputs": [],
   "source": [
    "q1 = Q('ResearchSubject.primary_diagnosis_condition = \"Ovarian Serous Cystadenocarcinoma\"')\n",
    "q2 = Q('ResearchSubject.identifier.system = \"PDC\"')\n",
    "q3 = Q('ResearchSubject.identifier.system = \"GDC\"')\n",
    "\n",
    "q = q3.From(q1.And(q2))\n",
    "r = q.run()\n",
    "\n",
    "print(r)"
   ]
  },
  {
   "cell_type": "markdown",
   "id": "836586ad",
   "metadata": {},
   "source": [
    "As you can see, this is achieved by utilizing ```From``` operator. The ```From``` operator allows us to create queries from results of other queries. This is particularly useful when working with conditions that involve a single field which can take multiple different values for different items in a list that is being part of, e.g. we need ```ResearchSubject.identifier.system``` to be both “PDC” and “GDC” for a single patient. In such cases, ```And``` operator can’t help because it will return those entries where the field takes both values, which is zero entries."
   ]
  },
  {
   "cell_type": "code",
   "execution_count": null,
   "id": "a74b89e3",
   "metadata": {},
   "outputs": [],
   "source": [
    "for i in Q.sql(\"SELECT * FROM `gdc-bq-sample.cda_mvp.INFORMATION_SCHEMA.COLUMN_FIELD_PATHS` WHERE table_name = 'v3' Limit 5\"):\n",
    "    print(i)"
   ]
  },
  {
   "cell_type": "code",
   "execution_count": null,
   "id": "18853b66",
   "metadata": {},
   "outputs": [],
   "source": [
    "q1 = query('ResearchSubject.identifier.system = \"GDC\" FROM ResearchSubject.primary_diagnosis_condition = \"Ovarian Serous Cystadenocarcinoma\" AND ResearchSubject.identifier.system = \"PDC\"')\n",
    "result = q1.run(async_call=True)\n",
    "print(result)\n"
   ]
  },
  {
   "cell_type": "markdown",
   "id": "1214151e",
   "metadata": {},
   "source": [
    "## Data extraction and release information"
   ]
  },
  {
   "cell_type": "code",
   "execution_count": null,
   "id": "c167f32b",
   "metadata": {},
   "outputs": [],
   "source": [
    "# If you are interested in the extraction dates or data release versions of GDC, PDC, or IDC that is in a table or view, execute this code\n",
    "\n",
    "for i in Q.sql(\"SELECT option_value FROM `gdc-bq-sample.integration.INFORMATION_SCHEMA.TABLE_OPTIONS` WHERE table_name = 'all_v1'\"):\n",
    "    print(i)"
   ]
  }
 ],
 "metadata": {
  "interpreter": {
   "hash": "5c867d1980d5b66d2bfc8a5903dcee074b4b68f3917a4f27f8a310cab24e9f1b"
  },
  "kernelspec": {
   "display_name": "Python 3 (ipykernel)",
   "language": "python",
   "name": "python3"
  },
  "language_info": {
   "codemirror_mode": {
    "name": "ipython",
    "version": 3
   },
   "file_extension": ".py",
   "mimetype": "text/x-python",
   "name": "python",
   "nbconvert_exporter": "python",
   "pygments_lexer": "ipython3",
   "version": "3.7.13"
  },
  "metadata": {
   "interpreter": {
    "hash": "5c867d1980d5b66d2bfc8a5903dcee074b4b68f3917a4f27f8a310cab24e9f1b"
   }
  }
 },
 "nbformat": 4,
 "nbformat_minor": 5
}
