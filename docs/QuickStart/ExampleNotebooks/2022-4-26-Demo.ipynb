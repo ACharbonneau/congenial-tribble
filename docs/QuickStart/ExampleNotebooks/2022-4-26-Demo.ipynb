{
 "cells": [
  {
   "cell_type": "markdown",
   "id": "1d3922f4",
   "metadata": {},
   "source": [
    "Before we do any work, we need to import several functions from cdapython:\n",
    "- `Q` and `query` which power the search\n",
    "- `columns` which lets us view entity field names\n",
    "- `unique_terms` which lets view entity field contents\n",
    "\n",
    "We're also asking cdapython to report it's version so we can be sure we're using the one we mean to."
   ]
  },
  {
   "cell_type": "code",
   "execution_count": 1,
   "id": "c4c41af9",
   "metadata": {},
   "outputs": [
    {
     "name": "stdout",
     "output_type": "stream",
     "text": [
      "2022.4.13\n"
     ]
    }
   ],
   "source": [
    "from cdapython import Q, columns, unique_terms, query\n",
    "import cdapython\n",
    "print(cdapython.__version__)\n",
    "Q.set_host_url(\"http://35.192.60.10:8080/\")"
   ]
  },
  {
   "cell_type": "markdown",
   "id": "acc521cc",
   "metadata": {},
   "source": [
    "\n",
    "\n",
    "CDA data comes from three sources:\n",
    "- The [Proteomic Data Commons](https://proteomic.datacommons.cancer.gov/pdc/) (PDC)\n",
    "- The [Genomic Data Commons](https://gdc.cancer.gov/) (GDC)\n",
    "- The [Imaging Data Commons](https://datacommons.cancer.gov/repository/imaging-data-commons) (IDC)\n",
    "\n",
    "The CDA makes this data searchable in two ways, by a \"Subject\" table and by \"File\" table. \n",
    "\n",
    "`Subject` data is information that is intrisic to the individual under study, e.g. `sex`, `race`, `ethnicity`. However any given subject might be part of multiple studies. To make search across datasets easier, the CDA model aggregates this data as `ResearchSubject` information. Subjects that participate in multiple projects (are part of multiple nodes), will have multiple `ResearchSubject` entries.\n",
    "\n",
    "`Subject` and `ResearchSubject` fields are available for both the \"Subject\" and \"File\" tables, however terms specific to files e.g. 'data_type' or 'file_format' are only available in \"File\" table.\n",
    "\n",
    "To see what fields are available, we use the command `columns`. Here we're looking at the first ten metadata fields available for files:"
   ]
  },
  {
   "cell_type": "code",
   "execution_count": 2,
   "id": "0da1349e",
   "metadata": {},
   "outputs": [
    {
     "data": {
      "text/plain": [
       "['id',\n",
       " 'identifier',\n",
       " 'identifier.system',\n",
       " 'identifier.value',\n",
       " 'label',\n",
       " 'data_category',\n",
       " 'data_type',\n",
       " 'file_format',\n",
       " 'associated_project',\n",
       " 'drs_uri']"
      ]
     },
     "execution_count": 2,
     "metadata": {},
     "output_type": "execute_result"
    }
   ],
   "source": [
    "columns(files=True, limit=10)"
   ]
  },
  {
   "cell_type": "markdown",
   "id": "2f5456b3",
   "metadata": {},
   "source": [
    "By default, `columns()` returns `Subject` table fields. The first several fields (those without a `.` in them) are `Subject` demographic information, which is intrinsically attached to a given subject. Subsequent entities (i.e. `Research.Subject.xxx`) contain details about specific experiments the subject was part of. They are equivilent to the nodes' `Case` record in the GDC and PDC. \n",
    "\n",
    "While available search fields may look like ones you've seen in PDC, GDC or IDC, that does not mean they will contain exactly the same information; several are renamed or restructured in the CDA model. The field name mappings are described in [CDA Schema Field Mapping](../Documentation/Schema.md), but we can also directly get information about what data populates any of these fields using the `unique_terms()` function:"
   ]
  },
  {
   "cell_type": "code",
   "execution_count": null,
   "id": "e1d258f0",
   "metadata": {},
   "outputs": [],
   "source": [
    "unique_terms(\"ResearchSubject.primary_diagnosis_site\", files=True, limit=10)"
   ]
  },
  {
   "cell_type": "markdown",
   "id": "6ca114f4",
   "metadata": {},
   "source": [
    "The CDA provides a custom python tool for searching CDA data. [`Q`](usage/#q) (short for Query) offers several ways to search and filter data, and several input modes:\n",
    "\n",
    "---\n",
    "\n",
    "- **[Q.run()](../../../Documentation/usage/#qrun)** returns **demographic** data for the specified search \n",
    "- **[Q.counts()](../../../Documentation/usage/#qcounts)** returns summary information (counts) for the **files** that fit the specified search\n",
    "- **[Q.files()](../../../Documentation/usage/#qfiles)** returns data for the **files** that fit the specified search\n",
    "- **[Q.sql()](../../../Documentation/usage/#qsql)** allows you to use SQL syntax instead of Q syntax \n",
    "- **[query()](../../../Documentation/usage/#query)** allows you to use a more natural language syntax of Q\n",
    "\n",
    "---\n",
    "\n",
    "\n",
    "For todays demo, I'm going to show you how you can use `Q.counts()`, `Q.files()`, and `Q.run()` to build a cohort"
   ]
  },
  {
   "cell_type": "markdown",
   "id": "0accc62e",
   "metadata": {},
   "source": [
    "## Retrieving summary information\n",
    "\n",
    "### Demographic summary\n",
    "Let's run a search with a relatively simple question: We're interested in finding data about Kidney cancer. To run this simple search, we would first construct a query in `Q` and save it to a variable `myquery`:"
   ]
  },
  {
   "cell_type": "code",
   "execution_count": null,
   "id": "2469c111",
   "metadata": {},
   "outputs": [],
   "source": [
    "myquery = Q('ResearchSubject.primary_diagnosis_site = \"Kidney\"')"
   ]
  },
  {
   "cell_type": "markdown",
   "id": "2fbcd69a",
   "metadata": {},
   "source": [
    "Since we are looking for demographic summary information, we want to use this query in Q.run. We do this by running .run() on the query we just saved, and saving the result to a new variable mydemographic:"
   ]
  },
  {
   "cell_type": "code",
   "execution_count": null,
   "id": "3b6ed3e1",
   "metadata": {
    "scrolled": true
   },
   "outputs": [],
   "source": [
    "mydemographic = myquery.run()"
   ]
  },
  {
   "cell_type": "markdown",
   "id": "159418ff",
   "metadata": {},
   "source": [
    "We're saving information in variables, so we don't get any visible output. To see what our results are, we need to look into the variable. The simplest way is to call `mydemographic` directly:"
   ]
  },
  {
   "cell_type": "code",
   "execution_count": null,
   "id": "cba0185a",
   "metadata": {
    "scrolled": true
   },
   "outputs": [],
   "source": [
    "mydemographic"
   ]
  },
  {
   "cell_type": "markdown",
   "id": "2d91bcd5",
   "metadata": {},
   "source": [
    "This output tells us our QueryID, which we don't really need, but the computer does to track our questions. \n",
    "Then it tells us five parameters that describe our results:\n",
    "\n",
    "---\n",
    "\n",
    "- **Query:** This is the actual SQL query that was run on our database to retreive your results\n",
    "- **Offset:** This is how many rows of information we've told the query to skip in the data, here we didn't tell it to skip anything, so the offset is zero\n",
    "- **Count:** This is how many rows (Subjects) the current page of our results table has. To keep searches fast, we default to pages with 100 rows.\n",
    "- **Total Row Count:** This is how many rows (Subjects) are in the full results table\n",
    "- **More pages:** This is alwasys a True or False. False means that our current page has all the availble results. True means that we will see only the first 100 results in this table, and will need to page through for more.\n",
    "\n",
    "---\n",
    "    \n",
    "Now that we've seen the metadata about our results, let's look at the actual table. The easiest way to do this is by using the python function `.to_dataframe()` on our `mydemographic` variable:"
   ]
  },
  {
   "cell_type": "code",
   "execution_count": null,
   "id": "2fe169d8",
   "metadata": {
    "scrolled": true
   },
   "outputs": [],
   "source": [
    "mydemographic.to_dataframe()"
   ]
  },
  {
   "cell_type": "markdown",
   "id": "18c4fa4e",
   "metadata": {},
   "source": [
    "#### We can further subset by chaining queries\n",
    "\n",
    "There are lots of Subjects in our general search for Kidney, so lets try to filter it to just cancer, we're most interested in early stage cancer, so we'll filter by Diagnosis.stage:\n"
   ]
  },
  {
   "cell_type": "code",
   "execution_count": null,
   "id": "d65582e1",
   "metadata": {
    "scrolled": true
   },
   "outputs": [],
   "source": [
    "cancerquery = Q('ResearchSubject.Diagnosis.stage = \"Stage I\"').Or(Q('ResearchSubject.Diagnosis.stage = \"Stage II\"'))\n",
    "kidneycancerquery = cancerquery.And(myquery)\n",
    "kidneycancerdemographic = kidneycancerquery.run()\n",
    "kidneycancerdemographic"
   ]
  },
  {
   "cell_type": "markdown",
   "id": "f68f3631",
   "metadata": {},
   "source": [
    "This is a much more managable number of subjects, and now they're targeted by our actual question. Let's peek at the data:"
   ]
  },
  {
   "cell_type": "code",
   "execution_count": null,
   "id": "08a1eb44",
   "metadata": {},
   "outputs": [],
   "source": [
    "kidneycancerdemographic.to_dataframe().head()"
   ]
  },
  {
   "cell_type": "markdown",
   "id": "f49aceb4",
   "metadata": {},
   "source": [
    "### File summary\n",
    "Now that we know there are research subjects that meet our criteria, lets see what data exists about them. We can get a summary of the data for these subjects using the `counts()` feature:"
   ]
  },
  {
   "cell_type": "code",
   "execution_count": null,
   "id": "029a5073",
   "metadata": {
    "scrolled": true
   },
   "outputs": [],
   "source": [
    "kidneycancerquery.counts()"
   ]
  },
  {
   "cell_type": "markdown",
   "id": "537a229c",
   "metadata": {},
   "source": [
    "### What do these numbers mean?\n",
    "\n",
    "---\n",
    "    \n",
    "- **system:** Which data source contributed this data? The CDA currently has data from IDC, PDC and GDC\n",
    "- **subject_count:** How many unique individuals meet our query. Note that *within* a data source the number is of *unique* individuals, but the same individuals can have data at multiple centers. Here, there are 371 unique people in the IDC data, however up to 57 of those may be exactly the same people as are in the PDC data.\n",
    "- **subject_files_count:** This tells you roughly how much data is available. It is the total count of files for all the subjects in `subject_count`, which is also the total number of files that match your search.\n",
    "- **researchsubject_count:** Some data sources have individual subjects that are in multiple studies, when this happens the individual will have both a \"subject\" identifier and a \"researchsubject\" identifier. This column counts the latter. Zero in this column can mean either \"there are no research_subjects that meet your search criteria\" or \"the data source for this row does not create special identifiers for subjects in multiple studies\"\n",
    "- **researchsubject_files_count:** This is the total count of files specific to researchsubjects in `researchsubject_count`. It is a subset of `subject_count`\n",
    "- **specimen_count:** Some data sources track whether files come from specific specimens from a given individual. This column counts the number of specimens that meet your search criteria. Zero in this column can mean either \"there are no specimens that meet your search criteria\" or \"the data source for this row does not track specimens seperately from subjects\"\n",
    "- **specimen_files_count:** This is the total count of files specific to specimens in `specimen_count`. It is a subset of both `subject_count` and `researchsubject_files_count`\n",
    "\n",
    "---"
   ]
  },
  {
   "cell_type": "markdown",
   "id": "70034105",
   "metadata": {},
   "source": [
    "## Retrieving data\n",
    "\n",
    "\n",
    "Let's run the same query, but instead of asking for summary information, lets get the data about each file. We start this process the same way, by making a `Q` statement. We can reuse `cancerquery` here as well, and just run the `.files()` function on it: "
   ]
  },
  {
   "cell_type": "code",
   "execution_count": null,
   "id": "21f2d892",
   "metadata": {},
   "outputs": [],
   "source": [
    "kidneycancerfiles = kidneycancerquery.files()\n",
    "kidneycancerfiles"
   ]
  },
  {
   "cell_type": "code",
   "execution_count": null,
   "id": "93b93184",
   "metadata": {},
   "outputs": [],
   "source": [
    "kidneycancerfiles.to_dataframe()"
   ]
  },
  {
   "cell_type": "markdown",
   "id": "ebac6792",
   "metadata": {},
   "source": [
    "What are all these fields?\n",
    "\n",
    "---\n",
    "\n",
    "- **id:** The unique identifier for this file\n",
    "- **identifier:** An embedded array of information that includes the originating data center and the ID the file had there\n",
    "- **label:** The full name of the file\n",
    "- **data_catagory:** A desecription of the kind of general kind data the file holds\n",
    "- **data_type:** A more specific descripton of the data type\n",
    "- **file_format:** The extension of the file\n",
    "- **associated_project:** The name the data center uses for the study this file was generated for\n",
    "- **drs_uri:** A unique identifier that can be used to retreive this specific file from a server\n",
    "- **byte_size:** Size of the file in bytes\n",
    "- **checksum:** The md5 value for the file\n",
    "- **data_modality:** A high level descriptor of file data, always one of \"Genomic\", \"Proteomic\", or \"Imaging\"\n",
    "- **imaging_modality** For files with the `data_modality` of \"Imaging\", a descriptor for the image type\n",
    "- **dbgap_accession_number:** An identifier for the dbGaP project this file belongs to\n",
    "- **Subject:** An embedded array of information that includes the originating data center and the Subject ID the file had there\n",
    "- **ResearchSubject:** An embedded array of information that includes the originating data center and the ResearchSubject ID the file had there\n",
    "- **Specimen:** An embedded array of information that includes the originating data center and the Specimen ID the file had there\n",
    "\n",
    "---\n"
   ]
  }
 ],
 "metadata": {
  "kernelspec": {
   "display_name": "Python 3 (ipykernel)",
   "language": "python",
   "name": "python3"
  },
  "language_info": {
   "codemirror_mode": {
    "name": "ipython",
    "version": 3
   },
   "file_extension": ".py",
   "mimetype": "text/x-python",
   "name": "python",
   "nbconvert_exporter": "python",
   "pygments_lexer": "ipython3",
   "version": "3.7.13"
  }
 },
 "nbformat": 4,
 "nbformat_minor": 5
}
