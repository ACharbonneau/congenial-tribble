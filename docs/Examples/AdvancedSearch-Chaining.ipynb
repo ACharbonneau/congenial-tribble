{
 "cells": [
  {
   "cell_type": "markdown",
   "id": "3c341e94",
   "metadata": {},
   "source": [
    "# Chaining Search Terms\n",
    "---"
   ]
  },
  {
   "cell_type": "markdown",
   "id": "a8387f59",
   "metadata": {},
   "source": [
    "Before we do any work, we need to import several functions from cdapython:\n",
    "\n",
    "\n",
    "- `Q` and `query` which power the search\n",
    "- `columns` which lets us view entity field names\n",
    "- `unique_terms` which lets view entity field contents\n",
    "    \n",
    "We're also asking cdapython to report it's version so we can be sure we're using the one we mean to."
   ]
  },
  {
   "cell_type": "code",
   "execution_count": 1,
   "id": "28a10e23",
   "metadata": {},
   "outputs": [
    {
     "name": "stdout",
     "output_type": "stream",
     "text": [
      "2022.6.22\n"
     ]
    }
   ],
   "source": [
    "from cdapython import Q, columns, unique_terms, query\n",
    "import cdapython\n",
    "print(cdapython.__version__)\n",
    "Q.set_host_url(\"http://35.192.60.10:8080/\")"
   ]
  },
  {
   "cell_type": "markdown",
   "id": "0810c61c",
   "metadata": {},
   "source": [
    "\n",
    "The CDA provides a custom python tool for searching CDA data. [`Q`](usage/#q) (short for Query) offers several ways to search and filter data, and several input modes:\n",
    "\n",
    "---\n",
    "\n",
    "- **[Q.run()](../../../Documentation/usage/#qrun)** returns data for the specified search \n",
    "- **[Q.count()](../../../Documentation/usage/#qcounts)** returns summary information (counts) data that fit the specified search\n",
    "\n",
    "---"
   ]
  },
  {
   "cell_type": "markdown",
   "id": "bd8084b3",
   "metadata": {},
   "source": [
    "## Endpoint Chaining\n",
    "\n",
    "We're going to build on our [previous search](../BasicSearch) to see what information exists about cancers that were first diagnosed in the brain. \n"
   ]
  },
  {
   "cell_type": "code",
   "execution_count": 2,
   "id": "d804f764",
   "metadata": {
    "scrolled": false
   },
   "outputs": [],
   "source": [
    "myquery = Q('ResearchSubject.primary_diagnosis_site = \"brain\"')\n"
   ]
  },
  {
   "cell_type": "markdown",
   "id": "736ad485",
   "metadata": {},
   "source": [
    "Previously we looked at subject, research_subject, specimen and file results seperately, but we can also combine these. \n",
    "\n",
    "Let's say what we're really interested in is finding analysis done on specimens, so we're looking for files that belong to specimens that match our search. If we search the files endpoint directly, we'll get back all files that meet our search criteria, regardless of whether they are specimens specficially. Instead, we can chain our query to the specimen endpoint and then to the files endpoint and get the combined result:"
   ]
  },
  {
   "cell_type": "code",
   "execution_count": 3,
   "id": "7284df72",
   "metadata": {
    "scrolled": true
   },
   "outputs": [
    {
     "data": {
      "text/html": [
       "<pre style=\"white-space:pre;overflow-x:auto;line-height:normal;font-family:Menlo,'DejaVu Sans Mono',consolas,'Courier New',monospace\">Getting results from database\n",
       "\n",
       "</pre>\n"
      ],
      "text/plain": [
       "Getting results from database\n",
       "\n"
      ]
     },
     "metadata": {},
     "output_type": "display_data"
    },
    {
     "name": "stderr",
     "output_type": "stream",
     "text": [
      "ERROR:root:\n",
      "                Http Status: 500\n",
      "                Error Message: Access Denied: Table broad-dsde-prod:cda_prod.all_v3_0_Files: User does not have permission to query table broad-dsde-prod:cda_prod.all_v3_0_Files.\n",
      "                \n"
     ]
    },
    {
     "name": "stdout",
     "output_type": "stream",
     "text": [
      "Total execution time: 655 ms\n"
     ]
    }
   ],
   "source": [
    "myqueryspecimenfiles =  myquery.specimen.file.run()\n",
    "myqueryspecimenfiles"
   ]
  },
  {
   "cell_type": "markdown",
   "id": "89d9154b",
   "metadata": {},
   "source": [
    "We get back 50495 files that belong to specimens that meet our search criteria. As before, we can preview the results by using the `.to_dataframe()` function:"
   ]
  },
  {
   "cell_type": "code",
   "execution_count": 4,
   "id": "410b0e2b",
   "metadata": {
    "scrolled": true
   },
   "outputs": [
    {
     "ename": "AttributeError",
     "evalue": "'NoneType' object has no attribute 'to_dataframe'",
     "output_type": "error",
     "traceback": [
      "\u001b[0;31m---------------------------------------------------------------------------\u001b[0m",
      "\u001b[0;31mAttributeError\u001b[0m                            Traceback (most recent call last)",
      "\u001b[0;32m/var/folders/rg/vnn75sf557bcqfnmm_gcxs2r0000gq/T/ipykernel_32873/4000966442.py\u001b[0m in \u001b[0;36m<module>\u001b[0;34m\u001b[0m\n\u001b[0;32m----> 1\u001b[0;31m \u001b[0mmyqueryspecimenfiles\u001b[0m\u001b[0;34m.\u001b[0m\u001b[0mto_dataframe\u001b[0m\u001b[0;34m(\u001b[0m\u001b[0;34m)\u001b[0m\u001b[0;34m\u001b[0m\u001b[0;34m\u001b[0m\u001b[0m\n\u001b[0m",
      "\u001b[0;31mAttributeError\u001b[0m: 'NoneType' object has no attribute 'to_dataframe'"
     ]
    }
   ],
   "source": [
    "myqueryspecimenfiles.to_dataframe()"
   ]
  },
  {
   "cell_type": "markdown",
   "id": "29fda2e6",
   "metadata": {},
   "source": [
    "<div style=\"background-color:#b3e5d5;color:black;padding:20px;\">\n",
    "<h3>Valid Endpoint Chains</h3>\n",
    "\n",
    "Not all endpoints can be chained together. This is a restriction caused by the data itself. `diagnosis` and `treatment` information does not have files directly attached to it, instead these files are associated with the `researchsubject`, as such both \"myquery.treatment.files.run()\" and \"myquery.diagnosis.files.run()\" will fail, as there are no files to retrieve. Valid chains are:\n",
    "    \n",
    "<ul>\n",
    "<li><b>myquery.subject.file.run:</b> This will return all the files that meet the query and that are directly tied to subject</li>\n",
    "<li><b>myquery.researchsubject.file.run:</b>This will return all the files that meet the query and that are directly tied to researchsubject</li>\n",
    "<li><b>myquery.specimen.file.run:</b> This will return all the files that meet the query and that are directly tied to specimen</li>\n",
    "<li><b>myquery.subject.file.count.run:</b> This will return the count of files that meet the query and that are directly tied to subject</li>\n",
    "<li><b>myquery.researchsubject.file.count.run:</b>This will return the count of files that meet the query and that are directly tied to researchsubject</li>\n",
    "<li><b>myquery.specimen.file.count.run:</b> This will return the count of files that meet the query and that are directly tied to specimen</li>\n",
    "</ul>\n",
    "</div>"
   ]
  }
 ],
 "metadata": {
  "interpreter": {
   "hash": "5c867d1980d5b66d2bfc8a5903dcee074b4b68f3917a4f27f8a310cab24e9f1b"
  },
  "kernelspec": {
   "display_name": "Python 3 (ipykernel)",
   "language": "python",
   "name": "python3"
  },
  "language_info": {
   "codemirror_mode": {
    "name": "ipython",
    "version": 3
   },
   "file_extension": ".py",
   "mimetype": "text/x-python",
   "name": "python",
   "nbconvert_exporter": "python",
   "pygments_lexer": "ipython3",
   "version": "3.7.13"
  },
  "metadata": {
   "interpreter": {
    "hash": "5c867d1980d5b66d2bfc8a5903dcee074b4b68f3917a4f27f8a310cab24e9f1b"
   }
  }
 },
 "nbformat": 4,
 "nbformat_minor": 5
}
