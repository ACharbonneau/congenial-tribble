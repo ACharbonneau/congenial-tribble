{
 "cells": [
  {
   "cell_type": "markdown",
   "id": "3c341e94",
   "metadata": {},
   "source": [
    "# What terms are searchable?\n",
    "---"
   ]
  },
  {
   "cell_type": "markdown",
   "id": "a8387f59",
   "metadata": {},
   "source": [
    "Before we do any work, we need to import several functions from cdapython:\n",
    "- `Q` and `query` which power the search\n",
    "- `columns` which lets us view entity field names\n",
    "- `unique_terms` which lets view entity field contents\n",
    "\n",
    "We're also asking cdapython to report it's version so we can be sure we're using the one we mean to."
   ]
  },
  {
   "cell_type": "code",
   "execution_count": 1,
   "id": "28a10e23",
   "metadata": {},
   "outputs": [
    {
     "name": "stdout",
     "output_type": "stream",
     "text": [
      "2022.5.18\n"
     ]
    }
   ],
   "source": [
    "from cdapython import Q, columns, unique_terms, query\n",
    "import cdapython\n",
    "print(cdapython.__version__)\n",
    "Q.set_host_url(\"http://35.192.60.10:8080/\")"
   ]
  },
  {
   "cell_type": "markdown",
   "id": "0810c61c",
   "metadata": {},
   "source": [
    "\n",
    "\n",
    "CDA data comes from three sources:\n",
    "- The [Proteomic Data Commons](https://proteomic.datacommons.cancer.gov/pdc/) (PDC)\n",
    "- The [Genomic Data Commons](https://gdc.cancer.gov/) (GDC)\n",
    "- The [Imaging Data Commons](https://datacommons.cancer.gov/repository/imaging-data-commons) (IDC)\n",
    "\n",
    "The CDA makes this data searchable in four endpoints:\n",
    "\n",
    "- `subject`: Specific, unique, individuals\n",
    "- `research_subject`: Study-individual aggregate entities. A Subject who was part of three studies will appear as three ResearchSubjects\n",
    "- `specimen`: Samples taken from individual\n",
    "- `file`: Data about Subjects, ResearchSubjects, Specimens, and their associated information\n",
    "\n",
    "You search any metadata field from any endpoint, the only difference between search types is what type of data you return by default. This means that you can think of the CDA as a really, really enormous spreadsheet full of data. To search this enormous spreadsheet, you'd want select columns, and then filter rows.\n",
    "\n",
    "Accordingly, to see what search fields are available, we use the command `columns`:"
   ]
  },
  {
   "cell_type": "code",
   "execution_count": 2,
   "id": "30f5a2a3",
   "metadata": {
    "scrolled": false
   },
   "outputs": [
    {
     "data": {
      "text/plain": [
       "\n",
       "            QueryID: 51f4379e-3d33-48e8-bdc4-4937301bd0f6\n",
       "            \n",
       "            Offset: 0\n",
       "            Count: 74\n",
       "            Total Row Count: 74\n",
       "            More pages: False\n",
       "            "
      ]
     },
     "execution_count": 2,
     "metadata": {},
     "output_type": "execute_result"
    }
   ],
   "source": [
    "columns()"
   ]
  },
  {
   "cell_type": "markdown",
   "id": "818b9589",
   "metadata": {},
   "source": [
    "This output tells us that there are 74 searchable fields, but it doesn't output them directly. Running CDA commands like this first gives you an overall summary of the data you're going to get, and so is nice for doing a gut check. However, if we want to see the data on our screen we can have `columns()` print out it's contents to a list instead:"
   ]
  },
  {
   "cell_type": "code",
   "execution_count": 3,
   "id": "710beb05",
   "metadata": {},
   "outputs": [
    {
     "data": {
      "text/plain": [
       "['File.id',\n",
       " 'File.identifier',\n",
       " 'File.identifier.system',\n",
       " 'File.identifier.value',\n",
       " 'File.label',\n",
       " 'File.data_category',\n",
       " 'File.data_type',\n",
       " 'File.file_format',\n",
       " 'File.associated_project',\n",
       " 'File.drs_uri',\n",
       " 'File.byte_size',\n",
       " 'File.checksum',\n",
       " 'File.data_modality',\n",
       " 'File.imaging_modality',\n",
       " 'File.dbgap_accession_number',\n",
       " 'id',\n",
       " 'identifier',\n",
       " 'identifier.system',\n",
       " 'identifier.value',\n",
       " 'species',\n",
       " 'sex',\n",
       " 'race',\n",
       " 'ethnicity',\n",
       " 'days_to_birth',\n",
       " 'subject_associated_project',\n",
       " 'vital_status',\n",
       " 'age_at_death',\n",
       " 'cause_of_death',\n",
       " 'ResearchSubject',\n",
       " 'ResearchSubject.id',\n",
       " 'ResearchSubject.identifier',\n",
       " 'ResearchSubject.identifier.system',\n",
       " 'ResearchSubject.identifier.value',\n",
       " 'ResearchSubject.member_of_research_project',\n",
       " 'ResearchSubject.primary_diagnosis_condition',\n",
       " 'ResearchSubject.primary_diagnosis_site',\n",
       " 'ResearchSubject.Diagnosis',\n",
       " 'ResearchSubject.Diagnosis.id',\n",
       " 'ResearchSubject.Diagnosis.identifier',\n",
       " 'ResearchSubject.Diagnosis.identifier.system',\n",
       " 'ResearchSubject.Diagnosis.identifier.value',\n",
       " 'ResearchSubject.Diagnosis.primary_diagnosis',\n",
       " 'ResearchSubject.Diagnosis.age_at_diagnosis',\n",
       " 'ResearchSubject.Diagnosis.morphology',\n",
       " 'ResearchSubject.Diagnosis.stage',\n",
       " 'ResearchSubject.Diagnosis.grade',\n",
       " 'ResearchSubject.Diagnosis.method_of_diagnosis',\n",
       " 'ResearchSubject.Diagnosis.Treatment',\n",
       " 'ResearchSubject.Diagnosis.Treatment.id',\n",
       " 'ResearchSubject.Diagnosis.Treatment.identifier',\n",
       " 'ResearchSubject.Diagnosis.Treatment.identifier.system',\n",
       " 'ResearchSubject.Diagnosis.Treatment.identifier.value',\n",
       " 'ResearchSubject.Diagnosis.Treatment.treatment_type',\n",
       " 'ResearchSubject.Diagnosis.Treatment.treatment_outcome',\n",
       " 'ResearchSubject.Diagnosis.Treatment.days_to_treatment_start',\n",
       " 'ResearchSubject.Diagnosis.Treatment.days_to_treatment_end',\n",
       " 'ResearchSubject.Diagnosis.Treatment.therapeutic_agent',\n",
       " 'ResearchSubject.Diagnosis.Treatment.treatment_anatomic_site',\n",
       " 'ResearchSubject.Diagnosis.Treatment.treatment_effect',\n",
       " 'ResearchSubject.Diagnosis.Treatment.treatment_end_reason',\n",
       " 'ResearchSubject.Diagnosis.Treatment.number_of_cycles',\n",
       " 'ResearchSubject.Specimen',\n",
       " 'ResearchSubject.Specimen.id',\n",
       " 'ResearchSubject.Specimen.identifier',\n",
       " 'ResearchSubject.Specimen.identifier.system',\n",
       " 'ResearchSubject.Specimen.identifier.value',\n",
       " 'ResearchSubject.Specimen.associated_project',\n",
       " 'ResearchSubject.Specimen.age_at_collection',\n",
       " 'ResearchSubject.Specimen.primary_disease_type',\n",
       " 'ResearchSubject.Specimen.anatomical_site',\n",
       " 'ResearchSubject.Specimen.source_material_type',\n",
       " 'ResearchSubject.Specimen.specimen_type',\n",
       " 'ResearchSubject.Specimen.derived_from_specimen',\n",
       " 'ResearchSubject.Specimen.derived_from_subject']"
      ]
     },
     "execution_count": 3,
     "metadata": {},
     "output_type": "execute_result"
    }
   ],
   "source": [
    "columns().to_list()"
   ]
  },
  {
   "cell_type": "markdown",
   "id": "e54b644d",
   "metadata": {},
   "source": [
    "By default, `columns()` returns the first 100 items. If that is too many, you can limit your search to only a specified number: "
   ]
  },
  {
   "cell_type": "code",
   "execution_count": 4,
   "id": "6d82cdb9",
   "metadata": {},
   "outputs": [
    {
     "data": {
      "text/plain": [
       "['File.id',\n",
       " 'File.identifier',\n",
       " 'File.identifier.system',\n",
       " 'File.identifier.value',\n",
       " 'File.label',\n",
       " 'File.data_category',\n",
       " 'File.data_type',\n",
       " 'File.file_format',\n",
       " 'File.associated_project',\n",
       " 'File.drs_uri']"
      ]
     },
     "execution_count": 4,
     "metadata": {},
     "output_type": "execute_result"
    }
   ],
   "source": [
    "columns(limit=10).to_list()"
   ]
  },
  {
   "cell_type": "markdown",
   "id": "82bead65",
   "metadata": {},
   "source": [
    "Or you can filter the list for terms that match your interests:"
   ]
  },
  {
   "cell_type": "code",
   "execution_count": 5,
   "id": "f7f1efe9",
   "metadata": {},
   "outputs": [
    {
     "data": {
      "text/plain": [
       "['ResearchSubject.primary_diagnosis_condition',\n",
       " 'ResearchSubject.primary_diagnosis_site',\n",
       " 'ResearchSubject.Diagnosis',\n",
       " 'ResearchSubject.Diagnosis.id',\n",
       " 'ResearchSubject.Diagnosis.identifier',\n",
       " 'ResearchSubject.Diagnosis.identifier.system',\n",
       " 'ResearchSubject.Diagnosis.identifier.value',\n",
       " 'ResearchSubject.Diagnosis.primary_diagnosis',\n",
       " 'ResearchSubject.Diagnosis.age_at_diagnosis',\n",
       " 'ResearchSubject.Diagnosis.morphology',\n",
       " 'ResearchSubject.Diagnosis.stage',\n",
       " 'ResearchSubject.Diagnosis.grade',\n",
       " 'ResearchSubject.Diagnosis.method_of_diagnosis',\n",
       " 'ResearchSubject.Diagnosis.Treatment',\n",
       " 'ResearchSubject.Diagnosis.Treatment.id',\n",
       " 'ResearchSubject.Diagnosis.Treatment.identifier',\n",
       " 'ResearchSubject.Diagnosis.Treatment.identifier.system',\n",
       " 'ResearchSubject.Diagnosis.Treatment.identifier.value',\n",
       " 'ResearchSubject.Diagnosis.Treatment.treatment_type',\n",
       " 'ResearchSubject.Diagnosis.Treatment.treatment_outcome',\n",
       " 'ResearchSubject.Diagnosis.Treatment.days_to_treatment_start',\n",
       " 'ResearchSubject.Diagnosis.Treatment.days_to_treatment_end',\n",
       " 'ResearchSubject.Diagnosis.Treatment.therapeutic_agent',\n",
       " 'ResearchSubject.Diagnosis.Treatment.treatment_anatomic_site',\n",
       " 'ResearchSubject.Diagnosis.Treatment.treatment_effect',\n",
       " 'ResearchSubject.Diagnosis.Treatment.treatment_end_reason',\n",
       " 'ResearchSubject.Diagnosis.Treatment.number_of_cycles']"
      ]
     },
     "execution_count": 5,
     "metadata": {},
     "output_type": "execute_result"
    }
   ],
   "source": [
    "columns().to_list(filters=\"diagnosis\")"
   ]
  },
  {
   "cell_type": "markdown",
   "id": "b0a762a1",
   "metadata": {},
   "source": [
    "<div style=\"background-color:#ed6161;color:#f5f5f5;padding:20px;\">\n",
    "<strong>Check your search criteria!</strong>\n",
    "While available search fields may look like ones you've seen in PDC, GDC or IDC, that does not mean they will contain exactly the same information; several are renamed or restructured in the CDA model. The field name mappings are described in <a href=\"../Documentation/Schema.md\">CDA Schema Field Mapping.</a>\n",
    "</div>\n",
    "\n",
    "\n",
    "We can directly get information about what data populates any of these fields using the `unique_terms()` function. Like `columns`, `unique_terms` defaults to giving us an overview of the results, and we view them the same way:"
   ]
  },
  {
   "cell_type": "code",
   "execution_count": 6,
   "id": "de0a868a",
   "metadata": {
    "scrolled": true
   },
   "outputs": [
    {
     "data": {
      "text/plain": [
       "['Abdomen',\n",
       " 'Abdomen, Mediastinum',\n",
       " 'Adrenal Glands',\n",
       " 'Adrenal gland',\n",
       " 'Anus and anal canal',\n",
       " 'Base of tongue',\n",
       " 'Bile Duct',\n",
       " 'Bladder',\n",
       " 'Bones, joints and articular cartilage of limbs',\n",
       " 'Bones, joints and articular cartilage of other and unspecified sites',\n",
       " 'Brain',\n",
       " 'Breast',\n",
       " 'Bronchus and lung',\n",
       " 'Cervix',\n",
       " 'Cervix uteri',\n",
       " 'Chest',\n",
       " 'Chest-Abdomen-Pelvis, Leg, TSpine',\n",
       " 'Colon',\n",
       " 'Connective, subcutaneous and other soft tissues',\n",
       " 'Corpus uteri',\n",
       " 'Ear',\n",
       " 'Esophagus',\n",
       " 'Extremities',\n",
       " 'Eye and adnexa',\n",
       " 'Floor of mouth',\n",
       " 'Gallbladder',\n",
       " 'Gum',\n",
       " 'Head',\n",
       " 'Head and Neck',\n",
       " 'Head-Neck',\n",
       " 'Heart, mediastinum, and pleura',\n",
       " 'Hematopoietic and reticuloendothelial systems',\n",
       " 'Hypopharynx',\n",
       " 'Intraocular',\n",
       " 'Kidney',\n",
       " 'Larynx',\n",
       " 'Lip',\n",
       " 'Liver',\n",
       " 'Liver and intrahepatic bile ducts',\n",
       " 'Lung',\n",
       " 'Lung Phantom',\n",
       " 'Lymph nodes',\n",
       " 'Marrow, Blood',\n",
       " 'Meninges',\n",
       " 'Mesothelium',\n",
       " 'Nasal cavity and middle ear',\n",
       " 'Nasopharynx',\n",
       " 'Not Reported',\n",
       " 'Oropharynx',\n",
       " 'Other and ill-defined digestive organs',\n",
       " 'Other and ill-defined sites',\n",
       " 'Other and ill-defined sites in lip, oral cavity and pharynx',\n",
       " 'Other and ill-defined sites within respiratory system and intrathoracic organs',\n",
       " 'Other and unspecified female genital organs',\n",
       " 'Other and unspecified major salivary glands',\n",
       " 'Other and unspecified male genital organs',\n",
       " 'Other and unspecified parts of biliary tract',\n",
       " 'Other and unspecified parts of mouth',\n",
       " 'Other and unspecified parts of tongue',\n",
       " 'Other and unspecified urinary organs',\n",
       " 'Other endocrine glands and related structures',\n",
       " 'Ovary',\n",
       " 'Palate',\n",
       " 'Pancreas',\n",
       " 'Pancreas ',\n",
       " 'Pelvis, Prostate, Anus',\n",
       " 'Penis',\n",
       " 'Peripheral nerves and autonomic nervous system',\n",
       " 'Phantom',\n",
       " 'Prostate',\n",
       " 'Prostate gland',\n",
       " 'Rectosigmoid junction',\n",
       " 'Rectum',\n",
       " 'Renal pelvis',\n",
       " 'Retroperitoneum and peritoneum',\n",
       " 'Skin',\n",
       " 'Small intestine',\n",
       " 'Spinal cord, cranial nerves, and other parts of central nervous system',\n",
       " 'Stomach',\n",
       " 'Testicles',\n",
       " 'Testis',\n",
       " 'Thymus',\n",
       " 'Thyroid',\n",
       " 'Thyroid gland',\n",
       " 'Tonsil',\n",
       " 'Trachea',\n",
       " 'Unknown',\n",
       " 'Ureter',\n",
       " 'Uterus',\n",
       " 'Uterus, NOS',\n",
       " 'Vagina',\n",
       " 'Various',\n",
       " 'Various (11 locations)',\n",
       " 'Vulva']"
      ]
     },
     "execution_count": 6,
     "metadata": {},
     "output_type": "execute_result"
    }
   ],
   "source": [
    "unique_terms(\"ResearchSubject.primary_diagnosis_site\").to_list()"
   ]
  },
  {
   "cell_type": "markdown",
   "id": "178d2870",
   "metadata": {},
   "source": [
    "We can use the same trick here to search for only diagnosis sites that we're interested in:"
   ]
  },
  {
   "cell_type": "code",
   "execution_count": 7,
   "id": "cb653658",
   "metadata": {},
   "outputs": [
    {
     "data": {
      "text/plain": [
       "['Bronchus and lung', 'Lung', 'Lung Phantom']"
      ]
     },
     "execution_count": 7,
     "metadata": {},
     "output_type": "execute_result"
    }
   ],
   "source": [
    "unique_terms(\"ResearchSubject.primary_diagnosis_site\").to_list(filters=\"lung\")\n"
   ]
  },
  {
   "cell_type": "markdown",
   "id": "2c3028a8",
   "metadata": {},
   "source": [
    "We can use this same logic to look for partial matches. For instance, if I'm not sure whether the data I'm interested in would be labeled as \"uterine\" or \"uterus\" I might search for just \"uter\""
   ]
  },
  {
   "cell_type": "code",
   "execution_count": 8,
   "id": "87217d17",
   "metadata": {
    "scrolled": true
   },
   "outputs": [
    {
     "data": {
      "text/plain": [
       "['Cervix uteri', 'Corpus uteri', 'Uterus', 'Uterus, NOS']"
      ]
     },
     "execution_count": 8,
     "metadata": {},
     "output_type": "execute_result"
    }
   ],
   "source": [
    "unique_terms(\"ResearchSubject.primary_diagnosis_site\").to_list(filters=\"uter\")"
   ]
  },
  {
   "cell_type": "markdown",
   "id": "ac7e1e45",
   "metadata": {},
   "source": [
    "Success! Not only are there multiple ways that \"Uterus\" is specified in the CDA data, I now also know that there are also data for specific uterine tissues. \n",
    "\n",
    "---\n",
    "\n",
    "<div style=\"background-color:#ed6161;color:#f5f5f5;padding:20px;\">\n",
    "<strong>Check your search terms!</strong>\n",
    "If you run into unexpected results when running a search, be sure that you're searching all the terms you want. CDA data is not yet harmonized across centers, so there are many cases where a single term search will not return all the information you need, however the CDA provides tools that make it easy to search all forms of a term to enable cross dataset search.\n",
    "</div>\n",
    "\n",
    "---\n",
    "\n",
    "\n",
    "Explore the available terms by changing which table, how many results, and which unique terms you request. Once you have found terms you're interested in, head to [Basic Search](../BasicSearch) to build simple queries."
   ]
  }
 ],
 "metadata": {
  "interpreter": {
   "hash": "5c867d1980d5b66d2bfc8a5903dcee074b4b68f3917a4f27f8a310cab24e9f1b"
  },
  "kernelspec": {
   "display_name": "Python 3 (ipykernel)",
   "language": "python",
   "name": "python3"
  },
  "language_info": {
   "codemirror_mode": {
    "name": "ipython",
    "version": 3
   },
   "file_extension": ".py",
   "mimetype": "text/x-python",
   "name": "python",
   "nbconvert_exporter": "python",
   "pygments_lexer": "ipython3",
   "version": "3.7.13"
  },
  "metadata": {
   "interpreter": {
    "hash": "5c867d1980d5b66d2bfc8a5903dcee074b4b68f3917a4f27f8a310cab24e9f1b"
   }
  }
 },
 "nbformat": 4,
 "nbformat_minor": 5
}
