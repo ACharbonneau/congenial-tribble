{
 "cells": [
  {
   "cell_type": "markdown",
   "id": "3c341e94",
   "metadata": {},
   "source": [
    "# What terms are searchable?\n",
    "---"
   ]
  },
  {
   "cell_type": "markdown",
   "id": "a8387f59",
   "metadata": {},
   "source": [
    "Before we do any work, we need to import several functions from cdapython:\n",
    "- `Q` and `query` which power the search\n",
    "- `columns` which lets us view entity field names\n",
    "- `unique_terms` which lets view entity field contents\n",
    "\n",
    "We're also asking cdapython to report it's version so we can be sure we're using the one we mean to."
   ]
  },
  {
   "cell_type": "code",
   "execution_count": 1,
   "id": "28a10e23",
   "metadata": {},
   "outputs": [
    {
     "name": "stdout",
     "output_type": "stream",
     "text": [
      "2022.4.13\n"
     ]
    }
   ],
   "source": [
    "from cdapython import Q, columns, unique_terms, query\n",
    "import cdapython\n",
    "print(cdapython.__version__)\n",
    "Q.set_host_url(\"http://35.192.60.10:8080/\")"
   ]
  },
  {
   "cell_type": "markdown",
   "id": "0810c61c",
   "metadata": {},
   "source": [
    "\n",
    "\n",
    "CDA data comes from three sources:\n",
    "- The [Proteomic Data Commons](https://proteomic.datacommons.cancer.gov/pdc/) (PDC)\n",
    "- The [Genomic Data Commons](https://gdc.cancer.gov/) (GDC)\n",
    "- The [Imaging Data Commons](https://datacommons.cancer.gov/repository/imaging-data-commons) (IDC)\n",
    "\n",
    "The CDA makes this data searchable in two ways, by a \"Subject\" table and by \"File\" table. \n",
    "\n",
    "`Subject` data is information that is intrisic to the individual under study, e.g. `sex`, `race`, `ethnicity`. However any given subject might be part of multiple studies. To make search across datasets easier, the CDA model aggregates this data as `ResearchSubject` information. Subjects that participate in multiple projects (are part of multiple nodes), will have multiple `ResearchSubject` entries.\n",
    "\n",
    "`Subject` and `ResearchSubject` fields are available for both the \"Subject\" and \"File\" tables, however terms specific to files e.g. 'data_type' or 'file_format' are only available in \"File\" table.\n",
    "\n",
    "To see what fields are available, we use the command `columns`. Here we're limiting to 20 results for readability, but you can remove the limit to see all of them:"
   ]
  },
  {
   "cell_type": "code",
   "execution_count": 2,
   "id": "30f5a2a3",
   "metadata": {
    "scrolled": true
   },
   "outputs": [
    {
     "data": {
      "text/plain": [
       "['id',\n",
       " 'identifier',\n",
       " 'identifier.system',\n",
       " 'identifier.value',\n",
       " 'species',\n",
       " 'sex',\n",
       " 'race',\n",
       " 'ethnicity',\n",
       " 'days_to_birth',\n",
       " 'subject_associated_project',\n",
       " 'vital_status',\n",
       " 'age_at_death',\n",
       " 'cause_of_death',\n",
       " 'ResearchSubject',\n",
       " 'ResearchSubject.id',\n",
       " 'ResearchSubject.identifier',\n",
       " 'ResearchSubject.identifier.system',\n",
       " 'ResearchSubject.identifier.value',\n",
       " 'ResearchSubject.member_of_research_project',\n",
       " 'ResearchSubject.primary_diagnosis_condition']"
      ]
     },
     "execution_count": 2,
     "metadata": {},
     "output_type": "execute_result"
    }
   ],
   "source": [
    "columns(limit=20)"
   ]
  },
  {
   "cell_type": "markdown",
   "id": "e54b644d",
   "metadata": {},
   "source": [
    "By default, `columns()` returns `Subject` table fields. The first several fields (those without a `.` in them) are `Subject` demographic information, which is intrinsically attached to a given subject. Subsequent entities (i.e. `Research.Subject.xxx`) contain details about specific experiments the subject was part of. They are equivilent to the nodes' `Case` record in the GDC and PDC. \n",
    "\n",
    "To see the fields available in the File table, we add `files=True` to the command:\n"
   ]
  },
  {
   "cell_type": "code",
   "execution_count": 3,
   "id": "dbcd5257",
   "metadata": {},
   "outputs": [
    {
     "data": {
      "text/plain": [
       "['id',\n",
       " 'identifier',\n",
       " 'identifier.system',\n",
       " 'identifier.value',\n",
       " 'label',\n",
       " 'data_category',\n",
       " 'data_type',\n",
       " 'file_format',\n",
       " 'associated_project',\n",
       " 'drs_uri',\n",
       " 'byte_size',\n",
       " 'checksum',\n",
       " 'data_modality',\n",
       " 'imaging_modality',\n",
       " 'dbgap_accession_number',\n",
       " 'Subject',\n",
       " 'Subject.id',\n",
       " 'Subject.identifier',\n",
       " 'Subject.identifier.system',\n",
       " 'Subject.identifier.value',\n",
       " 'Subject.species',\n",
       " 'Subject.sex',\n",
       " 'Subject.race',\n",
       " 'Subject.ethnicity',\n",
       " 'Subject.days_to_birth',\n",
       " 'Subject.subject_associated_project',\n",
       " 'Subject.vital_status',\n",
       " 'Subject.age_at_death',\n",
       " 'Subject.cause_of_death',\n",
       " 'ResearchSubject',\n",
       " 'ResearchSubject.id',\n",
       " 'ResearchSubject.identifier',\n",
       " 'ResearchSubject.identifier.system',\n",
       " 'ResearchSubject.identifier.value',\n",
       " 'ResearchSubject.member_of_research_project']"
      ]
     },
     "execution_count": 3,
     "metadata": {},
     "output_type": "execute_result"
    }
   ],
   "source": [
    "columns(files=True, limit=35)"
   ]
  },
  {
   "cell_type": "markdown",
   "id": "b0a762a1",
   "metadata": {},
   "source": [
    "Note that while some of the search values are the same in subject and file, not all of them are. There are also many more fields in the \"File\" table, and some names vary slightly. Further, while available search fields may look like ones you've seen in PDC, GDC or IDC, that does not mean they will contain exactly the same information; several are renamed or restructured in the CDA model. The field name mappings are described in [CDA Schema Field Mapping](../Documentation/Schema.md), but we can also directly get information about what data populates any of these fields using the `unique_terms()` function:"
   ]
  },
  {
   "cell_type": "code",
   "execution_count": 4,
   "id": "de0a868a",
   "metadata": {},
   "outputs": [
    {
     "data": {
      "text/plain": [
       "[None,\n",
       " 'Unknown',\n",
       " 'hispanic or latino',\n",
       " 'not allowed to collect',\n",
       " 'not hispanic or latino',\n",
       " 'not reported']"
      ]
     },
     "execution_count": 4,
     "metadata": {},
     "output_type": "execute_result"
    }
   ],
   "source": [
    "unique_terms(\"ethnicity\")"
   ]
  },
  {
   "cell_type": "markdown",
   "id": "d6cb277b",
   "metadata": {},
   "source": [
    "Like `columns`, `unique_terms` defaults to giving us information for a \"Subject\" search. To see what fields are available for \"Files\" we again add `files=True` to the command:"
   ]
  },
  {
   "cell_type": "code",
   "execution_count": 5,
   "id": "b82029fd",
   "metadata": {
    "scrolled": true
   },
   "outputs": [
    {
     "name": "stderr",
     "output_type": "stream",
     "text": [
      "ERROR:root:\n",
      "            Http Status: 500\n",
      "            Error Message: Unrecognized name: ethnicity at [1:17]\n",
      "            \n"
     ]
    }
   ],
   "source": [
    "unique_terms(\"ethnicity\", files=True)"
   ]
  },
  {
   "cell_type": "markdown",
   "id": "1a6a7eb0",
   "metadata": {},
   "source": [
    "We get an error! If we go back and check our `columns(files=True, limit=35)` command at `Out[3]` above, we see that in the files table, ethnicity is prepended with Subject, so it's field name is actually `Subject.ethnicity` not just `ethnicity`. This makes sense because in the Subject search, we are specifically asking about Subject information, whereas in the Files search, we need to tell the computer to go look under Subject for this information. Like this: "
   ]
  },
  {
   "cell_type": "code",
   "execution_count": 6,
   "id": "899a95ed",
   "metadata": {
    "scrolled": true
   },
   "outputs": [
    {
     "data": {
      "text/plain": [
       "[None,\n",
       " 'Unknown',\n",
       " 'hispanic or latino',\n",
       " 'not allowed to collect',\n",
       " 'not hispanic or latino',\n",
       " 'not reported']"
      ]
     },
     "execution_count": 6,
     "metadata": {},
     "output_type": "execute_result"
    }
   ],
   "source": [
    "unique_terms(\"Subject.ethnicity\", files=True)"
   ]
  },
  {
   "cell_type": "markdown",
   "id": "ac7e1e45",
   "metadata": {},
   "source": [
    "That's better! Both tables can be searched by Subject terms so we can filter the file results by ethnicity, we just have to make sure we're asking for the right term. \n",
    "\n",
    "---\n",
    "#### Help: Check your search terms! \n",
    "   If you run into unexpected errors when running a search, be sure that the field you've requested is specified correctly for the table you are searching.\n",
    "   \n",
    "---\n",
    "\n",
    "\n",
    "Explore the available terms by changing which table, how many results, and which unique terms you request. Once you have found terms you're interested in, head to [How to Search](../SearchTypes) to build simple queries."
   ]
  },
  {
   "cell_type": "code",
   "execution_count": null,
   "id": "7d37aaf0",
   "metadata": {},
   "outputs": [],
   "source": []
  }
 ],
 "metadata": {
  "interpreter": {
   "hash": "5c867d1980d5b66d2bfc8a5903dcee074b4b68f3917a4f27f8a310cab24e9f1b"
  },
  "kernelspec": {
   "display_name": "Python 3 (ipykernel)",
   "language": "python",
   "name": "python3"
  },
  "language_info": {
   "codemirror_mode": {
    "name": "ipython",
    "version": 3
   },
   "file_extension": ".py",
   "mimetype": "text/x-python",
   "name": "python",
   "nbconvert_exporter": "python",
   "pygments_lexer": "ipython3",
   "version": "3.7.13"
  },
  "metadata": {
   "interpreter": {
    "hash": "5c867d1980d5b66d2bfc8a5903dcee074b4b68f3917a4f27f8a310cab24e9f1b"
   }
  }
 },
 "nbformat": 4,
 "nbformat_minor": 5
}
