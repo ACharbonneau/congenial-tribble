{
 "cells": [
  {
   "cell_type": "markdown",
   "id": "3c341e94",
   "metadata": {},
   "source": [
    "# Chaining Search Terms\n",
    "---"
   ]
  },
  {
   "cell_type": "markdown",
   "id": "a8387f59",
   "metadata": {},
   "source": [
    "Before we do any work, we need to import several functions from cdapython:\n",
    "\n",
    "\n",
    "- `Q` and `query` which power the search\n",
    "- `columns` which lets us view entity field names\n",
    "- `unique_terms` which lets view entity field contents\n",
    "    \n",
    "We're also asking cdapython to report it's version so we can be sure we're using the one we mean to."
   ]
  },
  {
   "cell_type": "code",
   "execution_count": 1,
   "id": "28a10e23",
   "metadata": {},
   "outputs": [
    {
     "name": "stdout",
     "output_type": "stream",
     "text": [
      "2022.6.21\n"
     ]
    }
   ],
   "source": [
    "from cdapython import Q, columns, unique_terms, query\n",
    "import cdapython\n",
    "print(cdapython.__version__)\n",
    "Q.set_host_url(\"http://35.192.60.10:8080/\")"
   ]
  },
  {
   "cell_type": "markdown",
   "id": "0810c61c",
   "metadata": {},
   "source": [
    "\n",
    "The CDA provides a custom python tool for searching CDA data. [`Q`](usage/#q) (short for Query) offers several ways to search and filter data, and several input modes:\n",
    "\n",
    "---\n",
    "\n",
    "- **[Q.run()](../../../Documentation/usage/#qrun)** returns data for the specified search \n",
    "- **[Q.count()](../../../Documentation/usage/#qcounts)** returns summary information (counts) data that fit the specified search\n",
    "\n",
    "---"
   ]
  },
  {
   "cell_type": "markdown",
   "id": "bd8084b3",
   "metadata": {},
   "source": [
    "## Endpoint Chaining\n",
    "\n",
    "We're going to build on our [previous search](../BasicSearch) to see what information exists about cancers that were first diagnosed in the brain. \n"
   ]
  },
  {
   "cell_type": "code",
   "execution_count": 2,
   "id": "d804f764",
   "metadata": {
    "scrolled": false
   },
   "outputs": [],
   "source": [
    "myquery = Q('ResearchSubject.primary_diagnosis_site = \"brain\"')\n"
   ]
  },
  {
   "cell_type": "markdown",
   "id": "736ad485",
   "metadata": {},
   "source": [
    "Previously we looked at subject, research_subject, specimen and file results seperately, but we can also combine these. \n",
    "\n",
    "Let's say what we're really interested in is finding analysis done on specimens, so we're looking for files that belong to specimens that match our search. If we search the files endpoint directly, we'll get back all files that meet our search criteria, regardless of whether they are specimens specficially. Instead, we can chain our query to the specimen endpoint and then to the files endpoint and get the combined result:"
   ]
  },
  {
   "cell_type": "code",
   "execution_count": 3,
   "id": "7284df72",
   "metadata": {
    "scrolled": true
   },
   "outputs": [
    {
     "data": {
      "text/html": [
       "<pre style=\"white-space:pre;overflow-x:auto;line-height:normal;font-family:Menlo,'DejaVu Sans Mono',consolas,'Courier New',monospace\">Getting results from database\n",
       "\n",
       "</pre>\n"
      ],
      "text/plain": [
       "Getting results from database\n",
       "\n"
      ]
     },
     "metadata": {},
     "output_type": "display_data"
    },
    {
     "name": "stdout",
     "output_type": "stream",
     "text": [
      "Total execution time: 12792 ms\n"
     ]
    },
    {
     "data": {
      "text/plain": [
       "\n",
       "            QueryID: d72b04a3-18c2-4bf4-998e-83e51c864196\n",
       "            \n",
       "            Offset: 0\n",
       "            Count: 100\n",
       "            Total Row Count: 405031\n",
       "            More pages: True\n",
       "            "
      ]
     },
     "execution_count": 3,
     "metadata": {},
     "output_type": "execute_result"
    }
   ],
   "source": [
    "myqueryspecimenfiles =  myquery.specimen.file.run()\n",
    "myqueryspecimenfiles"
   ]
  },
  {
   "cell_type": "markdown",
   "id": "89d9154b",
   "metadata": {},
   "source": [
    "We get back 50495 files that belong to specimens that meet our search criteria. As before, we can preview the results by using the `.to_dataframe()` function:"
   ]
  },
  {
   "cell_type": "code",
   "execution_count": 4,
   "id": "410b0e2b",
   "metadata": {
    "scrolled": true
   },
   "outputs": [
    {
     "data": {
      "text/html": [
       "<div>\n",
       "<style scoped>\n",
       "    .dataframe tbody tr th:only-of-type {\n",
       "        vertical-align: middle;\n",
       "    }\n",
       "\n",
       "    .dataframe tbody tr th {\n",
       "        vertical-align: top;\n",
       "    }\n",
       "\n",
       "    .dataframe thead th {\n",
       "        text-align: right;\n",
       "    }\n",
       "</style>\n",
       "<table border=\"1\" class=\"dataframe\">\n",
       "  <thead>\n",
       "    <tr style=\"text-align: right;\">\n",
       "      <th></th>\n",
       "      <th>id</th>\n",
       "      <th>identifier</th>\n",
       "      <th>label</th>\n",
       "      <th>data_category</th>\n",
       "      <th>data_type</th>\n",
       "      <th>file_format</th>\n",
       "      <th>associated_project</th>\n",
       "      <th>drs_uri</th>\n",
       "      <th>byte_size</th>\n",
       "      <th>checksum</th>\n",
       "      <th>data_modality</th>\n",
       "      <th>imaging_modality</th>\n",
       "      <th>dbgap_accession_number</th>\n",
       "      <th>subject_id</th>\n",
       "      <th>researchsubject_id</th>\n",
       "      <th>researchsubject_specimen_id</th>\n",
       "    </tr>\n",
       "  </thead>\n",
       "  <tbody>\n",
       "    <tr>\n",
       "      <th>0</th>\n",
       "      <td>06668371-2079-4471-a06a-7ad6f987a96c</td>\n",
       "      <td>[{'system': 'GDC', 'value': '06668371-2079-447...</td>\n",
       "      <td>5861e7d6-2066-40d7-8868-c14a69255304.genie.ali...</td>\n",
       "      <td>Simple Nucleotide Variation</td>\n",
       "      <td>Masked Annotated Somatic Mutation</td>\n",
       "      <td>MAF</td>\n",
       "      <td>GENIE-NKI</td>\n",
       "      <td>drs://dg.4DFC:06668371-2079-4471-a06a-7ad6f987...</td>\n",
       "      <td>1052</td>\n",
       "      <td>e8d1a8534b9fe7a813f1b10a8a706daf</td>\n",
       "      <td>Genomic</td>\n",
       "      <td>None</td>\n",
       "      <td>None</td>\n",
       "      <td>GENIE-NKI-8IN3</td>\n",
       "      <td>54ada9c7-e8f7-4ecc-b829-903be7e3ad82</td>\n",
       "      <td>922c4731-aa49-4d6b-bbea-9a98de73438a</td>\n",
       "    </tr>\n",
       "    <tr>\n",
       "      <th>1</th>\n",
       "      <td>094daeed-db10-41fc-90be-ece59d235896</td>\n",
       "      <td>[{'system': 'GDC', 'value': '094daeed-db10-41f...</td>\n",
       "      <td>5a983470-47a1-4944-8530-c96ca794b266.genie.ali...</td>\n",
       "      <td>Simple Nucleotide Variation</td>\n",
       "      <td>Masked Annotated Somatic Mutation</td>\n",
       "      <td>MAF</td>\n",
       "      <td>GENIE-GRCC</td>\n",
       "      <td>drs://dg.4DFC:094daeed-db10-41fc-90be-ece59d23...</td>\n",
       "      <td>1843</td>\n",
       "      <td>40ad96e30309e253fb23f2449a70b6b8</td>\n",
       "      <td>Genomic</td>\n",
       "      <td>None</td>\n",
       "      <td>None</td>\n",
       "      <td>GENIE-GRCC-9b65f377</td>\n",
       "      <td>b96be1f4-f89c-418a-8dcf-5e3b6d64f50f</td>\n",
       "      <td>dd06356c-a84b-533a-b684-1b8e3f4915ae</td>\n",
       "    </tr>\n",
       "    <tr>\n",
       "      <th>2</th>\n",
       "      <td>0e08b693-1cc5-4b91-a970-f3f588a15cb8</td>\n",
       "      <td>[{'system': 'GDC', 'value': '0e08b693-1cc5-4b9...</td>\n",
       "      <td>c046dcd7-30ac-4d93-bfda-ee5f947b2652.genie.ali...</td>\n",
       "      <td>Simple Nucleotide Variation</td>\n",
       "      <td>Masked Annotated Somatic Mutation</td>\n",
       "      <td>MAF</td>\n",
       "      <td>GENIE-MDA</td>\n",
       "      <td>drs://dg.4DFC:0e08b693-1cc5-4b91-a970-f3f588a1...</td>\n",
       "      <td>3145</td>\n",
       "      <td>482f386bf108ab7cb6aff9afd96cc142</td>\n",
       "      <td>Genomic</td>\n",
       "      <td>None</td>\n",
       "      <td>None</td>\n",
       "      <td>GENIE-MDA-4319</td>\n",
       "      <td>531c5404-92c5-471b-9c7e-e3bd62dafa63</td>\n",
       "      <td>baacb261-4c7e-4a0d-bdd4-635eb20d4bb8</td>\n",
       "    </tr>\n",
       "    <tr>\n",
       "      <th>3</th>\n",
       "      <td>10e9c90a-bfd6-44ca-b6da-56203af61747</td>\n",
       "      <td>[{'system': 'GDC', 'value': '10e9c90a-bfd6-44c...</td>\n",
       "      <td>7ced15a9-4508-4c92-8c76-e20e56d1ea07.genie.ali...</td>\n",
       "      <td>Copy Number Variation</td>\n",
       "      <td>Gene Level Copy Number Scores</td>\n",
       "      <td>TSV</td>\n",
       "      <td>GENIE-MSK</td>\n",
       "      <td>drs://dg.4DFC:10e9c90a-bfd6-44ca-b6da-56203af6...</td>\n",
       "      <td>22932</td>\n",
       "      <td>352d5b9a3ea0b7edd466a6f60053b99e</td>\n",
       "      <td>Genomic</td>\n",
       "      <td>None</td>\n",
       "      <td>None</td>\n",
       "      <td>GENIE-MSK-P-0003830</td>\n",
       "      <td>2f6299e4-48b2-4c53-a6d3-2653abc4ca32</td>\n",
       "      <td>c9129afe-4202-547d-afca-5f9dab738d9b</td>\n",
       "    </tr>\n",
       "    <tr>\n",
       "      <th>4</th>\n",
       "      <td>177aefb8-32f4-404b-b811-dba5c83e0e5b</td>\n",
       "      <td>[{'system': 'GDC', 'value': '177aefb8-32f4-404...</td>\n",
       "      <td>TCGA-HT-7474-01A-21-A29Y-20_RPPA_data.tsv</td>\n",
       "      <td>Proteome Profiling</td>\n",
       "      <td>Protein Expression Quantification</td>\n",
       "      <td>TSV</td>\n",
       "      <td>TCGA-LGG</td>\n",
       "      <td>drs://dg.4DFC:177aefb8-32f4-404b-b811-dba5c83e...</td>\n",
       "      <td>21974</td>\n",
       "      <td>b48345a41d455fb506f2a9c74fd914a1</td>\n",
       "      <td>Genomic</td>\n",
       "      <td>None</td>\n",
       "      <td>None</td>\n",
       "      <td>TCGA-HT-7474</td>\n",
       "      <td>72aa812d-5daa-4bd7-9028-ec541b1f25bd</td>\n",
       "      <td>335f4b6b-c4b2-4624-81f2-8fc568d10f16</td>\n",
       "    </tr>\n",
       "    <tr>\n",
       "      <th>...</th>\n",
       "      <td>...</td>\n",
       "      <td>...</td>\n",
       "      <td>...</td>\n",
       "      <td>...</td>\n",
       "      <td>...</td>\n",
       "      <td>...</td>\n",
       "      <td>...</td>\n",
       "      <td>...</td>\n",
       "      <td>...</td>\n",
       "      <td>...</td>\n",
       "      <td>...</td>\n",
       "      <td>...</td>\n",
       "      <td>...</td>\n",
       "      <td>...</td>\n",
       "      <td>...</td>\n",
       "      <td>...</td>\n",
       "    </tr>\n",
       "    <tr>\n",
       "      <th>95</th>\n",
       "      <td>74e4f676-380d-4d13-a8eb-4faa006a6ce0</td>\n",
       "      <td>[{'system': 'GDC', 'value': '74e4f676-380d-4d1...</td>\n",
       "      <td>seurat.analysis.tsv</td>\n",
       "      <td>Transcriptome Profiling</td>\n",
       "      <td>Single Cell Analysis</td>\n",
       "      <td>TSV</td>\n",
       "      <td>CPTAC-3</td>\n",
       "      <td>drs://dg.4DFC:74e4f676-380d-4d13-a8eb-4faa006a...</td>\n",
       "      <td>2907801</td>\n",
       "      <td>64db788508e60bb12e417bf8b2bc5163</td>\n",
       "      <td>Genomic</td>\n",
       "      <td>None</td>\n",
       "      <td>phs001287</td>\n",
       "      <td>C3N-02190</td>\n",
       "      <td>805792e9-858e-4e9e-84cf-3578f7470889</td>\n",
       "      <td>c6d4eec2-5d13-53ec-91eb-fd52ada341f8</td>\n",
       "    </tr>\n",
       "    <tr>\n",
       "      <th>96</th>\n",
       "      <td>7e3ec592-40b9-4134-a5a6-5fa1385d488f</td>\n",
       "      <td>[{'system': 'GDC', 'value': '7e3ec592-40b9-413...</td>\n",
       "      <td>TCGA-DU-A5TU-01A-21-A29Z-20_RPPA_data.tsv</td>\n",
       "      <td>Proteome Profiling</td>\n",
       "      <td>Protein Expression Quantification</td>\n",
       "      <td>TSV</td>\n",
       "      <td>TCGA-LGG</td>\n",
       "      <td>drs://dg.4DFC:7e3ec592-40b9-4134-a5a6-5fa1385d...</td>\n",
       "      <td>22034</td>\n",
       "      <td>2e7141d1166c24c9a9d11a4b35d34c51</td>\n",
       "      <td>Genomic</td>\n",
       "      <td>None</td>\n",
       "      <td>None</td>\n",
       "      <td>TCGA-DU-A5TU</td>\n",
       "      <td>1c095c4a-df97-402e-902c-fc83bcf8ef88</td>\n",
       "      <td>c20e4e8b-af67-40db-81b5-b8a8976ab9a1</td>\n",
       "    </tr>\n",
       "    <tr>\n",
       "      <th>97</th>\n",
       "      <td>9148502d-cb91-41c6-b382-62639010ff4e</td>\n",
       "      <td>[{'system': 'GDC', 'value': '9148502d-cb91-41c...</td>\n",
       "      <td>e1c60464-3f4f-400b-bbfa-0e96f826d901.genie.ali...</td>\n",
       "      <td>Simple Nucleotide Variation</td>\n",
       "      <td>Masked Annotated Somatic Mutation</td>\n",
       "      <td>MAF</td>\n",
       "      <td>GENIE-MSK</td>\n",
       "      <td>drs://dg.4DFC:9148502d-cb91-41c6-b382-62639010...</td>\n",
       "      <td>3825</td>\n",
       "      <td>20d837abab0ffa04e06e5de5f35108e8</td>\n",
       "      <td>Genomic</td>\n",
       "      <td>None</td>\n",
       "      <td>None</td>\n",
       "      <td>GENIE-MSK-P-0002799</td>\n",
       "      <td>b018ac46-9fbb-4f68-8abb-0ec1116903b4</td>\n",
       "      <td>8c3b2317-5b60-5871-aba4-7eddd1bc727a</td>\n",
       "    </tr>\n",
       "    <tr>\n",
       "      <th>98</th>\n",
       "      <td>94438748-a273-4673-aec4-687a6c1051e3</td>\n",
       "      <td>[{'system': 'GDC', 'value': '94438748-a273-467...</td>\n",
       "      <td>TCGA-76-6656-01A-13-1900-20_RPPA_data.tsv</td>\n",
       "      <td>Proteome Profiling</td>\n",
       "      <td>Protein Expression Quantification</td>\n",
       "      <td>TSV</td>\n",
       "      <td>TCGA-GBM</td>\n",
       "      <td>drs://dg.4DFC:94438748-a273-4673-aec4-687a6c10...</td>\n",
       "      <td>24025</td>\n",
       "      <td>1aedf8b68a4ac55c6f736acaaa74ee9d</td>\n",
       "      <td>Genomic</td>\n",
       "      <td>None</td>\n",
       "      <td>None</td>\n",
       "      <td>TCGA-76-6656</td>\n",
       "      <td>770aa1ee-aed9-4219-900e-63523cdf312f</td>\n",
       "      <td>ed2a500e-f6db-48d2-ade2-9e8f8ed004dc</td>\n",
       "    </tr>\n",
       "    <tr>\n",
       "      <th>99</th>\n",
       "      <td>a17f7c1a-da9e-4876-b5fc-63d683ccbb7e</td>\n",
       "      <td>[{'system': 'GDC', 'value': 'a17f7c1a-da9e-487...</td>\n",
       "      <td>seurat.deg.tsv</td>\n",
       "      <td>Transcriptome Profiling</td>\n",
       "      <td>Differential Gene Expression</td>\n",
       "      <td>TSV</td>\n",
       "      <td>CPTAC-3</td>\n",
       "      <td>drs://dg.4DFC:a17f7c1a-da9e-4876-b5fc-63d683cc...</td>\n",
       "      <td>278571</td>\n",
       "      <td>a986dfb0a6f9d5ef35b6f3c05208677f</td>\n",
       "      <td>Genomic</td>\n",
       "      <td>None</td>\n",
       "      <td>phs001287</td>\n",
       "      <td>C3N-02190</td>\n",
       "      <td>805792e9-858e-4e9e-84cf-3578f7470889</td>\n",
       "      <td>950a9f78-2d18-47fa-bb63-fef7197e08c9</td>\n",
       "    </tr>\n",
       "  </tbody>\n",
       "</table>\n",
       "<p>100 rows × 16 columns</p>\n",
       "</div>"
      ],
      "text/plain": [
       "                                      id  \\\n",
       "0   06668371-2079-4471-a06a-7ad6f987a96c   \n",
       "1   094daeed-db10-41fc-90be-ece59d235896   \n",
       "2   0e08b693-1cc5-4b91-a970-f3f588a15cb8   \n",
       "3   10e9c90a-bfd6-44ca-b6da-56203af61747   \n",
       "4   177aefb8-32f4-404b-b811-dba5c83e0e5b   \n",
       "..                                   ...   \n",
       "95  74e4f676-380d-4d13-a8eb-4faa006a6ce0   \n",
       "96  7e3ec592-40b9-4134-a5a6-5fa1385d488f   \n",
       "97  9148502d-cb91-41c6-b382-62639010ff4e   \n",
       "98  94438748-a273-4673-aec4-687a6c1051e3   \n",
       "99  a17f7c1a-da9e-4876-b5fc-63d683ccbb7e   \n",
       "\n",
       "                                           identifier  \\\n",
       "0   [{'system': 'GDC', 'value': '06668371-2079-447...   \n",
       "1   [{'system': 'GDC', 'value': '094daeed-db10-41f...   \n",
       "2   [{'system': 'GDC', 'value': '0e08b693-1cc5-4b9...   \n",
       "3   [{'system': 'GDC', 'value': '10e9c90a-bfd6-44c...   \n",
       "4   [{'system': 'GDC', 'value': '177aefb8-32f4-404...   \n",
       "..                                                ...   \n",
       "95  [{'system': 'GDC', 'value': '74e4f676-380d-4d1...   \n",
       "96  [{'system': 'GDC', 'value': '7e3ec592-40b9-413...   \n",
       "97  [{'system': 'GDC', 'value': '9148502d-cb91-41c...   \n",
       "98  [{'system': 'GDC', 'value': '94438748-a273-467...   \n",
       "99  [{'system': 'GDC', 'value': 'a17f7c1a-da9e-487...   \n",
       "\n",
       "                                                label  \\\n",
       "0   5861e7d6-2066-40d7-8868-c14a69255304.genie.ali...   \n",
       "1   5a983470-47a1-4944-8530-c96ca794b266.genie.ali...   \n",
       "2   c046dcd7-30ac-4d93-bfda-ee5f947b2652.genie.ali...   \n",
       "3   7ced15a9-4508-4c92-8c76-e20e56d1ea07.genie.ali...   \n",
       "4           TCGA-HT-7474-01A-21-A29Y-20_RPPA_data.tsv   \n",
       "..                                                ...   \n",
       "95                                seurat.analysis.tsv   \n",
       "96          TCGA-DU-A5TU-01A-21-A29Z-20_RPPA_data.tsv   \n",
       "97  e1c60464-3f4f-400b-bbfa-0e96f826d901.genie.ali...   \n",
       "98          TCGA-76-6656-01A-13-1900-20_RPPA_data.tsv   \n",
       "99                                     seurat.deg.tsv   \n",
       "\n",
       "                  data_category                          data_type  \\\n",
       "0   Simple Nucleotide Variation  Masked Annotated Somatic Mutation   \n",
       "1   Simple Nucleotide Variation  Masked Annotated Somatic Mutation   \n",
       "2   Simple Nucleotide Variation  Masked Annotated Somatic Mutation   \n",
       "3         Copy Number Variation      Gene Level Copy Number Scores   \n",
       "4            Proteome Profiling  Protein Expression Quantification   \n",
       "..                          ...                                ...   \n",
       "95      Transcriptome Profiling               Single Cell Analysis   \n",
       "96           Proteome Profiling  Protein Expression Quantification   \n",
       "97  Simple Nucleotide Variation  Masked Annotated Somatic Mutation   \n",
       "98           Proteome Profiling  Protein Expression Quantification   \n",
       "99      Transcriptome Profiling       Differential Gene Expression   \n",
       "\n",
       "   file_format associated_project  \\\n",
       "0          MAF          GENIE-NKI   \n",
       "1          MAF         GENIE-GRCC   \n",
       "2          MAF          GENIE-MDA   \n",
       "3          TSV          GENIE-MSK   \n",
       "4          TSV           TCGA-LGG   \n",
       "..         ...                ...   \n",
       "95         TSV            CPTAC-3   \n",
       "96         TSV           TCGA-LGG   \n",
       "97         MAF          GENIE-MSK   \n",
       "98         TSV           TCGA-GBM   \n",
       "99         TSV            CPTAC-3   \n",
       "\n",
       "                                              drs_uri  byte_size  \\\n",
       "0   drs://dg.4DFC:06668371-2079-4471-a06a-7ad6f987...       1052   \n",
       "1   drs://dg.4DFC:094daeed-db10-41fc-90be-ece59d23...       1843   \n",
       "2   drs://dg.4DFC:0e08b693-1cc5-4b91-a970-f3f588a1...       3145   \n",
       "3   drs://dg.4DFC:10e9c90a-bfd6-44ca-b6da-56203af6...      22932   \n",
       "4   drs://dg.4DFC:177aefb8-32f4-404b-b811-dba5c83e...      21974   \n",
       "..                                                ...        ...   \n",
       "95  drs://dg.4DFC:74e4f676-380d-4d13-a8eb-4faa006a...    2907801   \n",
       "96  drs://dg.4DFC:7e3ec592-40b9-4134-a5a6-5fa1385d...      22034   \n",
       "97  drs://dg.4DFC:9148502d-cb91-41c6-b382-62639010...       3825   \n",
       "98  drs://dg.4DFC:94438748-a273-4673-aec4-687a6c10...      24025   \n",
       "99  drs://dg.4DFC:a17f7c1a-da9e-4876-b5fc-63d683cc...     278571   \n",
       "\n",
       "                            checksum data_modality imaging_modality  \\\n",
       "0   e8d1a8534b9fe7a813f1b10a8a706daf       Genomic             None   \n",
       "1   40ad96e30309e253fb23f2449a70b6b8       Genomic             None   \n",
       "2   482f386bf108ab7cb6aff9afd96cc142       Genomic             None   \n",
       "3   352d5b9a3ea0b7edd466a6f60053b99e       Genomic             None   \n",
       "4   b48345a41d455fb506f2a9c74fd914a1       Genomic             None   \n",
       "..                               ...           ...              ...   \n",
       "95  64db788508e60bb12e417bf8b2bc5163       Genomic             None   \n",
       "96  2e7141d1166c24c9a9d11a4b35d34c51       Genomic             None   \n",
       "97  20d837abab0ffa04e06e5de5f35108e8       Genomic             None   \n",
       "98  1aedf8b68a4ac55c6f736acaaa74ee9d       Genomic             None   \n",
       "99  a986dfb0a6f9d5ef35b6f3c05208677f       Genomic             None   \n",
       "\n",
       "   dbgap_accession_number           subject_id  \\\n",
       "0                    None       GENIE-NKI-8IN3   \n",
       "1                    None  GENIE-GRCC-9b65f377   \n",
       "2                    None       GENIE-MDA-4319   \n",
       "3                    None  GENIE-MSK-P-0003830   \n",
       "4                    None         TCGA-HT-7474   \n",
       "..                    ...                  ...   \n",
       "95              phs001287            C3N-02190   \n",
       "96                   None         TCGA-DU-A5TU   \n",
       "97                   None  GENIE-MSK-P-0002799   \n",
       "98                   None         TCGA-76-6656   \n",
       "99              phs001287            C3N-02190   \n",
       "\n",
       "                      researchsubject_id           researchsubject_specimen_id  \n",
       "0   54ada9c7-e8f7-4ecc-b829-903be7e3ad82  922c4731-aa49-4d6b-bbea-9a98de73438a  \n",
       "1   b96be1f4-f89c-418a-8dcf-5e3b6d64f50f  dd06356c-a84b-533a-b684-1b8e3f4915ae  \n",
       "2   531c5404-92c5-471b-9c7e-e3bd62dafa63  baacb261-4c7e-4a0d-bdd4-635eb20d4bb8  \n",
       "3   2f6299e4-48b2-4c53-a6d3-2653abc4ca32  c9129afe-4202-547d-afca-5f9dab738d9b  \n",
       "4   72aa812d-5daa-4bd7-9028-ec541b1f25bd  335f4b6b-c4b2-4624-81f2-8fc568d10f16  \n",
       "..                                   ...                                   ...  \n",
       "95  805792e9-858e-4e9e-84cf-3578f7470889  c6d4eec2-5d13-53ec-91eb-fd52ada341f8  \n",
       "96  1c095c4a-df97-402e-902c-fc83bcf8ef88  c20e4e8b-af67-40db-81b5-b8a8976ab9a1  \n",
       "97  b018ac46-9fbb-4f68-8abb-0ec1116903b4  8c3b2317-5b60-5871-aba4-7eddd1bc727a  \n",
       "98  770aa1ee-aed9-4219-900e-63523cdf312f  ed2a500e-f6db-48d2-ade2-9e8f8ed004dc  \n",
       "99  805792e9-858e-4e9e-84cf-3578f7470889  950a9f78-2d18-47fa-bb63-fef7197e08c9  \n",
       "\n",
       "[100 rows x 16 columns]"
      ]
     },
     "execution_count": 4,
     "metadata": {},
     "output_type": "execute_result"
    }
   ],
   "source": [
    "myqueryspecimenfiles.to_dataframe()"
   ]
  },
  {
   "cell_type": "markdown",
   "id": "0f9a957b",
   "metadata": {},
   "source": [
    "<div style=\"background-color:#6ce6b9;color:black;padding:20px;\">\n",
    "<h3>Valid Endpoint Chains</h3>\n",
    "\n",
    "Not all endpoints can be chained together. This is a restriction caused by the data itself. `diagnosis` and `treatment` information does not have files directly attached to it, instead these files are associated with the `researchsubject`, as such both \"myquery.treatment.files.run()\" and \"myquery.diagnosis.files.run()\" will fail, as there are no files to retrieve. Valid chains are:\n",
    "    \n",
    "<ul>\n",
    "<li><b>myquery.subject.file.run:</b> This will return all the files that meet the query and that are directly tied to subject</li>\n",
    "<li><b>myquery.researchsubject.file.run:</b>This will return all the files that meet the query and that are directly tied to researchsubject</li>\n",
    "<li><b>myquery.specimen.file.run:</b> This will return all the files that meet the query and that are directly tied to specimen</li>\n",
    "</ul>\n",
    " \n",
    "</div>"
   ]
  },
  {
   "cell_type": "code",
   "execution_count": 6,
   "id": "4cd2d5a2",
   "metadata": {},
   "outputs": [
    {
     "data": {
      "text/html": [
       "<pre style=\"white-space:pre;overflow-x:auto;line-height:normal;font-family:Menlo,'DejaVu Sans Mono',consolas,'Courier New',monospace\">Getting results from database\n",
       "\n",
       "</pre>\n"
      ],
      "text/plain": [
       "Getting results from database\n",
       "\n"
      ]
     },
     "metadata": {},
     "output_type": "display_data"
    },
    {
     "name": "stdout",
     "output_type": "stream",
     "text": [
      "Total execution time: 3463 ms\n"
     ]
    },
    {
     "data": {
      "text/plain": [
       "\n",
       "            QueryID: 04675373-e046-4b32-aaff-4f67a6ebee02\n",
       "            \n",
       "            Offset: 0\n",
       "            Count: 100\n",
       "            Total Row Count: 39150\n",
       "            More pages: True\n",
       "            "
      ]
     },
     "execution_count": 6,
     "metadata": {},
     "output_type": "execute_result"
    }
   ],
   "source": [
    "myquery.file.specimen.run()"
   ]
  },
  {
   "cell_type": "code",
   "execution_count": null,
   "id": "c2398e6f",
   "metadata": {},
   "outputs": [],
   "source": []
  }
 ],
 "metadata": {
  "interpreter": {
   "hash": "5c867d1980d5b66d2bfc8a5903dcee074b4b68f3917a4f27f8a310cab24e9f1b"
  },
  "kernelspec": {
   "display_name": "Python 3 (ipykernel)",
   "language": "python",
   "name": "python3"
  },
  "language_info": {
   "codemirror_mode": {
    "name": "ipython",
    "version": 3
   },
   "file_extension": ".py",
   "mimetype": "text/x-python",
   "name": "python",
   "nbconvert_exporter": "python",
   "pygments_lexer": "ipython3",
   "version": "3.7.13"
  },
  "metadata": {
   "interpreter": {
    "hash": "5c867d1980d5b66d2bfc8a5903dcee074b4b68f3917a4f27f8a310cab24e9f1b"
   }
  }
 },
 "nbformat": 4,
 "nbformat_minor": 5
}
