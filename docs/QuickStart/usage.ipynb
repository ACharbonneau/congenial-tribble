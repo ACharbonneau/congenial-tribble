{
 "cells": [
  {
   "cell_type": "markdown",
   "id": "3c341e94",
   "metadata": {},
   "source": [
    "# Command Quick Reference\n",
    "---"
   ]
  },
  {
   "cell_type": "markdown",
   "id": "a8387f59",
   "metadata": {},
   "source": [
    "## Loading cdapython package\n"
   ]
  },
  {
   "cell_type": "code",
   "execution_count": 3,
   "id": "d28fac08",
   "metadata": {},
   "outputs": [],
   "source": [
    "from cdapython import Q, columns, unique_terms, query"
   ]
  },
  {
   "cell_type": "markdown",
   "id": "c1e70d8e",
   "metadata": {},
   "source": [
    "## cdapython version"
   ]
  },
  {
   "cell_type": "code",
   "execution_count": 4,
   "id": "28a10e23",
   "metadata": {},
   "outputs": [
    {
     "name": "stdout",
     "output_type": "stream",
     "text": [
      "2022.4.13\n"
     ]
    }
   ],
   "source": [
    "import cdapython\n",
    "print(cdapython.__version__)"
   ]
  },
  {
   "cell_type": "markdown",
   "id": "0810c61c",
   "metadata": {},
   "source": [
    "## columns()\n",
    "\n",
    "Show all available columns in the table. By default, ```columns()``` returns ```Subject``` entity fields.\n",
    "\n",
    "\n",
    "**Usage:**\n",
    "`columns(<optional args>)`"
   ]
  },
  {
   "cell_type": "code",
   "execution_count": 5,
   "id": "30f5a2a3",
   "metadata": {
    "scrolled": false
   },
   "outputs": [
    {
     "name": "stdout",
     "output_type": "stream",
     "text": [
      "Help on function columns in module cdapython.utility:\n",
      "\n",
      "columns(version: Union[str, NoneType] = 'all_v3_0_subjects_meta', host: Union[str, NoneType] = None, limit: int = 100, table: Union[str, NoneType] = None, verify: Union[bool, NoneType] = None, async_req: Union[bool, NoneType] = None, pre_stream: bool = True, files: Union[bool, NoneType] = False) -> Union[object, NoneType]\n",
      "    [summary]\n",
      "    \n",
      "    Args:\n",
      "        version (Optional[str], optional): [description]. Defaults to table_version.\n",
      "        host (Optional[str], optional): [description]. Defaults to None.\n",
      "        limit (int, optional): [description]. Defaults to 100.\n",
      "        table (Optional[str], optional): [description]. Defaults to None.\n",
      "        verify (Optional[bool], optional): [description]. Defaults to None.\n",
      "        async_req (Optional[bool], optional): [description]. Defaults to None.\n",
      "        pre_stream (bool, optional): [description]. Defaults to True.\n",
      "    \n",
      "    Returns:\n",
      "        Optional[object]: [description]\n",
      "\n"
     ]
    }
   ],
   "source": [
    "help(columns)"
   ]
  },
  {
   "cell_type": "markdown",
   "id": "6e22c697",
   "metadata": {},
   "source": [
    "## unique_terms()\n",
    "\n",
    "For a given column show all unique terms.\n",
    "\n",
    "**Usage:** `unique_terms(<col_name>, <optional args>)`"
   ]
  },
  {
   "cell_type": "code",
   "execution_count": 6,
   "id": "d804f764",
   "metadata": {
    "scrolled": true
   },
   "outputs": [
    {
     "name": "stdout",
     "output_type": "stream",
     "text": [
      "Help on function unique_terms in module cdapython.utility:\n",
      "\n",
      "unique_terms(col_name: str, system: str = '', limit: int = 100, host: Union[str, NoneType] = None, table: Union[str, NoneType] = None, verify: Union[bool, NoneType] = None, async_req: Union[bool, NoneType] = None, pre_stream: bool = True, version: Union[str, NoneType] = 'all_v3_0_subjects_meta', files: Union[bool, NoneType] = False) -> Union[List[Any], NoneType]\n",
      "    [summary]\n",
      "    \n",
      "    Args:\n",
      "        col_name (str): [description]\n",
      "        system (str, optional): [description]. Defaults to \"\".\n",
      "        limit (int, optional): [description]. Defaults to 100.\n",
      "        host (Optional[str], optional): [description]. Defaults to None.\n",
      "        table (Optional[str], optional): [description]. Defaults to None.\n",
      "        verify (Optional[bool], optional): [description]. Defaults to None.\n",
      "        async_req (Optional[bool], optional): [description]. Defaults to None.\n",
      "        pre_stream (bool, optional): [description]. Defaults to True.\n",
      "    \n",
      "    Returns:\n",
      "        Optional[List[Any]]: [description]\n",
      "\n"
     ]
    }
   ],
   "source": [
    "help(unique_terms)"
   ]
  },
  {
   "cell_type": "markdown",
   "id": "b13db3f1",
   "metadata": {},
   "source": [
    "## Q()\n",
    "\n",
    "Executes this query on the public CDA server.\n",
    "\n",
    "**Usage:** `<result> = Q(<column> <operator> <value>)`\n",
    "\n",
    "**Where:**\n",
    "- `<result>` is any user created variable\n",
    "- `<column>` is a value from `columns()`\n",
    "- `<operator>` is a valid comparison operator\n",
    "- `<value>` is a numeric/boolean/unique value from `unique_terms()`\n",
    "\n",
    "**Returns:** cda-python Q data type\n",
    "    \n",
    "    "
   ]
  },
  {
   "cell_type": "markdown",
   "id": "537984c5",
   "metadata": {},
   "source": [
    "### Q().run()\n",
    "\n",
    "Retrieves results of a `Q()` query.\n",
    "\n",
    "**Usage:** `<result>.run(<optional args>)`\n",
    "\n",
    "**Where:**\n",
    "- `<result>` is a user created variable containing an executed `Q()` query"
   ]
  },
  {
   "cell_type": "code",
   "execution_count": 7,
   "id": "47e76294",
   "metadata": {
    "scrolled": false
   },
   "outputs": [
    {
     "name": "stdout",
     "output_type": "stream",
     "text": [
      "Help on function run in module cdapython.Q:\n",
      "\n",
      "run(self, offset: int = 0, limit: int = 100, version: Union[str, NoneType] = 'all_v3_0_subjects_meta', host: Union[str, NoneType] = None, dry_run: bool = False, table: Union[str, NoneType] = 'gdc-bq-sample.dev', async_call: bool = False, verify: Union[bool, NoneType] = None, verbose: Union[bool, NoneType] = True, filter: Union[str, NoneType] = None, flatten: Union[bool, NoneType] = False, format: Union[str, NoneType] = 'json') -> Union[cdapython.Result.Result, NoneType]\n",
      "    Args:\n",
      "        offset (int, optional): [description]. Defaults to 0.\n",
      "        limit (int, optional): [description]. Defaults to 100.\n",
      "        version (Optional[str], optional): [description]. Defaults to table_version.\n",
      "        host (Optional[str], optional): [description]. Defaults to None.\n",
      "        dry_run (bool, optional): [description]. Defaults to False.\n",
      "        table (Optional[str], optional): [description]. Defaults to default_table.\n",
      "        async_call (bool, optional): [description]. Defaults to False.\n",
      "        verify (Optional[bool], optional): [description]. Defaults to None.\n",
      "        verbose (Optional[bool], optional): [Turn on logs]. Defaults to True.\n",
      "    \n",
      "    Returns:\n",
      "        Optional[Result]: [description]\n",
      "\n"
     ]
    }
   ],
   "source": [
    "help(Q.run)"
   ]
  },
  {
   "cell_type": "markdown",
   "id": "f4218838",
   "metadata": {},
   "source": [
    "### Q().count()\n",
    "\n",
    "Retrieves summary counts of a `Q()` query.\n",
    "\n",
    "**Usage:** `<result>.count(<optional args>)`\n",
    "\n",
    "**Where:**\n",
    "- `<result>` is a user created variable containing an executed `Q()` query"
   ]
  },
  {
   "cell_type": "code",
   "execution_count": 8,
   "id": "8bbc6b00",
   "metadata": {},
   "outputs": [
    {
     "name": "stdout",
     "output_type": "stream",
     "text": [
      "Help on function counts in module cdapython.Q:\n",
      "\n",
      "counts(self, host: Union[str, NoneType] = None, verify: Union[bool, NoneType] = None, offset: int = 0, limit: int = 100, version: Union[str, NoneType] = 'all_v3_0_Files', table: Union[str, NoneType] = 'gdc-bq-sample.dev', async_call: bool = False, dry_run: Union[bool, NoneType] = False, show_sql: bool = False)\n",
      "    _summary_\n",
      "    \n",
      "    Args:\n",
      "        host (Optional[str], optional): _description_. Defaults to None.\n",
      "        verify (Optional[bool], optional): _description_. Defaults to None.\n",
      "        offset (int, optional): _description_. Defaults to 0.\n",
      "        limit (int, optional): _description_. Defaults to 100.\n",
      "        version (Optional[str], optional): _description_. Defaults to file_table_version.\n",
      "        table (Optional[str], optional): _description_. Defaults to default_file_table.\n",
      "        async_call (bool, optional): _description_. Defaults to False.\n",
      "        dry_run (Optional[bool], optional): _description_. Defaults to False.\n",
      "        show_sql (bool, optional): _description_. Defaults to False.\n",
      "    \n",
      "    Returns:\n",
      "        _type_: _description_\n",
      "\n"
     ]
    }
   ],
   "source": [
    "help(Q.count)"
   ]
  },
  {
   "cell_type": "markdown",
   "id": "09234ab4",
   "metadata": {},
   "source": [
    "### Q().sql\n",
    "\n",
    "Returns the SQL string used to generate the query.\n",
    "\n",
    "Usage: `<result>.sql`\n",
    "\n",
    "where:\n",
    "- `<result>` is a user created variable containing an executed `Q()` query"
   ]
  },
  {
   "cell_type": "code",
   "execution_count": 9,
   "id": "946e29bc",
   "metadata": {
    "scrolled": true
   },
   "outputs": [
    {
     "name": "stdout",
     "output_type": "stream",
     "text": [
      "Help on function sql in module cdapython.Q:\n",
      "\n",
      "sql(sql: str, host: Union[str, NoneType] = None, dry_run: bool = False, offset: int = 0, limit: int = 100, async_call: bool = False, verify: Union[bool, NoneType] = None, verbose: Union[bool, NoneType] = True) -> Union[cdapython.Result.Result, NoneType]\n",
      "    [summary]\n",
      "    This function will let you write sql instead creating a Q statement\n",
      "    Args:\n",
      "        sql (str): [description]\n",
      "        host (Optional[str], optional): [description]. Defaults to None.\n",
      "        dry_run (bool, optional): [description]. Defaults to False.\n",
      "        offset (int, optional): [description]. Defaults to 0.\n",
      "        limit (int, optional): [description]. Defaults to 100.\n",
      "        async_call (bool, optional): [description]. Defaults to False.\n",
      "        verify (Optional[bool], optional): [description]. Defaults to None.\n",
      "        verbose (Optional[bool], optional): [description]. Defaults to True.\n",
      "    \n",
      "    Raises:\n",
      "        Exception: [description]\n",
      "        Exception: [description]\n",
      "    \n",
      "    Returns:\n",
      "        Optional[Result]: [description]\n",
      "\n"
     ]
    }
   ],
   "source": [
    "help(Q.sql)"
   ]
  },
  {
   "cell_type": "markdown",
   "id": "40c5946d",
   "metadata": {},
   "source": [
    "### Valid `Q()` comparsion operators \n",
    "\n",
    "Can be used with the `Q` or `query` command: \n",
    "\n",
    "\n",
    "| operator |condition description |Q.sql required?|\n",
    "|-----------|----------------------|---------------|\n",
    "| =        | equals                                  |     no        |\n",
    "| !=       | does not equal                          |     no        |\n",
    "| <        | is less than                            |     no        |\n",
    "| >        | is greater than                         |     no        |\n",
    "| <=       | is less than or equal to                |     no        |\n",
    "| >=       | is less than or equal to                |     no        |\n",
    "| like     | similar to = but allows wildcards ('%', '_', etc) |  yes |\n",
    "|in       | compares to a set        |    yes        |\n"
   ]
  },
  {
   "cell_type": "markdown",
   "id": "d2be4fca",
   "metadata": {},
   "source": [
    "## Combining `Q()` Queries"
   ]
  },
  {
   "cell_type": "markdown",
   "id": "40bcdcd2",
   "metadata": {},
   "source": [
    "### AND()\n",
    "\n",
    "Combines shared results of two or more `Q()` queries.\n",
    "\n",
    "**Usage:** `<query3> = <query1>.AND(<query2>)`\n",
    "\n",
    "**Where:**\n",
    "- `<query1>` and `<query2>` are user created variables containing different executed `Q()` queries\n",
    "\n",
    "**Returns:** a cda-python Q data type where the result of `<query3>` is taken only from the results that appear in both `<query1>` and `<query2>`"
   ]
  },
  {
   "cell_type": "code",
   "execution_count": 10,
   "id": "0662a2c0",
   "metadata": {},
   "outputs": [
    {
     "name": "stdout",
     "output_type": "stream",
     "text": [
      "Help on function And in module cdapython.Q:\n",
      "\n",
      "And(self, right: 'Q') -> 'Q'\n",
      "\n"
     ]
    }
   ],
   "source": [
    "help(Q.AND)"
   ]
  },
  {
   "cell_type": "markdown",
   "id": "1902224b",
   "metadata": {},
   "source": [
    "### OR()\n",
    "\n",
    "Combines all results of two or more `Q()` queries.\n",
    "\n",
    "**Usage:** `<query3> = <query1>.OR(<query2>)`\n",
    "\n",
    "**Where:**\n",
    "- `<query1>` and `<query2>` are user created variables containing different executed `Q()` queries\n",
    "\n",
    "**Returns:** a cda-python Q data type where the result of `<query3>` is taken from any results in either `<query1>` or `<query2>`\n"
   ]
  },
  {
   "cell_type": "code",
   "execution_count": 11,
   "id": "4ab02ba4",
   "metadata": {
    "scrolled": true
   },
   "outputs": [
    {
     "name": "stdout",
     "output_type": "stream",
     "text": [
      "Help on function Or in module cdapython.Q:\n",
      "\n",
      "Or(self, right: 'Q') -> 'Q'\n",
      "\n"
     ]
    }
   ],
   "source": [
    "help(Q.OR)"
   ]
  },
  {
   "cell_type": "markdown",
   "id": "1c84937d",
   "metadata": {},
   "source": [
    "### FROM()\n",
    "\n",
    "Run a query on existing `Q()` query results.\n",
    "\n",
    "**Usage:**\n",
    "\n",
    "- `<query4> = <query3>.FROM(query1)`\n",
    "\n",
    "OR\n",
    "\n",
    "- `<query4> = <query3>.FROM(query1.And(query2))`\n",
    "\n",
    "**Where:**\n",
    "- `<query1>`, `<query2>`, and `<query3>` are user created variables containing different executed `Q()` queries\n",
    "\n",
    "**Returns:** a cda-python Q data type where the result of `<query3>` is taken only from the results of `<query1>` OR `<query1>` and `<query2>`\n"
   ]
  },
  {
   "cell_type": "markdown",
   "id": "fe35699c",
   "metadata": {},
   "source": [
    "## Data version information\n",
    "\n",
    "To see extraction dates or data release versions of GDC, PDC, or IDC\n"
   ]
  },
  {
   "cell_type": "code",
   "execution_count": 10,
   "id": "b459d38e",
   "metadata": {},
   "outputs": [
    {
     "name": "stdout",
     "output_type": "stream",
     "text": [
      "{'option_value': '\"GDC data version - v32.0, \\\\nGDC extraction date - 04/07/2022\\\\nPDC data version - v2.7\\\\nPDC extraction date - 04/07/2022\\\\nIDC data version - v.8.0\\\\nIDC extraction date - 04/07/2022\"'}\n"
     ]
    }
   ],
   "source": [
    "for i in Q.sql(\"SELECT option_value FROM `gdc-bq-sample.integration.INFORMATION_SCHEMA.TABLE_OPTIONS` WHERE table_name = 'all_v3_0_Files'\"):\n",
    "    print(i)"
   ]
  }
 ],
 "metadata": {
  "interpreter": {
   "hash": "5c867d1980d5b66d2bfc8a5903dcee074b4b68f3917a4f27f8a310cab24e9f1b"
  },
  "kernelspec": {
   "display_name": "Python 3 (ipykernel)",
   "language": "python",
   "name": "python3"
  },
  "language_info": {
   "codemirror_mode": {
    "name": "ipython",
    "version": 3
   },
   "file_extension": ".py",
   "mimetype": "text/x-python",
   "name": "python",
   "nbconvert_exporter": "python",
   "pygments_lexer": "ipython3",
   "version": "3.7.13"
  },
  "metadata": {
   "interpreter": {
    "hash": "5c867d1980d5b66d2bfc8a5903dcee074b4b68f3917a4f27f8a310cab24e9f1b"
   }
  }
 },
 "nbformat": 4,
 "nbformat_minor": 5
}
