{
 "cells": [
  {
   "cell_type": "markdown",
   "id": "3c341e94",
   "metadata": {},
   "source": [
    "# How to search\n",
    "---"
   ]
  },
  {
   "cell_type": "markdown",
   "id": "a8387f59",
   "metadata": {},
   "source": [
    "Before we do any work, we need to import several functions from cdapython:\n",
    "\n",
    "\n",
    "- `Q` and `query` which power the search\n",
    "- `columns` which lets us view entity field names\n",
    "- `unique_terms` which lets view entity field contents\n",
    "    \n",
    "We're also asking cdapython to report it's version so we can be sure we're using the one we mean to."
   ]
  },
  {
   "cell_type": "code",
   "execution_count": 1,
   "id": "28a10e23",
   "metadata": {},
   "outputs": [
    {
     "name": "stdout",
     "output_type": "stream",
     "text": [
      "2022.4.13\n"
     ]
    }
   ],
   "source": [
    "from cdapython import Q, columns, unique_terms, query\n",
    "import cdapython\n",
    "print(cdapython.__version__)\n",
    "Q.set_host_url(\"http://35.192.60.10:8080/\")"
   ]
  },
  {
   "cell_type": "markdown",
   "id": "0810c61c",
   "metadata": {},
   "source": [
    "\n",
    "The CDA provides a custom python tool for searching CDA data. [`Q`](usage/#q) (short for Query) offers several ways to search and filter data, and several input modes:\n",
    "\n",
    "---\n",
    "\n",
    "- **[Q.counts()](../../../Documentation/usage/#qcounts)** returns summary information (counts) for the files that fit the specified search\n",
    "- **[Q.files()](../../../Documentation/usage/#qfiles)** returns data for the files that fit the specified search\n",
    "- **[Q.run()](../../../Documentation/usage/#qrun)** returns data for the specified search \n",
    "- **[Q.sql()](../../../Documentation/usage/#qsql)** allows you to use SQL syntax instead of Q syntax \n",
    "- **[query()](../../../Documentation/usage/#query)** allows you to use a more natural language syntax of Q\n",
    "\n",
    "---"
   ]
  },
  {
   "cell_type": "markdown",
   "id": "bd8084b3",
   "metadata": {},
   "source": [
    "## Retrieving summary information\n",
    "\n",
    "Let's run a search with a relatively simple question: We're interested how well represented hispanic and/or latino populations are in CDA resources and would like to know what data is available. Since `counts()` answers questions about data, by default it searches the \"Files\" table, which means we need to search with file terms. To run this simple search, we would first construct a query in `Q` and save it to a variable `myquery`:"
   ]
  },
  {
   "cell_type": "code",
   "execution_count": 2,
   "id": "d804f764",
   "metadata": {
    "scrolled": false
   },
   "outputs": [],
   "source": [
    "myquery = Q('Subject.ethnicity = \"hispanic or latino\"')"
   ]
  },
  {
   "cell_type": "markdown",
   "id": "8d38a80f",
   "metadata": {},
   "source": [
    "---\n",
    "\n",
    "#### Help: Where did those terms come from?\n",
    "    \n",
    "If you aren't sure how we knew what terms to put in our search, please refer back to the [What search terms are available?](../SearchTerms) notebook. \n",
    "\n",
    "---\n",
    "\n",
    "Since we are looking for summary information, we want to use this query in `Q.counts`. We do this by running `.counts()` on the query we just saved, and saving the result to a new variable `mycounts`:"
   ]
  },
  {
   "cell_type": "code",
   "execution_count": 3,
   "id": "a2c7c398",
   "metadata": {},
   "outputs": [],
   "source": [
    "mycounts = myquery.counts()"
   ]
  },
  {
   "cell_type": "markdown",
   "id": "d9a43c5d",
   "metadata": {},
   "source": [
    "We're saving information in variables, so we don't get any visible output. To see what our results are, we need to look into the variable. The simplest way is to call `mycounts` directly:"
   ]
  },
  {
   "cell_type": "code",
   "execution_count": 4,
   "id": "1b197aca",
   "metadata": {
    "scrolled": true
   },
   "outputs": [
    {
     "data": {
      "text/plain": [
       "\n",
       "            QueryID: 178f586e-4a4a-4795-b4b5-aec35082fc79\n",
       "            \n",
       "            Offset: 0\n",
       "            Count: 3\n",
       "            Total Row Count: 3\n",
       "            More pages: False\n",
       "            "
      ]
     },
     "execution_count": 4,
     "metadata": {},
     "output_type": "execute_result"
    }
   ],
   "source": [
    "mycounts"
   ]
  },
  {
   "cell_type": "markdown",
   "id": "d70f5bb1",
   "metadata": {},
   "source": [
    "This output tells us our QueryID, which we don't really need, but the computer does to track our questions. Then it tells us four parameters that describe our results:\n",
    "\n",
    "---\n",
    "\n",
    "- **Offset:** This is how many rows of information we've told the query to skip in the data, here we didn't tell it to skip anything, so the offset is zero\n",
    "- **Count:** This is how many rows the current page of our results table has. To keep searches fast, we default to pages with 100 rows.\n",
    "- **Total Row Count:** This is how many rows are in the full results table\n",
    "- **More pages:** This is alwasys a True or False. False means that our current page has all the availble results. True means that we will see only the first 100 results in this table, and will need to page through for more.\n",
    "\n",
    "---\n",
    "    \n",
    "Now that we've seen the metadata about our results, let's look at the actual table. The easiest way to do this is by using the python function `.to_dataframe()` on our `mycounts` variable:"
   ]
  },
  {
   "cell_type": "code",
   "execution_count": 5,
   "id": "44ff7dfb",
   "metadata": {},
   "outputs": [
    {
     "data": {
      "text/html": [
       "<div>\n",
       "<style scoped>\n",
       "    .dataframe tbody tr th:only-of-type {\n",
       "        vertical-align: middle;\n",
       "    }\n",
       "\n",
       "    .dataframe tbody tr th {\n",
       "        vertical-align: top;\n",
       "    }\n",
       "\n",
       "    .dataframe thead th {\n",
       "        text-align: right;\n",
       "    }\n",
       "</style>\n",
       "<table border=\"1\" class=\"dataframe\">\n",
       "  <thead>\n",
       "    <tr style=\"text-align: right;\">\n",
       "      <th></th>\n",
       "      <th>system</th>\n",
       "      <th>subject_count</th>\n",
       "      <th>subject_files_count</th>\n",
       "      <th>researchsubject_count</th>\n",
       "      <th>researchsubject_files_count</th>\n",
       "      <th>specimen_count</th>\n",
       "      <th>specimen_files_count</th>\n",
       "    </tr>\n",
       "  </thead>\n",
       "  <tbody>\n",
       "    <tr>\n",
       "      <th>0</th>\n",
       "      <td>IDC</td>\n",
       "      <td>371</td>\n",
       "      <td>86776</td>\n",
       "      <td>0</td>\n",
       "      <td>0</td>\n",
       "      <td>0</td>\n",
       "      <td>0</td>\n",
       "    </tr>\n",
       "    <tr>\n",
       "      <th>1</th>\n",
       "      <td>PDC</td>\n",
       "      <td>57</td>\n",
       "      <td>9401</td>\n",
       "      <td>444</td>\n",
       "      <td>9401</td>\n",
       "      <td>1033</td>\n",
       "      <td>9232</td>\n",
       "    </tr>\n",
       "    <tr>\n",
       "      <th>2</th>\n",
       "      <td>GDC</td>\n",
       "      <td>3118</td>\n",
       "      <td>32866</td>\n",
       "      <td>19158</td>\n",
       "      <td>32866</td>\n",
       "      <td>20598</td>\n",
       "      <td>30995</td>\n",
       "    </tr>\n",
       "  </tbody>\n",
       "</table>\n",
       "</div>"
      ],
      "text/plain": [
       "  system subject_count subject_files_count researchsubject_count  \\\n",
       "0    IDC           371               86776                     0   \n",
       "1    PDC            57                9401                   444   \n",
       "2    GDC          3118               32866                 19158   \n",
       "\n",
       "  researchsubject_files_count specimen_count specimen_files_count  \n",
       "0                           0              0                    0  \n",
       "1                        9401           1033                 9232  \n",
       "2                       32866          20598                30995  "
      ]
     },
     "execution_count": 5,
     "metadata": {},
     "output_type": "execute_result"
    }
   ],
   "source": [
    "mycounts.to_dataframe()"
   ]
  },
  {
   "cell_type": "markdown",
   "id": "d3a20679",
   "metadata": {},
   "source": [
    "### What do these numbers mean?\n",
    "\n",
    "---\n",
    "    \n",
    "- **system:** Which data source contributed this data? The CDA currently has data from IDC, PDC and GDC\n",
    "- **subject_count:** How many unique individuals meet our query. Note that *within* a data source the number is of *unique* individuals, but the same individuals can have data at multiple centers. Here, there are 371 unique people in the IDC data, however up to 57 of those may be exactly the same people as are in the PDC data.\n",
    "- **subject_files_count:** This tells you roughly how much data is available. It is the total count of files for all the subjects in `subject_count`, which is also the total number of files that match your search.\n",
    "- **researchsubject_count:** Some data sources have individual subjects that are in multiple studies, when this happens the individual will have both a \"subject\" identifier and a \"researchsubject\" identifier. This column counts the latter. Zero in this column can mean either \"there are no research_subjects that meet your search criteria\" or \"the data source for this row does not create special identifiers for subjects in multiple studies\"\n",
    "- **researchsubject_files_count:** This is the total count of files specific to researchsubjects in `researchsubject_count`. It is a subset of `subject_count`\n",
    "- **specimen_count:** Some data sources track whether files come from specific specimens from a given individual. This column counts the number of specimens that meet your search criteria. Zero in this column can mean either \"there are no specimens that meet your search criteria\" or \"the data source for this row does not track specimens seperately from subjects\"\n",
    "- **specimen_files_count:** This is the total count of files specific to specimens in `specimen_count`. It is a subset of both `subject_count` and `researchsubject_files_count`\n",
    "\n",
    "---\n",
    "\n",
    "\n",
    "If you are comfortable with python and/or don't need the intermediate variables for other queries, you can string all of those same commands together to get the output as a table directly from `Q`:"
   ]
  },
  {
   "cell_type": "code",
   "execution_count": 6,
   "id": "bf3879a2",
   "metadata": {
    "scrolled": false
   },
   "outputs": [
    {
     "data": {
      "text/html": [
       "<div>\n",
       "<style scoped>\n",
       "    .dataframe tbody tr th:only-of-type {\n",
       "        vertical-align: middle;\n",
       "    }\n",
       "\n",
       "    .dataframe tbody tr th {\n",
       "        vertical-align: top;\n",
       "    }\n",
       "\n",
       "    .dataframe thead th {\n",
       "        text-align: right;\n",
       "    }\n",
       "</style>\n",
       "<table border=\"1\" class=\"dataframe\">\n",
       "  <thead>\n",
       "    <tr style=\"text-align: right;\">\n",
       "      <th></th>\n",
       "      <th>system</th>\n",
       "      <th>subject_count</th>\n",
       "      <th>subject_files_count</th>\n",
       "      <th>researchsubject_count</th>\n",
       "      <th>researchsubject_files_count</th>\n",
       "      <th>specimen_count</th>\n",
       "      <th>specimen_files_count</th>\n",
       "    </tr>\n",
       "  </thead>\n",
       "  <tbody>\n",
       "    <tr>\n",
       "      <th>0</th>\n",
       "      <td>IDC</td>\n",
       "      <td>371</td>\n",
       "      <td>86776</td>\n",
       "      <td>0</td>\n",
       "      <td>0</td>\n",
       "      <td>0</td>\n",
       "      <td>0</td>\n",
       "    </tr>\n",
       "    <tr>\n",
       "      <th>1</th>\n",
       "      <td>PDC</td>\n",
       "      <td>57</td>\n",
       "      <td>9401</td>\n",
       "      <td>444</td>\n",
       "      <td>9401</td>\n",
       "      <td>1033</td>\n",
       "      <td>9232</td>\n",
       "    </tr>\n",
       "    <tr>\n",
       "      <th>2</th>\n",
       "      <td>GDC</td>\n",
       "      <td>3118</td>\n",
       "      <td>32866</td>\n",
       "      <td>19158</td>\n",
       "      <td>32866</td>\n",
       "      <td>20598</td>\n",
       "      <td>30995</td>\n",
       "    </tr>\n",
       "  </tbody>\n",
       "</table>\n",
       "</div>"
      ],
      "text/plain": [
       "  system subject_count subject_files_count researchsubject_count  \\\n",
       "0    IDC           371               86776                     0   \n",
       "1    PDC            57                9401                   444   \n",
       "2    GDC          3118               32866                 19158   \n",
       "\n",
       "  researchsubject_files_count specimen_count specimen_files_count  \n",
       "0                           0              0                    0  \n",
       "1                        9401           1033                 9232  \n",
       "2                       32866          20598                30995  "
      ]
     },
     "execution_count": 6,
     "metadata": {},
     "output_type": "execute_result"
    }
   ],
   "source": [
    "Q('Subject.ethnicity = \"hispanic or latino\"').counts().to_dataframe()\n",
    "\n"
   ]
  },
  {
   "cell_type": "markdown",
   "id": "42c02399",
   "metadata": {},
   "source": [
    "## Retrieving data\n",
    "\n",
    "\n",
    "Let's run the same query, but instead of asking for summary information, lets get the actual data. We start this process the same way, by making a `Q` statement. We can reuse `myquery` from earlier, and just run the `.files()` function on it: "
   ]
  },
  {
   "cell_type": "code",
   "execution_count": null,
   "id": "381eafaa",
   "metadata": {},
   "outputs": [
    {
     "name": "stdout",
     "output_type": "stream",
     "text": [
      "Getting results from database\n",
      "\n"
     ]
    }
   ],
   "source": [
    "mydata = myquery.files()"
   ]
  },
  {
   "cell_type": "code",
   "execution_count": null,
   "id": "2d39fc3b",
   "metadata": {
    "scrolled": true
   },
   "outputs": [],
   "source": [
    "mydata"
   ]
  },
  {
   "cell_type": "markdown",
   "id": "a3fceba3",
   "metadata": {},
   "source": [
    "To see the data, we again put the result in a dataframe. This would normally show 100 rows of data, so we use `.head()` to only see the first 10:"
   ]
  },
  {
   "cell_type": "code",
   "execution_count": null,
   "id": "8c3b1e05",
   "metadata": {
    "scrolled": true
   },
   "outputs": [],
   "source": [
    "mydata.to_dataframe().head()"
   ]
  },
  {
   "cell_type": "markdown",
   "id": "a70dce5f",
   "metadata": {},
   "source": [
    "Just as before, we can also skip the multiple calls and just string our command together for the same answer:"
   ]
  },
  {
   "cell_type": "code",
   "execution_count": null,
   "id": "dfb84830",
   "metadata": {},
   "outputs": [],
   "source": [
    "Q('Subject.ethnicity = \"hispanic or latino\"').files().to_dataframe().head()\n",
    "\n"
   ]
  },
  {
   "cell_type": "markdown",
   "id": "1059dc45",
   "metadata": {},
   "source": [
    "What are all these fields?\n",
    "\n",
    "---\n",
    "\n",
    "- **id:** The unique identifier for this file\n",
    "- **identifier:** An embedded array of information that includes the originating data center and the ID the file had there\n",
    "- **label:** The full name of the file\n",
    "- **data_catagory:** A desecription of the kind of general kind data the file holds\n",
    "- **data_type:** A more specific descripton of the data type\n",
    "- **file_format:** The extension of the file\n",
    "- **associated_project:** The name the data center uses for the study this file was generated for\n",
    "- **drs_uri:** A unique identifier that can be used to retreive this specific file from a server\n",
    "- **byte_size:** Size of the file in bytes\n",
    "- **checksum:** \n",
    "- **data_modality:** A high level descriptor of file data, always one of \"Genomic\", \"Proteomic\", or \"Imaging\"\n",
    "- **imaging_modality** For files with the `data_modality` of \"Imaging\", a descriptor for the image type\n",
    "- **dbgap_accession_number:**\n",
    "    \n",
    "---\n"
   ]
  },
  {
   "cell_type": "markdown",
   "id": "bc441673",
   "metadata": {},
   "source": [
    "One thing you may have noticed is that This output shows us that there are 139124 rows of data, but this is more than the 129043 we expected. This is because `.files` has to combine Subject and File data to answer our query, and in the join, some of the files are found twice. We can  "
   ]
  },
  {
   "cell_type": "code",
   "execution_count": null,
   "id": "1e2a38a9",
   "metadata": {
    "scrolled": true
   },
   "outputs": [],
   "source": [
    "unique_terms(\"ResearchSubject.Specimen.source_material_type\", system=\"PDC\")"
   ]
  },
  {
   "cell_type": "markdown",
   "id": "82271bce",
   "metadata": {},
   "source": [
    "## Basic querying\n",
    "\n",
    "We can start by getting the record for ```id = TCGA-E2-A10A``` that we mentioned earlier:"
   ]
  },
  {
   "cell_type": "markdown",
   "id": "32c93763",
   "metadata": {},
   "source": [
    "We see that we've got a single subject record as a result, which is what we expect.\n",
    "\n",
    "Let's see how the result looks like:"
   ]
  },
  {
   "cell_type": "code",
   "execution_count": null,
   "id": "b2a2a922",
   "metadata": {
    "scrolled": true
   },
   "outputs": [],
   "source": [
    "q = Q('id = \"TCGA-E2-A10A\"') # note the double quotes for the string value\n",
    "\n",
    "r = q.run()\n",
    "\n",
    "r"
   ]
  },
  {
   "cell_type": "code",
   "execution_count": null,
   "id": "3d8acea7",
   "metadata": {},
   "outputs": [],
   "source": [
    "stage = Q('ResearchSubject.Diagnosis.stage = \"Stage IV\"')\n",
    "r = stage.run()\n",
    "print(r)"
   ]
  },
  {
   "cell_type": "code",
   "execution_count": null,
   "id": "5a824aa5",
   "metadata": {},
   "outputs": [],
   "source": [
    "r.to_dataframe()\n"
   ]
  },
  {
   "cell_type": "code",
   "execution_count": null,
   "id": "7dc1a977",
   "metadata": {},
   "outputs": [],
   "source": [
    "q = Q('Subject.id = \"TCGA-E2-A10A\"') # note the double quotes for the string value\n",
    "\n",
    "r = q.counts(table=\"gdc-bq-sample.dev\", version=\"all_v3_0_Files\")\n",
    "\n",
    "r"
   ]
  },
  {
   "cell_type": "code",
   "execution_count": null,
   "id": "efed764d",
   "metadata": {},
   "outputs": [],
   "source": [
    "r.to_dataframe()\n"
   ]
  },
  {
   "cell_type": "markdown",
   "id": "40c5946d",
   "metadata": {},
   "source": [
    "The record is pretty large, so we'll print out ```identifier``` values for each ```ResearchSubject``` to confirm that we have one ```ResearchSubject``` that comes from GDC, and one that comes from PDC:"
   ]
  },
  {
   "cell_type": "code",
   "execution_count": null,
   "id": "35139d10",
   "metadata": {},
   "outputs": [],
   "source": [
    "for research_subject in r['system']:\n",
    "    print(research_subject['system'])"
   ]
  },
  {
   "cell_type": "markdown",
   "id": "46b75e65",
   "metadata": {},
   "source": [
    "The values represent ```ResearchSubject``` IDs and are equivalent to ```case_id``` values in data nodes."
   ]
  },
  {
   "cell_type": "markdown",
   "id": "40bcdcd2",
   "metadata": {},
   "source": [
    "## Example queries"
   ]
  },
  {
   "cell_type": "markdown",
   "id": "f2749c48",
   "metadata": {},
   "source": [
    "Now that we can create a query with ```Q()``` function, let's see how we can combine multiple conditions.\n",
    "\n",
    "There are three operators available:\n",
    "* ```And()```\n",
    "* ```Or()```\n",
    "* ```From()```\n",
    "\n",
    "The following examples show how those operators work in practice."
   ]
  },
  {
   "cell_type": "markdown",
   "id": "7d6110ca",
   "metadata": {},
   "source": [
    "### Query 1\n",
    "\n",
    "**Find data for subjects who were diagnosed after the age of 50 and who were investigated as part of the TCGA-OV project.**"
   ]
  },
  {
   "cell_type": "code",
   "execution_count": null,
   "id": "7f6ed866",
   "metadata": {},
   "outputs": [],
   "source": [
    "q1 = Q('sex = \"male\"')\n",
    "q2 = Q('identifier.system = \"GDC\"')\n",
    "q3 = Q('identifier.system = \"PDC\"')\n",
    "\n",
    "r2 = q1.And(q2)\n",
    "r3 = q1.And(q3)\n",
    "\n",
    "#taco = r2.run()\n",
    "#taco\n",
    "\n",
    "burrito = r3.run()\n"
   ]
  },
  {
   "cell_type": "code",
   "execution_count": null,
   "id": "09383046",
   "metadata": {},
   "outputs": [],
   "source": [
    "burrito"
   ]
  },
  {
   "cell_type": "raw",
   "id": "36f72ef8",
   "metadata": {},
   "source": []
  },
  {
   "cell_type": "code",
   "execution_count": null,
   "id": "f5739a0b",
   "metadata": {},
   "outputs": [],
   "source": [
    "q1 = Q('sex = \"male\"')\n",
    "\n",
    "taco = q1.run()\n",
    "taco"
   ]
  },
  {
   "cell_type": "code",
   "execution_count": null,
   "id": "387c3bdf",
   "metadata": {},
   "outputs": [],
   "source": [
    "from pandas import DataFrame,concat\n",
    "q = query('ResearchSubject.primary_diagnosis_condition LIKE \"Lung%\" AND sex = \"male\"').run()\n",
    "print(q)\n",
    "df = DataFrame()\n",
    "for i in q.paginator(to_df=True):\n",
    "    print(len(i))\n",
    "    df = concat([df,i])"
   ]
  },
  {
   "cell_type": "code",
   "execution_count": null,
   "id": "a04c69bf",
   "metadata": {
    "scrolled": true
   },
   "outputs": [],
   "source": [
    "df"
   ]
  },
  {
   "cell_type": "code",
   "execution_count": null,
   "id": "8b5d03bd",
   "metadata": {},
   "outputs": [],
   "source": [
    "r.to_dataframe()"
   ]
  },
  {
   "cell_type": "markdown",
   "id": "b699730b",
   "metadata": {},
   "source": [
    "### Query 2\n",
    "\n",
    "**Find data for donors with melanoma (Nevi and Melanomas) diagnosis and who were diagnosed before the age of 30.**"
   ]
  },
  {
   "cell_type": "code",
   "execution_count": null,
   "id": "fe6c9789",
   "metadata": {},
   "outputs": [],
   "source": [
    "q1 = Q('ResearchSubject.Specimen.primary_disease_type = \"Nevi and Melanomas\"')\n",
    "q2 = Q('ResearchSubject.Diagnosis.age_at_diagnosis < 30*365')\n",
    "\n",
    "q = q1.And(q2)\n",
    "r = q.run()\n",
    "\n",
    "print(r)"
   ]
  },
  {
   "cell_type": "markdown",
   "id": "86f047da",
   "metadata": {},
   "source": [
    "In addition, we can check how many records come from particular systems by adding one more condition to the query:"
   ]
  },
  {
   "cell_type": "code",
   "execution_count": null,
   "id": "b6d21e26",
   "metadata": {},
   "outputs": [],
   "source": [
    "q1 = Q('ResearchSubject.Specimen.primary_disease_type = \"Nevi and Melanomas\"')\n",
    "q2 = Q('ResearchSubject.Diagnosis.age_at_diagnosis < 30*365')\n",
    "q3 = Q('ResearchSubject.Specimen.identifier.system = \"GDC\"')\n",
    "\n",
    "q = q1.And(q2.And(q3))\n",
    "r = q.run()\n",
    "\n",
    "print(r)"
   ]
  },
  {
   "cell_type": "markdown",
   "id": "2b9688be",
   "metadata": {},
   "source": [
    "By comparing the ```Count``` value of the two results we can see that all the patients returned in the initial query are coming from the GDC.\n",
    "\n",
    "To explore the results further, we can fetch the patient JSON objects by iterating through the results:"
   ]
  },
  {
   "cell_type": "code",
   "execution_count": null,
   "id": "d56029b6",
   "metadata": {},
   "outputs": [],
   "source": [
    "projects = set()\n",
    "\n",
    "for patient in r:\n",
    "    research_subjects = patient['ResearchSubject']\n",
    "    for rs in research_subjects:\n",
    "        projects.add(rs['member_of_research_project'])\n",
    "\n",
    "print(projects)"
   ]
  },
  {
   "cell_type": "markdown",
   "id": "fa400f13",
   "metadata": {},
   "source": [
    "The output shows the projects where _Nevi and Melanomas_ cases appear."
   ]
  },
  {
   "cell_type": "markdown",
   "id": "9a2a4196",
   "metadata": {},
   "source": [
    "### Query 3\n",
    "\n",
    "**Identify all samples that meet the following conditions:**\n",
    "\n",
    "* **Sample is from primary tumor**\n",
    "* **Disease is ovarian or breast cancer**\n",
    "* **Subjects are females under the age of 60 years**"
   ]
  },
  {
   "cell_type": "code",
   "execution_count": null,
   "id": "c1b9c223",
   "metadata": {},
   "outputs": [],
   "source": [
    "tumor_type = Q('ResearchSubject.Specimen.source_material_type = \"Primary Tumor\"')\n",
    "disease1 = Q('ResearchSubject.primary_diagnosis_site = \"Ovary\"')\n",
    "disease2 = Q('ResearchSubject.primary_diagnosis_site = \"Breast\"')\n",
    "demographics1 = Q('sex = \"female\"')\n",
    "demographics2 = Q('days_to_birth > -60*365') # note that days_to_birth is a negative value\n",
    "\n",
    "q1 = tumor_type.And(demographics1.And(demographics2))\n",
    "q2 = disease1.Or(disease2)\n",
    "q = q1.And(q2)\n",
    "\n",
    "r = q.run()\n",
    "print(r)"
   ]
  },
  {
   "cell_type": "markdown",
   "id": "b3c461c9",
   "metadata": {},
   "source": [
    "In this case, we have a result that contains more than 1000 records which is the default page size. To load the next 1000 records, we can use the ```next_page()``` method:"
   ]
  },
  {
   "cell_type": "code",
   "execution_count": null,
   "id": "5311b00e",
   "metadata": {},
   "outputs": [],
   "source": [
    "r2 = r.next_page()"
   ]
  },
  {
   "cell_type": "code",
   "execution_count": null,
   "id": "db00c81e",
   "metadata": {},
   "outputs": [],
   "source": [
    "print(r2)"
   ]
  },
  {
   "cell_type": "markdown",
   "id": "4e5d887b",
   "metadata": {},
   "source": [
    "Alternatively, we can use the ```offset``` argument to specify the record to start from:\n",
    "\n",
    "```\n",
    "...\n",
    "r = q.run(offset=1000)\n",
    "print(r)\n",
    "```"
   ]
  },
  {
   "cell_type": "markdown",
   "id": "ee95df21",
   "metadata": {},
   "source": [
    "### Query 4\n",
    "\n",
    "**Find data for donors with \"Ovarian Serous Cystadenocarcinoma\" with proteomic and genomic data.**"
   ]
  },
  {
   "cell_type": "markdown",
   "id": "bb34dd14",
   "metadata": {},
   "source": [
    "**Note that disease type value denoting the same disease groups can be completely different within different systems. This is where CDA features come into play.** We first start by exploring the values available for this particular field in both systems."
   ]
  },
  {
   "cell_type": "code",
   "execution_count": null,
   "id": "44178304",
   "metadata": {},
   "outputs": [],
   "source": [
    "unique_terms('ResearchSubject.primary_diagnosis_condition', system=\"GDC\")"
   ]
  },
  {
   "cell_type": "markdown",
   "id": "6b4fb5ba",
   "metadata": {},
   "source": [
    "Since “Ovarian Serous Cystadenocarcinoma” doesn’t appear in GDC values we decide to look into the PDC:"
   ]
  },
  {
   "cell_type": "code",
   "execution_count": null,
   "id": "ae1afcbc",
   "metadata": {},
   "outputs": [],
   "source": [
    "unique_terms('ResearchSubject.primary_diagnosis_condition', system=\"PDC\")"
   ]
  },
  {
   "cell_type": "markdown",
   "id": "b5a060ff",
   "metadata": {},
   "source": [
    "After examining the output, we see that it does come from the PDC. Hence, if we could first identify the data that has research subjects found within the PDC that have this particular disease type, and then further narrow down the results to include only the portion of the data that is present in GDC, we could get the records that we are looking for."
   ]
  },
  {
   "cell_type": "code",
   "execution_count": null,
   "id": "c14fb138",
   "metadata": {},
   "outputs": [],
   "source": [
    "q1 = Q('ResearchSubject.primary_diagnosis_condition = \"Ovarian Serous Cystadenocarcinoma\"')\n",
    "q2 = Q('ResearchSubject.identifier.system = \"PDC\"')\n",
    "q3 = Q('ResearchSubject.identifier.system = \"GDC\"')\n",
    "\n",
    "q = q3.From(q1.And(q2))\n",
    "r = q.run()\n",
    "\n",
    "print(r)"
   ]
  },
  {
   "cell_type": "markdown",
   "id": "836586ad",
   "metadata": {},
   "source": [
    "As you can see, this is achieved by utilizing ```From``` operator. The ```From``` operator allows us to create queries from results of other queries. This is particularly useful when working with conditions that involve a single field which can take multiple different values for different items in a list that is being part of, e.g. we need ```ResearchSubject.identifier.system``` to be both “PDC” and “GDC” for a single patient. In such cases, ```And``` operator can’t help because it will return those entries where the field takes both values, which is zero entries."
   ]
  },
  {
   "cell_type": "code",
   "execution_count": null,
   "id": "a74b89e3",
   "metadata": {},
   "outputs": [],
   "source": [
    "for i in Q.sql(\"SELECT * FROM `gdc-bq-sample.cda_mvp.INFORMATION_SCHEMA.COLUMN_FIELD_PATHS` WHERE table_name = 'v3' Limit 5\"):\n",
    "    print(i)"
   ]
  },
  {
   "cell_type": "code",
   "execution_count": null,
   "id": "18853b66",
   "metadata": {},
   "outputs": [],
   "source": [
    "q1 = query('ResearchSubject.identifier.system = \"GDC\" FROM ResearchSubject.primary_diagnosis_condition = \"Ovarian Serous Cystadenocarcinoma\" AND ResearchSubject.identifier.system = \"PDC\"')\n",
    "result = q1.run(async_call=True)\n",
    "print(result)\n"
   ]
  },
  {
   "cell_type": "markdown",
   "id": "1214151e",
   "metadata": {},
   "source": [
    "## Data extraction and release information"
   ]
  },
  {
   "cell_type": "code",
   "execution_count": null,
   "id": "c167f32b",
   "metadata": {},
   "outputs": [],
   "source": [
    "# If you are interested in the extraction dates or data release versions of GDC, PDC, or IDC that is in a table or view, execute this code\n",
    "\n",
    "for i in Q.sql(\"SELECT option_value FROM `gdc-bq-sample.integration.INFORMATION_SCHEMA.TABLE_OPTIONS` WHERE table_name = 'all_v1'\"):\n",
    "    print(i)"
   ]
  }
 ],
 "metadata": {
  "interpreter": {
   "hash": "5c867d1980d5b66d2bfc8a5903dcee074b4b68f3917a4f27f8a310cab24e9f1b"
  },
  "kernelspec": {
   "display_name": "Python 3 (ipykernel)",
   "language": "python",
   "name": "python3"
  },
  "language_info": {
   "codemirror_mode": {
    "name": "ipython",
    "version": 3
   },
   "file_extension": ".py",
   "mimetype": "text/x-python",
   "name": "python",
   "nbconvert_exporter": "python",
   "pygments_lexer": "ipython3",
   "version": "3.7.13"
  },
  "metadata": {
   "interpreter": {
    "hash": "5c867d1980d5b66d2bfc8a5903dcee074b4b68f3917a4f27f8a310cab24e9f1b"
   }
  }
 },
 "nbformat": 4,
 "nbformat_minor": 5
}
