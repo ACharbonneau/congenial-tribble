{
 "cells": [
  {
   "cell_type": "markdown",
   "id": "3c341e94",
   "metadata": {},
   "source": [
    "# How to search\n",
    "---"
   ]
  },
  {
   "cell_type": "markdown",
   "id": "a8387f59",
   "metadata": {},
   "source": [
    "Before we do any work, we need to import several functions from cdapython:\n",
    "\n",
    "\n",
    "- `Q` and `query` which power the search\n",
    "- `columns` which lets us view entity field names\n",
    "- `unique_terms` which lets view entity field contents\n",
    "    \n",
    "We're also asking cdapython to report it's version so we can be sure we're using the one we mean to."
   ]
  },
  {
   "cell_type": "code",
   "execution_count": 1,
   "id": "28a10e23",
   "metadata": {},
   "outputs": [
    {
     "name": "stdout",
     "output_type": "stream",
     "text": [
      "2022.4.13\n"
     ]
    }
   ],
   "source": [
    "from cdapython import Q, columns, unique_terms, query\n",
    "import cdapython\n",
    "print(cdapython.__version__)\n",
    "Q.set_host_url(\"http://35.192.60.10:8080/\")"
   ]
  },
  {
   "cell_type": "markdown",
   "id": "0810c61c",
   "metadata": {},
   "source": [
    "\n",
    "The CDA provides a custom python tool for searching CDA data. [`Q`](usage/#q) (short for Query) offers several ways to search and filter data, and several input modes:\n",
    "\n",
    "---\n",
    "\n",
    "- **[Q.counts()](../../../Documentation/usage/#qcounts)** returns summary information (counts) for the files that fit the specified search\n",
    "- **[Q.files()](../../../Documentation/usage/#qfiles)** returns data for the files that fit the specified search\n",
    "- **[Q.run()](../../../Documentation/usage/#qrun)** returns data for the specified search \n",
    "- **[Q.sql()](../../../Documentation/usage/#qsql)** allows you to use SQL syntax instead of Q syntax \n",
    "- **[query()](../../../Documentation/usage/#query)** allows you to use a more natural language syntax of Q\n",
    "\n",
    "---"
   ]
  },
  {
   "cell_type": "markdown",
   "id": "bd8084b3",
   "metadata": {},
   "source": [
    "## Retrieving summary information\n",
    "\n",
    "Let's run a search with a relatively simple question: We're interested how well represented hispanic and/or latino populations are in CDA resources and would like to know what data is available. Since `counts()` answers questions about data, by default it searches the \"Files\" table, which means we need to search with file terms. To run this simple search, we would first construct a query in `Q` and save it to a variable `myquery`:"
   ]
  },
  {
   "cell_type": "code",
   "execution_count": 21,
   "id": "d804f764",
   "metadata": {
    "scrolled": false
   },
   "outputs": [],
   "source": [
    "myquery = Q('Subject.ethnicity = \"hispanic or latino\"')"
   ]
  },
  {
   "cell_type": "markdown",
   "id": "8d38a80f",
   "metadata": {},
   "source": [
    "---\n",
    "\n",
    "#### Help: Where did those terms come from?\n",
    "    \n",
    "If you aren't sure how we knew what terms to put in our search, please refer back to the [What search terms are available?](../SearchTerms) notebook. \n",
    "\n",
    "---\n",
    "\n",
    "Since we are looking for summary information, we want to use this query in `Q.counts`. We do this by running `.counts()` on the query we just saved, and saving the result to a new variable `mycounts`:"
   ]
  },
  {
   "cell_type": "code",
   "execution_count": 22,
   "id": "a2c7c398",
   "metadata": {},
   "outputs": [
    {
     "name": "stdout",
     "output_type": "stream",
     "text": [
      "(500)\n",
      "Reason: \n",
      "HTTP response headers: HTTPHeaderDict({'Content-Type': 'application/json', 'Transfer-Encoding': 'chunked', 'Date': 'Thu, 21 Apr 2022 19:05:53 GMT', 'Connection': 'close'})\n",
      "HTTP response body: {\"message\":null,\"statusCode\":500,\"causes\":[null]}\n",
      "\n"
     ]
    }
   ],
   "source": [
    "mycounts = myquery.counts()"
   ]
  },
  {
   "cell_type": "markdown",
   "id": "179e23ca",
   "metadata": {},
   "source": [
    "We're saving information in variables, so we don't get any visible output. To see what our results are, we need to look into the variable. The simplest way is to call `mycounts` directly:"
   ]
  },
  {
   "cell_type": "code",
   "execution_count": 4,
   "id": "1b197aca",
   "metadata": {
    "scrolled": true
   },
   "outputs": [
    {
     "data": {
      "text/plain": [
       "\n",
       "            QueryID: 178f586e-4a4a-4795-b4b5-aec35082fc79\n",
       "            \n",
       "            Offset: 0\n",
       "            Count: 3\n",
       "            Total Row Count: 3\n",
       "            More pages: False\n",
       "            "
      ]
     },
     "execution_count": 4,
     "metadata": {},
     "output_type": "execute_result"
    }
   ],
   "source": [
    "mycounts"
   ]
  },
  {
   "cell_type": "markdown",
   "id": "3c9d27fb",
   "metadata": {},
   "source": [
    "This output tells us our QueryID, which we don't really need, but the computer does to track our questions. Then it tells us four parameters that describe our results:\n",
    "\n",
    "---\n",
    "\n",
    "- **Offset:** This is how many rows of information we've told the query to skip in the data, here we didn't tell it to skip anything, so the offset is zero\n",
    "- **Count:** This is how many rows the current page of our results table has. To keep searches fast, we default to pages with 100 rows.\n",
    "- **Total Row Count:** This is how many rows are in the full results table\n",
    "- **More pages:** This is alwasys a True or False. False means that our current page has all the availble results. True means that we will see only the first 100 results in this table, and will need to page through for more.\n",
    "\n",
    "---\n",
    "    \n",
    "Now that we've seen the metadata about our results, let's look at the actual table. The easiest way to do this is by using the python function `.to_dataframe()` on our `mycounts` variable:"
   ]
  },
  {
   "cell_type": "code",
   "execution_count": 5,
   "id": "6c4fad01",
   "metadata": {},
   "outputs": [
    {
     "data": {
      "text/html": [
       "<div>\n",
       "<style scoped>\n",
       "    .dataframe tbody tr th:only-of-type {\n",
       "        vertical-align: middle;\n",
       "    }\n",
       "\n",
       "    .dataframe tbody tr th {\n",
       "        vertical-align: top;\n",
       "    }\n",
       "\n",
       "    .dataframe thead th {\n",
       "        text-align: right;\n",
       "    }\n",
       "</style>\n",
       "<table border=\"1\" class=\"dataframe\">\n",
       "  <thead>\n",
       "    <tr style=\"text-align: right;\">\n",
       "      <th></th>\n",
       "      <th>system</th>\n",
       "      <th>subject_count</th>\n",
       "      <th>subject_files_count</th>\n",
       "      <th>researchsubject_count</th>\n",
       "      <th>researchsubject_files_count</th>\n",
       "      <th>specimen_count</th>\n",
       "      <th>specimen_files_count</th>\n",
       "    </tr>\n",
       "  </thead>\n",
       "  <tbody>\n",
       "    <tr>\n",
       "      <th>0</th>\n",
       "      <td>IDC</td>\n",
       "      <td>371</td>\n",
       "      <td>86776</td>\n",
       "      <td>0</td>\n",
       "      <td>0</td>\n",
       "      <td>0</td>\n",
       "      <td>0</td>\n",
       "    </tr>\n",
       "    <tr>\n",
       "      <th>1</th>\n",
       "      <td>PDC</td>\n",
       "      <td>57</td>\n",
       "      <td>9401</td>\n",
       "      <td>444</td>\n",
       "      <td>9401</td>\n",
       "      <td>1033</td>\n",
       "      <td>9232</td>\n",
       "    </tr>\n",
       "    <tr>\n",
       "      <th>2</th>\n",
       "      <td>GDC</td>\n",
       "      <td>3118</td>\n",
       "      <td>32866</td>\n",
       "      <td>19158</td>\n",
       "      <td>32866</td>\n",
       "      <td>20598</td>\n",
       "      <td>30995</td>\n",
       "    </tr>\n",
       "  </tbody>\n",
       "</table>\n",
       "</div>"
      ],
      "text/plain": [
       "  system subject_count subject_files_count researchsubject_count  \\\n",
       "0    IDC           371               86776                     0   \n",
       "1    PDC            57                9401                   444   \n",
       "2    GDC          3118               32866                 19158   \n",
       "\n",
       "  researchsubject_files_count specimen_count specimen_files_count  \n",
       "0                           0              0                    0  \n",
       "1                        9401           1033                 9232  \n",
       "2                       32866          20598                30995  "
      ]
     },
     "execution_count": 5,
     "metadata": {},
     "output_type": "execute_result"
    }
   ],
   "source": [
    "mycounts.to_dataframe()"
   ]
  },
  {
   "cell_type": "markdown",
   "id": "984b3cba",
   "metadata": {},
   "source": [
    "### What do these numbers mean?\n",
    "\n",
    "---\n",
    "    \n",
    "- **system:** Which data source contributed this data? The CDA currently has data from IDC, PDC and GDC\n",
    "- **subject_count:** How many unique individuals meet our query. Note that *within* a data source the number is of *unique* individuals, but the same individuals can have data at multiple centers. Here, there are 371 unique people in the IDC data, however up to 57 of those may be exactly the same people as are in the PDC data.\n",
    "- **subject_files_count:** This tells you roughly how much data is available. It is the total count of files for all the subjects in `subject_count`, which is also the total number of files that match your search.\n",
    "- **researchsubject_count:** Some data sources have individual subjects that are in multiple studies, when this happens the individual will have both a \"subject\" identifier and a \"researchsubject\" identifier. This column counts the latter. Zero in this column can mean either \"there are no research_subjects that meet your search criteria\" or \"the data source for this row does not create special identifiers for subjects in multiple studies\"\n",
    "- **researchsubject_files_count:** This is the total count of files specific to researchsubjects in `researchsubject_count`. It is a subset of `subject_count`\n",
    "- **specimen_count:** Some data sources track whether files come from specific specimens from a given individual. This column counts the number of specimens that meet your search criteria. Zero in this column can mean either \"there are no specimens that meet your search criteria\" or \"the data source for this row does not track specimens seperately from subjects\"\n",
    "- **specimen_files_count:** This is the total count of files specific to specimens in `specimen_count`. It is a subset of both `subject_count` and `researchsubject_files_count`\n",
    "\n",
    "---\n",
    "\n",
    "\n",
    "If you are comfortable with python and/or don't need the intermediate variables for other queries, you can string all of those same commands together to get the output as a table directly from `Q`:"
   ]
  },
  {
   "cell_type": "code",
   "execution_count": 6,
   "id": "b30531db",
   "metadata": {
    "scrolled": false
   },
   "outputs": [
    {
     "data": {
      "text/html": [
       "<div>\n",
       "<style scoped>\n",
       "    .dataframe tbody tr th:only-of-type {\n",
       "        vertical-align: middle;\n",
       "    }\n",
       "\n",
       "    .dataframe tbody tr th {\n",
       "        vertical-align: top;\n",
       "    }\n",
       "\n",
       "    .dataframe thead th {\n",
       "        text-align: right;\n",
       "    }\n",
       "</style>\n",
       "<table border=\"1\" class=\"dataframe\">\n",
       "  <thead>\n",
       "    <tr style=\"text-align: right;\">\n",
       "      <th></th>\n",
       "      <th>system</th>\n",
       "      <th>subject_count</th>\n",
       "      <th>subject_files_count</th>\n",
       "      <th>researchsubject_count</th>\n",
       "      <th>researchsubject_files_count</th>\n",
       "      <th>specimen_count</th>\n",
       "      <th>specimen_files_count</th>\n",
       "    </tr>\n",
       "  </thead>\n",
       "  <tbody>\n",
       "    <tr>\n",
       "      <th>0</th>\n",
       "      <td>IDC</td>\n",
       "      <td>371</td>\n",
       "      <td>86776</td>\n",
       "      <td>0</td>\n",
       "      <td>0</td>\n",
       "      <td>0</td>\n",
       "      <td>0</td>\n",
       "    </tr>\n",
       "    <tr>\n",
       "      <th>1</th>\n",
       "      <td>PDC</td>\n",
       "      <td>57</td>\n",
       "      <td>9401</td>\n",
       "      <td>444</td>\n",
       "      <td>9401</td>\n",
       "      <td>1033</td>\n",
       "      <td>9232</td>\n",
       "    </tr>\n",
       "    <tr>\n",
       "      <th>2</th>\n",
       "      <td>GDC</td>\n",
       "      <td>3118</td>\n",
       "      <td>32866</td>\n",
       "      <td>19158</td>\n",
       "      <td>32866</td>\n",
       "      <td>20598</td>\n",
       "      <td>30995</td>\n",
       "    </tr>\n",
       "  </tbody>\n",
       "</table>\n",
       "</div>"
      ],
      "text/plain": [
       "  system subject_count subject_files_count researchsubject_count  \\\n",
       "0    IDC           371               86776                     0   \n",
       "1    PDC            57                9401                   444   \n",
       "2    GDC          3118               32866                 19158   \n",
       "\n",
       "  researchsubject_files_count specimen_count specimen_files_count  \n",
       "0                           0              0                    0  \n",
       "1                        9401           1033                 9232  \n",
       "2                       32866          20598                30995  "
      ]
     },
     "execution_count": 6,
     "metadata": {},
     "output_type": "execute_result"
    }
   ],
   "source": [
    "Q('Subject.ethnicity = \"hispanic or latino\"').counts().to_dataframe()\n",
    "\n"
   ]
  },
  {
   "cell_type": "markdown",
   "id": "b440dae3",
   "metadata": {},
   "source": [
    "## Retrieving data\n",
    "\n",
    "\n",
    "Let's run the same query, but instead of asking for summary information, lets get the actual data. We start this process the same way, by making a `Q` statement. We can reuse `myquery` from earlier, and just run the `.files()` function on it: "
   ]
  },
  {
   "cell_type": "code",
   "execution_count": 7,
   "id": "7ee55a4a",
   "metadata": {},
   "outputs": [
    {
     "name": "stdout",
     "output_type": "stream",
     "text": [
      "Getting results from database\n",
      "\n"
     ]
    }
   ],
   "source": [
    "mydata = myquery.files()"
   ]
  },
  {
   "cell_type": "code",
   "execution_count": 23,
   "id": "abb2ff77",
   "metadata": {
    "scrolled": true
   },
   "outputs": [
    {
     "data": {
      "text/plain": [
       "\n",
       "            QueryID: 2acc5aa0-386b-40d7-9d2b-a41f5b980e9e\n",
       "            Query:SELECT all_v3_0_Files.* FROM gdc-bq-sample.dev.all_v3_0_Files AS all_v3_0_Files, UNNEST(all_v3_0_Files.Subject) AS _Subject WHERE (UPPER(_Subject.ethnicity) = UPPER('hispanic or latino'))\n",
       "            Offset: 0\n",
       "            Count: 100\n",
       "            Total Row Count: 139124\n",
       "            More pages: True\n",
       "            "
      ]
     },
     "execution_count": 23,
     "metadata": {},
     "output_type": "execute_result"
    }
   ],
   "source": [
    "mydata"
   ]
  },
  {
   "cell_type": "code",
   "execution_count": null,
   "id": "c4b08297",
   "metadata": {},
   "outputs": [],
   "source": []
  },
  {
   "cell_type": "markdown",
   "id": "75487f50",
   "metadata": {},
   "source": [
    "To see the data, we again put the result in a dataframe. This would normally show 100 rows of data, so we use `.head()` to only see the first 10:"
   ]
  },
  {
   "cell_type": "code",
   "execution_count": 9,
   "id": "1be57825",
   "metadata": {
    "scrolled": true
   },
   "outputs": [
    {
     "data": {
      "text/html": [
       "<div>\n",
       "<style scoped>\n",
       "    .dataframe tbody tr th:only-of-type {\n",
       "        vertical-align: middle;\n",
       "    }\n",
       "\n",
       "    .dataframe tbody tr th {\n",
       "        vertical-align: top;\n",
       "    }\n",
       "\n",
       "    .dataframe thead th {\n",
       "        text-align: right;\n",
       "    }\n",
       "</style>\n",
       "<table border=\"1\" class=\"dataframe\">\n",
       "  <thead>\n",
       "    <tr style=\"text-align: right;\">\n",
       "      <th></th>\n",
       "      <th>id</th>\n",
       "      <th>identifier</th>\n",
       "      <th>label</th>\n",
       "      <th>data_category</th>\n",
       "      <th>data_type</th>\n",
       "      <th>file_format</th>\n",
       "      <th>associated_project</th>\n",
       "      <th>drs_uri</th>\n",
       "      <th>byte_size</th>\n",
       "      <th>checksum</th>\n",
       "      <th>data_modality</th>\n",
       "      <th>imaging_modality</th>\n",
       "      <th>dbgap_accession_number</th>\n",
       "      <th>Subject</th>\n",
       "      <th>ResearchSubject</th>\n",
       "      <th>Specimen</th>\n",
       "    </tr>\n",
       "  </thead>\n",
       "  <tbody>\n",
       "    <tr>\n",
       "      <th>0</th>\n",
       "      <td>780c44bb-3783-460f-862d-074a70a89941</td>\n",
       "      <td>[{'system': 'GDC', 'value': '780c44bb-3783-460...</td>\n",
       "      <td>CAUSE_p_TCGAb73_SNP_N_GenomeWideSNP_6_D07_6982...</td>\n",
       "      <td>Copy Number Variation</td>\n",
       "      <td>Masked Copy Number Segment</td>\n",
       "      <td>TXT</td>\n",
       "      <td>TCGA-UCEC</td>\n",
       "      <td>drs://dg.4DFC:780c44bb-3783-460f-862d-074a70a8...</td>\n",
       "      <td>5586</td>\n",
       "      <td>c19b70ae36770c902672a308609b084e</td>\n",
       "      <td>Genomic</td>\n",
       "      <td>None</td>\n",
       "      <td>None</td>\n",
       "      <td>[{'id': 'TCGA-BS-A0TA', 'identifier': [{'syste...</td>\n",
       "      <td>[{'id': 'ad3d8420-f562-4cbe-ac82-c968bd4f782d'...</td>\n",
       "      <td>[{'id': 'b6a042b6-f94a-4acc-98cb-a1a2fe72b9ad'...</td>\n",
       "    </tr>\n",
       "    <tr>\n",
       "      <th>1</th>\n",
       "      <td>4454d6eb-8638-46fd-bbd5-0af0457177a7</td>\n",
       "      <td>[{'system': 'PDC', 'value': '4454d6eb-8638-46f...</td>\n",
       "      <td>TCGA_114C_29-1696-01A-01_29-1771-01A-01_13-206...</td>\n",
       "      <td>Processed Mass Spectra</td>\n",
       "      <td>Open Standard</td>\n",
       "      <td>mzML</td>\n",
       "      <td>CPTAC-TCGA</td>\n",
       "      <td>drs://dg.4DFC:4454d6eb-8638-46fd-bbd5-0af04571...</td>\n",
       "      <td>24717292</td>\n",
       "      <td>4391ffc0326a5d1ad70f4c552e5f4242</td>\n",
       "      <td>Proteomic</td>\n",
       "      <td>None</td>\n",
       "      <td>None</td>\n",
       "      <td>[{'id': 'TCGA-29-1696', 'identifier': [{'syste...</td>\n",
       "      <td>[{'id': 'b8ebbb4c-63d7-11e8-bcf1-0a2705229b82'...</td>\n",
       "      <td>[{'id': 'c049099a-641e-11e8-bcf1-0a2705229b82'...</td>\n",
       "    </tr>\n",
       "    <tr>\n",
       "      <th>2</th>\n",
       "      <td>7d1ce6ef-c0f2-4707-a95a-8eebbe50963a</td>\n",
       "      <td>[{'system': 'GDC', 'value': '7d1ce6ef-c0f2-470...</td>\n",
       "      <td>TARGET_AML.18578b8f-7557-4876-8c68-a864611bcaf...</td>\n",
       "      <td>Simple Nucleotide Variation</td>\n",
       "      <td>Annotated Somatic Mutation</td>\n",
       "      <td>VCF</td>\n",
       "      <td>TARGET-AML</td>\n",
       "      <td>drs://dg.4DFC:7d1ce6ef-c0f2-4707-a95a-8eebbe50...</td>\n",
       "      <td>1620816</td>\n",
       "      <td>947b90503740257bc6f29fcd364d1b3f</td>\n",
       "      <td>Genomic</td>\n",
       "      <td>None</td>\n",
       "      <td>phs000465</td>\n",
       "      <td>[{'id': 'TARGET-20-PARGVC', 'identifier': [{'s...</td>\n",
       "      <td>[{'id': '0bb51ed6-41bb-56a3-bd80-a297992b61c9'...</td>\n",
       "      <td>[{'id': '1de5bf90-45c7-5962-ab0e-29e4bd64a7df'...</td>\n",
       "    </tr>\n",
       "    <tr>\n",
       "      <th>3</th>\n",
       "      <td>d0859f49-775b-4fc9-8281-310dbfef7d93</td>\n",
       "      <td>[{'system': 'GDC', 'value': 'd0859f49-775b-4fc...</td>\n",
       "      <td>D0CM7ACXX_3_ATTGGC_gdc_realn.bam</td>\n",
       "      <td>Sequencing Reads</td>\n",
       "      <td>Aligned Reads</td>\n",
       "      <td>BAM</td>\n",
       "      <td>TARGET-AML</td>\n",
       "      <td>drs://dg.4DFC:d0859f49-775b-4fc9-8281-310dbfef...</td>\n",
       "      <td>258859204</td>\n",
       "      <td>a90f970ba1540b2a033135ecef260d5f</td>\n",
       "      <td>Genomic</td>\n",
       "      <td>None</td>\n",
       "      <td>phs000465</td>\n",
       "      <td>[{'id': 'TARGET-20-PARTXH', 'identifier': [{'s...</td>\n",
       "      <td>[{'id': '51af485c-dfcb-5e00-a22a-0d7d539892ad'...</td>\n",
       "      <td>[{'id': 'aacb5151-785c-57ec-9129-419091dc2820'...</td>\n",
       "    </tr>\n",
       "    <tr>\n",
       "      <th>4</th>\n",
       "      <td>8aa97acb-d8ab-48c1-b9e2-d90c2506ad31</td>\n",
       "      <td>[{'system': 'GDC', 'value': '8aa97acb-d8ab-48c...</td>\n",
       "      <td>fe619ca3-42d5-4281-9b29-0911b982b877_mirnaseq_...</td>\n",
       "      <td>Sequencing Reads</td>\n",
       "      <td>Aligned Reads</td>\n",
       "      <td>BAM</td>\n",
       "      <td>TARGET-AML</td>\n",
       "      <td>drs://dg.4DFC:8aa97acb-d8ab-48c1-b9e2-d90c2506...</td>\n",
       "      <td>146160867</td>\n",
       "      <td>53ba7995f7fa227275333210ab0316fc</td>\n",
       "      <td>Genomic</td>\n",
       "      <td>None</td>\n",
       "      <td>phs000465</td>\n",
       "      <td>[{'id': 'TARGET-20-PAWNGC', 'identifier': [{'s...</td>\n",
       "      <td>[{'id': '98e681e3-b756-4535-8b95-09f16ff66e8f'...</td>\n",
       "      <td>[{'id': '255615a2-1715-4df5-9115-51b2448e8aa0'...</td>\n",
       "    </tr>\n",
       "  </tbody>\n",
       "</table>\n",
       "</div>"
      ],
      "text/plain": [
       "                                     id  \\\n",
       "0  780c44bb-3783-460f-862d-074a70a89941   \n",
       "1  4454d6eb-8638-46fd-bbd5-0af0457177a7   \n",
       "2  7d1ce6ef-c0f2-4707-a95a-8eebbe50963a   \n",
       "3  d0859f49-775b-4fc9-8281-310dbfef7d93   \n",
       "4  8aa97acb-d8ab-48c1-b9e2-d90c2506ad31   \n",
       "\n",
       "                                          identifier  \\\n",
       "0  [{'system': 'GDC', 'value': '780c44bb-3783-460...   \n",
       "1  [{'system': 'PDC', 'value': '4454d6eb-8638-46f...   \n",
       "2  [{'system': 'GDC', 'value': '7d1ce6ef-c0f2-470...   \n",
       "3  [{'system': 'GDC', 'value': 'd0859f49-775b-4fc...   \n",
       "4  [{'system': 'GDC', 'value': '8aa97acb-d8ab-48c...   \n",
       "\n",
       "                                               label  \\\n",
       "0  CAUSE_p_TCGAb73_SNP_N_GenomeWideSNP_6_D07_6982...   \n",
       "1  TCGA_114C_29-1696-01A-01_29-1771-01A-01_13-206...   \n",
       "2  TARGET_AML.18578b8f-7557-4876-8c68-a864611bcaf...   \n",
       "3                   D0CM7ACXX_3_ATTGGC_gdc_realn.bam   \n",
       "4  fe619ca3-42d5-4281-9b29-0911b982b877_mirnaseq_...   \n",
       "\n",
       "                 data_category                   data_type file_format  \\\n",
       "0        Copy Number Variation  Masked Copy Number Segment         TXT   \n",
       "1       Processed Mass Spectra               Open Standard        mzML   \n",
       "2  Simple Nucleotide Variation  Annotated Somatic Mutation         VCF   \n",
       "3             Sequencing Reads               Aligned Reads         BAM   \n",
       "4             Sequencing Reads               Aligned Reads         BAM   \n",
       "\n",
       "  associated_project                                            drs_uri  \\\n",
       "0          TCGA-UCEC  drs://dg.4DFC:780c44bb-3783-460f-862d-074a70a8...   \n",
       "1         CPTAC-TCGA  drs://dg.4DFC:4454d6eb-8638-46fd-bbd5-0af04571...   \n",
       "2         TARGET-AML  drs://dg.4DFC:7d1ce6ef-c0f2-4707-a95a-8eebbe50...   \n",
       "3         TARGET-AML  drs://dg.4DFC:d0859f49-775b-4fc9-8281-310dbfef...   \n",
       "4         TARGET-AML  drs://dg.4DFC:8aa97acb-d8ab-48c1-b9e2-d90c2506...   \n",
       "\n",
       "   byte_size                          checksum data_modality imaging_modality  \\\n",
       "0       5586  c19b70ae36770c902672a308609b084e       Genomic             None   \n",
       "1   24717292  4391ffc0326a5d1ad70f4c552e5f4242     Proteomic             None   \n",
       "2    1620816  947b90503740257bc6f29fcd364d1b3f       Genomic             None   \n",
       "3  258859204  a90f970ba1540b2a033135ecef260d5f       Genomic             None   \n",
       "4  146160867  53ba7995f7fa227275333210ab0316fc       Genomic             None   \n",
       "\n",
       "  dbgap_accession_number                                            Subject  \\\n",
       "0                   None  [{'id': 'TCGA-BS-A0TA', 'identifier': [{'syste...   \n",
       "1                   None  [{'id': 'TCGA-29-1696', 'identifier': [{'syste...   \n",
       "2              phs000465  [{'id': 'TARGET-20-PARGVC', 'identifier': [{'s...   \n",
       "3              phs000465  [{'id': 'TARGET-20-PARTXH', 'identifier': [{'s...   \n",
       "4              phs000465  [{'id': 'TARGET-20-PAWNGC', 'identifier': [{'s...   \n",
       "\n",
       "                                     ResearchSubject  \\\n",
       "0  [{'id': 'ad3d8420-f562-4cbe-ac82-c968bd4f782d'...   \n",
       "1  [{'id': 'b8ebbb4c-63d7-11e8-bcf1-0a2705229b82'...   \n",
       "2  [{'id': '0bb51ed6-41bb-56a3-bd80-a297992b61c9'...   \n",
       "3  [{'id': '51af485c-dfcb-5e00-a22a-0d7d539892ad'...   \n",
       "4  [{'id': '98e681e3-b756-4535-8b95-09f16ff66e8f'...   \n",
       "\n",
       "                                            Specimen  \n",
       "0  [{'id': 'b6a042b6-f94a-4acc-98cb-a1a2fe72b9ad'...  \n",
       "1  [{'id': 'c049099a-641e-11e8-bcf1-0a2705229b82'...  \n",
       "2  [{'id': '1de5bf90-45c7-5962-ab0e-29e4bd64a7df'...  \n",
       "3  [{'id': 'aacb5151-785c-57ec-9129-419091dc2820'...  \n",
       "4  [{'id': '255615a2-1715-4df5-9115-51b2448e8aa0'...  "
      ]
     },
     "execution_count": 9,
     "metadata": {},
     "output_type": "execute_result"
    }
   ],
   "source": [
    "mydata.to_dataframe().head()"
   ]
  },
  {
   "cell_type": "markdown",
   "id": "045b8705",
   "metadata": {},
   "source": [
    "Just as before, we can also skip the multiple calls and just string our command together for the same answer:"
   ]
  },
  {
   "cell_type": "code",
   "execution_count": 10,
   "id": "f68ce5bd",
   "metadata": {},
   "outputs": [
    {
     "name": "stdout",
     "output_type": "stream",
     "text": [
      "Getting results from database\n",
      "\n"
     ]
    },
    {
     "data": {
      "text/html": [
       "<div>\n",
       "<style scoped>\n",
       "    .dataframe tbody tr th:only-of-type {\n",
       "        vertical-align: middle;\n",
       "    }\n",
       "\n",
       "    .dataframe tbody tr th {\n",
       "        vertical-align: top;\n",
       "    }\n",
       "\n",
       "    .dataframe thead th {\n",
       "        text-align: right;\n",
       "    }\n",
       "</style>\n",
       "<table border=\"1\" class=\"dataframe\">\n",
       "  <thead>\n",
       "    <tr style=\"text-align: right;\">\n",
       "      <th></th>\n",
       "      <th>id</th>\n",
       "      <th>identifier</th>\n",
       "      <th>label</th>\n",
       "      <th>data_category</th>\n",
       "      <th>data_type</th>\n",
       "      <th>file_format</th>\n",
       "      <th>associated_project</th>\n",
       "      <th>drs_uri</th>\n",
       "      <th>byte_size</th>\n",
       "      <th>checksum</th>\n",
       "      <th>data_modality</th>\n",
       "      <th>imaging_modality</th>\n",
       "      <th>dbgap_accession_number</th>\n",
       "      <th>Subject</th>\n",
       "      <th>ResearchSubject</th>\n",
       "      <th>Specimen</th>\n",
       "    </tr>\n",
       "  </thead>\n",
       "  <tbody>\n",
       "    <tr>\n",
       "      <th>0</th>\n",
       "      <td>780c44bb-3783-460f-862d-074a70a89941</td>\n",
       "      <td>[{'system': 'GDC', 'value': '780c44bb-3783-460...</td>\n",
       "      <td>CAUSE_p_TCGAb73_SNP_N_GenomeWideSNP_6_D07_6982...</td>\n",
       "      <td>Copy Number Variation</td>\n",
       "      <td>Masked Copy Number Segment</td>\n",
       "      <td>TXT</td>\n",
       "      <td>TCGA-UCEC</td>\n",
       "      <td>drs://dg.4DFC:780c44bb-3783-460f-862d-074a70a8...</td>\n",
       "      <td>5586</td>\n",
       "      <td>c19b70ae36770c902672a308609b084e</td>\n",
       "      <td>Genomic</td>\n",
       "      <td>None</td>\n",
       "      <td>None</td>\n",
       "      <td>[{'id': 'TCGA-BS-A0TA', 'identifier': [{'syste...</td>\n",
       "      <td>[{'id': 'ad3d8420-f562-4cbe-ac82-c968bd4f782d'...</td>\n",
       "      <td>[{'id': 'b6a042b6-f94a-4acc-98cb-a1a2fe72b9ad'...</td>\n",
       "    </tr>\n",
       "    <tr>\n",
       "      <th>1</th>\n",
       "      <td>4454d6eb-8638-46fd-bbd5-0af0457177a7</td>\n",
       "      <td>[{'system': 'PDC', 'value': '4454d6eb-8638-46f...</td>\n",
       "      <td>TCGA_114C_29-1696-01A-01_29-1771-01A-01_13-206...</td>\n",
       "      <td>Processed Mass Spectra</td>\n",
       "      <td>Open Standard</td>\n",
       "      <td>mzML</td>\n",
       "      <td>CPTAC-TCGA</td>\n",
       "      <td>drs://dg.4DFC:4454d6eb-8638-46fd-bbd5-0af04571...</td>\n",
       "      <td>24717292</td>\n",
       "      <td>4391ffc0326a5d1ad70f4c552e5f4242</td>\n",
       "      <td>Proteomic</td>\n",
       "      <td>None</td>\n",
       "      <td>None</td>\n",
       "      <td>[{'id': 'TCGA-29-1696', 'identifier': [{'syste...</td>\n",
       "      <td>[{'id': 'b8ebbb4c-63d7-11e8-bcf1-0a2705229b82'...</td>\n",
       "      <td>[{'id': 'c049099a-641e-11e8-bcf1-0a2705229b82'...</td>\n",
       "    </tr>\n",
       "    <tr>\n",
       "      <th>2</th>\n",
       "      <td>7d1ce6ef-c0f2-4707-a95a-8eebbe50963a</td>\n",
       "      <td>[{'system': 'GDC', 'value': '7d1ce6ef-c0f2-470...</td>\n",
       "      <td>TARGET_AML.18578b8f-7557-4876-8c68-a864611bcaf...</td>\n",
       "      <td>Simple Nucleotide Variation</td>\n",
       "      <td>Annotated Somatic Mutation</td>\n",
       "      <td>VCF</td>\n",
       "      <td>TARGET-AML</td>\n",
       "      <td>drs://dg.4DFC:7d1ce6ef-c0f2-4707-a95a-8eebbe50...</td>\n",
       "      <td>1620816</td>\n",
       "      <td>947b90503740257bc6f29fcd364d1b3f</td>\n",
       "      <td>Genomic</td>\n",
       "      <td>None</td>\n",
       "      <td>phs000465</td>\n",
       "      <td>[{'id': 'TARGET-20-PARGVC', 'identifier': [{'s...</td>\n",
       "      <td>[{'id': '0bb51ed6-41bb-56a3-bd80-a297992b61c9'...</td>\n",
       "      <td>[{'id': '1de5bf90-45c7-5962-ab0e-29e4bd64a7df'...</td>\n",
       "    </tr>\n",
       "    <tr>\n",
       "      <th>3</th>\n",
       "      <td>d0859f49-775b-4fc9-8281-310dbfef7d93</td>\n",
       "      <td>[{'system': 'GDC', 'value': 'd0859f49-775b-4fc...</td>\n",
       "      <td>D0CM7ACXX_3_ATTGGC_gdc_realn.bam</td>\n",
       "      <td>Sequencing Reads</td>\n",
       "      <td>Aligned Reads</td>\n",
       "      <td>BAM</td>\n",
       "      <td>TARGET-AML</td>\n",
       "      <td>drs://dg.4DFC:d0859f49-775b-4fc9-8281-310dbfef...</td>\n",
       "      <td>258859204</td>\n",
       "      <td>a90f970ba1540b2a033135ecef260d5f</td>\n",
       "      <td>Genomic</td>\n",
       "      <td>None</td>\n",
       "      <td>phs000465</td>\n",
       "      <td>[{'id': 'TARGET-20-PARTXH', 'identifier': [{'s...</td>\n",
       "      <td>[{'id': '51af485c-dfcb-5e00-a22a-0d7d539892ad'...</td>\n",
       "      <td>[{'id': 'aacb5151-785c-57ec-9129-419091dc2820'...</td>\n",
       "    </tr>\n",
       "    <tr>\n",
       "      <th>4</th>\n",
       "      <td>8aa97acb-d8ab-48c1-b9e2-d90c2506ad31</td>\n",
       "      <td>[{'system': 'GDC', 'value': '8aa97acb-d8ab-48c...</td>\n",
       "      <td>fe619ca3-42d5-4281-9b29-0911b982b877_mirnaseq_...</td>\n",
       "      <td>Sequencing Reads</td>\n",
       "      <td>Aligned Reads</td>\n",
       "      <td>BAM</td>\n",
       "      <td>TARGET-AML</td>\n",
       "      <td>drs://dg.4DFC:8aa97acb-d8ab-48c1-b9e2-d90c2506...</td>\n",
       "      <td>146160867</td>\n",
       "      <td>53ba7995f7fa227275333210ab0316fc</td>\n",
       "      <td>Genomic</td>\n",
       "      <td>None</td>\n",
       "      <td>phs000465</td>\n",
       "      <td>[{'id': 'TARGET-20-PAWNGC', 'identifier': [{'s...</td>\n",
       "      <td>[{'id': '98e681e3-b756-4535-8b95-09f16ff66e8f'...</td>\n",
       "      <td>[{'id': '255615a2-1715-4df5-9115-51b2448e8aa0'...</td>\n",
       "    </tr>\n",
       "  </tbody>\n",
       "</table>\n",
       "</div>"
      ],
      "text/plain": [
       "                                     id  \\\n",
       "0  780c44bb-3783-460f-862d-074a70a89941   \n",
       "1  4454d6eb-8638-46fd-bbd5-0af0457177a7   \n",
       "2  7d1ce6ef-c0f2-4707-a95a-8eebbe50963a   \n",
       "3  d0859f49-775b-4fc9-8281-310dbfef7d93   \n",
       "4  8aa97acb-d8ab-48c1-b9e2-d90c2506ad31   \n",
       "\n",
       "                                          identifier  \\\n",
       "0  [{'system': 'GDC', 'value': '780c44bb-3783-460...   \n",
       "1  [{'system': 'PDC', 'value': '4454d6eb-8638-46f...   \n",
       "2  [{'system': 'GDC', 'value': '7d1ce6ef-c0f2-470...   \n",
       "3  [{'system': 'GDC', 'value': 'd0859f49-775b-4fc...   \n",
       "4  [{'system': 'GDC', 'value': '8aa97acb-d8ab-48c...   \n",
       "\n",
       "                                               label  \\\n",
       "0  CAUSE_p_TCGAb73_SNP_N_GenomeWideSNP_6_D07_6982...   \n",
       "1  TCGA_114C_29-1696-01A-01_29-1771-01A-01_13-206...   \n",
       "2  TARGET_AML.18578b8f-7557-4876-8c68-a864611bcaf...   \n",
       "3                   D0CM7ACXX_3_ATTGGC_gdc_realn.bam   \n",
       "4  fe619ca3-42d5-4281-9b29-0911b982b877_mirnaseq_...   \n",
       "\n",
       "                 data_category                   data_type file_format  \\\n",
       "0        Copy Number Variation  Masked Copy Number Segment         TXT   \n",
       "1       Processed Mass Spectra               Open Standard        mzML   \n",
       "2  Simple Nucleotide Variation  Annotated Somatic Mutation         VCF   \n",
       "3             Sequencing Reads               Aligned Reads         BAM   \n",
       "4             Sequencing Reads               Aligned Reads         BAM   \n",
       "\n",
       "  associated_project                                            drs_uri  \\\n",
       "0          TCGA-UCEC  drs://dg.4DFC:780c44bb-3783-460f-862d-074a70a8...   \n",
       "1         CPTAC-TCGA  drs://dg.4DFC:4454d6eb-8638-46fd-bbd5-0af04571...   \n",
       "2         TARGET-AML  drs://dg.4DFC:7d1ce6ef-c0f2-4707-a95a-8eebbe50...   \n",
       "3         TARGET-AML  drs://dg.4DFC:d0859f49-775b-4fc9-8281-310dbfef...   \n",
       "4         TARGET-AML  drs://dg.4DFC:8aa97acb-d8ab-48c1-b9e2-d90c2506...   \n",
       "\n",
       "   byte_size                          checksum data_modality imaging_modality  \\\n",
       "0       5586  c19b70ae36770c902672a308609b084e       Genomic             None   \n",
       "1   24717292  4391ffc0326a5d1ad70f4c552e5f4242     Proteomic             None   \n",
       "2    1620816  947b90503740257bc6f29fcd364d1b3f       Genomic             None   \n",
       "3  258859204  a90f970ba1540b2a033135ecef260d5f       Genomic             None   \n",
       "4  146160867  53ba7995f7fa227275333210ab0316fc       Genomic             None   \n",
       "\n",
       "  dbgap_accession_number                                            Subject  \\\n",
       "0                   None  [{'id': 'TCGA-BS-A0TA', 'identifier': [{'syste...   \n",
       "1                   None  [{'id': 'TCGA-29-1696', 'identifier': [{'syste...   \n",
       "2              phs000465  [{'id': 'TARGET-20-PARGVC', 'identifier': [{'s...   \n",
       "3              phs000465  [{'id': 'TARGET-20-PARTXH', 'identifier': [{'s...   \n",
       "4              phs000465  [{'id': 'TARGET-20-PAWNGC', 'identifier': [{'s...   \n",
       "\n",
       "                                     ResearchSubject  \\\n",
       "0  [{'id': 'ad3d8420-f562-4cbe-ac82-c968bd4f782d'...   \n",
       "1  [{'id': 'b8ebbb4c-63d7-11e8-bcf1-0a2705229b82'...   \n",
       "2  [{'id': '0bb51ed6-41bb-56a3-bd80-a297992b61c9'...   \n",
       "3  [{'id': '51af485c-dfcb-5e00-a22a-0d7d539892ad'...   \n",
       "4  [{'id': '98e681e3-b756-4535-8b95-09f16ff66e8f'...   \n",
       "\n",
       "                                            Specimen  \n",
       "0  [{'id': 'b6a042b6-f94a-4acc-98cb-a1a2fe72b9ad'...  \n",
       "1  [{'id': 'c049099a-641e-11e8-bcf1-0a2705229b82'...  \n",
       "2  [{'id': '1de5bf90-45c7-5962-ab0e-29e4bd64a7df'...  \n",
       "3  [{'id': 'aacb5151-785c-57ec-9129-419091dc2820'...  \n",
       "4  [{'id': '255615a2-1715-4df5-9115-51b2448e8aa0'...  "
      ]
     },
     "execution_count": 10,
     "metadata": {},
     "output_type": "execute_result"
    }
   ],
   "source": [
    "Q('Subject.ethnicity = \"hispanic or latino\"').files().to_dataframe().head()\n",
    "\n"
   ]
  },
  {
   "cell_type": "markdown",
   "id": "1059dc45",
   "metadata": {},
   "source": [
    "What are all these fields?\n",
    "\n",
    "---\n",
    "\n",
    "- **id:** The unique identifier for this file\n",
    "- **identifier:** An embedded array of information that includes the originating data center and the ID the file had there\n",
    "- **label:** The full name of the file\n",
    "- **data_catagory:** A desecription of the kind of general kind data the file holds\n",
    "- **data_type:** A more specific descripton of the data type\n",
    "- **file_format:** The extension of the file\n",
    "- **associated_project:** The name the data center uses for the study this file was generated for\n",
    "- **drs_uri:** A unique identifier that can be used to retreive this specific file from a server\n",
    "- **byte_size:** Size of the file in bytes\n",
    "- **checksum:** The md5 value for the file\n",
    "- **data_modality:** A high level descriptor of file data, always one of \"Genomic\", \"Proteomic\", or \"Imaging\"\n",
    "- **imaging_modality** For files with the `data_modality` of \"Imaging\", a descriptor for the image type\n",
    "- **dbgap_accession_number:**\n",
    "    \n",
    "---\n"
   ]
  },
  {
   "cell_type": "markdown",
   "id": "6ac3d094",
   "metadata": {},
   "source": [
    "One thing you may have noticed is that This output shows us that there are 139124 rows of data, but this is more than the 129043 we expected. This is because `.files` has to combine Subject and File data to answer our query, and in the join, some of the files are found twice. We can  "
   ]
  },
  {
   "cell_type": "code",
   "execution_count": 11,
   "id": "1e2a38a9",
   "metadata": {
    "scrolled": true
   },
   "outputs": [
    {
     "data": {
      "text/plain": [
       "['Blood Derived Normal',\n",
       " 'Cell Lines',\n",
       " 'Metastatic',\n",
       " 'Next Generation Cancer Model',\n",
       " 'Normal',\n",
       " 'Normal Adjacent Tissue',\n",
       " 'Not Reported',\n",
       " 'Primary Tumor',\n",
       " 'Recurrent Tumor',\n",
       " 'Solid Tissue Normal',\n",
       " 'Tumor',\n",
       " 'Xenograft Tissue']"
      ]
     },
     "execution_count": 11,
     "metadata": {},
     "output_type": "execute_result"
    }
   ],
   "source": [
    "unique_terms(\"ResearchSubject.Specimen.source_material_type\", system=\"PDC\")"
   ]
  },
  {
   "cell_type": "markdown",
   "id": "82271bce",
   "metadata": {},
   "source": [
    "## Basic querying\n",
    "\n",
    "We can start by getting the record for ```id = TCGA-E2-A10A``` that we mentioned earlier:"
   ]
  },
  {
   "cell_type": "markdown",
   "id": "32c93763",
   "metadata": {},
   "source": [
    "We see that we've got a single subject record as a result, which is what we expect.\n",
    "\n",
    "Let's see how the result looks like:"
   ]
  },
  {
   "cell_type": "code",
   "execution_count": 12,
   "id": "b2a2a922",
   "metadata": {
    "scrolled": true
   },
   "outputs": [
    {
     "name": "stdout",
     "output_type": "stream",
     "text": [
      "Getting results from database\n",
      "\n",
      "Total execution time: 3299 ms\n"
     ]
    },
    {
     "data": {
      "text/plain": [
       "\n",
       "            QueryID: db5dcb17-a70b-414d-a15e-b98c27adfb46\n",
       "            Query:SELECT all_v3_0_subjects_meta.* FROM gdc-bq-sample.dev.all_v3_0_subjects_meta AS all_v3_0_subjects_meta WHERE (UPPER(all_v3_0_subjects_meta.id) = UPPER('TCGA-E2-A10A'))\n",
       "            Offset: 0\n",
       "            Count: 1\n",
       "            Total Row Count: 1\n",
       "            More pages: False\n",
       "            "
      ]
     },
     "execution_count": 12,
     "metadata": {},
     "output_type": "execute_result"
    }
   ],
   "source": [
    "q = Q('id = \"TCGA-E2-A10A\"') # note the double quotes for the string value\n",
    "\n",
    "r = q.run()\n",
    "\n",
    "r"
   ]
  },
  {
   "cell_type": "code",
   "execution_count": 13,
   "id": "3d8acea7",
   "metadata": {},
   "outputs": [
    {
     "name": "stdout",
     "output_type": "stream",
     "text": [
      "Getting results from database\n",
      "\n",
      "Total execution time: 4207 ms\n",
      "\n",
      "            QueryID: c08d8dad-ba2e-4d72-a78e-8261937b6b36\n",
      "            Query:SELECT all_v3_0_subjects_meta.* FROM gdc-bq-sample.dev.all_v3_0_subjects_meta AS all_v3_0_subjects_meta, UNNEST(all_v3_0_subjects_meta.ResearchSubject) AS _ResearchSubject, UNNEST(_ResearchSubject.Diagnosis) AS _ResearchSubject_Diagnosis WHERE (UPPER(_ResearchSubject_Diagnosis.stage) = UPPER('Stage IV'))\n",
      "            Offset: 0\n",
      "            Count: 100\n",
      "            Total Row Count: 100\n",
      "            More pages: True\n",
      "            \n"
     ]
    }
   ],
   "source": [
    "stage = Q('ResearchSubject.Diagnosis.stage = \"Stage IV\"')\n",
    "r = stage.run()\n",
    "print(r)"
   ]
  },
  {
   "cell_type": "code",
   "execution_count": 14,
   "id": "5a824aa5",
   "metadata": {},
   "outputs": [
    {
     "data": {
      "text/html": [
       "<div>\n",
       "<style scoped>\n",
       "    .dataframe tbody tr th:only-of-type {\n",
       "        vertical-align: middle;\n",
       "    }\n",
       "\n",
       "    .dataframe tbody tr th {\n",
       "        vertical-align: top;\n",
       "    }\n",
       "\n",
       "    .dataframe thead th {\n",
       "        text-align: right;\n",
       "    }\n",
       "</style>\n",
       "<table border=\"1\" class=\"dataframe\">\n",
       "  <thead>\n",
       "    <tr style=\"text-align: right;\">\n",
       "      <th></th>\n",
       "      <th>id</th>\n",
       "      <th>identifier</th>\n",
       "      <th>species</th>\n",
       "      <th>sex</th>\n",
       "      <th>race</th>\n",
       "      <th>ethnicity</th>\n",
       "      <th>days_to_birth</th>\n",
       "      <th>subject_associated_project</th>\n",
       "      <th>vital_status</th>\n",
       "      <th>age_at_death</th>\n",
       "      <th>cause_of_death</th>\n",
       "      <th>ResearchSubject</th>\n",
       "    </tr>\n",
       "  </thead>\n",
       "  <tbody>\n",
       "    <tr>\n",
       "      <th>0</th>\n",
       "      <td>C3N-02333</td>\n",
       "      <td>[{'system': 'GDC', 'value': 'C3N-02333'}, {'sy...</td>\n",
       "      <td>Homo sapiens</td>\n",
       "      <td>male</td>\n",
       "      <td>not reported</td>\n",
       "      <td>not reported</td>\n",
       "      <td>-22285</td>\n",
       "      <td>[CPTAC3-Discovery, CPTAC-3]</td>\n",
       "      <td>Alive</td>\n",
       "      <td>None</td>\n",
       "      <td>None</td>\n",
       "      <td>[{'id': '30d5de9e-822e-4794-9a3e-cf1bccf1dab7'...</td>\n",
       "    </tr>\n",
       "    <tr>\n",
       "      <th>1</th>\n",
       "      <td>02OV041</td>\n",
       "      <td>[{'system': 'GDC', 'value': '02OV041'}, {'syst...</td>\n",
       "      <td>Homo sapiens</td>\n",
       "      <td>female</td>\n",
       "      <td>white</td>\n",
       "      <td>not hispanic or latino</td>\n",
       "      <td>None</td>\n",
       "      <td>[CPTAC-2]</td>\n",
       "      <td>Not Reported</td>\n",
       "      <td>None</td>\n",
       "      <td>Not Reported</td>\n",
       "      <td>[{'id': 'b9337dee-3bdb-49b2-90e4-97249e30418d'...</td>\n",
       "    </tr>\n",
       "    <tr>\n",
       "      <th>2</th>\n",
       "      <td>C3N-03226</td>\n",
       "      <td>[{'system': 'GDC', 'value': 'C3N-03226'}, {'sy...</td>\n",
       "      <td>Homo sapiens</td>\n",
       "      <td>male</td>\n",
       "      <td>not reported</td>\n",
       "      <td>not reported</td>\n",
       "      <td>-19938</td>\n",
       "      <td>[CPTAC3-Discovery, CPTAC-3, cptac_hnscc]</td>\n",
       "      <td>Alive</td>\n",
       "      <td>None</td>\n",
       "      <td>None</td>\n",
       "      <td>[{'id': '42f5bee3-8217-4d9e-ad2b-42ba0ffeceae'...</td>\n",
       "    </tr>\n",
       "    <tr>\n",
       "      <th>3</th>\n",
       "      <td>C3N-01220</td>\n",
       "      <td>[{'system': 'GDC', 'value': 'C3N-01220'}, {'sy...</td>\n",
       "      <td>Homo sapiens</td>\n",
       "      <td>male</td>\n",
       "      <td>not reported</td>\n",
       "      <td>not reported</td>\n",
       "      <td>-18748</td>\n",
       "      <td>[CPTAC3-Discovery, cptac_ccrcc, CPTAC-3]</td>\n",
       "      <td>Dead</td>\n",
       "      <td>633</td>\n",
       "      <td>Cancer Related</td>\n",
       "      <td>[{'id': 'c6c75c5d-b3c9-4918-8dc2-02849933cd3c'...</td>\n",
       "    </tr>\n",
       "    <tr>\n",
       "      <th>4</th>\n",
       "      <td>C3N-04273</td>\n",
       "      <td>[{'system': 'GDC', 'value': 'C3N-04273'}, {'sy...</td>\n",
       "      <td>Homo sapiens</td>\n",
       "      <td>male</td>\n",
       "      <td>not reported</td>\n",
       "      <td>not reported</td>\n",
       "      <td>-26874</td>\n",
       "      <td>[CPTAC3-Discovery, CPTAC-3]</td>\n",
       "      <td>Dead</td>\n",
       "      <td>425</td>\n",
       "      <td>Cancer Related</td>\n",
       "      <td>[{'id': '701129b7-d95a-4fac-a9be-0d0da0642a81'...</td>\n",
       "    </tr>\n",
       "    <tr>\n",
       "      <th>...</th>\n",
       "      <td>...</td>\n",
       "      <td>...</td>\n",
       "      <td>...</td>\n",
       "      <td>...</td>\n",
       "      <td>...</td>\n",
       "      <td>...</td>\n",
       "      <td>...</td>\n",
       "      <td>...</td>\n",
       "      <td>...</td>\n",
       "      <td>...</td>\n",
       "      <td>...</td>\n",
       "      <td>...</td>\n",
       "    </tr>\n",
       "    <tr>\n",
       "      <th>95</th>\n",
       "      <td>04OV037</td>\n",
       "      <td>[{'system': 'GDC', 'value': '04OV037'}, {'syst...</td>\n",
       "      <td>Homo sapiens</td>\n",
       "      <td>female</td>\n",
       "      <td>white</td>\n",
       "      <td>not hispanic or latino</td>\n",
       "      <td>None</td>\n",
       "      <td>[CPTAC-2]</td>\n",
       "      <td>Not Reported</td>\n",
       "      <td>None</td>\n",
       "      <td>Not Reported</td>\n",
       "      <td>[{'id': '1c545cda-2a3a-41bd-9f99-e3712e31ecdd'...</td>\n",
       "    </tr>\n",
       "    <tr>\n",
       "      <th>96</th>\n",
       "      <td>C3N-01758</td>\n",
       "      <td>[{'system': 'GDC', 'value': 'C3N-01758'}, {'sy...</td>\n",
       "      <td>Homo sapiens</td>\n",
       "      <td>male</td>\n",
       "      <td>not reported</td>\n",
       "      <td>not reported</td>\n",
       "      <td>-21708</td>\n",
       "      <td>[CPTAC3-Discovery, CPTAC-3]</td>\n",
       "      <td>Dead</td>\n",
       "      <td>712</td>\n",
       "      <td>Cancer Related</td>\n",
       "      <td>[{'id': 'b7eed034-4280-40fc-ae0a-d5349ae260bb'...</td>\n",
       "    </tr>\n",
       "    <tr>\n",
       "      <th>97</th>\n",
       "      <td>C3N-01948</td>\n",
       "      <td>[{'system': 'GDC', 'value': 'C3N-01948'}, {'sy...</td>\n",
       "      <td>Homo sapiens</td>\n",
       "      <td>female</td>\n",
       "      <td>not reported</td>\n",
       "      <td>not reported</td>\n",
       "      <td>-20359</td>\n",
       "      <td>[CPTAC3-Discovery, CPTAC-3, cptac_hnscc]</td>\n",
       "      <td>Alive</td>\n",
       "      <td>None</td>\n",
       "      <td>None</td>\n",
       "      <td>[{'id': 'fa75026c-662b-422d-bde0-de3155671dc0'...</td>\n",
       "    </tr>\n",
       "    <tr>\n",
       "      <th>98</th>\n",
       "      <td>C3N-04152</td>\n",
       "      <td>[{'system': 'GDC', 'value': 'C3N-04152'}, {'sy...</td>\n",
       "      <td>Homo sapiens</td>\n",
       "      <td>male</td>\n",
       "      <td>not reported</td>\n",
       "      <td>not reported</td>\n",
       "      <td>-19705</td>\n",
       "      <td>[CPTAC3-Discovery, CPTAC-3, cptac_hnscc]</td>\n",
       "      <td>Alive</td>\n",
       "      <td>None</td>\n",
       "      <td>None</td>\n",
       "      <td>[{'id': '91b0cc01-305b-415c-ae56-d3262780d99e'...</td>\n",
       "    </tr>\n",
       "    <tr>\n",
       "      <th>99</th>\n",
       "      <td>C3N-00302</td>\n",
       "      <td>[{'system': 'GDC', 'value': 'C3N-00302'}, {'sy...</td>\n",
       "      <td>Homo sapiens</td>\n",
       "      <td>male</td>\n",
       "      <td>not reported</td>\n",
       "      <td>not reported</td>\n",
       "      <td>-21532</td>\n",
       "      <td>[CPTAC3-Discovery, CPTAC-3, cptac_pda]</td>\n",
       "      <td>Dead</td>\n",
       "      <td>323</td>\n",
       "      <td>Cancer Related</td>\n",
       "      <td>[{'id': 'ad265919-d589-4b8a-a9fb-77cca95c59f7'...</td>\n",
       "    </tr>\n",
       "  </tbody>\n",
       "</table>\n",
       "<p>100 rows × 12 columns</p>\n",
       "</div>"
      ],
      "text/plain": [
       "           id                                         identifier  \\\n",
       "0   C3N-02333  [{'system': 'GDC', 'value': 'C3N-02333'}, {'sy...   \n",
       "1     02OV041  [{'system': 'GDC', 'value': '02OV041'}, {'syst...   \n",
       "2   C3N-03226  [{'system': 'GDC', 'value': 'C3N-03226'}, {'sy...   \n",
       "3   C3N-01220  [{'system': 'GDC', 'value': 'C3N-01220'}, {'sy...   \n",
       "4   C3N-04273  [{'system': 'GDC', 'value': 'C3N-04273'}, {'sy...   \n",
       "..        ...                                                ...   \n",
       "95    04OV037  [{'system': 'GDC', 'value': '04OV037'}, {'syst...   \n",
       "96  C3N-01758  [{'system': 'GDC', 'value': 'C3N-01758'}, {'sy...   \n",
       "97  C3N-01948  [{'system': 'GDC', 'value': 'C3N-01948'}, {'sy...   \n",
       "98  C3N-04152  [{'system': 'GDC', 'value': 'C3N-04152'}, {'sy...   \n",
       "99  C3N-00302  [{'system': 'GDC', 'value': 'C3N-00302'}, {'sy...   \n",
       "\n",
       "         species     sex          race               ethnicity days_to_birth  \\\n",
       "0   Homo sapiens    male  not reported            not reported        -22285   \n",
       "1   Homo sapiens  female         white  not hispanic or latino          None   \n",
       "2   Homo sapiens    male  not reported            not reported        -19938   \n",
       "3   Homo sapiens    male  not reported            not reported        -18748   \n",
       "4   Homo sapiens    male  not reported            not reported        -26874   \n",
       "..           ...     ...           ...                     ...           ...   \n",
       "95  Homo sapiens  female         white  not hispanic or latino          None   \n",
       "96  Homo sapiens    male  not reported            not reported        -21708   \n",
       "97  Homo sapiens  female  not reported            not reported        -20359   \n",
       "98  Homo sapiens    male  not reported            not reported        -19705   \n",
       "99  Homo sapiens    male  not reported            not reported        -21532   \n",
       "\n",
       "                  subject_associated_project  vital_status age_at_death  \\\n",
       "0                [CPTAC3-Discovery, CPTAC-3]         Alive         None   \n",
       "1                                  [CPTAC-2]  Not Reported         None   \n",
       "2   [CPTAC3-Discovery, CPTAC-3, cptac_hnscc]         Alive         None   \n",
       "3   [CPTAC3-Discovery, cptac_ccrcc, CPTAC-3]          Dead          633   \n",
       "4                [CPTAC3-Discovery, CPTAC-3]          Dead          425   \n",
       "..                                       ...           ...          ...   \n",
       "95                                 [CPTAC-2]  Not Reported         None   \n",
       "96               [CPTAC3-Discovery, CPTAC-3]          Dead          712   \n",
       "97  [CPTAC3-Discovery, CPTAC-3, cptac_hnscc]         Alive         None   \n",
       "98  [CPTAC3-Discovery, CPTAC-3, cptac_hnscc]         Alive         None   \n",
       "99    [CPTAC3-Discovery, CPTAC-3, cptac_pda]          Dead          323   \n",
       "\n",
       "    cause_of_death                                    ResearchSubject  \n",
       "0             None  [{'id': '30d5de9e-822e-4794-9a3e-cf1bccf1dab7'...  \n",
       "1     Not Reported  [{'id': 'b9337dee-3bdb-49b2-90e4-97249e30418d'...  \n",
       "2             None  [{'id': '42f5bee3-8217-4d9e-ad2b-42ba0ffeceae'...  \n",
       "3   Cancer Related  [{'id': 'c6c75c5d-b3c9-4918-8dc2-02849933cd3c'...  \n",
       "4   Cancer Related  [{'id': '701129b7-d95a-4fac-a9be-0d0da0642a81'...  \n",
       "..             ...                                                ...  \n",
       "95    Not Reported  [{'id': '1c545cda-2a3a-41bd-9f99-e3712e31ecdd'...  \n",
       "96  Cancer Related  [{'id': 'b7eed034-4280-40fc-ae0a-d5349ae260bb'...  \n",
       "97            None  [{'id': 'fa75026c-662b-422d-bde0-de3155671dc0'...  \n",
       "98            None  [{'id': '91b0cc01-305b-415c-ae56-d3262780d99e'...  \n",
       "99  Cancer Related  [{'id': 'ad265919-d589-4b8a-a9fb-77cca95c59f7'...  \n",
       "\n",
       "[100 rows x 12 columns]"
      ]
     },
     "execution_count": 14,
     "metadata": {},
     "output_type": "execute_result"
    }
   ],
   "source": [
    "r.to_dataframe()\n"
   ]
  },
  {
   "cell_type": "code",
   "execution_count": 15,
   "id": "7dc1a977",
   "metadata": {},
   "outputs": [
    {
     "data": {
      "text/plain": [
       "\n",
       "            QueryID: 26cf288d-401c-4bad-a48c-9691c7c4c63c\n",
       "            \n",
       "            Offset: 0\n",
       "            Count: 3\n",
       "            Total Row Count: 3\n",
       "            More pages: False\n",
       "            "
      ]
     },
     "execution_count": 15,
     "metadata": {},
     "output_type": "execute_result"
    }
   ],
   "source": [
    "q = Q('Subject.id = \"TCGA-E2-A10A\"') # note the double quotes for the string value\n",
    "\n",
    "r = q.counts(table=\"gdc-bq-sample.dev\", version=\"all_v3_0_Files\")\n",
    "\n",
    "r"
   ]
  },
  {
   "cell_type": "code",
   "execution_count": 16,
   "id": "efed764d",
   "metadata": {},
   "outputs": [
    {
     "data": {
      "text/html": [
       "<div>\n",
       "<style scoped>\n",
       "    .dataframe tbody tr th:only-of-type {\n",
       "        vertical-align: middle;\n",
       "    }\n",
       "\n",
       "    .dataframe tbody tr th {\n",
       "        vertical-align: top;\n",
       "    }\n",
       "\n",
       "    .dataframe thead th {\n",
       "        text-align: right;\n",
       "    }\n",
       "</style>\n",
       "<table border=\"1\" class=\"dataframe\">\n",
       "  <thead>\n",
       "    <tr style=\"text-align: right;\">\n",
       "      <th></th>\n",
       "      <th>system</th>\n",
       "      <th>subject_count</th>\n",
       "      <th>subject_files_count</th>\n",
       "      <th>researchsubject_count</th>\n",
       "      <th>researchsubject_files_count</th>\n",
       "      <th>specimen_count</th>\n",
       "      <th>specimen_files_count</th>\n",
       "    </tr>\n",
       "  </thead>\n",
       "  <tbody>\n",
       "    <tr>\n",
       "      <th>0</th>\n",
       "      <td>IDC</td>\n",
       "      <td>1</td>\n",
       "      <td>15</td>\n",
       "      <td>0</td>\n",
       "      <td>0</td>\n",
       "      <td>0</td>\n",
       "      <td>0</td>\n",
       "    </tr>\n",
       "    <tr>\n",
       "      <th>1</th>\n",
       "      <td>GDC</td>\n",
       "      <td>1</td>\n",
       "      <td>66</td>\n",
       "      <td>1098</td>\n",
       "      <td>66</td>\n",
       "      <td>20</td>\n",
       "      <td>44</td>\n",
       "    </tr>\n",
       "    <tr>\n",
       "      <th>2</th>\n",
       "      <td>PDC</td>\n",
       "      <td>1</td>\n",
       "      <td>152</td>\n",
       "      <td>4</td>\n",
       "      <td>152</td>\n",
       "      <td>8</td>\n",
       "      <td>152</td>\n",
       "    </tr>\n",
       "  </tbody>\n",
       "</table>\n",
       "</div>"
      ],
      "text/plain": [
       "  system subject_count subject_files_count researchsubject_count  \\\n",
       "0    IDC             1                  15                     0   \n",
       "1    GDC             1                  66                  1098   \n",
       "2    PDC             1                 152                     4   \n",
       "\n",
       "  researchsubject_files_count specimen_count specimen_files_count  \n",
       "0                           0              0                    0  \n",
       "1                          66             20                   44  \n",
       "2                         152              8                  152  "
      ]
     },
     "execution_count": 16,
     "metadata": {},
     "output_type": "execute_result"
    }
   ],
   "source": [
    "r.to_dataframe()\n"
   ]
  },
  {
   "cell_type": "markdown",
   "id": "40c5946d",
   "metadata": {},
   "source": [
    "The record is pretty large, so we'll print out ```identifier``` values for each ```ResearchSubject``` to confirm that we have one ```ResearchSubject``` that comes from GDC, and one that comes from PDC:"
   ]
  },
  {
   "cell_type": "code",
   "execution_count": 17,
   "id": "35139d10",
   "metadata": {},
   "outputs": [
    {
     "ename": "AttributeError",
     "evalue": "'str' object has no attribute 'indices'",
     "output_type": "error",
     "traceback": [
      "\u001b[0;31m---------------------------------------------------------------------------\u001b[0m",
      "\u001b[0;31mAttributeError\u001b[0m                            Traceback (most recent call last)",
      "\u001b[0;32m/var/folders/rg/vnn75sf557bcqfnmm_gcxs2r0000gq/T/ipykernel_32749/1272960853.py\u001b[0m in \u001b[0;36m<module>\u001b[0;34m\u001b[0m\n\u001b[0;32m----> 1\u001b[0;31m \u001b[0;32mfor\u001b[0m \u001b[0mresearch_subject\u001b[0m \u001b[0;32min\u001b[0m \u001b[0mr\u001b[0m\u001b[0;34m[\u001b[0m\u001b[0;34m'system'\u001b[0m\u001b[0;34m]\u001b[0m\u001b[0;34m:\u001b[0m\u001b[0;34m\u001b[0m\u001b[0;34m\u001b[0m\u001b[0m\n\u001b[0m\u001b[1;32m      2\u001b[0m     \u001b[0mprint\u001b[0m\u001b[0;34m(\u001b[0m\u001b[0mresearch_subject\u001b[0m\u001b[0;34m[\u001b[0m\u001b[0;34m'system'\u001b[0m\u001b[0;34m]\u001b[0m\u001b[0;34m)\u001b[0m\u001b[0;34m\u001b[0m\u001b[0;34m\u001b[0m\u001b[0m\n",
      "\u001b[0;32m~/opt/miniconda3/envs/cda/lib/python3.7/site-packages/cdapython/Result.py\u001b[0m in \u001b[0;36m__getitem__\u001b[0;34m(self, idx)\u001b[0m\n\u001b[1;32m    129\u001b[0m         \u001b[0;32melse\u001b[0m\u001b[0;34m:\u001b[0m\u001b[0;34m\u001b[0m\u001b[0;34m\u001b[0m\u001b[0m\n\u001b[1;32m    130\u001b[0m             \u001b[0;31m# for slicing result\u001b[0m\u001b[0;34m\u001b[0m\u001b[0;34m\u001b[0m\u001b[0;34m\u001b[0m\u001b[0m\n\u001b[0;32m--> 131\u001b[0;31m             \u001b[0mstart\u001b[0m\u001b[0;34m,\u001b[0m \u001b[0mstop\u001b[0m\u001b[0;34m,\u001b[0m \u001b[0mstep\u001b[0m \u001b[0;34m=\u001b[0m \u001b[0midx\u001b[0m\u001b[0;34m.\u001b[0m\u001b[0mindices\u001b[0m\u001b[0;34m(\u001b[0m\u001b[0mself\u001b[0m\u001b[0;34m.\u001b[0m\u001b[0mcount\u001b[0m\u001b[0;34m)\u001b[0m\u001b[0;34m\u001b[0m\u001b[0;34m\u001b[0m\u001b[0m\n\u001b[0m\u001b[1;32m    132\u001b[0m             \u001b[0mrange_index\u001b[0m \u001b[0;34m=\u001b[0m \u001b[0mrange\u001b[0m\u001b[0;34m(\u001b[0m\u001b[0mstart\u001b[0m\u001b[0;34m,\u001b[0m \u001b[0mstop\u001b[0m\u001b[0;34m,\u001b[0m \u001b[0mstep\u001b[0m\u001b[0;34m)\u001b[0m\u001b[0;34m\u001b[0m\u001b[0;34m\u001b[0m\u001b[0m\n\u001b[1;32m    133\u001b[0m             \u001b[0;32mreturn\u001b[0m \u001b[0;34m[\u001b[0m\u001b[0mself\u001b[0m\u001b[0;34m.\u001b[0m\u001b[0m_api_response\u001b[0m\u001b[0;34m.\u001b[0m\u001b[0mresult\u001b[0m\u001b[0;34m[\u001b[0m\u001b[0mi\u001b[0m\u001b[0;34m]\u001b[0m \u001b[0;32mfor\u001b[0m \u001b[0mi\u001b[0m \u001b[0;32min\u001b[0m \u001b[0mrange_index\u001b[0m\u001b[0;34m]\u001b[0m\u001b[0;34m\u001b[0m\u001b[0;34m\u001b[0m\u001b[0m\n",
      "\u001b[0;31mAttributeError\u001b[0m: 'str' object has no attribute 'indices'"
     ]
    }
   ],
   "source": [
    "for research_subject in r['system']:\n",
    "    print(research_subject['system'])"
   ]
  },
  {
   "cell_type": "markdown",
   "id": "46b75e65",
   "metadata": {},
   "source": [
    "The values represent ```ResearchSubject``` IDs and are equivalent to ```case_id``` values in data nodes."
   ]
  },
  {
   "cell_type": "markdown",
   "id": "40bcdcd2",
   "metadata": {},
   "source": [
    "## Example queries"
   ]
  },
  {
   "cell_type": "markdown",
   "id": "f2749c48",
   "metadata": {},
   "source": [
    "Now that we can create a query with ```Q()``` function, let's see how we can combine multiple conditions.\n",
    "\n",
    "There are three operators available:\n",
    "* ```And()```\n",
    "* ```Or()```\n",
    "* ```From()```\n",
    "\n",
    "The following examples show how those operators work in practice."
   ]
  },
  {
   "cell_type": "markdown",
   "id": "7d6110ca",
   "metadata": {},
   "source": [
    "### Query 1\n",
    "\n",
    "**Find data for subjects who were diagnosed after the age of 50 and who were investigated as part of the TCGA-OV project.**"
   ]
  },
  {
   "cell_type": "code",
   "execution_count": null,
   "id": "7f6ed866",
   "metadata": {},
   "outputs": [],
   "source": [
    "q1 = Q('sex = \"male\"')\n",
    "q2 = Q('identifier.system = \"GDC\"')\n",
    "q3 = Q('identifier.system = \"PDC\"')\n",
    "\n",
    "r2 = q1.And(q2)\n",
    "r3 = q1.And(q3)\n",
    "\n",
    "#taco = r2.run()\n",
    "#taco\n",
    "\n",
    "burrito = r3.run()\n"
   ]
  },
  {
   "cell_type": "code",
   "execution_count": null,
   "id": "09383046",
   "metadata": {},
   "outputs": [],
   "source": [
    "burrito"
   ]
  },
  {
   "cell_type": "raw",
   "id": "36f72ef8",
   "metadata": {},
   "source": []
  },
  {
   "cell_type": "code",
   "execution_count": null,
   "id": "f5739a0b",
   "metadata": {},
   "outputs": [],
   "source": [
    "q1 = Q('sex = \"male\"')\n",
    "\n",
    "taco = q1.run()\n",
    "taco"
   ]
  },
  {
   "cell_type": "code",
   "execution_count": null,
   "id": "387c3bdf",
   "metadata": {},
   "outputs": [],
   "source": [
    "from pandas import DataFrame,concat\n",
    "q = query('ResearchSubject.primary_diagnosis_condition LIKE \"Lung%\" AND sex = \"male\"').run()\n",
    "print(q)\n",
    "df = DataFrame()\n",
    "for i in q.paginator(to_df=True):\n",
    "    print(len(i))\n",
    "    df = concat([df,i])"
   ]
  },
  {
   "cell_type": "code",
   "execution_count": null,
   "id": "a04c69bf",
   "metadata": {
    "scrolled": true
   },
   "outputs": [],
   "source": [
    "df"
   ]
  },
  {
   "cell_type": "code",
   "execution_count": null,
   "id": "8b5d03bd",
   "metadata": {},
   "outputs": [],
   "source": [
    "r.to_dataframe()"
   ]
  },
  {
   "cell_type": "markdown",
   "id": "b699730b",
   "metadata": {},
   "source": [
    "### Query 2\n",
    "\n",
    "**Find data for donors with melanoma (Nevi and Melanomas) diagnosis and who were diagnosed before the age of 30.**"
   ]
  },
  {
   "cell_type": "code",
   "execution_count": null,
   "id": "fe6c9789",
   "metadata": {},
   "outputs": [],
   "source": [
    "q1 = Q('ResearchSubject.Specimen.primary_disease_type = \"Nevi and Melanomas\"')\n",
    "q2 = Q('ResearchSubject.Diagnosis.age_at_diagnosis < 30*365')\n",
    "\n",
    "q = q1.And(q2)\n",
    "r = q.run()\n",
    "\n",
    "print(r)"
   ]
  },
  {
   "cell_type": "markdown",
   "id": "86f047da",
   "metadata": {},
   "source": [
    "In addition, we can check how many records come from particular systems by adding one more condition to the query:"
   ]
  },
  {
   "cell_type": "code",
   "execution_count": null,
   "id": "b6d21e26",
   "metadata": {},
   "outputs": [],
   "source": [
    "q1 = Q('ResearchSubject.Specimen.primary_disease_type = \"Nevi and Melanomas\"')\n",
    "q2 = Q('ResearchSubject.Diagnosis.age_at_diagnosis < 30*365')\n",
    "q3 = Q('ResearchSubject.Specimen.identifier.system = \"GDC\"')\n",
    "\n",
    "q = q1.And(q2.And(q3))\n",
    "r = q.run()\n",
    "\n",
    "print(r)"
   ]
  },
  {
   "cell_type": "markdown",
   "id": "2b9688be",
   "metadata": {},
   "source": [
    "By comparing the ```Count``` value of the two results we can see that all the patients returned in the initial query are coming from the GDC.\n",
    "\n",
    "To explore the results further, we can fetch the patient JSON objects by iterating through the results:"
   ]
  },
  {
   "cell_type": "code",
   "execution_count": null,
   "id": "d56029b6",
   "metadata": {},
   "outputs": [],
   "source": [
    "projects = set()\n",
    "\n",
    "for patient in r:\n",
    "    research_subjects = patient['ResearchSubject']\n",
    "    for rs in research_subjects:\n",
    "        projects.add(rs['member_of_research_project'])\n",
    "\n",
    "print(projects)"
   ]
  },
  {
   "cell_type": "markdown",
   "id": "fa400f13",
   "metadata": {},
   "source": [
    "The output shows the projects where _Nevi and Melanomas_ cases appear."
   ]
  },
  {
   "cell_type": "markdown",
   "id": "9a2a4196",
   "metadata": {},
   "source": [
    "### Query 3\n",
    "\n",
    "**Identify all samples that meet the following conditions:**\n",
    "\n",
    "* **Sample is from primary tumor**\n",
    "* **Disease is ovarian or breast cancer**\n",
    "* **Subjects are females under the age of 60 years**"
   ]
  },
  {
   "cell_type": "code",
   "execution_count": null,
   "id": "c1b9c223",
   "metadata": {},
   "outputs": [],
   "source": [
    "tumor_type = Q('ResearchSubject.Specimen.source_material_type = \"Primary Tumor\"')\n",
    "disease1 = Q('ResearchSubject.primary_diagnosis_site = \"Ovary\"')\n",
    "disease2 = Q('ResearchSubject.primary_diagnosis_site = \"Breast\"')\n",
    "demographics1 = Q('sex = \"female\"')\n",
    "demographics2 = Q('days_to_birth > -60*365') # note that days_to_birth is a negative value\n",
    "\n",
    "q1 = tumor_type.And(demographics1.And(demographics2))\n",
    "q2 = disease1.Or(disease2)\n",
    "q = q1.And(q2)\n",
    "\n",
    "r = q.run()\n",
    "print(r)"
   ]
  },
  {
   "cell_type": "markdown",
   "id": "b3c461c9",
   "metadata": {},
   "source": [
    "In this case, we have a result that contains more than 1000 records which is the default page size. To load the next 1000 records, we can use the ```next_page()``` method:"
   ]
  },
  {
   "cell_type": "code",
   "execution_count": null,
   "id": "5311b00e",
   "metadata": {},
   "outputs": [],
   "source": [
    "r2 = r.next_page()"
   ]
  },
  {
   "cell_type": "code",
   "execution_count": null,
   "id": "db00c81e",
   "metadata": {},
   "outputs": [],
   "source": [
    "print(r2)"
   ]
  },
  {
   "cell_type": "markdown",
   "id": "4e5d887b",
   "metadata": {},
   "source": [
    "Alternatively, we can use the ```offset``` argument to specify the record to start from:\n",
    "\n",
    "```\n",
    "...\n",
    "r = q.run(offset=1000)\n",
    "print(r)\n",
    "```"
   ]
  },
  {
   "cell_type": "markdown",
   "id": "ee95df21",
   "metadata": {},
   "source": [
    "### Query 4\n",
    "\n",
    "**Find data for donors with \"Ovarian Serous Cystadenocarcinoma\" with proteomic and genomic data.**"
   ]
  },
  {
   "cell_type": "markdown",
   "id": "bb34dd14",
   "metadata": {},
   "source": [
    "**Note that disease type value denoting the same disease groups can be completely different within different systems. This is where CDA features come into play.** We first start by exploring the values available for this particular field in both systems."
   ]
  },
  {
   "cell_type": "code",
   "execution_count": null,
   "id": "44178304",
   "metadata": {},
   "outputs": [],
   "source": [
    "unique_terms('ResearchSubject.primary_diagnosis_condition', system=\"GDC\")"
   ]
  },
  {
   "cell_type": "markdown",
   "id": "6b4fb5ba",
   "metadata": {},
   "source": [
    "Since “Ovarian Serous Cystadenocarcinoma” doesn’t appear in GDC values we decide to look into the PDC:"
   ]
  },
  {
   "cell_type": "code",
   "execution_count": null,
   "id": "ae1afcbc",
   "metadata": {},
   "outputs": [],
   "source": [
    "unique_terms('ResearchSubject.primary_diagnosis_condition', system=\"PDC\")"
   ]
  },
  {
   "cell_type": "markdown",
   "id": "b5a060ff",
   "metadata": {},
   "source": [
    "After examining the output, we see that it does come from the PDC. Hence, if we could first identify the data that has research subjects found within the PDC that have this particular disease type, and then further narrow down the results to include only the portion of the data that is present in GDC, we could get the records that we are looking for."
   ]
  },
  {
   "cell_type": "code",
   "execution_count": null,
   "id": "c14fb138",
   "metadata": {},
   "outputs": [],
   "source": [
    "q1 = Q('ResearchSubject.primary_diagnosis_condition = \"Ovarian Serous Cystadenocarcinoma\"')\n",
    "q2 = Q('ResearchSubject.identifier.system = \"PDC\"')\n",
    "q3 = Q('ResearchSubject.identifier.system = \"GDC\"')\n",
    "\n",
    "q = q3.From(q1.And(q2))\n",
    "r = q.run()\n",
    "\n",
    "print(r)"
   ]
  },
  {
   "cell_type": "markdown",
   "id": "836586ad",
   "metadata": {},
   "source": [
    "As you can see, this is achieved by utilizing ```From``` operator. The ```From``` operator allows us to create queries from results of other queries. This is particularly useful when working with conditions that involve a single field which can take multiple different values for different items in a list that is being part of, e.g. we need ```ResearchSubject.identifier.system``` to be both “PDC” and “GDC” for a single patient. In such cases, ```And``` operator can’t help because it will return those entries where the field takes both values, which is zero entries."
   ]
  },
  {
   "cell_type": "code",
   "execution_count": null,
   "id": "a74b89e3",
   "metadata": {},
   "outputs": [],
   "source": [
    "for i in Q.sql(\"SELECT * FROM `gdc-bq-sample.cda_mvp.INFORMATION_SCHEMA.COLUMN_FIELD_PATHS` WHERE table_name = 'v3' Limit 5\"):\n",
    "    print(i)"
   ]
  },
  {
   "cell_type": "code",
   "execution_count": null,
   "id": "18853b66",
   "metadata": {},
   "outputs": [],
   "source": [
    "q1 = query('ResearchSubject.identifier.system = \"GDC\" FROM ResearchSubject.primary_diagnosis_condition = \"Ovarian Serous Cystadenocarcinoma\" AND ResearchSubject.identifier.system = \"PDC\"')\n",
    "result = q1.run(async_call=True)\n",
    "print(result)\n"
   ]
  },
  {
   "cell_type": "markdown",
   "id": "1214151e",
   "metadata": {},
   "source": [
    "## Data extraction and release information"
   ]
  },
  {
   "cell_type": "code",
   "execution_count": null,
   "id": "c167f32b",
   "metadata": {},
   "outputs": [],
   "source": [
    "# If you are interested in the extraction dates or data release versions of GDC, PDC, or IDC that is in a table or view, execute this code\n",
    "\n",
    "for i in Q.sql(\"SELECT option_value FROM `gdc-bq-sample.integration.INFORMATION_SCHEMA.TABLE_OPTIONS` WHERE table_name = 'all_v1'\"):\n",
    "    print(i)"
   ]
  }
 ],
 "metadata": {
  "interpreter": {
   "hash": "5c867d1980d5b66d2bfc8a5903dcee074b4b68f3917a4f27f8a310cab24e9f1b"
  },
  "kernelspec": {
   "display_name": "Python 3 (ipykernel)",
   "language": "python",
   "name": "python3"
  },
  "language_info": {
   "codemirror_mode": {
    "name": "ipython",
    "version": 3
   },
   "file_extension": ".py",
   "mimetype": "text/x-python",
   "name": "python",
   "nbconvert_exporter": "python",
   "pygments_lexer": "ipython3",
   "version": "3.7.13"
  },
  "metadata": {
   "interpreter": {
    "hash": "5c867d1980d5b66d2bfc8a5903dcee074b4b68f3917a4f27f8a310cab24e9f1b"
   }
  }
 },
 "nbformat": 4,
 "nbformat_minor": 5
}
