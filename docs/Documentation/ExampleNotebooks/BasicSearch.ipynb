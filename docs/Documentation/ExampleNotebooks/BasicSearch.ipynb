{
 "cells": [
  {
   "cell_type": "markdown",
   "id": "4f90b531",
   "metadata": {},
   "source": [
    "Before we do any work, we need to import several functions from cdapython:\n",
    "- `Q` and `query` which power the search\n",
    "- `columns` which lets us view entity field names\n",
    "- `unique_terms` which lets view entity field contents\n",
    "\n",
    "We're also asking cdapython to report it's version so we can be sure we're using the one we mean to."
   ]
  },
  {
   "cell_type": "code",
   "execution_count": 1,
   "id": "5245b7b0",
   "metadata": {
    "scrolled": true
   },
   "outputs": [
    {
     "name": "stdout",
     "output_type": "stream",
     "text": [
      "/Users/amanda.charbonneau/github/cda-python/cdapython/__init__.py\n",
      "2022.5.9\n"
     ]
    }
   ],
   "source": [
    "from cdapython import Q, columns, unique_terms,query, constantVariables\n",
    "import cdapython\n",
    "print(cdapython.__file__)\n",
    "print(cdapython.__version__)\n",
    "integration_host = \"http://35.192.60.10:8080/\"\n",
    "Q.set_host_url(integration_host)"
   ]
  },
  {
   "cell_type": "markdown",
   "id": "d538da92",
   "metadata": {},
   "source": [
    "CDA data comes from three sources:\n",
    "- The [Proteomic Data Commons](https://proteomic.datacommons.cancer.gov/pdc/) (PDC)\n",
    "- The [Genomic Data Commons](https://gdc.cancer.gov/) (GDC)\n",
    "- The [Imaging Data Commons](https://datacommons.cancer.gov/repository/imaging-data-commons) (IDC)\n",
    "\n",
    "The CDA makes this data searchable in four endpoints:\n",
    "\n",
    "- `subject`: Specific, unique, individuals\n",
    "- `research_subject`: Study-individual aggregate entities. A Subject who was part of three studies will appear as three ResearchSubjects\n",
    "- `specimen`: Samples taken from individual\n",
    "- `file`: Data about Subjects, ResearchSubjects, Specimens, and their associated information\n",
    "\n",
    "\n",
    "If you are looking to build a cohort of distinct individuals who meet some criteria, search by `Subject`. If you want to build a cohort, but are particularly interested in studies rather than the participates per se, search by `ResearchSubject`. If you are looking for biosamples that can be ordered or a specfic format of information (for e.g. histological slides) start with `Specimen`. If you are primarily looking for files you can reuse for your own analysis, start with `File`.\n",
    "\n",
    "In CDA search, these concepts can also be strung together, so you can look specifically for Specimen Files, or ResearchSubject Specimens. In all cases, any search can use any metadata field, the only difference between search types is what type of data you return by default.\n"
   ]
  },
  {
   "cell_type": "markdown",
   "id": "f76026a3",
   "metadata": {},
   "source": [
    "## Basic search with endpoints\n",
    "\n",
    "Let's try a broad search of the CDA to see what information exists about cancers that were first diagnosed in the brain. To run this simple search, we would first construct a query in `Q` and save it to a variable `myquery`:"
   ]
  },
  {
   "cell_type": "code",
   "execution_count": 2,
   "id": "c92a98ba",
   "metadata": {},
   "outputs": [],
   "source": [
    "myquery = Q('ResearchSubject.primary_diagnosis_site = \"brain\"')\n"
   ]
  },
  {
   "cell_type": "markdown",
   "id": "6e855573",
   "metadata": {
    "tags": [
     "Help!"
    ]
   },
   "source": [
    "\n",
    "<div style=\"background-color:#6ce6b9;color:black;padding:20px;\">\n",
    "<h3>Where did those terms come from?</h3>\n",
    "    \n",
    "If you aren't sure how we knew what terms to put in our search, please refer back to the <a href=\"../SearchTerms\">What search terms are available?</a> notebook. \n",
    "</div>"
   ]
  },
  {
   "cell_type": "markdown",
   "id": "d483e944",
   "metadata": {},
   "source": [
    "### subject\n",
    "Now we can use that query to search any of information types. Let's start by looking at what Subjects meet our criteria. To do that, we will send our query to the subject endpoint, then ask for it to run:"
   ]
  },
  {
   "cell_type": "code",
   "execution_count": null,
   "id": "6d9137aa",
   "metadata": {
    "scrolled": true
   },
   "outputs": [
    {
     "data": {
      "text/html": [
       "<pre style=\"white-space:pre;overflow-x:auto;line-height:normal;font-family:Menlo,'DejaVu Sans Mono',consolas,'Courier New',monospace\">Getting results from database\n",
       "\n",
       "</pre>\n"
      ],
      "text/plain": [
       "Getting results from database\n",
       "\n"
      ]
     },
     "metadata": {},
     "output_type": "display_data"
    }
   ],
   "source": [
    "subjectresults = myquery.subject.run(limit=2314)"
   ]
  },
  {
   "cell_type": "markdown",
   "id": "fdf7fb60",
   "metadata": {},
   "source": [
    "We saved the output in a variable `subjectresults`, so we don't get much visible output. To see what our results are, we need to look into the variable. The simplest way is to call `subjectresults` directly:"
   ]
  },
  {
   "cell_type": "code",
   "execution_count": null,
   "id": "cff572d7",
   "metadata": {},
   "outputs": [],
   "source": [
    "subjectresults"
   ]
  },
  {
   "cell_type": "markdown",
   "id": "5186036c",
   "metadata": {},
   "source": [
    "This output tells us our QueryID, which we don't really need, but the computer does to track our questions. Then it tells us four parameters that describe our results:\n",
    "\n",
    "---\n",
    "\n",
    "- **Offset:** This is how many rows of information we've told the query to skip in the data, here we didn't tell it to skip anything, so the offset is zero\n",
    "- **Count:** This is how many rows the current page of our results table has. To keep searches fast, we default to pages with 100 rows.\n",
    "- **Total Row Count:** This is how many rows are in the full results table\n",
    "- **More pages:** This is always a True or False. False means that our current page has all the available results. True means that we will see only the first 100 results in this table, and will need to page through for more.\n",
    "\n",
    "---\n",
    "    \n",
    "Now that we've seen the metadata about our results, let's look at the actual table. The easiest way to do this is by using the python function `.to_dataframe()` on our `subjectresults` variable:"
   ]
  },
  {
   "cell_type": "code",
   "execution_count": null,
   "id": "e97e19f4",
   "metadata": {
    "scrolled": true
   },
   "outputs": [],
   "source": [
    "subjectresults.to_dataframe()"
   ]
  },
  {
   "cell_type": "markdown",
   "id": "e44a65df",
   "metadata": {},
   "source": [
    "By default `to_dataframe()` shows us the first and last five rows for the first page of our results, so we can easily preview our data.\n",
    "\n",
    "Since we queried the Subject endpoint, our default results tell us Subject level information, that is, information about unique individuals: their sex, race, age, species, etc. The `id` column tells us the unique identifier for each individual. The identifier column has nested information about what study or studies a Subject participated in, and will list all of their research_subject identifiers. \n",
    "\n",
    "As we did with the search terms, we can search within these results for specific terms, as a quick example, lets see whether any of the Subjects in our first 100 results black or african american:\n"
   ]
  },
  {
   "cell_type": "markdown",
   "id": "da92f060",
   "metadata": {},
   "source": [
    "As with the dataframes we made of search terms, we can search within these results using python. However, unlike the search term lists, these dataframes of results include many \"NAs\" which are shown as \"None\", so for our filter to work, we'll need to specifically tell it how to treat NAs:\n"
   ]
  },
  {
   "cell_type": "code",
   "execution_count": null,
   "id": "ebd10019",
   "metadata": {},
   "outputs": [],
   "source": [
    "subjectdata = subjectresults.to_dataframe()\n",
    "subjectdata[subjectdata['race'].str.contains(\"black\", case=False, na=False)]"
   ]
  },
  {
   "cell_type": "markdown",
   "id": "bc215b7e",
   "metadata": {},
   "source": [
    "### research_subject\n",
    "\n",
    "But, if we're interested in what research_subjects meet our critera, we can also run our query against the research_subject endpoint:"
   ]
  },
  {
   "cell_type": "code",
   "execution_count": null,
   "id": "a2d8c874",
   "metadata": {},
   "outputs": [],
   "source": [
    "resubjectresults = myquery.research_subject.run(limit=2314)\n",
    "resubjectresults"
   ]
  },
  {
   "cell_type": "markdown",
   "id": "977f36fe",
   "metadata": {},
   "source": [
    "Now we see that our 2314 subjects have 2923 research_subjects between them, that means that some, but not all, of our subjects were participants in more than one study. Let's peek at the data:"
   ]
  },
  {
   "cell_type": "code",
   "execution_count": null,
   "id": "a20f7e62",
   "metadata": {
    "scrolled": true
   },
   "outputs": [],
   "source": [
    "resubjectresults.to_dataframe()"
   ]
  },
  {
   "cell_type": "markdown",
   "id": "4564beee",
   "metadata": {},
   "source": [
    "Each row from the research-subject endpoint results tells us about a subject in a given study. Using this endpoint we can find out information like what studies fit our search criteria, and also get data that we can filter to have only subjects from multiple studies, or only subjects from single studies.\n",
    "\n",
    "Any given subject will have one row per study they participated in. The subject_id in the last column of this view is the same as the `id` in the first column of the Subjects endpoint results. You can use this to combine information across endpoints, which is covered in the [Advanced Search-Merging](../AdvancedSearch-Merging.ipynb) notebook.\n"
   ]
  },
  {
   "cell_type": "markdown",
   "id": "4d2da172",
   "metadata": {},
   "source": [
    "### specimens\n",
    "\n",
    "We can use this same query to see what specimens are available for brain tissue at the CDA:"
   ]
  },
  {
   "cell_type": "code",
   "execution_count": null,
   "id": "51960eed",
   "metadata": {
    "scrolled": true
   },
   "outputs": [],
   "source": [
    "specresults =  myquery.specimen.run()\n",
    "print(specresults)"
   ]
  },
  {
   "cell_type": "markdown",
   "id": "7f254547",
   "metadata": {},
   "source": [
    "Nearly 40,000 specimens meet our search criteria! We would typically expect this number to be much larger than our number of subjects or research_subjects. First because studies will often take more than one sample per subject, and second because any given specimen might be aliquoted out to be used in multiple tests. Since we didn't specify any further filters, our results will return all of these as seperate speciments. Let's look at a few:"
   ]
  },
  {
   "cell_type": "code",
   "execution_count": null,
   "id": "c55b0128",
   "metadata": {
    "scrolled": true
   },
   "outputs": [],
   "source": [
    "specresults.to_dataframe()"
   ]
  },
  {
   "cell_type": "markdown",
   "id": "5ccb0f1c",
   "metadata": {},
   "source": [
    "### file\n",
    "\n",
    "The file endpoint returns information about files that meet our search criteria, regardless of whether they are attached to subjects, research-subjects or specimens: "
   ]
  },
  {
   "cell_type": "code",
   "execution_count": null,
   "id": "94a0361f",
   "metadata": {
    "scrolled": true
   },
   "outputs": [],
   "source": [
    "myquery.files.run()"
   ]
  },
  {
   "cell_type": "code",
   "execution_count": null,
   "id": "c5689456",
   "metadata": {},
   "outputs": [],
   "source": [
    "fileresults = myquery.files.run()\n",
    "fileresults.to_dataframe()"
   ]
  },
  {
   "cell_type": "code",
   "execution_count": null,
   "id": "3e35df17",
   "metadata": {},
   "outputs": [],
   "source": []
  },
  {
   "cell_type": "markdown",
   "id": "46fcb3e4",
   "metadata": {},
   "source": [
    "As you might expect, searching file gives us a huge number of results. This is great if you are surveying what kind of data is available, but is less useful for getting a coherent cohort. \n",
    "\n",
    "A better way to get files for a specific cohort is to chain your queries together, which we cover in the next tutorial [Advanced Search](../AdvancedSearch-Chaining): Combine information from multiple endpoints, and build And/Or/Like and other advanced query strings\n"
   ]
  },
  {
   "cell_type": "markdown",
   "id": "549257b1",
   "metadata": {},
   "source": [
    "What are all these fields?\n",
    "\n",
    "---\n",
    "\n",
    "<div style=\"background-color:#a2f2ed;color:black;padding:20px;\">\n",
    "\n",
    "<ul>\n",
    "  <li><b>id:</b> The unique identifier for this file</li>\n",
    "  <li><b>identifier:</b> An embedded array of information that includes the originating data center and the ID the file had there</li>\n",
    "  <li><b>label:</b> The full name of the file</li>\n",
    "  <li><b>data_catagory:</b> A desecription of the kind of general kind data the file holds</li>\n",
    "  <li><b>data_type:</b> A more specific descripton of the data type</li>\n",
    "  <li><b>file_format:</b> The extension of the file</li>\n",
    "  <li><b>associated_project:</b> The name the data center uses for the study this file was generated for</li>\n",
    "  <li><b>drs_uri:</b> A unique identifier that can be used to retreive this specific file from a server</li>\n",
    "  <li><b>byte_size:</b> Size of the file in bytes</li>\n",
    "  <li><b>checksum:</b> The md5 value for the file</li>\n",
    "  <li><b>data_modality:</b> A high level descriptor of file data, always one of \"Genomic\", \"Proteomic\", or \"Imaging\"</li>\n",
    "  <li><b>imaging_modality</b> For files with the `data_modality` of \"Imaging\", a descriptor for the image type</li>\n",
    "  <li><b>dbgap_accession_number:</b></li>\n",
    "</ul>  \n",
    "\n",
    "</div>\n",
    "    \n",
    "---"
   ]
  }
 ],
 "metadata": {
  "interpreter": {
   "hash": "5c867d1980d5b66d2bfc8a5903dcee074b4b68f3917a4f27f8a310cab24e9f1b"
  },
  "kernelspec": {
   "display_name": "Python 3 (ipykernel)",
   "language": "python",
   "name": "python3"
  },
  "language_info": {
   "codemirror_mode": {
    "name": "ipython",
    "version": 3
   },
   "file_extension": ".py",
   "mimetype": "text/x-python",
   "name": "python",
   "nbconvert_exporter": "python",
   "pygments_lexer": "ipython3",
   "version": "3.7.13"
  },
  "metadata": {
   "interpreter": {
    "hash": "5c867d1980d5b66d2bfc8a5903dcee074b4b68f3917a4f27f8a310cab24e9f1b"
   }
  }
 },
 "nbformat": 4,
 "nbformat_minor": 5
}
