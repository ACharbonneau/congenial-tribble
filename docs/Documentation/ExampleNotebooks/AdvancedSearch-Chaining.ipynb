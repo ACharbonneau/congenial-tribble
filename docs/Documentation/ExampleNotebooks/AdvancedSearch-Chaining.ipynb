{
 "cells": [
  {
   "cell_type": "markdown",
   "id": "3c341e94",
   "metadata": {},
   "source": [
    "# Advanced Search - Chaining\n",
    "---"
   ]
  },
  {
   "cell_type": "markdown",
   "id": "a8387f59",
   "metadata": {},
   "source": [
    "Before we do any work, we need to import several functions from cdapython:\n",
    "\n",
    "\n",
    "- `Q` and `query` which power the search\n",
    "- `columns` which lets us view entity field names\n",
    "- `unique_terms` which lets view entity field contents\n",
    "    \n",
    "We're also asking cdapython to report it's version so we can be sure we're using the one we mean to."
   ]
  },
  {
   "cell_type": "code",
   "execution_count": 1,
   "id": "28a10e23",
   "metadata": {},
   "outputs": [
    {
     "name": "stdout",
     "output_type": "stream",
     "text": [
      "2022.5.9\n"
     ]
    }
   ],
   "source": [
    "from cdapython import Q, columns, unique_terms, query\n",
    "import cdapython\n",
    "print(cdapython.__version__)\n",
    "Q.set_host_url(\"http://35.192.60.10:8080/\")"
   ]
  },
  {
   "cell_type": "markdown",
   "id": "0810c61c",
   "metadata": {},
   "source": [
    "\n",
    "The CDA provides a custom python tool for searching CDA data. [`Q`](usage/#q) (short for Query) offers several ways to search and filter data, and several input modes:\n",
    "\n",
    "---\n",
    "\n",
    "- **[Q.run()](../../../Documentation/usage/#qrun)** returns data for the specified search \n",
    "- **[Q.counts()](../../../Documentation/usage/#qcounts)** returns summary information (counts) for the files that fit the specified search\n",
    "- **[Q.sql()](../../../Documentation/usage/#qsql)** allows you to use SQL syntax instead of Q syntax \n",
    "- **[query()](../../../Documentation/usage/#query)** allows you to use a more natural language syntax of Q\n",
    "\n",
    "---"
   ]
  },
  {
   "cell_type": "markdown",
   "id": "bd8084b3",
   "metadata": {},
   "source": [
    "## Chaining\n",
    "\n",
    "We're going to build on our [previous search](../BasicSearch) to see what information exists about cancers that were first diagnosed in the brain. \n"
   ]
  },
  {
   "cell_type": "code",
   "execution_count": 2,
   "id": "d804f764",
   "metadata": {
    "scrolled": false
   },
   "outputs": [],
   "source": [
    "myquery = Q('ResearchSubject.primary_diagnosis_site = \"brain\"')\n"
   ]
  },
  {
   "cell_type": "markdown",
   "id": "736ad485",
   "metadata": {},
   "source": [
    "Previously we looked at subject, research_subject, specimen and file results seperately, but a more interesting search is to combine these. Let's say what we're really interested in is finding analysis done on specimens, so we're looking for files that belong to specimens that match our search. For that, we want to chain our query to the specimen endpoint and then to the files endpoint and get the combined result:"
   ]
  },
  {
   "cell_type": "code",
   "execution_count": 3,
   "id": "7284df72",
   "metadata": {
    "scrolled": false
   },
   "outputs": [
    {
     "data": {
      "text/html": [
       "<pre style=\"white-space:pre;overflow-x:auto;line-height:normal;font-family:Menlo,'DejaVu Sans Mono',consolas,'Courier New',monospace\">Getting results from database\n",
       "\n",
       "</pre>\n"
      ],
      "text/plain": [
       "Getting results from database\n",
       "\n"
      ]
     },
     "metadata": {},
     "output_type": "display_data"
    },
    {
     "name": "stdout",
     "output_type": "stream",
     "text": [
      "Total execution time: 3622 ms\n"
     ]
    },
    {
     "data": {
      "text/plain": [
       "\n",
       "            QueryID: 3845d4c4-0e99-490c-b2f3-fa59288df875\n",
       "            Query:SELECT results.* EXCEPT(rn) FROM (SELECT ROW_NUMBER() OVER (PARTITION BY all_Files_v3_0_w_RS.id) as rn, all_Files_v3_0_w_RS.id AS id, all_Files_v3_0_w_RS.identifier AS identifier, all_Files_v3_0_w_RS.label AS label, all_Files_v3_0_w_RS.data_category AS data_category, all_Files_v3_0_w_RS.data_type AS data_type, all_Files_v3_0_w_RS.file_format AS file_format, all_Files_v3_0_w_RS.associated_project AS associated_project, all_Files_v3_0_w_RS.drs_uri AS drs_uri, all_Files_v3_0_w_RS.byte_size AS byte_size, all_Files_v3_0_w_RS.checksum AS checksum, all_Files_v3_0_w_RS.data_modality AS data_modality, all_Files_v3_0_w_RS.imaging_modality AS imaging_modality, all_Files_v3_0_w_RS.dbgap_accession_number AS dbgap_accession_number FROM gdc-bq-sample.dev.all_Subjects_v3_0_w_RS AS all_Subjects_v3_0_w_RS LEFT JOIN UNNEST(all_Subjects_v3_0_w_RS.ResearchSubject) AS _ResearchSubject LEFT JOIN UNNEST(_ResearchSubject.Specimen) AS _ResearchSubject_Specimen LEFT JOIN UNNEST(_ResearchSubject_Specimen.Files) AS _ResearchSubject_Specimen_Files  LEFT JOIN gdc-bq-sample.dev.all_Files_v3_0_w_RS AS all_Files_v3_0_w_RS ON all_Files_v3_0_w_RS.id = _ResearchSubject_Specimen_Files WHERE (UPPER(_ResearchSubject.primary_diagnosis_site) = UPPER('brain'))) as results WHERE rn = 1\n",
       "            Offset: 0\n",
       "            Count: 100\n",
       "            Total Row Count: 50495\n",
       "            More pages: True\n",
       "            "
      ]
     },
     "execution_count": 3,
     "metadata": {},
     "output_type": "execute_result"
    }
   ],
   "source": [
    "myqueryspecimenfiles =  myquery.specimen.files.run()\n",
    "myqueryspecimenfiles"
   ]
  },
  {
   "cell_type": "code",
   "execution_count": 4,
   "id": "410b0e2b",
   "metadata": {},
   "outputs": [
    {
     "data": {
      "text/html": [
       "<div>\n",
       "<style scoped>\n",
       "    .dataframe tbody tr th:only-of-type {\n",
       "        vertical-align: middle;\n",
       "    }\n",
       "\n",
       "    .dataframe tbody tr th {\n",
       "        vertical-align: top;\n",
       "    }\n",
       "\n",
       "    .dataframe thead th {\n",
       "        text-align: right;\n",
       "    }\n",
       "</style>\n",
       "<table border=\"1\" class=\"dataframe\">\n",
       "  <thead>\n",
       "    <tr style=\"text-align: right;\">\n",
       "      <th></th>\n",
       "      <th>id</th>\n",
       "      <th>identifier</th>\n",
       "      <th>label</th>\n",
       "      <th>data_category</th>\n",
       "      <th>data_type</th>\n",
       "      <th>file_format</th>\n",
       "      <th>associated_project</th>\n",
       "      <th>drs_uri</th>\n",
       "      <th>byte_size</th>\n",
       "      <th>checksum</th>\n",
       "      <th>data_modality</th>\n",
       "      <th>imaging_modality</th>\n",
       "      <th>dbgap_accession_number</th>\n",
       "    </tr>\n",
       "  </thead>\n",
       "  <tbody>\n",
       "    <tr>\n",
       "      <th>0</th>\n",
       "      <td>1676bc16-a120-4951-bcb9-b3e0599b45af</td>\n",
       "      <td>[{'system': 'GDC', 'value': '1676bc16-a120-495...</td>\n",
       "      <td>7dee3b3f-7f68-493b-a99c-49ae65675609.genie.ali...</td>\n",
       "      <td>Simple Nucleotide Variation</td>\n",
       "      <td>Masked Annotated Somatic Mutation</td>\n",
       "      <td>MAF</td>\n",
       "      <td>GENIE-MSK</td>\n",
       "      <td>drs://dg.4DFC:1676bc16-a120-4951-bcb9-b3e0599b...</td>\n",
       "      <td>1051</td>\n",
       "      <td>ecabcaa16c4f79262c996b5df904d3c3</td>\n",
       "      <td>Genomic</td>\n",
       "      <td>None</td>\n",
       "      <td>None</td>\n",
       "    </tr>\n",
       "    <tr>\n",
       "      <th>1</th>\n",
       "      <td>1825d954-56e3-4faa-991e-56e28d23f31e</td>\n",
       "      <td>[{'system': 'GDC', 'value': '1825d954-56e3-4fa...</td>\n",
       "      <td>415b62cf-1ab3-4432-9fd4-c326718d8142.genie.ali...</td>\n",
       "      <td>Copy Number Variation</td>\n",
       "      <td>Gene Level Copy Number Scores</td>\n",
       "      <td>TSV</td>\n",
       "      <td>GENIE-MSK</td>\n",
       "      <td>drs://dg.4DFC:1825d954-56e3-4faa-991e-56e28d23...</td>\n",
       "      <td>22932</td>\n",
       "      <td>78fb97b022c9790c89888ba62bfb222e</td>\n",
       "      <td>Genomic</td>\n",
       "      <td>None</td>\n",
       "      <td>None</td>\n",
       "    </tr>\n",
       "    <tr>\n",
       "      <th>2</th>\n",
       "      <td>3c4c6124-e58f-497a-8a20-e5ade9caa765</td>\n",
       "      <td>[{'system': 'GDC', 'value': '3c4c6124-e58f-497...</td>\n",
       "      <td>c7a985b2-bc10-4e58-86e8-0ef41f41f80c.genie.ali...</td>\n",
       "      <td>Simple Nucleotide Variation</td>\n",
       "      <td>Masked Annotated Somatic Mutation</td>\n",
       "      <td>MAF</td>\n",
       "      <td>GENIE-JHU</td>\n",
       "      <td>drs://dg.4DFC:3c4c6124-e58f-497a-8a20-e5ade9ca...</td>\n",
       "      <td>1053</td>\n",
       "      <td>d7dabf1852034e3fc333ae68b38f2281</td>\n",
       "      <td>Genomic</td>\n",
       "      <td>None</td>\n",
       "      <td>None</td>\n",
       "    </tr>\n",
       "    <tr>\n",
       "      <th>3</th>\n",
       "      <td>9148502d-cb91-41c6-b382-62639010ff4e</td>\n",
       "      <td>[{'system': 'GDC', 'value': '9148502d-cb91-41c...</td>\n",
       "      <td>e1c60464-3f4f-400b-bbfa-0e96f826d901.genie.ali...</td>\n",
       "      <td>Simple Nucleotide Variation</td>\n",
       "      <td>Masked Annotated Somatic Mutation</td>\n",
       "      <td>MAF</td>\n",
       "      <td>GENIE-MSK</td>\n",
       "      <td>drs://dg.4DFC:9148502d-cb91-41c6-b382-62639010...</td>\n",
       "      <td>3825</td>\n",
       "      <td>20d837abab0ffa04e06e5de5f35108e8</td>\n",
       "      <td>Genomic</td>\n",
       "      <td>None</td>\n",
       "      <td>None</td>\n",
       "    </tr>\n",
       "    <tr>\n",
       "      <th>4</th>\n",
       "      <td>7aef2592-bb88-44fe-886c-22e0e3fd4aac</td>\n",
       "      <td>[{'system': 'GDC', 'value': '7aef2592-bb88-44f...</td>\n",
       "      <td>9010b2f6-5eb0-4c68-b42a-fb271d8f5ba2.genie.ali...</td>\n",
       "      <td>Simple Nucleotide Variation</td>\n",
       "      <td>Masked Annotated Somatic Mutation</td>\n",
       "      <td>MAF</td>\n",
       "      <td>GENIE-MSK</td>\n",
       "      <td>drs://dg.4DFC:7aef2592-bb88-44fe-886c-22e0e3fd...</td>\n",
       "      <td>1051</td>\n",
       "      <td>3f36395c16a0fc18171d490f1039efcb</td>\n",
       "      <td>Genomic</td>\n",
       "      <td>None</td>\n",
       "      <td>None</td>\n",
       "    </tr>\n",
       "    <tr>\n",
       "      <th>...</th>\n",
       "      <td>...</td>\n",
       "      <td>...</td>\n",
       "      <td>...</td>\n",
       "      <td>...</td>\n",
       "      <td>...</td>\n",
       "      <td>...</td>\n",
       "      <td>...</td>\n",
       "      <td>...</td>\n",
       "      <td>...</td>\n",
       "      <td>...</td>\n",
       "      <td>...</td>\n",
       "      <td>...</td>\n",
       "      <td>...</td>\n",
       "    </tr>\n",
       "    <tr>\n",
       "      <th>95</th>\n",
       "      <td>d91dbc00-747a-4c78-9fe9-d3d599df2656</td>\n",
       "      <td>[{'system': 'GDC', 'value': 'd91dbc00-747a-4c7...</td>\n",
       "      <td>41a6475c-09bf-4b0c-b568-a5ce5d8f7a23.genie.ali...</td>\n",
       "      <td>Simple Nucleotide Variation</td>\n",
       "      <td>Masked Annotated Somatic Mutation</td>\n",
       "      <td>MAF</td>\n",
       "      <td>GENIE-GRCC</td>\n",
       "      <td>drs://dg.4DFC:d91dbc00-747a-4c78-9fe9-d3d599df...</td>\n",
       "      <td>3465</td>\n",
       "      <td>fa2269804bffbba348da639311efe254</td>\n",
       "      <td>Genomic</td>\n",
       "      <td>None</td>\n",
       "      <td>None</td>\n",
       "    </tr>\n",
       "    <tr>\n",
       "      <th>96</th>\n",
       "      <td>87b76b2b-7f27-49b1-8989-c1c3820e5661</td>\n",
       "      <td>[{'system': 'GDC', 'value': '87b76b2b-7f27-49b...</td>\n",
       "      <td>39444fc1-0c79-44c6-a1dc-9f86e72835e1.genie.ali...</td>\n",
       "      <td>Simple Nucleotide Variation</td>\n",
       "      <td>Masked Annotated Somatic Mutation</td>\n",
       "      <td>MAF</td>\n",
       "      <td>GENIE-GRCC</td>\n",
       "      <td>drs://dg.4DFC:87b76b2b-7f27-49b1-8989-c1c3820e...</td>\n",
       "      <td>2196</td>\n",
       "      <td>68f202798873dfdd85b5680cb6263388</td>\n",
       "      <td>Genomic</td>\n",
       "      <td>None</td>\n",
       "      <td>None</td>\n",
       "    </tr>\n",
       "    <tr>\n",
       "      <th>97</th>\n",
       "      <td>c609be50-3cc3-447a-acbc-4d82b4c30e72</td>\n",
       "      <td>[{'system': 'GDC', 'value': 'c609be50-3cc3-447...</td>\n",
       "      <td>fa186f29-1bd9-4b82-9daf-d606a6ddef11.genie.ali...</td>\n",
       "      <td>Simple Nucleotide Variation</td>\n",
       "      <td>Masked Annotated Somatic Mutation</td>\n",
       "      <td>MAF</td>\n",
       "      <td>GENIE-GRCC</td>\n",
       "      <td>drs://dg.4DFC:c609be50-3cc3-447a-acbc-4d82b4c3...</td>\n",
       "      <td>3565</td>\n",
       "      <td>b1b7e7322180b6764e27faac63e77bc2</td>\n",
       "      <td>Genomic</td>\n",
       "      <td>None</td>\n",
       "      <td>None</td>\n",
       "    </tr>\n",
       "    <tr>\n",
       "      <th>98</th>\n",
       "      <td>e47498b5-27ae-46f7-8ee5-cf310360c598</td>\n",
       "      <td>[{'system': 'GDC', 'value': 'e47498b5-27ae-46f...</td>\n",
       "      <td>9a9009af-e4ce-4477-9af7-851c82e61802.genie.ali...</td>\n",
       "      <td>Simple Nucleotide Variation</td>\n",
       "      <td>Masked Annotated Somatic Mutation</td>\n",
       "      <td>MAF</td>\n",
       "      <td>GENIE-MDA</td>\n",
       "      <td>drs://dg.4DFC:e47498b5-27ae-46f7-8ee5-cf310360...</td>\n",
       "      <td>1052</td>\n",
       "      <td>919e44b2808e2de2281ba9275698ba1d</td>\n",
       "      <td>Genomic</td>\n",
       "      <td>None</td>\n",
       "      <td>None</td>\n",
       "    </tr>\n",
       "    <tr>\n",
       "      <th>99</th>\n",
       "      <td>8a399f7b-ee78-4735-97d4-70f4ad28fe68</td>\n",
       "      <td>[{'system': 'GDC', 'value': '8a399f7b-ee78-473...</td>\n",
       "      <td>7995a73b-b4e4-419b-badb-668a33e48f76.genie.ali...</td>\n",
       "      <td>Copy Number Variation</td>\n",
       "      <td>Gene Level Copy Number Scores</td>\n",
       "      <td>TSV</td>\n",
       "      <td>GENIE-DFCI</td>\n",
       "      <td>drs://dg.4DFC:8a399f7b-ee78-4735-97d4-70f4ad28...</td>\n",
       "      <td>22909</td>\n",
       "      <td>b1e1dd883334713bc445dc969922f70f</td>\n",
       "      <td>Genomic</td>\n",
       "      <td>None</td>\n",
       "      <td>None</td>\n",
       "    </tr>\n",
       "  </tbody>\n",
       "</table>\n",
       "<p>100 rows × 13 columns</p>\n",
       "</div>"
      ],
      "text/plain": [
       "                                      id  \\\n",
       "0   1676bc16-a120-4951-bcb9-b3e0599b45af   \n",
       "1   1825d954-56e3-4faa-991e-56e28d23f31e   \n",
       "2   3c4c6124-e58f-497a-8a20-e5ade9caa765   \n",
       "3   9148502d-cb91-41c6-b382-62639010ff4e   \n",
       "4   7aef2592-bb88-44fe-886c-22e0e3fd4aac   \n",
       "..                                   ...   \n",
       "95  d91dbc00-747a-4c78-9fe9-d3d599df2656   \n",
       "96  87b76b2b-7f27-49b1-8989-c1c3820e5661   \n",
       "97  c609be50-3cc3-447a-acbc-4d82b4c30e72   \n",
       "98  e47498b5-27ae-46f7-8ee5-cf310360c598   \n",
       "99  8a399f7b-ee78-4735-97d4-70f4ad28fe68   \n",
       "\n",
       "                                           identifier  \\\n",
       "0   [{'system': 'GDC', 'value': '1676bc16-a120-495...   \n",
       "1   [{'system': 'GDC', 'value': '1825d954-56e3-4fa...   \n",
       "2   [{'system': 'GDC', 'value': '3c4c6124-e58f-497...   \n",
       "3   [{'system': 'GDC', 'value': '9148502d-cb91-41c...   \n",
       "4   [{'system': 'GDC', 'value': '7aef2592-bb88-44f...   \n",
       "..                                                ...   \n",
       "95  [{'system': 'GDC', 'value': 'd91dbc00-747a-4c7...   \n",
       "96  [{'system': 'GDC', 'value': '87b76b2b-7f27-49b...   \n",
       "97  [{'system': 'GDC', 'value': 'c609be50-3cc3-447...   \n",
       "98  [{'system': 'GDC', 'value': 'e47498b5-27ae-46f...   \n",
       "99  [{'system': 'GDC', 'value': '8a399f7b-ee78-473...   \n",
       "\n",
       "                                                label  \\\n",
       "0   7dee3b3f-7f68-493b-a99c-49ae65675609.genie.ali...   \n",
       "1   415b62cf-1ab3-4432-9fd4-c326718d8142.genie.ali...   \n",
       "2   c7a985b2-bc10-4e58-86e8-0ef41f41f80c.genie.ali...   \n",
       "3   e1c60464-3f4f-400b-bbfa-0e96f826d901.genie.ali...   \n",
       "4   9010b2f6-5eb0-4c68-b42a-fb271d8f5ba2.genie.ali...   \n",
       "..                                                ...   \n",
       "95  41a6475c-09bf-4b0c-b568-a5ce5d8f7a23.genie.ali...   \n",
       "96  39444fc1-0c79-44c6-a1dc-9f86e72835e1.genie.ali...   \n",
       "97  fa186f29-1bd9-4b82-9daf-d606a6ddef11.genie.ali...   \n",
       "98  9a9009af-e4ce-4477-9af7-851c82e61802.genie.ali...   \n",
       "99  7995a73b-b4e4-419b-badb-668a33e48f76.genie.ali...   \n",
       "\n",
       "                  data_category                          data_type  \\\n",
       "0   Simple Nucleotide Variation  Masked Annotated Somatic Mutation   \n",
       "1         Copy Number Variation      Gene Level Copy Number Scores   \n",
       "2   Simple Nucleotide Variation  Masked Annotated Somatic Mutation   \n",
       "3   Simple Nucleotide Variation  Masked Annotated Somatic Mutation   \n",
       "4   Simple Nucleotide Variation  Masked Annotated Somatic Mutation   \n",
       "..                          ...                                ...   \n",
       "95  Simple Nucleotide Variation  Masked Annotated Somatic Mutation   \n",
       "96  Simple Nucleotide Variation  Masked Annotated Somatic Mutation   \n",
       "97  Simple Nucleotide Variation  Masked Annotated Somatic Mutation   \n",
       "98  Simple Nucleotide Variation  Masked Annotated Somatic Mutation   \n",
       "99        Copy Number Variation      Gene Level Copy Number Scores   \n",
       "\n",
       "   file_format associated_project  \\\n",
       "0          MAF          GENIE-MSK   \n",
       "1          TSV          GENIE-MSK   \n",
       "2          MAF          GENIE-JHU   \n",
       "3          MAF          GENIE-MSK   \n",
       "4          MAF          GENIE-MSK   \n",
       "..         ...                ...   \n",
       "95         MAF         GENIE-GRCC   \n",
       "96         MAF         GENIE-GRCC   \n",
       "97         MAF         GENIE-GRCC   \n",
       "98         MAF          GENIE-MDA   \n",
       "99         TSV         GENIE-DFCI   \n",
       "\n",
       "                                              drs_uri byte_size  \\\n",
       "0   drs://dg.4DFC:1676bc16-a120-4951-bcb9-b3e0599b...      1051   \n",
       "1   drs://dg.4DFC:1825d954-56e3-4faa-991e-56e28d23...     22932   \n",
       "2   drs://dg.4DFC:3c4c6124-e58f-497a-8a20-e5ade9ca...      1053   \n",
       "3   drs://dg.4DFC:9148502d-cb91-41c6-b382-62639010...      3825   \n",
       "4   drs://dg.4DFC:7aef2592-bb88-44fe-886c-22e0e3fd...      1051   \n",
       "..                                                ...       ...   \n",
       "95  drs://dg.4DFC:d91dbc00-747a-4c78-9fe9-d3d599df...      3465   \n",
       "96  drs://dg.4DFC:87b76b2b-7f27-49b1-8989-c1c3820e...      2196   \n",
       "97  drs://dg.4DFC:c609be50-3cc3-447a-acbc-4d82b4c3...      3565   \n",
       "98  drs://dg.4DFC:e47498b5-27ae-46f7-8ee5-cf310360...      1052   \n",
       "99  drs://dg.4DFC:8a399f7b-ee78-4735-97d4-70f4ad28...     22909   \n",
       "\n",
       "                            checksum data_modality imaging_modality  \\\n",
       "0   ecabcaa16c4f79262c996b5df904d3c3       Genomic             None   \n",
       "1   78fb97b022c9790c89888ba62bfb222e       Genomic             None   \n",
       "2   d7dabf1852034e3fc333ae68b38f2281       Genomic             None   \n",
       "3   20d837abab0ffa04e06e5de5f35108e8       Genomic             None   \n",
       "4   3f36395c16a0fc18171d490f1039efcb       Genomic             None   \n",
       "..                               ...           ...              ...   \n",
       "95  fa2269804bffbba348da639311efe254       Genomic             None   \n",
       "96  68f202798873dfdd85b5680cb6263388       Genomic             None   \n",
       "97  b1b7e7322180b6764e27faac63e77bc2       Genomic             None   \n",
       "98  919e44b2808e2de2281ba9275698ba1d       Genomic             None   \n",
       "99  b1e1dd883334713bc445dc969922f70f       Genomic             None   \n",
       "\n",
       "   dbgap_accession_number  \n",
       "0                    None  \n",
       "1                    None  \n",
       "2                    None  \n",
       "3                    None  \n",
       "4                    None  \n",
       "..                    ...  \n",
       "95                   None  \n",
       "96                   None  \n",
       "97                   None  \n",
       "98                   None  \n",
       "99                   None  \n",
       "\n",
       "[100 rows x 13 columns]"
      ]
     },
     "execution_count": 4,
     "metadata": {},
     "output_type": "execute_result"
    }
   ],
   "source": [
    "myqueryspecimenfiles.to_dataframe()"
   ]
  },
  {
   "cell_type": "markdown",
   "id": "40bcdcd2",
   "metadata": {},
   "source": [
    "## Example queries"
   ]
  },
  {
   "cell_type": "markdown",
   "id": "f2749c48",
   "metadata": {},
   "source": [
    "Now that we can create a query with ```Q()``` function, let's see how we can combine multiple conditions.\n",
    "\n",
    "There are three operators available:\n",
    "* ```And()```\n",
    "* ```Or()```\n",
    "* ```From()```\n",
    "\n",
    "The following examples show how those operators work in practice."
   ]
  },
  {
   "cell_type": "markdown",
   "id": "7d6110ca",
   "metadata": {},
   "source": [
    "### Query 1\n",
    "\n",
    "**Find data for subjects who were diagnosed after the age of 50 and who were investigated as part of the TCGA-OV project.**"
   ]
  },
  {
   "cell_type": "code",
   "execution_count": 5,
   "id": "7f6ed866",
   "metadata": {},
   "outputs": [
    {
     "data": {
      "text/html": [
       "<pre style=\"white-space:pre;overflow-x:auto;line-height:normal;font-family:Menlo,'DejaVu Sans Mono',consolas,'Courier New',monospace\">Getting results from database\n",
       "\n",
       "</pre>\n"
      ],
      "text/plain": [
       "Getting results from database\n",
       "\n"
      ]
     },
     "metadata": {},
     "output_type": "display_data"
    },
    {
     "name": "stdout",
     "output_type": "stream",
     "text": [
      "Total execution time: 15289 ms\n"
     ]
    }
   ],
   "source": [
    "q1 = Q('sex = \"male\"')\n",
    "q2 = Q('identifier.system = \"GDC\"')\n",
    "q3 = Q('identifier.system = \"PDC\"')\n",
    "\n",
    "r2 = q1.And(q2)\n",
    "r3 = q1.And(q3)\n",
    "\n",
    "#taco = r2.run()\n",
    "#taco\n",
    "\n",
    "burrito = r3.run()\n"
   ]
  },
  {
   "cell_type": "code",
   "execution_count": 6,
   "id": "09383046",
   "metadata": {},
   "outputs": [
    {
     "data": {
      "text/plain": [
       "\n",
       "            QueryID: 234efbf5-418d-4d81-aac3-43a9c196ba37\n",
       "            Query:SELECT results.* EXCEPT(rn) FROM (SELECT ROW_NUMBER() OVER (PARTITION BY all_Subjects_v3_0_w_RS.id) as rn, all_Subjects_v3_0_w_RS.id AS id, all_Subjects_v3_0_w_RS.identifier AS identifier, all_Subjects_v3_0_w_RS.species AS species, all_Subjects_v3_0_w_RS.sex AS sex, all_Subjects_v3_0_w_RS.race AS race, all_Subjects_v3_0_w_RS.ethnicity AS ethnicity, all_Subjects_v3_0_w_RS.days_to_birth AS days_to_birth, all_Subjects_v3_0_w_RS.subject_associated_project AS subject_associated_project, all_Subjects_v3_0_w_RS.vital_status AS vital_status, all_Subjects_v3_0_w_RS.age_at_death AS age_at_death, all_Subjects_v3_0_w_RS.cause_of_death AS cause_of_death, all_Subjects_v3_0_w_RS.Files AS Files, all_Subjects_v3_0_w_RS.ResearchSubject AS ResearchSubject FROM gdc-bq-sample.dev.all_Subjects_v3_0_w_RS AS all_Subjects_v3_0_w_RS LEFT JOIN UNNEST(all_Subjects_v3_0_w_RS.identifier) AS _identifier WHERE ((UPPER(all_Subjects_v3_0_w_RS.sex) = UPPER('male')) AND (UPPER(_identifier.system) = UPPER('PDC')))) as results WHERE rn = 1\n",
       "            Offset: 0\n",
       "            Count: 100\n",
       "            Total Row Count: 888\n",
       "            More pages: True\n",
       "            "
      ]
     },
     "execution_count": 6,
     "metadata": {},
     "output_type": "execute_result"
    }
   ],
   "source": [
    "burrito"
   ]
  },
  {
   "cell_type": "raw",
   "id": "36f72ef8",
   "metadata": {},
   "source": []
  },
  {
   "cell_type": "code",
   "execution_count": 7,
   "id": "f5739a0b",
   "metadata": {},
   "outputs": [
    {
     "data": {
      "text/html": [
       "<pre style=\"white-space:pre;overflow-x:auto;line-height:normal;font-family:Menlo,'DejaVu Sans Mono',consolas,'Courier New',monospace\">Getting results from database\n",
       "\n",
       "</pre>\n"
      ],
      "text/plain": [
       "Getting results from database\n",
       "\n"
      ]
     },
     "metadata": {},
     "output_type": "display_data"
    },
    {
     "name": "stdout",
     "output_type": "stream",
     "text": [
      "Total execution time: 21690 ms\n"
     ]
    },
    {
     "data": {
      "text/plain": [
       "\n",
       "            QueryID: e5c8c1b2-def0-49ef-af4c-fe78c2236780\n",
       "            Query:SELECT results.* EXCEPT(rn) FROM (SELECT ROW_NUMBER() OVER (PARTITION BY all_Subjects_v3_0_w_RS.id) as rn, all_Subjects_v3_0_w_RS.id AS id, all_Subjects_v3_0_w_RS.identifier AS identifier, all_Subjects_v3_0_w_RS.species AS species, all_Subjects_v3_0_w_RS.sex AS sex, all_Subjects_v3_0_w_RS.race AS race, all_Subjects_v3_0_w_RS.ethnicity AS ethnicity, all_Subjects_v3_0_w_RS.days_to_birth AS days_to_birth, all_Subjects_v3_0_w_RS.subject_associated_project AS subject_associated_project, all_Subjects_v3_0_w_RS.vital_status AS vital_status, all_Subjects_v3_0_w_RS.age_at_death AS age_at_death, all_Subjects_v3_0_w_RS.cause_of_death AS cause_of_death, all_Subjects_v3_0_w_RS.Files AS Files, all_Subjects_v3_0_w_RS.ResearchSubject AS ResearchSubject FROM gdc-bq-sample.dev.all_Subjects_v3_0_w_RS AS all_Subjects_v3_0_w_RS WHERE (UPPER(all_Subjects_v3_0_w_RS.sex) = UPPER('male'))) as results WHERE rn = 1\n",
       "            Offset: 0\n",
       "            Count: 100\n",
       "            Total Row Count: 39793\n",
       "            More pages: True\n",
       "            "
      ]
     },
     "execution_count": 7,
     "metadata": {},
     "output_type": "execute_result"
    }
   ],
   "source": [
    "q1 = Q('sex = \"male\"')\n",
    "\n",
    "taco = q1.run()\n",
    "taco"
   ]
  },
  {
   "cell_type": "code",
   "execution_count": 8,
   "id": "387c3bdf",
   "metadata": {},
   "outputs": [
    {
     "data": {
      "text/html": [
       "<pre style=\"white-space:pre;overflow-x:auto;line-height:normal;font-family:Menlo,'DejaVu Sans Mono',consolas,'Courier New',monospace\">Getting results from database\n",
       "\n",
       "</pre>\n"
      ],
      "text/plain": [
       "Getting results from database\n",
       "\n"
      ]
     },
     "metadata": {},
     "output_type": "display_data"
    },
    {
     "name": "stdout",
     "output_type": "stream",
     "text": [
      "Total execution time: 9645 ms\n",
      "\n",
      "            QueryID: 81881ecc-474a-410a-894a-33263a3b3afe\n",
      "            Query:SELECT results.* EXCEPT(rn) FROM (SELECT ROW_NUMBER() OVER (PARTITION BY all_Subjects_v3_0_w_RS.id) as rn, all_Subjects_v3_0_w_RS.id AS id, all_Subjects_v3_0_w_RS.identifier AS identifier, all_Subjects_v3_0_w_RS.species AS species, all_Subjects_v3_0_w_RS.sex AS sex, all_Subjects_v3_0_w_RS.race AS race, all_Subjects_v3_0_w_RS.ethnicity AS ethnicity, all_Subjects_v3_0_w_RS.days_to_birth AS days_to_birth, all_Subjects_v3_0_w_RS.subject_associated_project AS subject_associated_project, all_Subjects_v3_0_w_RS.vital_status AS vital_status, all_Subjects_v3_0_w_RS.age_at_death AS age_at_death, all_Subjects_v3_0_w_RS.cause_of_death AS cause_of_death, all_Subjects_v3_0_w_RS.Files AS Files, all_Subjects_v3_0_w_RS.ResearchSubject AS ResearchSubject FROM gdc-bq-sample.dev.all_Subjects_v3_0_w_RS AS all_Subjects_v3_0_w_RS LEFT JOIN UNNEST(all_Subjects_v3_0_w_RS.ResearchSubject) AS _ResearchSubject WHERE (UPPER(_ResearchSubject.primary_diagnosis_condition) LIKE UPPER(\"Lung%\") AND (UPPER(all_Subjects_v3_0_w_RS.sex) = UPPER('male')))) as results WHERE rn = 1\n",
      "            Offset: 0\n",
      "            Count: 100\n",
      "            Total Row Count: 207\n",
      "            More pages: True\n",
      "            \n",
      "100\n",
      "100\n",
      "7\n"
     ]
    }
   ],
   "source": [
    "from pandas import DataFrame,concat\n",
    "q = query('ResearchSubject.primary_diagnosis_condition LIKE \"Lung%\" AND sex = \"male\"').run()\n",
    "print(q)\n",
    "df = DataFrame()\n",
    "for i in q.paginator(to_df=True):\n",
    "    print(len(i))\n",
    "    df = concat([df,i])"
   ]
  },
  {
   "cell_type": "code",
   "execution_count": 9,
   "id": "a04c69bf",
   "metadata": {
    "scrolled": true
   },
   "outputs": [
    {
     "data": {
      "text/html": [
       "<div>\n",
       "<style scoped>\n",
       "    .dataframe tbody tr th:only-of-type {\n",
       "        vertical-align: middle;\n",
       "    }\n",
       "\n",
       "    .dataframe tbody tr th {\n",
       "        vertical-align: top;\n",
       "    }\n",
       "\n",
       "    .dataframe thead th {\n",
       "        text-align: right;\n",
       "    }\n",
       "</style>\n",
       "<table border=\"1\" class=\"dataframe\">\n",
       "  <thead>\n",
       "    <tr style=\"text-align: right;\">\n",
       "      <th></th>\n",
       "      <th>id</th>\n",
       "      <th>identifier</th>\n",
       "      <th>species</th>\n",
       "      <th>sex</th>\n",
       "      <th>race</th>\n",
       "      <th>ethnicity</th>\n",
       "      <th>days_to_birth</th>\n",
       "      <th>subject_associated_project</th>\n",
       "      <th>vital_status</th>\n",
       "      <th>age_at_death</th>\n",
       "      <th>cause_of_death</th>\n",
       "      <th>Files</th>\n",
       "      <th>ResearchSubject</th>\n",
       "    </tr>\n",
       "  </thead>\n",
       "  <tbody>\n",
       "    <tr>\n",
       "      <th>0</th>\n",
       "      <td>P064</td>\n",
       "      <td>[{'system': 'PDC', 'value': 'P064'}]</td>\n",
       "      <td>Homo sapiens</td>\n",
       "      <td>male</td>\n",
       "      <td>not reported</td>\n",
       "      <td>not reported</td>\n",
       "      <td>None</td>\n",
       "      <td>[Academia Sinica LUAD-100]</td>\n",
       "      <td>None</td>\n",
       "      <td>None</td>\n",
       "      <td>None</td>\n",
       "      <td>[d996e6de-4485-11ea-bf04-0ef15c86e253, 75ee36b...</td>\n",
       "      <td>[{'id': '24b3ab9d-8beb-11ea-b1fd-0aad30af8a83'...</td>\n",
       "    </tr>\n",
       "    <tr>\n",
       "      <th>1</th>\n",
       "      <td>P068</td>\n",
       "      <td>[{'system': 'PDC', 'value': 'P068'}]</td>\n",
       "      <td>Homo sapiens</td>\n",
       "      <td>male</td>\n",
       "      <td>not reported</td>\n",
       "      <td>not reported</td>\n",
       "      <td>None</td>\n",
       "      <td>[Academia Sinica LUAD-100]</td>\n",
       "      <td>None</td>\n",
       "      <td>None</td>\n",
       "      <td>None</td>\n",
       "      <td>[0da8630a-e8ca-4f20-acd5-6fc91ec27d65, bc2b104...</td>\n",
       "      <td>[{'id': '24b3b0e7-8beb-11ea-b1fd-0aad30af8a83'...</td>\n",
       "    </tr>\n",
       "    <tr>\n",
       "      <th>2</th>\n",
       "      <td>P071</td>\n",
       "      <td>[{'system': 'PDC', 'value': 'P071'}]</td>\n",
       "      <td>Homo sapiens</td>\n",
       "      <td>male</td>\n",
       "      <td>not reported</td>\n",
       "      <td>not reported</td>\n",
       "      <td>None</td>\n",
       "      <td>[Academia Sinica LUAD-100]</td>\n",
       "      <td>None</td>\n",
       "      <td>None</td>\n",
       "      <td>None</td>\n",
       "      <td>[2f87638f-4c9f-43ce-935b-df01e9d5161c, eaefecf...</td>\n",
       "      <td>[{'id': '24b3b47b-8beb-11ea-b1fd-0aad30af8a83'...</td>\n",
       "    </tr>\n",
       "    <tr>\n",
       "      <th>3</th>\n",
       "      <td>P038</td>\n",
       "      <td>[{'system': 'PDC', 'value': 'P038'}]</td>\n",
       "      <td>Homo sapiens</td>\n",
       "      <td>male</td>\n",
       "      <td>not reported</td>\n",
       "      <td>not reported</td>\n",
       "      <td>None</td>\n",
       "      <td>[Academia Sinica LUAD-100]</td>\n",
       "      <td>None</td>\n",
       "      <td>None</td>\n",
       "      <td>None</td>\n",
       "      <td>[23527043-4fdb-4cc4-81b7-2b6d46c490b7, c563492...</td>\n",
       "      <td>[{'id': '24b387fe-8beb-11ea-b1fd-0aad30af8a83'...</td>\n",
       "    </tr>\n",
       "    <tr>\n",
       "      <th>4</th>\n",
       "      <td>P015</td>\n",
       "      <td>[{'system': 'PDC', 'value': 'P015'}]</td>\n",
       "      <td>Homo sapiens</td>\n",
       "      <td>male</td>\n",
       "      <td>not reported</td>\n",
       "      <td>not reported</td>\n",
       "      <td>None</td>\n",
       "      <td>[Academia Sinica LUAD-100]</td>\n",
       "      <td>None</td>\n",
       "      <td>None</td>\n",
       "      <td>None</td>\n",
       "      <td>[10bf0fb4-4495-11ea-bf04-0ef15c86e253, 257d9e8...</td>\n",
       "      <td>[{'id': '24b368d8-8beb-11ea-b1fd-0aad30af8a83'...</td>\n",
       "    </tr>\n",
       "    <tr>\n",
       "      <th>...</th>\n",
       "      <td>...</td>\n",
       "      <td>...</td>\n",
       "      <td>...</td>\n",
       "      <td>...</td>\n",
       "      <td>...</td>\n",
       "      <td>...</td>\n",
       "      <td>...</td>\n",
       "      <td>...</td>\n",
       "      <td>...</td>\n",
       "      <td>...</td>\n",
       "      <td>...</td>\n",
       "      <td>...</td>\n",
       "      <td>...</td>\n",
       "    </tr>\n",
       "    <tr>\n",
       "      <th>2</th>\n",
       "      <td>P005</td>\n",
       "      <td>[{'system': 'PDC', 'value': 'P005'}]</td>\n",
       "      <td>Homo sapiens</td>\n",
       "      <td>male</td>\n",
       "      <td>not reported</td>\n",
       "      <td>not reported</td>\n",
       "      <td>None</td>\n",
       "      <td>[Academia Sinica LUAD-100]</td>\n",
       "      <td>None</td>\n",
       "      <td>None</td>\n",
       "      <td>None</td>\n",
       "      <td>[7ed2372d-3bcd-11ea-bf04-0ef15c86e253, 7e1f4b5...</td>\n",
       "      <td>[{'id': '24b35cd4-8beb-11ea-b1fd-0aad30af8a83'...</td>\n",
       "    </tr>\n",
       "    <tr>\n",
       "      <th>3</th>\n",
       "      <td>P084</td>\n",
       "      <td>[{'system': 'PDC', 'value': 'P084'}]</td>\n",
       "      <td>Homo sapiens</td>\n",
       "      <td>male</td>\n",
       "      <td>not reported</td>\n",
       "      <td>not reported</td>\n",
       "      <td>None</td>\n",
       "      <td>[Academia Sinica LUAD-100]</td>\n",
       "      <td>None</td>\n",
       "      <td>None</td>\n",
       "      <td>None</td>\n",
       "      <td>[18de756b-4497-11ea-bf04-0ef15c86e253, 2cf854f...</td>\n",
       "      <td>[{'id': '24b3c882-8beb-11ea-b1fd-0aad30af8a83'...</td>\n",
       "    </tr>\n",
       "    <tr>\n",
       "      <th>4</th>\n",
       "      <td>P047</td>\n",
       "      <td>[{'system': 'PDC', 'value': 'P047'}]</td>\n",
       "      <td>Homo sapiens</td>\n",
       "      <td>male</td>\n",
       "      <td>not reported</td>\n",
       "      <td>not reported</td>\n",
       "      <td>None</td>\n",
       "      <td>[Academia Sinica LUAD-100]</td>\n",
       "      <td>None</td>\n",
       "      <td>None</td>\n",
       "      <td>None</td>\n",
       "      <td>[99cb0585-cbc6-4ed8-96dc-c2f8ec16fde2, 94d3918...</td>\n",
       "      <td>[{'id': '24b39432-8beb-11ea-b1fd-0aad30af8a83'...</td>\n",
       "    </tr>\n",
       "    <tr>\n",
       "      <th>5</th>\n",
       "      <td>C3L-02624</td>\n",
       "      <td>[{'system': 'PDC', 'value': 'C3L-02624'}, {'sy...</td>\n",
       "      <td>Homo sapiens</td>\n",
       "      <td>male</td>\n",
       "      <td>not reported</td>\n",
       "      <td>not reported</td>\n",
       "      <td>-23126</td>\n",
       "      <td>[CPTAC3-Discovery, cptac_lscc]</td>\n",
       "      <td>Dead</td>\n",
       "      <td>832</td>\n",
       "      <td>Cancer Related</td>\n",
       "      <td>[da89d0ec-5af4-48fa-90ee-98279f34c5ff, 2bac942...</td>\n",
       "      <td>[{'id': '1c63ed9b-d028-11ea-b1fd-0aad30af8a83'...</td>\n",
       "    </tr>\n",
       "    <tr>\n",
       "      <th>6</th>\n",
       "      <td>C3N-01018</td>\n",
       "      <td>[{'system': 'PDC', 'value': 'C3N-01018'}, {'sy...</td>\n",
       "      <td>Homo sapiens</td>\n",
       "      <td>male</td>\n",
       "      <td>not reported</td>\n",
       "      <td>not reported</td>\n",
       "      <td>-23718</td>\n",
       "      <td>[CPTAC3-Discovery, cptac_lscc]</td>\n",
       "      <td>Alive</td>\n",
       "      <td>None</td>\n",
       "      <td>None</td>\n",
       "      <td>[e30c1120-7975-4965-93eb-cf90c9b79c9f, ba7aa01...</td>\n",
       "      <td>[{'id': '1c641c39-d028-11ea-b1fd-0aad30af8a83'...</td>\n",
       "    </tr>\n",
       "  </tbody>\n",
       "</table>\n",
       "<p>207 rows × 13 columns</p>\n",
       "</div>"
      ],
      "text/plain": [
       "           id                                         identifier  \\\n",
       "0        P064               [{'system': 'PDC', 'value': 'P064'}]   \n",
       "1        P068               [{'system': 'PDC', 'value': 'P068'}]   \n",
       "2        P071               [{'system': 'PDC', 'value': 'P071'}]   \n",
       "3        P038               [{'system': 'PDC', 'value': 'P038'}]   \n",
       "4        P015               [{'system': 'PDC', 'value': 'P015'}]   \n",
       "..        ...                                                ...   \n",
       "2        P005               [{'system': 'PDC', 'value': 'P005'}]   \n",
       "3        P084               [{'system': 'PDC', 'value': 'P084'}]   \n",
       "4        P047               [{'system': 'PDC', 'value': 'P047'}]   \n",
       "5   C3L-02624  [{'system': 'PDC', 'value': 'C3L-02624'}, {'sy...   \n",
       "6   C3N-01018  [{'system': 'PDC', 'value': 'C3N-01018'}, {'sy...   \n",
       "\n",
       "         species   sex          race     ethnicity days_to_birth  \\\n",
       "0   Homo sapiens  male  not reported  not reported          None   \n",
       "1   Homo sapiens  male  not reported  not reported          None   \n",
       "2   Homo sapiens  male  not reported  not reported          None   \n",
       "3   Homo sapiens  male  not reported  not reported          None   \n",
       "4   Homo sapiens  male  not reported  not reported          None   \n",
       "..           ...   ...           ...           ...           ...   \n",
       "2   Homo sapiens  male  not reported  not reported          None   \n",
       "3   Homo sapiens  male  not reported  not reported          None   \n",
       "4   Homo sapiens  male  not reported  not reported          None   \n",
       "5   Homo sapiens  male  not reported  not reported        -23126   \n",
       "6   Homo sapiens  male  not reported  not reported        -23718   \n",
       "\n",
       "        subject_associated_project vital_status age_at_death  cause_of_death  \\\n",
       "0       [Academia Sinica LUAD-100]         None         None            None   \n",
       "1       [Academia Sinica LUAD-100]         None         None            None   \n",
       "2       [Academia Sinica LUAD-100]         None         None            None   \n",
       "3       [Academia Sinica LUAD-100]         None         None            None   \n",
       "4       [Academia Sinica LUAD-100]         None         None            None   \n",
       "..                             ...          ...          ...             ...   \n",
       "2       [Academia Sinica LUAD-100]         None         None            None   \n",
       "3       [Academia Sinica LUAD-100]         None         None            None   \n",
       "4       [Academia Sinica LUAD-100]         None         None            None   \n",
       "5   [CPTAC3-Discovery, cptac_lscc]         Dead          832  Cancer Related   \n",
       "6   [CPTAC3-Discovery, cptac_lscc]        Alive         None            None   \n",
       "\n",
       "                                                Files  \\\n",
       "0   [d996e6de-4485-11ea-bf04-0ef15c86e253, 75ee36b...   \n",
       "1   [0da8630a-e8ca-4f20-acd5-6fc91ec27d65, bc2b104...   \n",
       "2   [2f87638f-4c9f-43ce-935b-df01e9d5161c, eaefecf...   \n",
       "3   [23527043-4fdb-4cc4-81b7-2b6d46c490b7, c563492...   \n",
       "4   [10bf0fb4-4495-11ea-bf04-0ef15c86e253, 257d9e8...   \n",
       "..                                                ...   \n",
       "2   [7ed2372d-3bcd-11ea-bf04-0ef15c86e253, 7e1f4b5...   \n",
       "3   [18de756b-4497-11ea-bf04-0ef15c86e253, 2cf854f...   \n",
       "4   [99cb0585-cbc6-4ed8-96dc-c2f8ec16fde2, 94d3918...   \n",
       "5   [da89d0ec-5af4-48fa-90ee-98279f34c5ff, 2bac942...   \n",
       "6   [e30c1120-7975-4965-93eb-cf90c9b79c9f, ba7aa01...   \n",
       "\n",
       "                                      ResearchSubject  \n",
       "0   [{'id': '24b3ab9d-8beb-11ea-b1fd-0aad30af8a83'...  \n",
       "1   [{'id': '24b3b0e7-8beb-11ea-b1fd-0aad30af8a83'...  \n",
       "2   [{'id': '24b3b47b-8beb-11ea-b1fd-0aad30af8a83'...  \n",
       "3   [{'id': '24b387fe-8beb-11ea-b1fd-0aad30af8a83'...  \n",
       "4   [{'id': '24b368d8-8beb-11ea-b1fd-0aad30af8a83'...  \n",
       "..                                                ...  \n",
       "2   [{'id': '24b35cd4-8beb-11ea-b1fd-0aad30af8a83'...  \n",
       "3   [{'id': '24b3c882-8beb-11ea-b1fd-0aad30af8a83'...  \n",
       "4   [{'id': '24b39432-8beb-11ea-b1fd-0aad30af8a83'...  \n",
       "5   [{'id': '1c63ed9b-d028-11ea-b1fd-0aad30af8a83'...  \n",
       "6   [{'id': '1c641c39-d028-11ea-b1fd-0aad30af8a83'...  \n",
       "\n",
       "[207 rows x 13 columns]"
      ]
     },
     "execution_count": 9,
     "metadata": {},
     "output_type": "execute_result"
    }
   ],
   "source": [
    "df"
   ]
  },
  {
   "cell_type": "code",
   "execution_count": 10,
   "id": "8b5d03bd",
   "metadata": {},
   "outputs": [
    {
     "ename": "NameError",
     "evalue": "name 'r' is not defined",
     "output_type": "error",
     "traceback": [
      "\u001b[0;31m---------------------------------------------------------------------------\u001b[0m",
      "\u001b[0;31mNameError\u001b[0m                                 Traceback (most recent call last)",
      "\u001b[0;32m/var/folders/rg/vnn75sf557bcqfnmm_gcxs2r0000gq/T/ipykernel_76451/2066313110.py\u001b[0m in \u001b[0;36m<module>\u001b[0;34m\u001b[0m\n\u001b[0;32m----> 1\u001b[0;31m \u001b[0mr\u001b[0m\u001b[0;34m.\u001b[0m\u001b[0mto_dataframe\u001b[0m\u001b[0;34m(\u001b[0m\u001b[0;34m)\u001b[0m\u001b[0;34m\u001b[0m\u001b[0;34m\u001b[0m\u001b[0m\n\u001b[0m",
      "\u001b[0;31mNameError\u001b[0m: name 'r' is not defined"
     ]
    }
   ],
   "source": [
    "r.to_dataframe()"
   ]
  },
  {
   "cell_type": "markdown",
   "id": "b699730b",
   "metadata": {},
   "source": [
    "### Query 2\n",
    "\n",
    "**Find data for donors with melanoma (Nevi and Melanomas) diagnosis and who were diagnosed before the age of 30.**"
   ]
  },
  {
   "cell_type": "code",
   "execution_count": null,
   "id": "fe6c9789",
   "metadata": {},
   "outputs": [],
   "source": [
    "q1 = Q('ResearchSubject.Specimen.primary_disease_type = \"Nevi and Melanomas\"')\n",
    "q2 = Q('ResearchSubject.Diagnosis.age_at_diagnosis < 30*365')\n",
    "\n",
    "q = q1.And(q2)\n",
    "r = q.run()\n",
    "\n",
    "print(r)"
   ]
  },
  {
   "cell_type": "markdown",
   "id": "86f047da",
   "metadata": {},
   "source": [
    "In addition, we can check how many records come from particular systems by adding one more condition to the query:"
   ]
  },
  {
   "cell_type": "code",
   "execution_count": null,
   "id": "b6d21e26",
   "metadata": {},
   "outputs": [],
   "source": [
    "q1 = Q('ResearchSubject.Specimen.primary_disease_type = \"Nevi and Melanomas\"')\n",
    "q2 = Q('ResearchSubject.Diagnosis.age_at_diagnosis < 30*365')\n",
    "q3 = Q('ResearchSubject.Specimen.identifier.system = \"GDC\"')\n",
    "\n",
    "q = q1.And(q2.And(q3))\n",
    "r = q.run()\n",
    "\n",
    "print(r)"
   ]
  },
  {
   "cell_type": "markdown",
   "id": "2b9688be",
   "metadata": {},
   "source": [
    "By comparing the ```Count``` value of the two results we can see that all the patients returned in the initial query are coming from the GDC.\n",
    "\n",
    "To explore the results further, we can fetch the patient JSON objects by iterating through the results:"
   ]
  },
  {
   "cell_type": "code",
   "execution_count": null,
   "id": "d56029b6",
   "metadata": {},
   "outputs": [],
   "source": [
    "projects = set()\n",
    "\n",
    "for patient in r:\n",
    "    research_subjects = patient['ResearchSubject']\n",
    "    for rs in research_subjects:\n",
    "        projects.add(rs['member_of_research_project'])\n",
    "\n",
    "print(projects)"
   ]
  },
  {
   "cell_type": "markdown",
   "id": "fa400f13",
   "metadata": {},
   "source": [
    "The output shows the projects where _Nevi and Melanomas_ cases appear."
   ]
  },
  {
   "cell_type": "markdown",
   "id": "9a2a4196",
   "metadata": {},
   "source": [
    "### Query 3\n",
    "\n",
    "**Identify all samples that meet the following conditions:**\n",
    "\n",
    "* **Sample is from primary tumor**\n",
    "* **Disease is ovarian or breast cancer**\n",
    "* **Subjects are females under the age of 60 years**"
   ]
  },
  {
   "cell_type": "code",
   "execution_count": null,
   "id": "c1b9c223",
   "metadata": {},
   "outputs": [],
   "source": [
    "tumor_type = Q('ResearchSubject.Specimen.source_material_type = \"Primary Tumor\"')\n",
    "disease1 = Q('ResearchSubject.primary_diagnosis_site = \"Ovary\"')\n",
    "disease2 = Q('ResearchSubject.primary_diagnosis_site = \"Breast\"')\n",
    "demographics1 = Q('sex = \"female\"')\n",
    "demographics2 = Q('days_to_birth > -60*365') # note that days_to_birth is a negative value\n",
    "\n",
    "q1 = tumor_type.And(demographics1.And(demographics2))\n",
    "q2 = disease1.Or(disease2)\n",
    "q = q1.And(q2)\n",
    "\n",
    "r = q.run()\n",
    "print(r)"
   ]
  },
  {
   "cell_type": "markdown",
   "id": "b3c461c9",
   "metadata": {},
   "source": [
    "In this case, we have a result that contains more than 1000 records which is the default page size. To load the next 1000 records, we can use the ```next_page()``` method:"
   ]
  },
  {
   "cell_type": "code",
   "execution_count": null,
   "id": "5311b00e",
   "metadata": {},
   "outputs": [],
   "source": [
    "r2 = r.next_page()"
   ]
  },
  {
   "cell_type": "code",
   "execution_count": null,
   "id": "db00c81e",
   "metadata": {},
   "outputs": [],
   "source": [
    "print(r2)"
   ]
  },
  {
   "cell_type": "markdown",
   "id": "4e5d887b",
   "metadata": {},
   "source": [
    "Alternatively, we can use the ```offset``` argument to specify the record to start from:\n",
    "\n",
    "```\n",
    "...\n",
    "r = q.run(offset=1000)\n",
    "print(r)\n",
    "```"
   ]
  },
  {
   "cell_type": "markdown",
   "id": "ee95df21",
   "metadata": {},
   "source": [
    "### Query 4\n",
    "\n",
    "**Find data for donors with \"Ovarian Serous Cystadenocarcinoma\" with proteomic and genomic data.**"
   ]
  },
  {
   "cell_type": "markdown",
   "id": "bb34dd14",
   "metadata": {},
   "source": [
    "**Note that disease type value denoting the same disease groups can be completely different within different systems. This is where CDA features come into play.** We first start by exploring the values available for this particular field in both systems."
   ]
  },
  {
   "cell_type": "code",
   "execution_count": null,
   "id": "44178304",
   "metadata": {},
   "outputs": [],
   "source": [
    "unique_terms('ResearchSubject.primary_diagnosis_condition', system=\"GDC\")"
   ]
  },
  {
   "cell_type": "markdown",
   "id": "6b4fb5ba",
   "metadata": {},
   "source": [
    "Since “Ovarian Serous Cystadenocarcinoma” doesn’t appear in GDC values we decide to look into the PDC:"
   ]
  },
  {
   "cell_type": "code",
   "execution_count": null,
   "id": "ae1afcbc",
   "metadata": {},
   "outputs": [],
   "source": [
    "unique_terms('ResearchSubject.primary_diagnosis_condition', system=\"PDC\")"
   ]
  },
  {
   "cell_type": "markdown",
   "id": "b5a060ff",
   "metadata": {},
   "source": [
    "After examining the output, we see that it does come from the PDC. Hence, if we could first identify the data that has research subjects found within the PDC that have this particular disease type, and then further narrow down the results to include only the portion of the data that is present in GDC, we could get the records that we are looking for."
   ]
  },
  {
   "cell_type": "code",
   "execution_count": null,
   "id": "c14fb138",
   "metadata": {},
   "outputs": [],
   "source": [
    "q1 = Q('ResearchSubject.primary_diagnosis_condition = \"Ovarian Serous Cystadenocarcinoma\"')\n",
    "q2 = Q('ResearchSubject.identifier.system = \"PDC\"')\n",
    "q3 = Q('ResearchSubject.identifier.system = \"GDC\"')\n",
    "\n",
    "q = q3.From(q1.And(q2))\n",
    "r = q.run()\n",
    "\n",
    "print(r)"
   ]
  },
  {
   "cell_type": "markdown",
   "id": "836586ad",
   "metadata": {},
   "source": [
    "As you can see, this is achieved by utilizing ```From``` operator. The ```From``` operator allows us to create queries from results of other queries. This is particularly useful when working with conditions that involve a single field which can take multiple different values for different items in a list that is being part of, e.g. we need ```ResearchSubject.identifier.system``` to be both “PDC” and “GDC” for a single patient. In such cases, ```And``` operator can’t help because it will return those entries where the field takes both values, which is zero entries."
   ]
  },
  {
   "cell_type": "code",
   "execution_count": null,
   "id": "a74b89e3",
   "metadata": {},
   "outputs": [],
   "source": [
    "for i in Q.sql(\"SELECT * FROM `gdc-bq-sample.cda_mvp.INFORMATION_SCHEMA.COLUMN_FIELD_PATHS` WHERE table_name = 'v3' Limit 5\"):\n",
    "    print(i)"
   ]
  },
  {
   "cell_type": "code",
   "execution_count": null,
   "id": "18853b66",
   "metadata": {},
   "outputs": [],
   "source": [
    "q1 = query('ResearchSubject.identifier.system = \"GDC\" FROM ResearchSubject.primary_diagnosis_condition = \"Ovarian Serous Cystadenocarcinoma\" AND ResearchSubject.identifier.system = \"PDC\"')\n",
    "result = q1.run(async_call=True)\n",
    "print(result)\n"
   ]
  },
  {
   "cell_type": "markdown",
   "id": "1214151e",
   "metadata": {},
   "source": [
    "## Data extraction and release information"
   ]
  },
  {
   "cell_type": "code",
   "execution_count": null,
   "id": "c167f32b",
   "metadata": {},
   "outputs": [],
   "source": [
    "# If you are interested in the extraction dates or data release versions of GDC, PDC, or IDC that is in a table or view, execute this code\n",
    "\n",
    "for i in Q.sql(\"SELECT option_value FROM `gdc-bq-sample.integration.INFORMATION_SCHEMA.TABLE_OPTIONS` WHERE table_name = 'all_v1'\"):\n",
    "    print(i)"
   ]
  }
 ],
 "metadata": {
  "interpreter": {
   "hash": "5c867d1980d5b66d2bfc8a5903dcee074b4b68f3917a4f27f8a310cab24e9f1b"
  },
  "kernelspec": {
   "display_name": "Python 3 (ipykernel)",
   "language": "python",
   "name": "python3"
  },
  "language_info": {
   "codemirror_mode": {
    "name": "ipython",
    "version": 3
   },
   "file_extension": ".py",
   "mimetype": "text/x-python",
   "name": "python",
   "nbconvert_exporter": "python",
   "pygments_lexer": "ipython3",
   "version": "3.7.13"
  },
  "metadata": {
   "interpreter": {
    "hash": "5c867d1980d5b66d2bfc8a5903dcee074b4b68f3917a4f27f8a310cab24e9f1b"
   }
  }
 },
 "nbformat": 4,
 "nbformat_minor": 5
}
