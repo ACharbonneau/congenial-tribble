{
 "cells": [
  {
   "cell_type": "code",
   "execution_count": 1,
   "id": "4dfe82df",
   "metadata": {},
   "outputs": [
    {
     "data": {
      "text/html": [
       "<script>\n",
       "code_show=true; \n",
       "function code_toggle() {\n",
       "  if (code_show) {\n",
       "    $('div.input').each(function(id) {\n",
       "      el = $(this).find('.cm-variable:first');\n",
       "      if (id == 0 || el.text() == 'hide_me') {\n",
       "        $(this).hide();\n",
       "      }\n",
       "    });\n",
       "    $('div.output_prompt').css('opacity', 0);\n",
       "  } else {\n",
       "    $('div.input').each(function(id) {\n",
       "      $(this).show();\n",
       "    });\n",
       "    $('div.output_prompt').css('opacity', 1);\n",
       "  }\n",
       "  code_show = !code_show\n",
       "} \n",
       "$( document ).ready(code_toggle);\n",
       "</script>\n",
       "<form action=\"javascript:code_toggle()\"><input style=\"opacity:0\" type=\"submit\" value=\"Click here to toggle on/off the raw code.\"></form>"
      ],
      "text/plain": [
       "<IPython.core.display.HTML object>"
      ]
     },
     "execution_count": 1,
     "metadata": {},
     "output_type": "execute_result"
    }
   ],
   "source": [
    "# This is a cell to hide code snippets from displaying\n",
    "# This must be at first cell!\n",
    "\n",
    "from IPython.display import HTML\n",
    "\n",
    "hide_me = ''\n",
    "HTML('''<script>\n",
    "code_show=true; \n",
    "function code_toggle() {\n",
    "  if (code_show) {\n",
    "    $('div.input').each(function(id) {\n",
    "      el = $(this).find('.cm-variable:first');\n",
    "      if (id == 0 || el.text() == 'hide_me') {\n",
    "        $(this).hide();\n",
    "      }\n",
    "    });\n",
    "    $('div.output_prompt').css('opacity', 0);\n",
    "  } else {\n",
    "    $('div.input').each(function(id) {\n",
    "      $(this).show();\n",
    "    });\n",
    "    $('div.output_prompt').css('opacity', 1);\n",
    "  }\n",
    "  code_show = !code_show\n",
    "} \n",
    "$( document ).ready(code_toggle);\n",
    "</script>\n",
    "<form action=\"javascript:code_toggle()\"><input style=\"opacity:0\" type=\"submit\" value=\"Click here to toggle on/off the raw code.\"></form>''')"
   ]
  },
  {
   "cell_type": "code",
   "execution_count": 2,
   "id": "6ab0656c",
   "metadata": {
    "direction": "rtl",
    "slideshow": {
     "slide_type": "-"
    }
   },
   "outputs": [],
   "source": [
    "hide_me\n",
    "\n",
    "from IPython.display import HTML\n",
    "\n",
    "HTML('''<script> $('div .input').hide()''')\n",
    "## Add this to the first block in your note book\n",
    "import uuid\n",
    "from IPython.core.display import display, HTML\n",
    "\n",
    "import json\n",
    "\n",
    "class RenderJSON(object):\n",
    "    def __init__(self, json_data):\n",
    "        if isinstance(json_data, dict):\n",
    "            self.json_str = json.dumps(json_data)\n",
    "        else:\n",
    "            self.json_str = json_data\n",
    "        self.uuid = str(uuid.uuid4())\n",
    "        # This line is missed out in most of the versions of this script across the web, it is essential for this to work interleaved with print statements\n",
    "        self._ipython_display_()\n",
    "        \n",
    "    def _ipython_display_(self):\n",
    "        display(HTML('<div id=\"{}\" style=\"height: auto; width:100%;\"></div>'.format(self.uuid)))\n",
    "        display(HTML(\"\"\"<script>\n",
    "        require([\"https://rawgit.com/caldwell/renderjson/master/renderjson.js\"], function() {\n",
    "          renderjson.set_show_to_level(1)\n",
    "          document.getElementById('%s').appendChild(renderjson(%s))\n",
    "        });</script>\n",
    "        \"\"\" % (self.uuid, self.json_str)))\n",
    "\n",
    "# Since this is copy-pasted wrongly(mostly) at a lot of places across the web, i'm putting the fixed, updated version here, mainly for self-reference\n",
    "\n",
    "\n"
   ]
  },
  {
   "cell_type": "markdown",
   "id": "ea7343e4",
   "metadata": {},
   "source": [
    "## Dataset schema"
   ]
  },
  {
   "cell_type": "code",
   "execution_count": 3,
   "id": "e3d6aed1",
   "metadata": {},
   "outputs": [
    {
     "data": {
      "text/html": [
       "<div id=\"14352d65-8496-481e-91c9-0610e14df1ca\" style=\"height: auto; width:100%;\"></div>"
      ],
      "text/plain": [
       "<IPython.core.display.HTML object>"
      ]
     },
     "metadata": {},
     "output_type": "display_data"
    },
    {
     "data": {
      "text/html": [
       "<script>\n",
       "        require([\"https://rawgit.com/caldwell/renderjson/master/renderjson.js\"], function() {\n",
       "          renderjson.set_show_to_level(1)\n",
       "          document.getElementById('14352d65-8496-481e-91c9-0610e14df1ca').appendChild(renderjson({\"$id\": \"https://example.org/cda-data-model/Dataset#\", \"$schema\": \"http://json-schema.org/draft-07/schema#\", \"description\": \"An extension of DCAT:Dataset to support Data Use Ontology terms.  A collection of one or more entities submitted by a single responsible party or authorizing agent.\", \"definitions\": {}, \"additionalProperties\": true, \"properties\": {\"describedBy\": {\"description\": \"The URL reference to the JSON Schema that defines this object.\", \"type\": \"string\"}, \"id\": {\"description\": \"The 'logical' identifier of the entity in the repository, e.g. a UUID.  This 'id' is unique within a given system. The identified entity may have a different 'id' in a different system.\", \"type\": \"string\"}, \"identifier\": {\"description\": \"A 'business' identifier for the entity, typically as provided by an external system or authority, that persists across implementing systems  (i.e. a  'logical' identifier). Uses a specialized, complex 'Identifier' data type to capture information about the source of the business identifier. \", \"items\": {\"$ref\": \"https://example.org/cda-data-model/definitions/Identifier\"}}, \"conformsTo\": {\"description\": \"An established standard to which the described resource conforms; for CDA, https://github.com/CancerDataAggregator/cda-data-model. Maps to dcat:conformsTo.\", \"type\": \"string\"}, \"data_use_limitation\": {\"description\": \"Ontology reference to DUO\", \"$ref\": \"https://example.org/cda-data-model/definitions/ExternalReference\"}, \"data_use_restriction\": {\"description\": \"Ontology reference to DUO\", \"$ref\": \"https://example.org/cda-data-model/definitions/ExternalReference\"}, \"label\": {\"description\": \"Short name or abbreviation for dataset. Maps to rdfs:label.\", \"type\": \"string\"}, \"license\": {\"description\": \"A legal document or data use agreement under which the resource is made available. Maps to dct:license.\", \"type\": \"string\"}, \"dct_title\": {\"description\": \"Official project name. Maps to dct:title.\", \"type\": \"string\"}, \"wasGeneratedBy\": {\"description\": \"The project(s) responsible for generating this dataset.  These should be references to the projects, UUID preferably. Maps to prov:wasGeneratedBy.\", \"type\": \"array\", \"items\": {\"type\": \"string\"}}}, \"required\": [\"id\", \"describedBy\", \"label\", \"data_use_limitation\"], \"title\": \"Dataset\", \"type\": \"object\"}))\n",
       "        });</script>\n",
       "        "
      ],
      "text/plain": [
       "<IPython.core.display.HTML object>"
      ]
     },
     "metadata": {},
     "output_type": "display_data"
    },
    {
     "data": {
      "text/html": [
       "<div id=\"14352d65-8496-481e-91c9-0610e14df1ca\" style=\"height: auto; width:100%;\"></div>"
      ],
      "text/plain": [
       "<IPython.core.display.HTML object>"
      ]
     },
     "metadata": {},
     "output_type": "display_data"
    },
    {
     "data": {
      "text/html": [
       "<script>\n",
       "        require([\"https://rawgit.com/caldwell/renderjson/master/renderjson.js\"], function() {\n",
       "          renderjson.set_show_to_level(1)\n",
       "          document.getElementById('14352d65-8496-481e-91c9-0610e14df1ca').appendChild(renderjson({\"$id\": \"https://example.org/cda-data-model/Dataset#\", \"$schema\": \"http://json-schema.org/draft-07/schema#\", \"description\": \"An extension of DCAT:Dataset to support Data Use Ontology terms.  A collection of one or more entities submitted by a single responsible party or authorizing agent.\", \"definitions\": {}, \"additionalProperties\": true, \"properties\": {\"describedBy\": {\"description\": \"The URL reference to the JSON Schema that defines this object.\", \"type\": \"string\"}, \"id\": {\"description\": \"The 'logical' identifier of the entity in the repository, e.g. a UUID.  This 'id' is unique within a given system. The identified entity may have a different 'id' in a different system.\", \"type\": \"string\"}, \"identifier\": {\"description\": \"A 'business' identifier for the entity, typically as provided by an external system or authority, that persists across implementing systems  (i.e. a  'logical' identifier). Uses a specialized, complex 'Identifier' data type to capture information about the source of the business identifier. \", \"items\": {\"$ref\": \"https://example.org/cda-data-model/definitions/Identifier\"}}, \"conformsTo\": {\"description\": \"An established standard to which the described resource conforms; for CDA, https://github.com/CancerDataAggregator/cda-data-model. Maps to dcat:conformsTo.\", \"type\": \"string\"}, \"data_use_limitation\": {\"description\": \"Ontology reference to DUO\", \"$ref\": \"https://example.org/cda-data-model/definitions/ExternalReference\"}, \"data_use_restriction\": {\"description\": \"Ontology reference to DUO\", \"$ref\": \"https://example.org/cda-data-model/definitions/ExternalReference\"}, \"label\": {\"description\": \"Short name or abbreviation for dataset. Maps to rdfs:label.\", \"type\": \"string\"}, \"license\": {\"description\": \"A legal document or data use agreement under which the resource is made available. Maps to dct:license.\", \"type\": \"string\"}, \"dct_title\": {\"description\": \"Official project name. Maps to dct:title.\", \"type\": \"string\"}, \"wasGeneratedBy\": {\"description\": \"The project(s) responsible for generating this dataset.  These should be references to the projects, UUID preferably. Maps to prov:wasGeneratedBy.\", \"type\": \"array\", \"items\": {\"type\": \"string\"}}}, \"required\": [\"id\", \"describedBy\", \"label\", \"data_use_limitation\"], \"title\": \"Dataset\", \"type\": \"object\"}))\n",
       "        });</script>\n",
       "        "
      ],
      "text/plain": [
       "<IPython.core.display.HTML object>"
      ]
     },
     "metadata": {},
     "output_type": "display_data"
    }
   ],
   "source": [
    "hide_me\n",
    "# read file\n",
    "with open('Dataset.json', 'r') as myfile:\n",
    "    data=myfile.read()\n",
    "\n",
    "# parse file\n",
    "obj = json.loads(data)\n",
    "## To use this function, call this, this now works even when you have a print statement before or after the RenderJSON call\n",
    "RenderJSON(obj)"
   ]
  },
  {
   "cell_type": "code",
   "execution_count": null,
   "id": "d84ba6ed",
   "metadata": {},
   "outputs": [],
   "source": []
  }
 ],
 "metadata": {
  "kernelspec": {
   "display_name": "Python 3 (ipykernel)",
   "language": "python",
   "name": "python3"
  },
  "language_info": {
   "codemirror_mode": {
    "name": "ipython",
    "version": 3
   },
   "file_extension": ".py",
   "mimetype": "text/x-python",
   "name": "python",
   "nbconvert_exporter": "python",
   "pygments_lexer": "ipython3",
   "version": "3.7.13"
  }
 },
 "nbformat": 4,
 "nbformat_minor": 5
}
