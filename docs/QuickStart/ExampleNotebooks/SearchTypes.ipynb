{
 "cells": [
  {
   "cell_type": "markdown",
   "id": "3c341e94",
   "metadata": {},
   "source": [
    "# How to search\n",
    "---"
   ]
  },
  {
   "cell_type": "markdown",
   "id": "a8387f59",
   "metadata": {},
   "source": [
    "Before we do any work, we need to import several functions from cdapython:\n",
    "- `Q` and `query` which power the search\n",
    "- `columns` which lets us view entity field names\n",
    "- `unique_terms` which lets view entity field contents\n",
    "\n",
    "We're also asking cdapython to report it's version so we can be sure we're using the one we mean to."
   ]
  },
  {
   "cell_type": "code",
   "execution_count": 2,
   "id": "28a10e23",
   "metadata": {},
   "outputs": [
    {
     "name": "stdout",
     "output_type": "stream",
     "text": [
      "2022.4.13\n"
     ]
    }
   ],
   "source": [
    "from cdapython import Q, columns, unique_terms, query\n",
    "import cdapython\n",
    "print(cdapython.__version__)\n",
    "Q.set_host_url(\"http://35.192.60.10:8080/\")"
   ]
  },
  {
   "cell_type": "markdown",
   "id": "0810c61c",
   "metadata": {},
   "source": [
    "\n",
    "The CDA provides a custom python tool for searching CDA data. [`Q`](usage/#q) (short for Query) offers several ways to search and filter data, and several input modes:\n",
    "\n",
    "- [Q.counts()](../../../Documentation/usage/#qcounts) returns summary information (counts) for the specified search\n",
    "- [Q.run()](../../../Documentation/usage/#qrun) returns data for the specified search\n",
    "- [Q.sql()](../../../Documentation/usage/#qsql) allows you to use SQL syntax instead of Q syntax\n",
    "- [query()](../../../Documentation/usage/#query) allows you to use a more natural language syntax of Q\n",
    "\n"
   ]
  },
  {
   "cell_type": "markdown",
   "id": "bd8084b3",
   "metadata": {},
   "source": [
    "## Retreiving summary information\n",
    "\n",
    "Let's demonstrate search with a relatively simple question: We're interested how well represented hispanic and/or latino populations are in CDA resources and would like to know what data is available from these subjects. To run this simple search, we would first construct a query in `Q` and save it to a variable `myquery`:"
   ]
  },
  {
   "cell_type": "code",
   "execution_count": 8,
   "id": "d804f764",
   "metadata": {
    "scrolled": false
   },
   "outputs": [],
   "source": [
    "myquery = Q('Subject.ethnicity = \"hispanic or latino\"')"
   ]
  },
  {
   "cell_type": "markdown",
   "id": "8d38a80f",
   "metadata": {},
   "source": [
    "If you aren't sure how we knew what terms to put in our search, please refer back to the [What search terms are available?](../SearchTerms) notebook. \n",
    "\n",
    "Since we are looking for summary information, we want to use this query in `Q.counts`. We do this by running `.counts()` on the query we just saved, and saving the result to a new variable `mycounts`:"
   ]
  },
  {
   "cell_type": "code",
   "execution_count": 23,
   "id": "a2c7c398",
   "metadata": {},
   "outputs": [],
   "source": [
    "mycounts = myquery.counts()"
   ]
  },
  {
   "cell_type": "markdown",
   "id": "6f38fbcc",
   "metadata": {},
   "source": [
    "Since all we're doing is saving information in variables, we don't get any visible output. To see what our results are, we need to look into the variable. The simplest way is to call `mycounts` directly:"
   ]
  },
  {
   "cell_type": "code",
   "execution_count": 15,
   "id": "1b197aca",
   "metadata": {
    "scrolled": true
   },
   "outputs": [
    {
     "data": {
      "text/plain": [
       "\n",
       "            QueryID: 9f33298e-7f4c-4599-b098-6a7826d83e4a\n",
       "            \n",
       "            Offset: 0\n",
       "            Count: 3\n",
       "            Total Row Count: 3\n",
       "            More pages: False\n",
       "            "
      ]
     },
     "execution_count": 15,
     "metadata": {},
     "output_type": "execute_result"
    }
   ],
   "source": [
    "mycounts"
   ]
  },
  {
   "cell_type": "markdown",
   "id": "82138e7c",
   "metadata": {},
   "source": [
    "This output tells us our QueryID, which we don't really need, but the computer does to track our questions. Then it tells us four parameters that describe our results:\n",
    "\n",
    "- `Offset:` This is how many rows of information we've told the query to skip in the data, here we didn't tell it to skip anything, so the offset is zero\n",
    "- `Count:` This is how many rows the current page of our results table has. To keep searches fast, we default to pages with 100 rows.\n",
    "- `Total Row Count:` This is how many rows are in the full results table\n",
    "- `More pages:` This is alwasys a True or False. False means that our current page has all the availble results. True means that we will see only the first 100 results in this table, and will need to page through for more.\n",
    "\n",
    "Now that we've seen the metadata about our results, let's look at the actual table. The easiest way to do this is by using the python function `.to_dataframe()` on our `mycounts` variable:"
   ]
  },
  {
   "cell_type": "code",
   "execution_count": 27,
   "id": "50b76cef",
   "metadata": {},
   "outputs": [
    {
     "data": {
      "text/html": [
       "<div>\n",
       "<style scoped>\n",
       "    .dataframe tbody tr th:only-of-type {\n",
       "        vertical-align: middle;\n",
       "    }\n",
       "\n",
       "    .dataframe tbody tr th {\n",
       "        vertical-align: top;\n",
       "    }\n",
       "\n",
       "    .dataframe thead th {\n",
       "        text-align: right;\n",
       "    }\n",
       "</style>\n",
       "<table border=\"1\" class=\"dataframe\">\n",
       "  <thead>\n",
       "    <tr style=\"text-align: right;\">\n",
       "      <th></th>\n",
       "      <th>system</th>\n",
       "      <th>subject_count</th>\n",
       "      <th>subject_files_count</th>\n",
       "      <th>researchsubject_count</th>\n",
       "      <th>researchsubject_files_count</th>\n",
       "      <th>specimen_count</th>\n",
       "      <th>specimen_files_count</th>\n",
       "    </tr>\n",
       "  </thead>\n",
       "  <tbody>\n",
       "    <tr>\n",
       "      <th>0</th>\n",
       "      <td>IDC</td>\n",
       "      <td>371</td>\n",
       "      <td>86776</td>\n",
       "      <td>0</td>\n",
       "      <td>0</td>\n",
       "      <td>0</td>\n",
       "      <td>0</td>\n",
       "    </tr>\n",
       "    <tr>\n",
       "      <th>1</th>\n",
       "      <td>PDC</td>\n",
       "      <td>57</td>\n",
       "      <td>9401</td>\n",
       "      <td>444</td>\n",
       "      <td>9401</td>\n",
       "      <td>1033</td>\n",
       "      <td>9232</td>\n",
       "    </tr>\n",
       "    <tr>\n",
       "      <th>2</th>\n",
       "      <td>GDC</td>\n",
       "      <td>3118</td>\n",
       "      <td>32866</td>\n",
       "      <td>19158</td>\n",
       "      <td>32866</td>\n",
       "      <td>20598</td>\n",
       "      <td>30995</td>\n",
       "    </tr>\n",
       "  </tbody>\n",
       "</table>\n",
       "</div>"
      ],
      "text/plain": [
       "  system subject_count subject_files_count researchsubject_count  \\\n",
       "0    IDC           371               86776                     0   \n",
       "1    PDC            57                9401                   444   \n",
       "2    GDC          3118               32866                 19158   \n",
       "\n",
       "  researchsubject_files_count specimen_count specimen_files_count  \n",
       "0                           0              0                    0  \n",
       "1                        9401           1033                 9232  \n",
       "2                       32866          20598                30995  "
      ]
     },
     "execution_count": 27,
     "metadata": {},
     "output_type": "execute_result"
    }
   ],
   "source": [
    "mycounts.to_dataframe()"
   ]
  },
  {
   "cell_type": "markdown",
   "id": "7f0e13c6",
   "metadata": {},
   "source": [
    "What do these numbers mean?\n",
    "\n",
    "- **system:** Which data source contributed this data? The CDA currently has data from IDC, PDC and GDC\n",
    "- **subject_count:** How many unique individuals meet our query. Note that *within* a data source the number is of *unique* individuals, but the same individuals can have data at multiple centers. Here, there are 371 unique people in the IDC data, however up to 57 of those may be exactly the same people as are in the PDC data.\n",
    "- **subject_files_count:** This tells you roughly how much data is available. It is the total count of files for all the subjects in `subject_count`, which is also the total number of files that match your search.\n",
    "- **researchsubject_count:** Some data sources have individual subjects that are in multiple studies, when this happens the individual will have both a \"subject\" identifier and a \"researchsubject\" identifier. This column counts the latter. Zero in this column can mean either \"there are no research_subjects that meet your search criteria\" or \"the data source for this row does not create special identifiers for subjects in multiple studies\"\n",
    "- **researchsubject_files_count:** This is the total count of files specific to researchsubjects in `researchsubject_count`. It is a subset of `subject_count`\n",
    "- **specimen_count:** Some data sources track whether files come from specific specimens from a given individual. This column counts the number of specimens that meet your search criteria. Zero in this column can mean either \"there are no specimens that meet your search criteria\" or \"the data source for this row does not track specimens seperately from subjects\"\n",
    "- **specimen_files_count:** This is the total count of files specific to specimens in `specimen_count`. It is a subset of both `subject_count` and `researchsubject_files_count`"
   ]
  },
  {
   "cell_type": "code",
   "execution_count": 24,
   "id": "a7c094ec",
   "metadata": {},
   "outputs": [
    {
     "data": {
      "text/html": [
       "<div>\n",
       "<style scoped>\n",
       "    .dataframe tbody tr th:only-of-type {\n",
       "        vertical-align: middle;\n",
       "    }\n",
       "\n",
       "    .dataframe tbody tr th {\n",
       "        vertical-align: top;\n",
       "    }\n",
       "\n",
       "    .dataframe thead th {\n",
       "        text-align: right;\n",
       "    }\n",
       "</style>\n",
       "<table border=\"1\" class=\"dataframe\">\n",
       "  <thead>\n",
       "    <tr style=\"text-align: right;\">\n",
       "      <th></th>\n",
       "      <th>system</th>\n",
       "      <th>subject_count</th>\n",
       "      <th>subject_files_count</th>\n",
       "      <th>researchsubject_count</th>\n",
       "      <th>researchsubject_files_count</th>\n",
       "      <th>specimen_count</th>\n",
       "      <th>specimen_files_count</th>\n",
       "    </tr>\n",
       "  </thead>\n",
       "  <tbody>\n",
       "    <tr>\n",
       "      <th>0</th>\n",
       "      <td>IDC</td>\n",
       "      <td>371</td>\n",
       "      <td>86776</td>\n",
       "      <td>0</td>\n",
       "      <td>0</td>\n",
       "      <td>0</td>\n",
       "      <td>0</td>\n",
       "    </tr>\n",
       "    <tr>\n",
       "      <th>1</th>\n",
       "      <td>PDC</td>\n",
       "      <td>57</td>\n",
       "      <td>9401</td>\n",
       "      <td>444</td>\n",
       "      <td>9401</td>\n",
       "      <td>1033</td>\n",
       "      <td>9232</td>\n",
       "    </tr>\n",
       "    <tr>\n",
       "      <th>2</th>\n",
       "      <td>GDC</td>\n",
       "      <td>3118</td>\n",
       "      <td>32866</td>\n",
       "      <td>19158</td>\n",
       "      <td>32866</td>\n",
       "      <td>20598</td>\n",
       "      <td>30995</td>\n",
       "    </tr>\n",
       "  </tbody>\n",
       "</table>\n",
       "</div>"
      ],
      "text/plain": [
       "  system subject_count subject_files_count researchsubject_count  \\\n",
       "0    IDC           371               86776                     0   \n",
       "1    PDC            57                9401                   444   \n",
       "2    GDC          3118               32866                 19158   \n",
       "\n",
       "  researchsubject_files_count specimen_count specimen_files_count  \n",
       "0                           0              0                    0  \n",
       "1                        9401           1033                 9232  \n",
       "2                       32866          20598                30995  "
      ]
     },
     "execution_count": 24,
     "metadata": {},
     "output_type": "execute_result"
    }
   ],
   "source": [
    "Q('Subject.ethnicity = \"hispanic or latino\"').counts().to_dataframe()"
   ]
  },
  {
   "cell_type": "code",
   "execution_count": 27,
   "id": "f1b5184a",
   "metadata": {
    "scrolled": true
   },
   "outputs": [
    {
     "data": {
      "text/plain": [
       "['00016c8f-a0be-4319-9c42-4f3bcd90ac92',\n",
       " '00021f80-e72d-4c18-9e36-7959060e1fe1',\n",
       " '00026454-8225-4395-b536-4ad5be713214',\n",
       " '0002f311-f263-4816-95f5-f78cc78f0c45',\n",
       " '00039740-17c1-4430-a112-59bf0614a963',\n",
       " '00041061-3fe2-417a-a333-23cf87a2f06e',\n",
       " '00048fa6-4318-42ef-9709-7dedb0d938b3',\n",
       " '0004bacb-64f9-4823-a962-618c3dafec65',\n",
       " '0004d251-3f70-4395-b175-c94c2f5b1b81',\n",
       " '000520f2-c081-4757-8f5c-0fbffee47a62',\n",
       " '00061f34-c891-4f9c-b8d6-3ca68b98c875',\n",
       " '0006b1fa-5db8-4737-9396-10284b5d8979',\n",
       " '000724d7-bb0c-4b21-91bf-7599399ff7b3',\n",
       " '00077417-fddb-4193-89ef-34dec0c75305',\n",
       " '00078589-2a72-403c-b300-dbaa4afc7c00',\n",
       " '0008bdfb-24a3-50fa-b112-89966d6ca423',\n",
       " '00090b9f-40c5-42b4-9687-430db52f7b36',\n",
       " '0009e11b-8c3c-464a-a379-c28d8e66d0ea',\n",
       " '000aa4f6-473f-4cc1-9392-ab8872019fe7',\n",
       " '000abfa8-e8ec-4222-8a57-1d00bafcadac',\n",
       " '000bddf2-20df-4322-8bd0-67e1959b786d',\n",
       " '000c3acf-e915-4c5f-bbc3-13031797024c',\n",
       " '000c783d-5333-4b33-89ee-6d6f97e608ce',\n",
       " '000d566c-96c7-4f1c-b36e-fa2222467983',\n",
       " '000da8b9-7511-4097-ae68-2c0f0cfe6f85',\n",
       " '000e0a5a-82fc-45a2-ab70-b1dcead463a7',\n",
       " '000e753e-5425-5b6b-af54-2ebe31da991e',\n",
       " '000ead0d-abf5-4606-be04-1ea31b999840',\n",
       " '000fbfb0-2926-4a70-9ec0-34b08565ec0c',\n",
       " '00111411-b454-431a-9f5d-1e8920654f44',\n",
       " '00115367-8271-47b9-a987-fa1c59a7bd65',\n",
       " '0011a67b-1ba9-4a32-a6b8-7850759a38cf',\n",
       " '00123f13-3207-49ef-bae1-8db490e62fdd',\n",
       " '001266bd-9497-483f-ba5d-34ff435298be',\n",
       " '0012e4c4-bb57-5a72-b923-44d031b1a705',\n",
       " '001330ea-4dca-47ba-bc21-c2e202bb8285',\n",
       " '0014362c-6687-4462-b8a2-8a0002823f7a',\n",
       " '0014c2a8-850a-4305-a0d0-8a08b815a641',\n",
       " '0015dee6-1ae6-4521-8349-5e0d2a98a147',\n",
       " '00175e25-27c8-4bce-a928-1f206788a307',\n",
       " '001887aa-36d0-463f-8bca-dec7043b4f2e',\n",
       " '0018eb15-9839-44d4-b8ce-5f9c2aaf3f32',\n",
       " '001921d6-24ee-49ae-a955-4ac91f25d62e',\n",
       " '001944e5-af34-4061-9c09-bb9ea346f6fd',\n",
       " '0019de7e-70b2-431c-98da-2ecda0408a8f',\n",
       " '001a7296-c2eb-4ed1-b036-baa9d7f0535c',\n",
       " '001ad307-4ad3-4f1d-b2fc-efc032871c7e',\n",
       " '001c294c-5ae8-55cd-bf07-88112e9b117b',\n",
       " '001cef41-ff86-4d3f-a140-a647ac4b10a1',\n",
       " '001dd9c6-87b1-4374-8af8-9c689e2e510a',\n",
       " '001e0309-9c50-42b0-9e38-347883ee2cd3',\n",
       " '001e8d94-7884-4320-80f4-dbbac349394b',\n",
       " '001e9cbc-ccbc-4d29-a397-6cddd5591b1a',\n",
       " '001ead6f-5c8c-4633-8ab4-a8be22f9143e',\n",
       " '001ed912-0693-40e6-a7db-41f48e4552ea',\n",
       " '001f43ba-72d3-40e7-99bd-8aaafb585227',\n",
       " '001ffbe4-4358-4540-b419-8e505591241f',\n",
       " '0020317d-d10e-4e75-8fa6-7c1bdcdee471',\n",
       " '002135ba-68aa-439a-9bad-820f253ae4f0',\n",
       " '0022478c-4dfd-4cbe-a05e-fb20310844e3',\n",
       " '0022eb2e-2edc-45c2-afb3-d230a13128c9',\n",
       " '0023a509-4a67-4010-bedd-cb6a02f2d7c7',\n",
       " '002461cf-fba5-4a44-94d8-e22a678a7d6a',\n",
       " '0024ab57-4036-4b0f-b7a1-040f97787022',\n",
       " '0024c94c-88ff-49d9-8dc4-bf77f832d85e',\n",
       " '0024d70d-1cd2-42b1-a9a9-ea1695e56909',\n",
       " '0024fb45-37a5-4c82-8fd5-9af10da13cb5',\n",
       " '00250220-0213-5515-8314-0655a232e267',\n",
       " '0025178c-2fd5-4e57-9299-6fc17208a069',\n",
       " '002630ec-b5c3-478a-a5e0-05f3d2f7eb12',\n",
       " '0026bcdc-0a87-50fc-852f-c3072465537c',\n",
       " '002724fa-7051-49fa-9c58-4bcb7eba4ac6',\n",
       " '00277787-f83e-4b9c-9b54-3f9e5e137e75',\n",
       " '00285851-cfee-48da-ab83-cc363e1fac57',\n",
       " '0028c1ac-8987-418e-a5e6-1eeaa682b2cf',\n",
       " '0029fb5b-f1ef-4900-b96e-aff6b082000b',\n",
       " '002a7402-41e4-4551-80e4-9ba56e935f53',\n",
       " '002c5901-b202-4465-86b6-7def589c8936',\n",
       " '002cdb51-32c0-40be-b92f-60961f091bdf',\n",
       " '002db2e5-d0b4-49de-b2af-f8aeb4995770',\n",
       " '002db7de-f238-47b9-8b65-24058f85c7f3',\n",
       " '002de8be-4e22-4a0d-8af3-fabe7045ab97',\n",
       " '002ebdfa-8e58-4e61-8ede-1eb835f5cc62',\n",
       " '002ece36-6b6f-42cd-8d1d-3f8ebf9733a7',\n",
       " '0030a28c-81aa-44b0-8be0-b35e1dcbf98c',\n",
       " '0032110f-585d-4471-b3ae-4fe31937c135',\n",
       " '0032ee9b-937a-471e-99d7-728d0789c4dc',\n",
       " '00337987-100c-48f1-8659-0b74a1a6ea17',\n",
       " '00338a40-25c1-41f1-92cf-4fe95a733a45',\n",
       " '003419de-6351-4d48-9332-4b55bffa0df0',\n",
       " '00344c5e-5abf-42ca-8e58-8fe29321de0b',\n",
       " '0034b1f6-728a-49f7-9db6-89b7fc175a3f',\n",
       " '0035649e-8fbd-49d0-a464-850d5e064f2d',\n",
       " '0035b612-8955-4da5-a35d-bced5b32cbec',\n",
       " '0037b591-9e33-4d59-90e2-96000f67f0ea',\n",
       " '0037ffbe-cc5b-4068-84c4-89e6d1b85496',\n",
       " '0038a2b9-2fd4-4091-a198-fe83533c9dc4',\n",
       " '00397ce0-a931-46dd-9407-c1c6a14c39f1',\n",
       " '0039a5be-06ba-43f5-939e-b780e955bc52',\n",
       " '003a2aa8-ceb2-44cd-ba56-76f0f45368cc']"
      ]
     },
     "execution_count": 27,
     "metadata": {},
     "output_type": "execute_result"
    }
   ],
   "source": [
    "unique_terms('ResearchSubject.id', files=True)"
   ]
  },
  {
   "cell_type": "markdown",
   "id": "1059dc45",
   "metadata": {},
   "source": [
    "Additionally, you can specify a particular data provider by using the ```system``` argument:"
   ]
  },
  {
   "cell_type": "code",
   "execution_count": null,
   "id": "1e2a38a9",
   "metadata": {
    "scrolled": true
   },
   "outputs": [],
   "source": [
    "unique_terms(\"ResearchSubject.Specimen.source_material_type\", system=\"PDC\")"
   ]
  },
  {
   "cell_type": "markdown",
   "id": "82271bce",
   "metadata": {},
   "source": [
    "## Basic querying\n",
    "\n",
    "We can start by getting the record for ```id = TCGA-E2-A10A``` that we mentioned earlier:"
   ]
  },
  {
   "cell_type": "markdown",
   "id": "32c93763",
   "metadata": {},
   "source": [
    "We see that we've got a single subject record as a result, which is what we expect.\n",
    "\n",
    "Let's see how the result looks like:"
   ]
  },
  {
   "cell_type": "code",
   "execution_count": null,
   "id": "b2a2a922",
   "metadata": {
    "scrolled": true
   },
   "outputs": [],
   "source": [
    "q = Q('id = \"TCGA-E2-A10A\"') # note the double quotes for the string value\n",
    "\n",
    "r = q.run()\n",
    "\n",
    "r"
   ]
  },
  {
   "cell_type": "code",
   "execution_count": null,
   "id": "3d8acea7",
   "metadata": {},
   "outputs": [],
   "source": [
    "stage = Q('ResearchSubject.Diagnosis.stage = \"Stage IV\"')\n",
    "r = stage.run()\n",
    "print(r)"
   ]
  },
  {
   "cell_type": "code",
   "execution_count": null,
   "id": "5a824aa5",
   "metadata": {},
   "outputs": [],
   "source": [
    "r.to_dataframe()\n"
   ]
  },
  {
   "cell_type": "code",
   "execution_count": null,
   "id": "7dc1a977",
   "metadata": {},
   "outputs": [],
   "source": [
    "q = Q('Subject.id = \"TCGA-E2-A10A\"') # note the double quotes for the string value\n",
    "\n",
    "r = q.counts(table=\"gdc-bq-sample.dev\", version=\"all_v3_0_Files\")\n",
    "\n",
    "r"
   ]
  },
  {
   "cell_type": "code",
   "execution_count": null,
   "id": "efed764d",
   "metadata": {},
   "outputs": [],
   "source": [
    "r.to_dataframe()\n"
   ]
  },
  {
   "cell_type": "markdown",
   "id": "40c5946d",
   "metadata": {},
   "source": [
    "The record is pretty large, so we'll print out ```identifier``` values for each ```ResearchSubject``` to confirm that we have one ```ResearchSubject``` that comes from GDC, and one that comes from PDC:"
   ]
  },
  {
   "cell_type": "code",
   "execution_count": null,
   "id": "35139d10",
   "metadata": {},
   "outputs": [],
   "source": [
    "for research_subject in r['system']:\n",
    "    print(research_subject['system'])"
   ]
  },
  {
   "cell_type": "markdown",
   "id": "46b75e65",
   "metadata": {},
   "source": [
    "The values represent ```ResearchSubject``` IDs and are equivalent to ```case_id``` values in data nodes."
   ]
  },
  {
   "cell_type": "markdown",
   "id": "40bcdcd2",
   "metadata": {},
   "source": [
    "## Example queries"
   ]
  },
  {
   "cell_type": "markdown",
   "id": "f2749c48",
   "metadata": {},
   "source": [
    "Now that we can create a query with ```Q()``` function, let's see how we can combine multiple conditions.\n",
    "\n",
    "There are three operators available:\n",
    "* ```And()```\n",
    "* ```Or()```\n",
    "* ```From()```\n",
    "\n",
    "The following examples show how those operators work in practice."
   ]
  },
  {
   "cell_type": "markdown",
   "id": "7d6110ca",
   "metadata": {},
   "source": [
    "### Query 1\n",
    "\n",
    "**Find data for subjects who were diagnosed after the age of 50 and who were investigated as part of the TCGA-OV project.**"
   ]
  },
  {
   "cell_type": "code",
   "execution_count": null,
   "id": "7f6ed866",
   "metadata": {},
   "outputs": [],
   "source": [
    "q1 = Q('sex = \"male\"')\n",
    "q2 = Q('identifier.system = \"GDC\"')\n",
    "q3 = Q('identifier.system = \"PDC\"')\n",
    "\n",
    "r2 = q1.And(q2)\n",
    "r3 = q1.And(q3)\n",
    "\n",
    "#taco = r2.run()\n",
    "#taco\n",
    "\n",
    "burrito = r3.run()\n"
   ]
  },
  {
   "cell_type": "code",
   "execution_count": null,
   "id": "09383046",
   "metadata": {},
   "outputs": [],
   "source": [
    "burrito"
   ]
  },
  {
   "cell_type": "raw",
   "id": "36f72ef8",
   "metadata": {},
   "source": []
  },
  {
   "cell_type": "code",
   "execution_count": null,
   "id": "f5739a0b",
   "metadata": {},
   "outputs": [],
   "source": [
    "q1 = Q('sex = \"male\"')\n",
    "\n",
    "taco = q1.run()\n",
    "taco"
   ]
  },
  {
   "cell_type": "code",
   "execution_count": null,
   "id": "387c3bdf",
   "metadata": {},
   "outputs": [],
   "source": [
    "from pandas import DataFrame,concat\n",
    "q = query('ResearchSubject.primary_diagnosis_condition LIKE \"Lung%\" AND sex = \"male\"').run()\n",
    "print(q)\n",
    "df = DataFrame()\n",
    "for i in q.paginator(to_df=True):\n",
    "    print(len(i))\n",
    "    df = concat([df,i])"
   ]
  },
  {
   "cell_type": "code",
   "execution_count": null,
   "id": "a04c69bf",
   "metadata": {
    "scrolled": true
   },
   "outputs": [],
   "source": [
    "df"
   ]
  },
  {
   "cell_type": "code",
   "execution_count": null,
   "id": "8b5d03bd",
   "metadata": {},
   "outputs": [],
   "source": [
    "r.to_dataframe()"
   ]
  },
  {
   "cell_type": "markdown",
   "id": "b699730b",
   "metadata": {},
   "source": [
    "### Query 2\n",
    "\n",
    "**Find data for donors with melanoma (Nevi and Melanomas) diagnosis and who were diagnosed before the age of 30.**"
   ]
  },
  {
   "cell_type": "code",
   "execution_count": null,
   "id": "fe6c9789",
   "metadata": {},
   "outputs": [],
   "source": [
    "q1 = Q('ResearchSubject.Specimen.primary_disease_type = \"Nevi and Melanomas\"')\n",
    "q2 = Q('ResearchSubject.Diagnosis.age_at_diagnosis < 30*365')\n",
    "\n",
    "q = q1.And(q2)\n",
    "r = q.run()\n",
    "\n",
    "print(r)"
   ]
  },
  {
   "cell_type": "markdown",
   "id": "86f047da",
   "metadata": {},
   "source": [
    "In addition, we can check how many records come from particular systems by adding one more condition to the query:"
   ]
  },
  {
   "cell_type": "code",
   "execution_count": null,
   "id": "b6d21e26",
   "metadata": {},
   "outputs": [],
   "source": [
    "q1 = Q('ResearchSubject.Specimen.primary_disease_type = \"Nevi and Melanomas\"')\n",
    "q2 = Q('ResearchSubject.Diagnosis.age_at_diagnosis < 30*365')\n",
    "q3 = Q('ResearchSubject.Specimen.identifier.system = \"GDC\"')\n",
    "\n",
    "q = q1.And(q2.And(q3))\n",
    "r = q.run()\n",
    "\n",
    "print(r)"
   ]
  },
  {
   "cell_type": "markdown",
   "id": "2b9688be",
   "metadata": {},
   "source": [
    "By comparing the ```Count``` value of the two results we can see that all the patients returned in the initial query are coming from the GDC.\n",
    "\n",
    "To explore the results further, we can fetch the patient JSON objects by iterating through the results:"
   ]
  },
  {
   "cell_type": "code",
   "execution_count": null,
   "id": "d56029b6",
   "metadata": {},
   "outputs": [],
   "source": [
    "projects = set()\n",
    "\n",
    "for patient in r:\n",
    "    research_subjects = patient['ResearchSubject']\n",
    "    for rs in research_subjects:\n",
    "        projects.add(rs['member_of_research_project'])\n",
    "\n",
    "print(projects)"
   ]
  },
  {
   "cell_type": "markdown",
   "id": "fa400f13",
   "metadata": {},
   "source": [
    "The output shows the projects where _Nevi and Melanomas_ cases appear."
   ]
  },
  {
   "cell_type": "markdown",
   "id": "9a2a4196",
   "metadata": {},
   "source": [
    "### Query 3\n",
    "\n",
    "**Identify all samples that meet the following conditions:**\n",
    "\n",
    "* **Sample is from primary tumor**\n",
    "* **Disease is ovarian or breast cancer**\n",
    "* **Subjects are females under the age of 60 years**"
   ]
  },
  {
   "cell_type": "code",
   "execution_count": null,
   "id": "c1b9c223",
   "metadata": {},
   "outputs": [],
   "source": [
    "tumor_type = Q('ResearchSubject.Specimen.source_material_type = \"Primary Tumor\"')\n",
    "disease1 = Q('ResearchSubject.primary_diagnosis_site = \"Ovary\"')\n",
    "disease2 = Q('ResearchSubject.primary_diagnosis_site = \"Breast\"')\n",
    "demographics1 = Q('sex = \"female\"')\n",
    "demographics2 = Q('days_to_birth > -60*365') # note that days_to_birth is a negative value\n",
    "\n",
    "q1 = tumor_type.And(demographics1.And(demographics2))\n",
    "q2 = disease1.Or(disease2)\n",
    "q = q1.And(q2)\n",
    "\n",
    "r = q.run()\n",
    "print(r)"
   ]
  },
  {
   "cell_type": "markdown",
   "id": "b3c461c9",
   "metadata": {},
   "source": [
    "In this case, we have a result that contains more than 1000 records which is the default page size. To load the next 1000 records, we can use the ```next_page()``` method:"
   ]
  },
  {
   "cell_type": "code",
   "execution_count": null,
   "id": "5311b00e",
   "metadata": {},
   "outputs": [],
   "source": [
    "r2 = r.next_page()"
   ]
  },
  {
   "cell_type": "code",
   "execution_count": null,
   "id": "db00c81e",
   "metadata": {},
   "outputs": [],
   "source": [
    "print(r2)"
   ]
  },
  {
   "cell_type": "markdown",
   "id": "4e5d887b",
   "metadata": {},
   "source": [
    "Alternatively, we can use the ```offset``` argument to specify the record to start from:\n",
    "\n",
    "```\n",
    "...\n",
    "r = q.run(offset=1000)\n",
    "print(r)\n",
    "```"
   ]
  },
  {
   "cell_type": "markdown",
   "id": "ee95df21",
   "metadata": {},
   "source": [
    "### Query 4\n",
    "\n",
    "**Find data for donors with \"Ovarian Serous Cystadenocarcinoma\" with proteomic and genomic data.**"
   ]
  },
  {
   "cell_type": "markdown",
   "id": "bb34dd14",
   "metadata": {},
   "source": [
    "**Note that disease type value denoting the same disease groups can be completely different within different systems. This is where CDA features come into play.** We first start by exploring the values available for this particular field in both systems."
   ]
  },
  {
   "cell_type": "code",
   "execution_count": null,
   "id": "44178304",
   "metadata": {},
   "outputs": [],
   "source": [
    "unique_terms('ResearchSubject.primary_diagnosis_condition', system=\"GDC\")"
   ]
  },
  {
   "cell_type": "markdown",
   "id": "6b4fb5ba",
   "metadata": {},
   "source": [
    "Since “Ovarian Serous Cystadenocarcinoma” doesn’t appear in GDC values we decide to look into the PDC:"
   ]
  },
  {
   "cell_type": "code",
   "execution_count": null,
   "id": "ae1afcbc",
   "metadata": {},
   "outputs": [],
   "source": [
    "unique_terms('ResearchSubject.primary_diagnosis_condition', system=\"PDC\")"
   ]
  },
  {
   "cell_type": "markdown",
   "id": "b5a060ff",
   "metadata": {},
   "source": [
    "After examining the output, we see that it does come from the PDC. Hence, if we could first identify the data that has research subjects found within the PDC that have this particular disease type, and then further narrow down the results to include only the portion of the data that is present in GDC, we could get the records that we are looking for."
   ]
  },
  {
   "cell_type": "code",
   "execution_count": null,
   "id": "c14fb138",
   "metadata": {},
   "outputs": [],
   "source": [
    "q1 = Q('ResearchSubject.primary_diagnosis_condition = \"Ovarian Serous Cystadenocarcinoma\"')\n",
    "q2 = Q('ResearchSubject.identifier.system = \"PDC\"')\n",
    "q3 = Q('ResearchSubject.identifier.system = \"GDC\"')\n",
    "\n",
    "q = q3.From(q1.And(q2))\n",
    "r = q.run()\n",
    "\n",
    "print(r)"
   ]
  },
  {
   "cell_type": "markdown",
   "id": "836586ad",
   "metadata": {},
   "source": [
    "As you can see, this is achieved by utilizing ```From``` operator. The ```From``` operator allows us to create queries from results of other queries. This is particularly useful when working with conditions that involve a single field which can take multiple different values for different items in a list that is being part of, e.g. we need ```ResearchSubject.identifier.system``` to be both “PDC” and “GDC” for a single patient. In such cases, ```And``` operator can’t help because it will return those entries where the field takes both values, which is zero entries."
   ]
  },
  {
   "cell_type": "code",
   "execution_count": 4,
   "id": "a74b89e3",
   "metadata": {},
   "outputs": [
    {
     "name": "stdout",
     "output_type": "stream",
     "text": [
      "(400)\n",
      "Reason: \n",
      "HTTP response headers: HTTPHeaderDict({'Content-Type': 'application/json', 'Transfer-Encoding': 'chunked', 'Date': 'Tue, 19 Apr 2022 19:10:13 GMT', 'Connection': 'close'})\n",
      "HTTP response body: {\"message\":\"Unable to find schema for that version.\",\"statusCode\":400,\"causes\":[\"Unable to find schema for that version.\"]}\n",
      "\n"
     ]
    },
    {
     "ename": "TypeError",
     "evalue": "'NoneType' object is not iterable",
     "output_type": "error",
     "traceback": [
      "\u001b[0;31m---------------------------------------------------------------------------\u001b[0m",
      "\u001b[0;31mTypeError\u001b[0m                                 Traceback (most recent call last)",
      "\u001b[0;32m/var/folders/rg/vnn75sf557bcqfnmm_gcxs2r0000gq/T/ipykernel_38177/4290096646.py\u001b[0m in \u001b[0;36m<module>\u001b[0;34m\u001b[0m\n\u001b[0;32m----> 1\u001b[0;31m \u001b[0;32mfor\u001b[0m \u001b[0mi\u001b[0m \u001b[0;32min\u001b[0m \u001b[0mQ\u001b[0m\u001b[0;34m.\u001b[0m\u001b[0msql\u001b[0m\u001b[0;34m(\u001b[0m\u001b[0;34m\"SELECT * FROM `gdc-bq-sample.cda_mvp.INFORMATION_SCHEMA.COLUMN_FIELD_PATHS` WHERE table_name = 'v3' Limit 5\"\u001b[0m\u001b[0;34m)\u001b[0m\u001b[0;34m:\u001b[0m\u001b[0;34m\u001b[0m\u001b[0;34m\u001b[0m\u001b[0m\n\u001b[0m\u001b[1;32m      2\u001b[0m     \u001b[0mprint\u001b[0m\u001b[0;34m(\u001b[0m\u001b[0mi\u001b[0m\u001b[0;34m)\u001b[0m\u001b[0;34m\u001b[0m\u001b[0;34m\u001b[0m\u001b[0m\n",
      "\u001b[0;31mTypeError\u001b[0m: 'NoneType' object is not iterable"
     ]
    }
   ],
   "source": [
    "for i in Q.sql(\"SELECT * FROM `gdc-bq-sample.cda_mvp.INFORMATION_SCHEMA.COLUMN_FIELD_PATHS` WHERE table_name = 'v3' Limit 5\"):\n",
    "    print(i)"
   ]
  },
  {
   "cell_type": "code",
   "execution_count": null,
   "id": "18853b66",
   "metadata": {},
   "outputs": [],
   "source": [
    "q1 = query('ResearchSubject.identifier.system = \"GDC\" FROM ResearchSubject.primary_diagnosis_condition = \"Ovarian Serous Cystadenocarcinoma\" AND ResearchSubject.identifier.system = \"PDC\"')\n",
    "result = q1.run(async_call=True)\n",
    "print(result)\n"
   ]
  },
  {
   "cell_type": "markdown",
   "id": "1214151e",
   "metadata": {},
   "source": [
    "## Data extraction and release information"
   ]
  },
  {
   "cell_type": "code",
   "execution_count": null,
   "id": "c167f32b",
   "metadata": {},
   "outputs": [],
   "source": [
    "# If you are interested in the extraction dates or data release versions of GDC, PDC, or IDC that is in a table or view, execute this code\n",
    "\n",
    "for i in Q.sql(\"SELECT option_value FROM `gdc-bq-sample.integration.INFORMATION_SCHEMA.TABLE_OPTIONS` WHERE table_name = 'all_v1'\"):\n",
    "    print(i)"
   ]
  }
 ],
 "metadata": {
  "interpreter": {
   "hash": "5c867d1980d5b66d2bfc8a5903dcee074b4b68f3917a4f27f8a310cab24e9f1b"
  },
  "kernelspec": {
   "display_name": "Python 3 (ipykernel)",
   "language": "python",
   "name": "python3"
  },
  "language_info": {
   "codemirror_mode": {
    "name": "ipython",
    "version": 3
   },
   "file_extension": ".py",
   "mimetype": "text/x-python",
   "name": "python",
   "nbconvert_exporter": "python",
   "pygments_lexer": "ipython3",
   "version": "3.7.13"
  },
  "metadata": {
   "interpreter": {
    "hash": "5c867d1980d5b66d2bfc8a5903dcee074b4b68f3917a4f27f8a310cab24e9f1b"
   }
  }
 },
 "nbformat": 4,
 "nbformat_minor": 5
}
