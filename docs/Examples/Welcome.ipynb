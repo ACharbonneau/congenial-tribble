{
 "cells": [
  {
   "cell_type": "markdown",
   "id": "ed8451aa",
   "metadata": {},
   "source": [
    "# Welcome to the CDA example notebook set. \n",
    "\n",
    "Below you will find links to open the interactive versions of all of our example notebooks, or you can browse them by clicking the folder icon on the left.\n",
    "\n",
    "## How to use these notebooks\n",
    "\n",
    "ipython notebooks let you intersperse code with text, and run bits of code one at a time, in any order. MyBinder is a service that makes you a small personal cloud computer when you click the launch button.\n",
    "\n",
    "If you want to run a notebook as is, choose a notebook, then either press the play button at the top of the panel, or use the keyboard shortcut command + enter (control + enter on windows) to execute each command.\n",
    "\n",
    "If you want to use these notebooks as a starting place for your own search, you can safely change any parameters. Since this is a small cloud computer, if the instance breaks, or you can't get the code back to working again, you can always close this browser tab and click the `launchbinder` button again to get a new, clean version. \n",
    "\n",
    "<div style=\"background-color:#f9cfbf;color:#000000;padding:20px;\">\n",
    "<strong>Save your changes locally!</strong>\n",
    "Any changes you make to the code here will disappear as soon as you close this window. If you have used this binder instance to do your own searches, remember to download the changed ipython notebook(s) to your local computer before you close. You can always upload your changed notebooks to a new MyBinder instance next time you work on it. \n",
    "</div>"
   ]
  },
  {
   "cell_type": "markdown",
   "id": "2d70eb5e",
   "metadata": {},
   "source": [
    "## Notebook Quicklinks\n",
    "\n",
    "- [Available Search Terms](./SearchTerms.ipynb): Shows how to find out what you can search\n",
    "- [Basic Search](./BasicSearch.ipynb): Demonstrates the basic search functions\n",
    "- [Search Summaries](./DataSummaries.ipynb): How to return summary statistics instead of raw search results\n",
    "- [Search Operators](./AdvancedSearch-Operators.ipynb): How to combine many search terms to get specific results\n",
    "- [Endpoint chaining](./AdvancedSearch-Chaining.ipynb): How to narrow your search to files only from a specific endpoint\n",
    "- [Building a cohort](./BuildingACohort.ipynb): An end-to-end walkthrough for how to find, filter, merge and save data to build a cohort."
   ]
  }
 ],
 "metadata": {
  "kernelspec": {
   "display_name": "Python 3 (ipykernel)",
   "language": "python",
   "name": "python3"
  },
  "language_info": {
   "codemirror_mode": {
    "name": "ipython",
    "version": 3
   },
   "file_extension": ".py",
   "mimetype": "text/x-python",
   "name": "python",
   "nbconvert_exporter": "python",
   "pygments_lexer": "ipython3",
   "version": "3.7.13"
  }
 },
 "nbformat": 4,
 "nbformat_minor": 5
}
