{
 "cells": [
  {
   "cell_type": "code",
   "execution_count": 1,
   "id": "b0415469",
   "metadata": {},
   "outputs": [
    {
     "name": "stdout",
     "output_type": "stream",
     "text": [
      "2022.6.9\n"
     ]
    }
   ],
   "source": [
    "from cdapython import Q, columns, unique_terms, query\n",
    "import cdapython\n",
    "print(cdapython.__version__)\n",
    "Q.set_host_url(\"http://35.192.60.10:8080/\")"
   ]
  },
  {
   "cell_type": "code",
   "execution_count": 2,
   "id": "aa2b36cf",
   "metadata": {},
   "outputs": [],
   "source": [
    "myquery = Q('ResearchSubject.primary_diagnosis_site = \"%uter%\"')"
   ]
  },
  {
   "cell_type": "code",
   "execution_count": 3,
   "id": "9b0ba45b",
   "metadata": {},
   "outputs": [
    {
     "data": {
      "text/html": [
       "<pre style=\"white-space:pre;overflow-x:auto;line-height:normal;font-family:Menlo,'DejaVu Sans Mono',consolas,'Courier New',monospace\">Getting results from database\n",
       "\n",
       "</pre>\n"
      ],
      "text/plain": [
       "Getting results from database\n",
       "\n"
      ]
     },
     "metadata": {},
     "output_type": "display_data"
    },
    {
     "name": "stdout",
     "output_type": "stream",
     "text": [
      "Total execution time: 3301 ms\n"
     ]
    },
    {
     "data": {
      "text/html": [
       "<pre style=\"white-space:pre;overflow-x:auto;line-height:normal;font-family:Menlo,'DejaVu Sans Mono',consolas,'Courier New',monospace\">    total : <span style=\"color: #008080; text-decoration-color: #008080; font-weight: bold\">4560</span>    \n",
       "</pre>\n"
      ],
      "text/plain": [
       "    total : \u001b[1;36m4560\u001b[0m    \n"
      ]
     },
     "metadata": {},
     "output_type": "display_data"
    },
    {
     "name": "stdout",
     "output_type": "stream",
     "text": [
      "    total : 4560    \n"
     ]
    },
    {
     "data": {
      "text/html": [
       "<pre style=\"white-space:pre;overflow-x:auto;line-height:normal;font-family:Menlo,'DejaVu Sans Mono',consolas,'Courier New',monospace\">\n",
       "</pre>\n"
      ],
      "text/plain": [
       "\n"
      ]
     },
     "metadata": {},
     "output_type": "display_data"
    },
    {
     "data": {
      "text/html": [
       "<pre style=\"white-space:pre;overflow-x:auto;line-height:normal;font-family:Menlo,'DejaVu Sans Mono',consolas,'Courier New',monospace\">   files : <span style=\"color: #008080; text-decoration-color: #008080; font-weight: bold\">302149</span>   \n",
       "</pre>\n"
      ],
      "text/plain": [
       "   files : \u001b[1;36m302149\u001b[0m   \n"
      ]
     },
     "metadata": {},
     "output_type": "display_data"
    },
    {
     "name": "stdout",
     "output_type": "stream",
     "text": [
      "   files : 302149   \n"
     ]
    },
    {
     "data": {
      "text/html": [
       "<pre style=\"white-space:pre;overflow-x:auto;line-height:normal;font-family:Menlo,'DejaVu Sans Mono',consolas,'Courier New',monospace\">\n",
       "</pre>\n"
      ],
      "text/plain": [
       "\n"
      ]
     },
     "metadata": {},
     "output_type": "display_data"
    },
    {
     "data": {
      "text/html": [
       "<pre style=\"white-space:pre;overflow-x:auto;line-height:normal;font-family:Menlo,'DejaVu Sans Mono',consolas,'Courier New',monospace\"><span style=\"font-style: italic\">      system      </span>\n",
       "┏━━━━━━━━┳━━━━━━━┓\n",
       "┃<span style=\"font-weight: bold\"> system </span>┃<span style=\"font-weight: bold\"> count </span>┃\n",
       "┡━━━━━━━━╇━━━━━━━┩\n",
       "│ GDC    │ 3589  │\n",
       "│ PDC    │ 104   │\n",
       "│ IDC    │ 867   │\n",
       "└────────┴───────┘\n",
       "</pre>\n"
      ],
      "text/plain": [
       "\u001b[3m      system      \u001b[0m\n",
       "┏━━━━━━━━┳━━━━━━━┓\n",
       "┃\u001b[1m \u001b[0m\u001b[1msystem\u001b[0m\u001b[1m \u001b[0m┃\u001b[1m \u001b[0m\u001b[1mcount\u001b[0m\u001b[1m \u001b[0m┃\n",
       "┡━━━━━━━━╇━━━━━━━┩\n",
       "│ GDC    │ 3589  │\n",
       "│ PDC    │ 104   │\n",
       "│ IDC    │ 867   │\n",
       "└────────┴───────┘\n"
      ]
     },
     "metadata": {},
     "output_type": "display_data"
    },
    {
     "data": {
      "text/html": [
       "<pre style=\"white-space:pre;overflow-x:auto;line-height:normal;font-family:Menlo,'DejaVu Sans Mono',consolas,'Courier New',monospace\"><span style=\"font-style: italic\">           primary_diagnosis_condition           </span>\n",
       "┏━━━━━━━━━━━━━━━━━━━━━━━━━━━━━━━━━━━━━━━┳━━━━━━━┓\n",
       "┃<span style=\"font-weight: bold\"> primary_diagnosis_condition           </span>┃<span style=\"font-weight: bold\"> count </span>┃\n",
       "┡━━━━━━━━━━━━━━━━━━━━━━━━━━━━━━━━━━━━━━━╇━━━━━━━┩\n",
       "│ Squamous Cell Neoplasms               │ 609   │\n",
       "│ Uterine Corpus Endometrial Carcinoma  │ 104   │\n",
       "│ Adenomas and Adenocarcinomas          │ 1671  │\n",
       "│ Cystic, Mucinous and Serous Neoplasms │ 487   │\n",
       "│ Complex Mixed and Stromal Neoplasms   │ 320   │\n",
       "│ null                                  │ 868   │\n",
       "│ Myomatous Neoplasms                   │ 187   │\n",
       "│ Epithelial Neoplasms, NOS             │ 230   │\n",
       "│ Trophoblastic neoplasms               │ 13    │\n",
       "│ Mesonephromas                         │ 5     │\n",
       "│ Soft Tissue Tumors and Sarcomas, NOS  │ 14    │\n",
       "│ Neoplasms, NOS                        │ 12    │\n",
       "│ Not Reported                          │ 12    │\n",
       "│ Complex Epithelial Neoplasms          │ 27    │\n",
       "│ Neuroepitheliomatous Neoplasms        │ 1     │\n",
       "└───────────────────────────────────────┴───────┘\n",
       "</pre>\n"
      ],
      "text/plain": [
       "\u001b[3m           primary_diagnosis_condition           \u001b[0m\n",
       "┏━━━━━━━━━━━━━━━━━━━━━━━━━━━━━━━━━━━━━━━┳━━━━━━━┓\n",
       "┃\u001b[1m \u001b[0m\u001b[1mprimary_diagnosis_condition          \u001b[0m\u001b[1m \u001b[0m┃\u001b[1m \u001b[0m\u001b[1mcount\u001b[0m\u001b[1m \u001b[0m┃\n",
       "┡━━━━━━━━━━━━━━━━━━━━━━━━━━━━━━━━━━━━━━━╇━━━━━━━┩\n",
       "│ Squamous Cell Neoplasms               │ 609   │\n",
       "│ Uterine Corpus Endometrial Carcinoma  │ 104   │\n",
       "│ Adenomas and Adenocarcinomas          │ 1671  │\n",
       "│ Cystic, Mucinous and Serous Neoplasms │ 487   │\n",
       "│ Complex Mixed and Stromal Neoplasms   │ 320   │\n",
       "│ null                                  │ 868   │\n",
       "│ Myomatous Neoplasms                   │ 187   │\n",
       "│ Epithelial Neoplasms, NOS             │ 230   │\n",
       "│ Trophoblastic neoplasms               │ 13    │\n",
       "│ Mesonephromas                         │ 5     │\n",
       "│ Soft Tissue Tumors and Sarcomas, NOS  │ 14    │\n",
       "│ Neoplasms, NOS                        │ 12    │\n",
       "│ Not Reported                          │ 12    │\n",
       "│ Complex Epithelial Neoplasms          │ 27    │\n",
       "│ Neuroepitheliomatous Neoplasms        │ 1     │\n",
       "└───────────────────────────────────────┴───────┘\n"
      ]
     },
     "metadata": {},
     "output_type": "display_data"
    },
    {
     "data": {
      "text/html": [
       "<pre style=\"white-space:pre;overflow-x:auto;line-height:normal;font-family:Menlo,'DejaVu Sans Mono',consolas,'Courier New',monospace\"><span style=\"font-style: italic\">      primary_diagnosis_site      </span>\n",
       "┏━━━━━━━━━━━━━━━━━━━━━━━━┳━━━━━━━┓\n",
       "┃<span style=\"font-weight: bold\"> primary_diagnosis_site </span>┃<span style=\"font-weight: bold\"> count </span>┃\n",
       "┡━━━━━━━━━━━━━━━━━━━━━━━━╇━━━━━━━┩\n",
       "│ Corpus uteri           │ 780   │\n",
       "│ Cervix uteri           │ 915   │\n",
       "│ Uterus, NOS            │ 1998  │\n",
       "│ Uterus                 │ 867   │\n",
       "└────────────────────────┴───────┘\n",
       "</pre>\n"
      ],
      "text/plain": [
       "\u001b[3m      primary_diagnosis_site      \u001b[0m\n",
       "┏━━━━━━━━━━━━━━━━━━━━━━━━┳━━━━━━━┓\n",
       "┃\u001b[1m \u001b[0m\u001b[1mprimary_diagnosis_site\u001b[0m\u001b[1m \u001b[0m┃\u001b[1m \u001b[0m\u001b[1mcount\u001b[0m\u001b[1m \u001b[0m┃\n",
       "┡━━━━━━━━━━━━━━━━━━━━━━━━╇━━━━━━━┩\n",
       "│ Corpus uteri           │ 780   │\n",
       "│ Cervix uteri           │ 915   │\n",
       "│ Uterus, NOS            │ 1998  │\n",
       "│ Uterus                 │ 867   │\n",
       "└────────────────────────┴───────┘\n"
      ]
     },
     "metadata": {},
     "output_type": "display_data"
    },
    {
     "data": {
      "text/html": [
       "<style type=\"text/css\">\n",
       "#T_e4f5f_ th {\n",
       "  background-color: #000066;\n",
       "  color: white;\n",
       "  text-align: left;\n",
       "}\n",
       "#T_e4f5f_ td {\n",
       "  text-align: left;\n",
       "  border-bottom: 1px solid black;\n",
       "}\n",
       "</style>\n",
       "<table id=\"T_e4f5f_\" style='display:inline'>\n",
       "  <thead>\n",
       "    <tr>\n",
       "      <th class=\"col_heading level0 col0\" >system</th>\n",
       "      <th class=\"col_heading level0 col1\" >count</th>\n",
       "    </tr>\n",
       "  </thead>\n",
       "  <tbody>\n",
       "    <tr>\n",
       "      <td id=\"T_e4f5f_row0_col0\" class=\"data row0 col0\" >GDC</td>\n",
       "      <td id=\"T_e4f5f_row0_col1\" class=\"data row0 col1\" >3589</td>\n",
       "    </tr>\n",
       "    <tr>\n",
       "      <td id=\"T_e4f5f_row1_col0\" class=\"data row1 col0\" >PDC</td>\n",
       "      <td id=\"T_e4f5f_row1_col1\" class=\"data row1 col1\" >104</td>\n",
       "    </tr>\n",
       "    <tr>\n",
       "      <td id=\"T_e4f5f_row2_col0\" class=\"data row2 col0\" >IDC</td>\n",
       "      <td id=\"T_e4f5f_row2_col1\" class=\"data row2 col1\" >867</td>\n",
       "    </tr>\n",
       "  </tbody>\n",
       "</table>\n",
       "<style type=\"text/css\">\n",
       "#T_1c23f_ th {\n",
       "  background-color: #000066;\n",
       "  color: white;\n",
       "  text-align: left;\n",
       "}\n",
       "#T_1c23f_ td {\n",
       "  text-align: left;\n",
       "  border-bottom: 1px solid black;\n",
       "}\n",
       "</style>\n",
       "<table id=\"T_1c23f_\" style='display:inline'>\n",
       "  <thead>\n",
       "    <tr>\n",
       "      <th class=\"col_heading level0 col0\" >primary_diagnosis_condition</th>\n",
       "      <th class=\"col_heading level0 col1\" >count</th>\n",
       "    </tr>\n",
       "  </thead>\n",
       "  <tbody>\n",
       "    <tr>\n",
       "      <td id=\"T_1c23f_row0_col0\" class=\"data row0 col0\" >Squamous Cell Neoplasms</td>\n",
       "      <td id=\"T_1c23f_row0_col1\" class=\"data row0 col1\" >609</td>\n",
       "    </tr>\n",
       "    <tr>\n",
       "      <td id=\"T_1c23f_row1_col0\" class=\"data row1 col0\" >Uterine Corpus Endometrial Carcinoma</td>\n",
       "      <td id=\"T_1c23f_row1_col1\" class=\"data row1 col1\" >104</td>\n",
       "    </tr>\n",
       "    <tr>\n",
       "      <td id=\"T_1c23f_row2_col0\" class=\"data row2 col0\" >Adenomas and Adenocarcinomas</td>\n",
       "      <td id=\"T_1c23f_row2_col1\" class=\"data row2 col1\" >1671</td>\n",
       "    </tr>\n",
       "    <tr>\n",
       "      <td id=\"T_1c23f_row3_col0\" class=\"data row3 col0\" >Cystic, Mucinous and Serous Neoplasms</td>\n",
       "      <td id=\"T_1c23f_row3_col1\" class=\"data row3 col1\" >487</td>\n",
       "    </tr>\n",
       "    <tr>\n",
       "      <td id=\"T_1c23f_row4_col0\" class=\"data row4 col0\" >Complex Mixed and Stromal Neoplasms</td>\n",
       "      <td id=\"T_1c23f_row4_col1\" class=\"data row4 col1\" >320</td>\n",
       "    </tr>\n",
       "    <tr>\n",
       "      <td id=\"T_1c23f_row5_col0\" class=\"data row5 col0\" >None</td>\n",
       "      <td id=\"T_1c23f_row5_col1\" class=\"data row5 col1\" >868</td>\n",
       "    </tr>\n",
       "    <tr>\n",
       "      <td id=\"T_1c23f_row6_col0\" class=\"data row6 col0\" >Myomatous Neoplasms</td>\n",
       "      <td id=\"T_1c23f_row6_col1\" class=\"data row6 col1\" >187</td>\n",
       "    </tr>\n",
       "    <tr>\n",
       "      <td id=\"T_1c23f_row7_col0\" class=\"data row7 col0\" >Epithelial Neoplasms, NOS</td>\n",
       "      <td id=\"T_1c23f_row7_col1\" class=\"data row7 col1\" >230</td>\n",
       "    </tr>\n",
       "    <tr>\n",
       "      <td id=\"T_1c23f_row8_col0\" class=\"data row8 col0\" >Trophoblastic neoplasms</td>\n",
       "      <td id=\"T_1c23f_row8_col1\" class=\"data row8 col1\" >13</td>\n",
       "    </tr>\n",
       "    <tr>\n",
       "      <td id=\"T_1c23f_row9_col0\" class=\"data row9 col0\" >Mesonephromas</td>\n",
       "      <td id=\"T_1c23f_row9_col1\" class=\"data row9 col1\" >5</td>\n",
       "    </tr>\n",
       "    <tr>\n",
       "      <td id=\"T_1c23f_row10_col0\" class=\"data row10 col0\" >Soft Tissue Tumors and Sarcomas, NOS</td>\n",
       "      <td id=\"T_1c23f_row10_col1\" class=\"data row10 col1\" >14</td>\n",
       "    </tr>\n",
       "    <tr>\n",
       "      <td id=\"T_1c23f_row11_col0\" class=\"data row11 col0\" >Neoplasms, NOS</td>\n",
       "      <td id=\"T_1c23f_row11_col1\" class=\"data row11 col1\" >12</td>\n",
       "    </tr>\n",
       "    <tr>\n",
       "      <td id=\"T_1c23f_row12_col0\" class=\"data row12 col0\" >Not Reported</td>\n",
       "      <td id=\"T_1c23f_row12_col1\" class=\"data row12 col1\" >12</td>\n",
       "    </tr>\n",
       "    <tr>\n",
       "      <td id=\"T_1c23f_row13_col0\" class=\"data row13 col0\" >Complex Epithelial Neoplasms</td>\n",
       "      <td id=\"T_1c23f_row13_col1\" class=\"data row13 col1\" >27</td>\n",
       "    </tr>\n",
       "    <tr>\n",
       "      <td id=\"T_1c23f_row14_col0\" class=\"data row14 col0\" >Neuroepitheliomatous Neoplasms</td>\n",
       "      <td id=\"T_1c23f_row14_col1\" class=\"data row14 col1\" >1</td>\n",
       "    </tr>\n",
       "  </tbody>\n",
       "</table>\n",
       "<style type=\"text/css\">\n",
       "#T_251f2_ th {\n",
       "  background-color: #000066;\n",
       "  color: white;\n",
       "  text-align: left;\n",
       "}\n",
       "#T_251f2_ td {\n",
       "  text-align: left;\n",
       "  border-bottom: 1px solid black;\n",
       "}\n",
       "</style>\n",
       "<table id=\"T_251f2_\" style='display:inline'>\n",
       "  <thead>\n",
       "    <tr>\n",
       "      <th class=\"col_heading level0 col0\" >primary_diagnosis_site</th>\n",
       "      <th class=\"col_heading level0 col1\" >count</th>\n",
       "    </tr>\n",
       "  </thead>\n",
       "  <tbody>\n",
       "    <tr>\n",
       "      <td id=\"T_251f2_row0_col0\" class=\"data row0 col0\" >Corpus uteri</td>\n",
       "      <td id=\"T_251f2_row0_col1\" class=\"data row0 col1\" >780</td>\n",
       "    </tr>\n",
       "    <tr>\n",
       "      <td id=\"T_251f2_row1_col0\" class=\"data row1 col0\" >Cervix uteri</td>\n",
       "      <td id=\"T_251f2_row1_col1\" class=\"data row1 col1\" >915</td>\n",
       "    </tr>\n",
       "    <tr>\n",
       "      <td id=\"T_251f2_row2_col0\" class=\"data row2 col0\" >Uterus, NOS</td>\n",
       "      <td id=\"T_251f2_row2_col1\" class=\"data row2 col1\" >1998</td>\n",
       "    </tr>\n",
       "    <tr>\n",
       "      <td id=\"T_251f2_row3_col0\" class=\"data row3 col0\" >Uterus</td>\n",
       "      <td id=\"T_251f2_row3_col1\" class=\"data row3 col1\" >867</td>\n",
       "    </tr>\n",
       "  </tbody>\n",
       "</table>\n"
      ]
     },
     "metadata": {},
     "output_type": "display_data"
    },
    {
     "data": {
      "text/plain": []
     },
     "execution_count": 3,
     "metadata": {},
     "output_type": "execute_result"
    }
   ],
   "source": [
    "myquery.researchsubject.count.run()"
   ]
  },
  {
   "cell_type": "code",
   "execution_count": 3,
   "id": "c8323ded",
   "metadata": {},
   "outputs": [
    {
     "name": "stderr",
     "output_type": "stream",
     "text": [
      "ERROR:root:\n",
      "            Http Status: 500\n",
      "            Error Message: No matching signature for function IFNULL for argument types: INT64, STRING. Supported signature: IFNULL(ANY, ANY) at [1:192]\n",
      "            \n"
     ]
    }
   ],
   "source": [
    "unique_terms(\"ResearchSubject.Diagnosis.age_at_diagnosis\")"
   ]
  }
 ],
 "metadata": {
  "kernelspec": {
   "display_name": "Python 3 (ipykernel)",
   "language": "python",
   "name": "python3"
  },
  "language_info": {
   "codemirror_mode": {
    "name": "ipython",
    "version": 3
   },
   "file_extension": ".py",
   "mimetype": "text/x-python",
   "name": "python",
   "nbconvert_exporter": "python",
   "pygments_lexer": "ipython3",
   "version": "3.7.13"
  }
 },
 "nbformat": 4,
 "nbformat_minor": 5
}
